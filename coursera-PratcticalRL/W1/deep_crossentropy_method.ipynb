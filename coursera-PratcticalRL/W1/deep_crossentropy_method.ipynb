{
 "cells": [
  {
   "cell_type": "code",
   "execution_count": 1,
   "metadata": {
    "collapsed": true
   },
   "outputs": [],
   "source": [
    "#XVFB will be launched if you run on a server\n",
    "import os\n",
    "if type(os.environ.get(\"DISPLAY\")) is not str or len(os.environ.get(\"DISPLAY\"))==0:\n",
    "    !bash ../xvfb start\n",
    "    %env DISPLAY=:1"
   ]
  },
  {
   "cell_type": "markdown",
   "metadata": {},
   "source": [
    "# Digging deeper: approximate crossentropy with neural nets\n",
    "\n",
    "![img](https://casd35.wikispaces.com/file/view/digging_deeper_final.jpg/359658499/503x260/digging_deeper_final.jpg)\n",
    "\n",
    "In this section we will train a neural network policy for continuous state space game"
   ]
  },
  {
   "cell_type": "code",
   "execution_count": 2,
   "metadata": {
    "collapsed": false
   },
   "outputs": [
    {
     "data": {
      "text/plain": [
       "<matplotlib.image.AxesImage at 0x7ff16f2f96a0>"
      ]
     },
     "execution_count": 2,
     "metadata": {},
     "output_type": "execute_result"
    },
    {
     "data": {
      "image/png": "[encoded data removed]",
      "text/plain": [
       "<matplotlib.figure.Figure at 0x7ff1761ac400>"
      ]
     },
     "metadata": {},
     "output_type": "display_data"
    }
   ],
   "source": [
    "import gym\n",
    "import numpy as np\n",
    "import matplotlib.pyplot as plt\n",
    "%matplotlib inline\n",
    "\n",
    "env = gym.make(\"CartPole-v0\").env  #if you see \"<classname> has no attribute .env\", remove .env or update gym\n",
    "env.reset()\n",
    "n_actions = env.action_space.n\n",
    "\n",
    "plt.imshow(env.render(\"rgb_array\"))\n"
   ]
  },
  {
   "cell_type": "code",
   "execution_count": 51,
   "metadata": {
    "collapsed": false
   },
   "outputs": [
    {
     "name": "stdout",
     "output_type": "stream",
     "text": [
      "2\n",
      "Discrete(2)\n",
      "[0, 1]\n"
     ]
    }
   ],
   "source": [
    "print(n_actions)\n",
    "print(env.action_space)\n",
    "print(list(range(n_actions)))"
   ]
  },
  {
   "cell_type": "code",
   "execution_count": 49,
   "metadata": {
    "collapsed": false
   },
   "outputs": [
    {
     "name": "stderr",
     "output_type": "stream",
     "text": [
      "/home/philippew/anaconda3/envs/pythonx/lib/python3.5/site-packages/sklearn/neural_network/multilayer_perceptron.py:563: ConvergenceWarning: Stochastic Optimizer: Maximum iterations reached and the optimization hasn't converged yet.\n",
      "  % (), ConvergenceWarning)\n"
     ]
    }
   ],
   "source": [
    "#create agent\n",
    "from sklearn.neural_network import MLPClassifier\n",
    "# ... 2 layers with 20 neurons each ... then a soft\n",
    "agent = MLPClassifier(hidden_layer_sizes=(20,20),\n",
    "                      activation='tanh',\n",
    "                      warm_start=True, #keep progress between .fit(...) calls\n",
    "                      max_iter=1 #make only 1 iteration on each .fit(...)\n",
    "                     )\n",
    "#initialize agent to the dimension of state an amount of actions\n",
    "agent.fit([env.reset()]*n_actions, list(range(n_actions)));\n"
   ]
  },
  {
   "cell_type": "code",
   "execution_count": 50,
   "metadata": {
    "collapsed": false
   },
   "outputs": [
    {
     "name": "stdout",
     "output_type": "stream",
     "text": [
      "MLPClassifier(activation='tanh', alpha=0.0001, batch_size='auto', beta_1=0.9,\n",
      "       beta_2=0.999, early_stopping=False, epsilon=1e-08,\n",
      "       hidden_layer_sizes=(20, 20), learning_rate='constant',\n",
      "       learning_rate_init=0.001, max_iter=1, momentum=0.9,\n",
      "       nesterovs_momentum=True, power_t=0.5, random_state=None,\n",
      "       shuffle=True, solver='adam', tol=0.0001, validation_fraction=0.1,\n",
      "       verbose=False, warm_start=True)\n",
      "[0 1]\n",
      "4\n",
      "1\n"
     ]
    }
   ],
   "source": [
    "print(agent)\n",
    "print(agent.classes_)\n",
    "print(agent.n_layers_)\n",
    "print(agent.n_outputs_)"
   ]
  },
  {
   "cell_type": "code",
   "execution_count": 25,
   "metadata": {
    "collapsed": false
   },
   "outputs": [
    {
     "name": "stdout",
     "output_type": "stream",
     "text": [
      "[0]\n",
      "[0]\n",
      "[1]\n",
      "[1]\n",
      "[1]\n",
      "[0]\n",
      "[1]\n",
      "[1]\n",
      "[1]\n",
      "[1]\n"
     ]
    }
   ],
   "source": [
    "pipo = [0.1, 0.9]\n",
    "for i in range(10):\n",
    "    print(np.random.choice(2,1, p=pipo))"
   ]
  },
  {
   "cell_type": "code",
   "execution_count": 52,
   "metadata": {
    "collapsed": false
   },
   "outputs": [],
   "source": [
    "def generate_session(t_max=1000):\n",
    "    \n",
    "    states,actions = [],[]\n",
    "    total_reward = 0\n",
    "    \n",
    "    s = env.reset()\n",
    "    print(s)\n",
    "    \n",
    "    for t in range(t_max):\n",
    "        \n",
    "        # a vector of action probabilities in current state\n",
    "        probs = agent.predict_proba([s])[0] \n",
    "        \n",
    "        #a = <sample action with such probabilities>\n",
    "        # e.g. probs = [0.1 0.9]\n",
    "        a = np.random.choice(n_actions, 1, p=probs)[0]\n",
    "        \n",
    "        new_s, r, done, info = env.step(a)\n",
    "        \n",
    "        #record sessions like you did before\n",
    "        states.append(s)\n",
    "        actions.append(a)\n",
    "        total_reward += r\n",
    "        \n",
    "        s = new_s\n",
    "        if done: break\n",
    "    return states, actions, total_reward\n",
    "        "
   ]
  },
  {
   "cell_type": "code",
   "execution_count": 53,
   "metadata": {
    "collapsed": false
   },
   "outputs": [
    {
     "name": "stdout",
     "output_type": "stream",
     "text": [
      "[-0.00637261  0.03352173 -0.01885893  0.03078064]\n"
     ]
    },
    {
     "data": {
      "text/plain": [
       "([array([-0.00637261,  0.03352173, -0.01885893,  0.03078064]),\n",
       "  array([-0.00570217, -0.16132477, -0.01824332,  0.31745422]),\n",
       "  array([-0.00892867, -0.35618219, -0.01189423,  0.60432848]),\n",
       "  array([-1.60523105e-02, -5.51135800e-01,  1.92336897e-04,  8.93241383e-01]),\n",
       "  array([-0.02707503, -0.74626036,  0.01805716,  1.18598476]),\n",
       "  array([-0.04200023, -0.94161178,  0.04177686,  1.48427264]),\n",
       "  array([-0.06083247, -0.74702335,  0.07146231,  1.20492349]),\n",
       "  array([-0.07577294, -0.94299245,  0.09556078,  1.51911891]),\n",
       "  array([-0.09463279, -0.74914696,  0.12594316,  1.25772942]),\n",
       "  array([-0.10961572, -0.55584149,  0.15109775,  1.00699728]),\n",
       "  array([-0.12073255, -0.75262242,  0.17123769,  1.34305952]),\n",
       "  array([-0.135785  , -0.56001789,  0.19809889,  1.1084763 ])],\n",
       " [0, 0, 0, 0, 0, 1, 0, 1, 1, 0, 1, 1],\n",
       " 12.0)"
      ]
     },
     "execution_count": 53,
     "metadata": {},
     "output_type": "execute_result"
    }
   ],
   "source": [
    "generate_session()"
   ]
  },
  {
   "cell_type": "markdown",
   "metadata": {},
   "source": [
    "### CEM steps\n",
    "Deep CEM uses exactly the same strategy as the regular CEM, so you can copy your function code from previous notebook.\n",
    "\n",
    "The only difference is that now each observation is not a number but a float32 vector."
   ]
  },
  {
   "cell_type": "code",
   "execution_count": 54,
   "metadata": {
    "collapsed": true
   },
   "outputs": [],
   "source": [
    "def select_elites(states_batch, actions_batch, rewards_batch, percentile=50):\n",
    "    \"\"\"\n",
    "    Select states and actions from games that have rewards >= percentile\n",
    "    :param states_batch: list of lists of states, states_batch[session_i][t]\n",
    "    :param actions_batch: list of lists of actions, actions_batch[session_i][t]\n",
    "    :param rewards_batch: list of rewards, rewards_batch[session_i][t]\n",
    "    \n",
    "    :returns: elite_states,elite_actions, both 1D lists of states and respective actions from elite sessions\n",
    "    \n",
    "    Please return elite states and actions in their original order \n",
    "    [i.e. sorted by session number and timestep within session]\n",
    "    \n",
    "    If you're confused, see examples below. Please don't assume that states are integers (they'll get different later).\n",
    "    \"\"\"\n",
    "    \n",
    "    #reward_threshold = <Compute minimum reward for elite sessions. Hint: use np.percentile>\n",
    "    reward_threshold = np.percentile(rewards_batch, percentile)\n",
    "    \n",
    "    \n",
    "    #elite_states  = <your code here>\n",
    "    #elite_actions = <your code here>\n",
    "    \n",
    "    elite_states, elite_actions = [], []\n",
    "    for i in range(len(rewards_batch)):\n",
    "        if rewards_batch[i] >= reward_threshold:\n",
    "            elite_states.extend(states_batch[i])\n",
    "            elite_actions.extend(actions_batch[i])\n",
    "    \n",
    "    return elite_states, elite_actions\n",
    "    "
   ]
  },
  {
   "cell_type": "markdown",
   "metadata": {},
   "source": [
    "# Training loop\n",
    "Generate sessions, select N best and fit to those."
   ]
  },
  {
   "cell_type": "code",
   "execution_count": 55,
   "metadata": {
    "collapsed": true
   },
   "outputs": [],
   "source": [
    "from IPython.display import clear_output\n",
    "\n",
    "def show_progress(batch_rewards, log, percentile, reward_range=[-990,+10]):\n",
    "    \"\"\"\n",
    "    A convenience function that displays training progress. \n",
    "    No cool math here, just charts.\n",
    "    \"\"\"\n",
    "    \n",
    "    mean_reward, threshold = np.mean(batch_rewards), np.percentile(batch_rewards, percentile)\n",
    "    log.append([mean_reward, threshold])\n",
    "\n",
    "    clear_output(True)\n",
    "    print(\"mean reward = %.3f, threshold=%.3f\"%(mean_reward, threshold))\n",
    "    plt.figure(figsize=[8,4])\n",
    "    plt.subplot(1,2,1)\n",
    "    plt.plot(list(zip(*log))[0], label='Mean rewards')\n",
    "    plt.plot(list(zip(*log))[1], label='Reward thresholds')\n",
    "    plt.legend()\n",
    "    plt.grid()\n",
    "    \n",
    "    plt.subplot(1,2,2)\n",
    "    plt.hist(batch_rewards, range=reward_range);\n",
    "    plt.vlines([np.percentile(batch_rewards, percentile)], [0], [100], label=\"percentile\", color='red')\n",
    "    plt.legend()\n",
    "    plt.grid()\n",
    "\n",
    "    plt.show()\n"
   ]
  },
  {
   "cell_type": "code",
   "execution_count": 56,
   "metadata": {
    "collapsed": false
   },
   "outputs": [
    {
     "name": "stdout",
     "output_type": "stream",
     "text": [
      "mean reward = 1000.000, threshold=1000.000\n"
     ]
    },
    {
     "data": {
      "image/png": "[encoded data removed]",
      "text/plain": [
       "<matplotlib.figure.Figure at 0x7ff161452cf8>"
      ]
     },
     "metadata": {},
     "output_type": "display_data"
    },
    {
     "name": "stdout",
     "output_type": "stream",
     "text": [
      "You Win! You may stop training now via KeyboardInterrupt.\n"
     ]
    }
   ],
   "source": [
    "n_sessions = 100\n",
    "percentile = 70\n",
    "log = []\n",
    "\n",
    "for i in range(100):\n",
    "    #generate new sessions\n",
    "    #sessions = [<generate a list of n_sessions new sessions>]\n",
    "    %time sessions = [generate_session() for _ in range(n_sessions)]\n",
    "\n",
    "    batch_states, batch_actions, batch_rewards = map(np.array, zip(*sessions))\n",
    "\n",
    "    #elite_states, elite_actions = <select elite actions just like before>\n",
    "    elite_states, elite_actions = select_elites(batch_states, batch_actions, batch_rewards, percentile)\n",
    "    \n",
    "    #<fit agent to predict elite_actions(y) from elite_states(X)>\n",
    "    agent.fit(elite_states, elite_actions)\n",
    "\n",
    "    show_progress(batch_rewards, log, percentile, reward_range=[0,np.max(batch_rewards)])\n",
    "    \n",
    "    if np.mean(batch_rewards)> 190:\n",
    "        print(\"You Win! You may stop training now via KeyboardInterrupt.\")"
   ]
  },
  {
   "cell_type": "markdown",
   "metadata": {},
   "source": [
    "# Results"
   ]
  },
  {
   "cell_type": "code",
   "execution_count": 57,
   "metadata": {
    "collapsed": false
   },
   "outputs": [
    {
     "name": "stdout",
     "output_type": "stream",
     "text": [
      "[-0.00072561 -0.02824236  0.00648493 -0.03225094]\n",
      "[ 0.032745   -0.00564879  0.03877696  0.04600149]\n",
      "[-0.03875209  0.01887916  0.04184182  0.03163202]\n",
      "[-0.03573227  0.0424953  -0.04149707 -0.03002715]\n",
      "[ 0.04901819 -0.01257192 -0.01822745  0.03633966]\n",
      "[ 0.02294445 -0.04093576  0.03805357 -0.03338951]\n",
      "[ 0.01795097  0.04444157  0.03020428 -0.00176301]\n",
      "[-0.03945019 -0.04178715  0.02017903 -0.02255365]\n",
      "[ 0.03766029 -0.03050463  0.03620028  0.00030109]\n",
      "[-0.02538272  0.03370218 -0.02353425 -0.01131476]\n",
      "[ 0.04183239  0.02562027  0.01926802 -0.02388091]\n",
      "[ 0.03972758 -0.03202848  0.00284345 -0.02927311]\n",
      "[-0.01019098 -0.01381318  0.03876752  0.00482773]\n",
      "[-0.00930772  0.04048226  0.0290342  -0.00814767]\n",
      "[ 0.02708735  0.04723443 -0.00498721 -0.04809132]\n",
      "[ 0.04302783  0.04361068  0.029496   -0.01110754]\n",
      "[-0.00527105 -0.04257691 -0.04331983  0.02593549]\n",
      "[ 0.04290064 -0.02142701  0.02241834  0.00447335]\n",
      "[-0.03160143  0.04621711  0.01028276  0.04450285]\n",
      "[-0.00523011  0.03011488  0.03903682 -0.0496638 ]\n",
      "[-0.02250344  0.03181112  0.00901843 -0.03523055]\n",
      "[-0.01193671 -0.0204717  -0.02024618 -0.00249259]\n",
      "[ 0.04546388  0.0164383  -0.02598126  0.01986986]\n",
      "[-0.01056135  0.04838741  0.02306848  0.01924936]\n",
      "[ 0.04195343  0.04260817  0.02670928 -0.04791671]\n",
      "[-0.01452805  0.02962398  0.02672295 -0.01709404]\n",
      "[0.0140852  0.01691041 0.0011349  0.01138775]\n",
      "[-0.02659184 -0.03108009 -0.03345683 -0.0341489 ]\n",
      "[-0.00288202 -0.00089797 -0.02564439 -0.03951835]\n",
      "[-0.03952151  0.04860066 -0.02676771 -0.0110245 ]\n",
      "[-0.04657123 -0.01867428  0.04704324 -0.0437362 ]\n",
      "[0.04873588 0.0360301  0.01108421 0.01321031]\n",
      "[ 0.01698292 -0.02156246  0.03411776  0.04830852]\n",
      "[ 0.03131134 -0.00424678 -0.04387836  0.03274385]\n",
      "[-0.04157888 -0.04736905 -0.01616342 -0.01528967]\n",
      "[0.02114213 0.00556863 0.03954393 0.00996782]\n",
      "[-0.00037753 -0.03133563 -0.02834304  0.04314536]\n",
      "[-0.04595059  0.0020902   0.04410157  0.02779387]\n",
      "[ 0.02226645 -0.00313182 -0.0113837  -0.02969972]\n",
      "[ 0.02693475  0.02441232  0.03385229 -0.01115537]\n",
      "[-0.02206929 -0.04109967  0.02853541 -0.02656485]\n",
      "[-0.04704404 -0.01466904 -0.02748024 -0.01186649]\n",
      "[-0.01655302 -0.02936034 -0.00224036 -0.03401852]\n",
      "[0.03668776 0.01708685 0.01711816 0.01776461]\n",
      "[-0.00940685 -0.0457068  -0.02935506 -0.02875936]\n",
      "[-0.00114814 -0.02210854  0.04430758 -0.04667987]\n",
      "[0.0277338  0.03227896 0.03871137 0.00821506]\n",
      "[ 0.03293639 -0.00527806 -0.00502354  0.03359217]\n",
      "[ 0.04874741 -0.04180831  0.04140663  0.03983904]\n",
      "[ 0.01718865 -0.01401599 -0.00715113 -0.03391036]\n",
      "[-0.04137656  0.04608406 -0.00420703  0.02775074]\n",
      "[-0.00319556  0.01559546  0.01799233  0.03473731]\n",
      "[ 0.00092038  0.01039495 -0.04757699 -0.00288778]\n",
      "[-0.01225786 -0.02751916 -0.03547243 -0.0094436 ]\n",
      "[-0.01239713 -0.02074503 -0.03343246  0.00277179]\n",
      "[0.0211041  0.02190715 0.02262269 0.04590006]\n",
      "[ 0.04991416  0.00140033 -0.04460795 -0.03743931]\n",
      "[-0.03740854  0.02013955 -0.04718233 -0.02415378]\n",
      "[ 0.01354537 -0.01570021  0.01471924 -0.02051701]\n",
      "[ 0.04412163  0.0222497  -0.03619807 -0.00934836]\n",
      "[ 0.03178604 -0.03004805  0.00995874 -0.01947096]\n",
      "[-0.04304948  0.01013325  0.00974024 -0.01758664]\n",
      "[-0.04972921 -0.02154311  0.04226256 -0.0382847 ]\n",
      "[0.04092266 0.04747293 0.03882286 0.00656288]\n",
      "[-0.04152255  0.00973352  0.00992818 -0.01106377]\n",
      "[-0.04628924  0.01856915  0.0228187  -0.04633297]\n",
      "[-0.04582647  0.04430172 -0.00229189 -0.02315804]\n",
      "[-0.04001986  0.00470346 -0.01292133 -0.03723114]\n",
      "[ 0.02927866 -0.00886617  0.02377606 -0.02811258]\n",
      "[-0.0370556  -0.02522713  0.04076807  0.01472774]\n",
      "[ 0.0211309  -0.03622707 -0.04516753 -0.03112537]\n",
      "[-0.04030104 -0.00548708  0.02299129 -0.019177  ]\n",
      "[-0.0025624   0.04132859  0.04003717  0.04820385]\n",
      "[-0.03711931  0.00371343 -0.0466011   0.02822435]\n",
      "[ 0.02361824 -0.00082224  0.04072385 -0.03761558]\n",
      "[ 0.04703799  0.00860268  0.01750903 -0.01994861]\n",
      "[ 0.04510716  0.00905183 -0.00443598 -0.03473899]\n",
      "[ 0.03212614 -0.04355513 -0.04057731  0.01871992]\n",
      "[-0.02308592 -0.04804283  0.02620404 -0.02177939]\n",
      "[ 0.03950693 -0.03969758  0.0005872   0.01702119]\n",
      "[-0.04403523 -0.02105016 -0.02366615  0.01486379]\n",
      "[ 0.02244326  0.01568509  0.00832014 -0.00753808]\n",
      "[ 0.04581158 -0.04876474 -0.00715502  0.01104323]\n",
      "[-0.01904427 -0.04049579  0.00812956  0.02952388]\n",
      "[ 0.00941771  0.03560763  0.04614455 -0.01336379]\n",
      "[-0.03718337 -0.01457433 -0.01454686 -0.00594649]\n",
      "[-0.03217268  0.03971029 -0.03039144  0.03530258]\n",
      "[ 0.03487876  0.04050838  0.04605014 -0.02057111]\n",
      "[-0.04605026  0.03394409 -0.01804618  0.04578173]\n",
      "[-0.01775598  0.02503863  0.00935768 -0.04949252]\n",
      "[ 0.03917393  0.02646905 -0.0083988   0.00642094]\n",
      "[ 0.04547687 -0.01342584  0.04539713  0.03799368]\n",
      "[-0.00966628 -0.01537981  0.0474668   0.03360042]\n",
      "[ 0.00875123 -0.04975554 -0.02025726  0.01553814]\n",
      "[0.04300905 0.02556084 0.04160594 0.0034563 ]\n",
      "[ 0.00226372 -0.04734523 -0.00906713  0.04087827]\n",
      "[0.04889134 0.00279327 0.02411658 0.01284949]\n",
      "[ 0.03277152  0.01326612 -0.02802228 -0.03795155]\n",
      "[-0.03444052  0.00162785  0.0010021   0.03116447]\n",
      "[-0.03163145  0.04425155  0.0256447  -0.0417743 ]\n"
     ]
    }
   ],
   "source": [
    "#record sessions\n",
    "import gym.wrappers\n",
    "env = gym.wrappers.Monitor(gym.make(\"CartPole-v0\"), directory=\"videos\", force=True)\n",
    "sessions = [generate_session() for _ in range(100)]\n",
    "env.close()"
   ]
  },
  {
   "cell_type": "code",
   "execution_count": 58,
   "metadata": {
    "collapsed": false
   },
   "outputs": [
    {
     "data": {
      "text/html": [
       "\n",
       "<video width=\"640\" height=\"480\" controls>\n",
       "  <source src=\"./videos/openaigym.video.0.9953.video000001.mp4\" type=\"video/mp4\">\n",
       "</video>\n"
      ],
      "text/plain": [
       "<IPython.core.display.HTML object>"
      ]
     },
     "execution_count": 58,
     "metadata": {},
     "output_type": "execute_result"
    }
   ],
   "source": [
    "#show video\n",
    "from IPython.display import HTML\n",
    "import os\n",
    "\n",
    "video_names = list(filter(lambda s:s.endswith(\".mp4\"), os.listdir(\"./videos/\")))\n",
    "\n",
    "HTML(\"\"\"\n",
    "<video width=\"640\" height=\"480\" controls>\n",
    "  <source src=\"{}\" type=\"video/mp4\">\n",
    "</video>\n",
    "\"\"\".format(\"./videos/\"+video_names[-1])) #this may or may not be _last_ video. Try other indices"
   ]
  },
  {
   "cell_type": "markdown",
   "metadata": {},
   "source": [
    "### Now what?\n",
    "\n",
    "By this moment you should have got enough score on [CartPole-v0](https://gym.openai.com/envs/CartPole-v0) to consider it solved (see the link). It's time to upload the result and get to something harder.\n",
    "\n",
    "_if you have any trouble with CartPole-v0 and feel stuck, take a look at the forums_\n",
    "\n",
    "* Pick one of environments: MountainCar-v0 or LunarLander-v2.\n",
    "  * For MountainCar, get average reward of __at least -150__\n",
    "  * For LunarLander, get average reward of __at least +50__\n",
    "\n",
    "See the tips section below, it's kinda important.\n",
    "__Note:__ If your agent is below the target score, you'll still get most of the points depending on the result, so don't be afraid to submit it.\n",
    "  \n",
    "  \n",
    "* Bonus quest: Devise a way to speed up training at least 2x against the default version\n",
    "  * Obvious improvement: use [joblib](https://www.google.com/search?client=ubuntu&channel=fs&q=joblib&ie=utf-8&oe=utf-8)\n",
    "  * Try re-using samples from 3-5 last iterations when computing threshold and training\n",
    "  * Experiment with amount of training iterations and learning rate of the neural network (see params)\n",
    "  \n",
    "  \n",
    "### Tips & tricks\n",
    "* Gym page: [mountaincar](https://gym.openai.com/envs/MountainCar-v0), [lunarlander](https://gym.openai.com/envs/LunarLander-v2)\n",
    "* Sessions for MountainCar may last for 10k+ ticks. Make sure ```t_max``` param is at least 10k.\n",
    " * Also it may be a good idea to cut rewards via \">\" and not \">=\". If 90% of your sessions get reward of -10k and 20% are better, than if you use percentile 20% as threshold, R >= threshold __fails cut off bad sessions__ whule R > threshold works alright.\n",
    "* _issue with gym_: Some versions of gym limit game time by 200 ticks. This will prevent cem training in most cases. Make sure your agent is able to play for the specified __t_max__, and if it isn't, try `env = gym.make(\"MountainCar-v0\").env` or otherwise get rid of TimeLimit wrapper.\n",
    "* If you use old _swig_ lib for LunarLander-v2, you may get an error. See this [issue](https://github.com/openai/gym/issues/100) for solution.\n",
    "* If it won't train it's a good idea to plot reward distribution and record sessions: they may give you some clue. If they don't, call course staff :)\n",
    "* 20-neuron network is probably not enough, feel free to experiment.\n",
    "* __Please upload the results to openai gym and send links to all submissions in the e-mail__"
   ]
  },
  {
   "cell_type": "markdown",
   "metadata": {},
   "source": [
    "### Submit to Coursera"
   ]
  },
  {
   "cell_type": "code",
   "execution_count": 60,
   "metadata": {
    "collapsed": false
   },
   "outputs": [
    {
     "name": "stdout",
     "output_type": "stream",
     "text": [
      "[ 0.01277326 -0.03401362  0.03355137  0.00942899]\n",
      "[-0.01327362 -0.01770495  0.01503239 -0.04762709]\n",
      "[-0.04241853  0.02131781 -0.0483144  -0.01985989]\n",
      "[ 0.04886252  0.00440762 -0.03846271  0.04953716]\n",
      "[-0.04656932 -0.02051124 -0.03961263  0.02947573]\n",
      "[ 0.03157044  0.03929644 -0.01495678 -0.00066273]\n",
      "[-0.04371891  0.03549329 -0.04377472  0.00235372]\n",
      "[ 0.02921524  0.03143099 -0.02645831  0.00315508]\n",
      "[ 0.00192783 -0.01995454  0.01077009 -0.0407692 ]\n",
      "[ 0.04395316 -0.03696134  0.02114799 -0.04676455]\n",
      "[ 0.01812504 -0.02737276 -0.00751714 -0.01533037]\n",
      "[-4.66328916e-05 -2.86803300e-02 -2.60217383e-02  2.22458963e-02]\n",
      "[ 0.04665885 -0.0225124   0.02203612 -0.014811  ]\n",
      "[ 0.03569423 -0.02084557 -0.00517801 -0.01611171]\n",
      "[0.02956874 0.04759774 0.01834713 0.0495384 ]\n",
      "[-0.03097394  0.03713817 -0.03980423 -0.01776627]\n",
      "[-0.00034232  0.02602668 -0.01086535 -0.02018026]\n",
      "[0.0256484  0.02503599 0.03733929 0.04324719]\n",
      "[-0.01341641 -0.01830288  0.01798721  0.03256644]\n",
      "[ 0.01149282  0.01501232 -0.01253456 -0.00762543]\n",
      "[-0.01312611  0.00640325 -0.03673139 -0.00041211]\n",
      "[-0.03212643 -0.04060378  0.02827625 -0.03196486]\n",
      "[-0.04763362  0.01890023  0.03300249 -0.00889633]\n",
      "[-0.03616793  0.01616715 -0.02824306  0.02304594]\n",
      "[-0.02882904 -0.04698105  0.03077807 -0.02521999]\n",
      "[-0.03477169  0.0221626   0.00356148 -0.02986067]\n",
      "[-0.01626984 -0.0276322  -0.04927805  0.00013474]\n",
      "[0.03615405 0.00310028 0.03091838 0.00419391]\n",
      "[ 0.00347324  0.01564246 -0.03344977 -0.02436007]\n",
      "[-0.02414286  0.03441216  0.04711708 -0.01576708]\n",
      "[-0.03460065 -0.04900236 -0.01230657  0.04032268]\n",
      "[ 0.01270594 -0.01386166 -0.01830685  0.02901747]\n",
      "[-0.04531375 -0.04073786 -0.02683324  0.00695008]\n",
      "[-0.01452333  0.03624786 -0.02322487 -0.01003805]\n",
      "[ 0.01482264 -0.00858395  0.00226706  0.02797987]\n",
      "[0.01849807 0.00242901 0.03261402 0.01501912]\n",
      "[ 0.02604052  0.00348226  0.00121658 -0.02421594]\n",
      "[ 0.01885474 -0.04365745  0.02050336  0.00963733]\n",
      "[0.02910693 0.03602245 0.0243656  0.04364644]\n",
      "[-0.00643419  0.03850141  0.04236337 -0.02825012]\n",
      "[ 0.02230078  0.01207768 -0.03907982  0.04014576]\n",
      "[-0.00032115 -0.00148709 -0.00477331  0.02319814]\n",
      "[ 0.00574701  0.04451766 -0.0049784   0.00573538]\n",
      "[-0.03639033  0.04254813 -0.00938481  0.02596901]\n",
      "[ 0.0265983   0.00081294 -0.02775525 -0.03486269]\n",
      "[ 0.02539412 -0.01361235  0.00373391 -0.01074994]\n",
      "[-0.00304588  0.01593703  0.00581025  0.04164182]\n",
      "[ 0.03782713 -0.02652606 -0.00991997 -0.04978689]\n",
      "[ 0.03921647 -0.01696511 -0.0071061   0.00564553]\n",
      "[ 0.03960838  0.00408278 -0.02175022  0.04663046]\n",
      "[-0.03440285 -0.02292038  0.04438162 -0.02386282]\n",
      "[-0.00721376  0.02469292 -0.01643564  0.04553952]\n",
      "[-0.0426377   0.03300614  0.03607822 -0.03554564]\n",
      "[-0.01127457 -0.03410688 -0.03097951  0.00195279]\n",
      "[-0.01149116 -0.04103288 -0.01335775 -0.0385987 ]\n",
      "[-0.02640052  0.01956497  0.01731575  0.01273537]\n",
      "[-0.02284702 -0.0316279  -0.01661139 -0.03945769]\n",
      "[-0.00993921  0.03686832 -0.04431781 -0.01143388]\n",
      "[ 0.02560311  0.04100311  0.01324899 -0.0013645 ]\n",
      "[ 0.04308773  0.00448418 -0.03146668 -0.04345043]\n",
      "[-0.03537412 -0.02409422  0.01815935 -0.02916832]\n",
      "[ 0.02711148 -0.01692025  0.00690608  0.00110027]\n",
      "[-0.02115907 -0.01659559 -0.04316059 -0.04692831]\n",
      "[-0.00581962  0.04646363 -0.04156869 -0.01303072]\n",
      "[0.01335204 0.02479781 0.02573971 0.03185644]\n",
      "[-0.02215783 -0.02884785 -0.02305523 -0.04392323]\n",
      "[-0.0098751  -0.03580591 -0.03701252 -0.01087207]\n",
      "[-0.01832324  0.04310055 -0.02081873 -0.03989729]\n",
      "[ 0.04916641  0.02310339 -0.04890761 -0.02327924]\n",
      "[-0.01789819 -0.01441976 -0.04149076 -0.00113597]\n",
      "[-0.00744117  0.01262657 -0.00646483  0.00338675]\n",
      "[ 0.04019018  0.03470569 -0.01299336  0.03601002]\n",
      "[-0.0373365   0.02320893 -0.01616363 -0.0139784 ]\n",
      "[-0.04942257 -0.02648892  0.01885077 -0.01218237]\n",
      "[-0.02295055 -0.03643192 -0.04510479 -0.00741523]\n",
      "[ 0.01852987 -0.03482306  0.03614974 -0.00572358]\n",
      "[-0.02385164 -0.03567129  0.01155111  0.00088193]\n",
      "[-0.03079575 -0.03831231 -0.00110805 -0.00334682]\n",
      "[0.01184415 0.00740253 0.04378056 0.02257204]\n",
      "[0.02073555 0.03238907 0.00414447 0.00290399]\n",
      "[ 0.03545997 -0.01516911  0.04084266  0.03637859]\n",
      "[-0.0239605  -0.04420883 -0.02478271  0.01885811]\n",
      "[ 0.00747265  0.0203136   0.02315799 -0.01718829]\n",
      "[ 0.01929362 -0.04526403 -0.02721933  0.00250966]\n",
      "[-0.01531104  0.04734992 -0.03354797  0.0122836 ]\n",
      "[-0.00870204  0.00251901  0.0337079   0.00907408]\n",
      "[ 0.00404002 -0.01954503 -0.04538118  0.01432283]\n",
      "[-0.02010047 -0.00568866 -0.03469918  0.04428085]\n",
      "[-0.00151975  0.03088247  0.00119549 -0.03759688]\n",
      "[ 0.03722997 -0.03916323  0.0199693  -0.04876916]\n",
      "[-0.01345672 -0.02929968 -0.03306594 -0.00576291]\n",
      "[ 0.01229229 -0.03129884 -0.02701637  0.04129926]\n",
      "[-0.00744088 -0.0459371   0.03609526 -0.01376723]\n",
      "[-0.00457056  0.02075001 -0.02137714  0.0087252 ]\n",
      "[-0.00840698  0.0479674   0.02016236  0.04639011]\n",
      "[ 0.03366583 -0.0147617  -0.0368466   0.0049964 ]\n",
      "[-0.01224647 -0.0282787  -0.04844005 -0.01661331]\n",
      "[-0.02008405 -0.01088318 -0.0025665  -0.04752597]\n",
      "[0.0141557  0.00032882 0.0109996  0.03102215]\n",
      "[-0.01724273 -0.02044585  0.03130903 -0.00832592]\n",
      "Submitted to Coursera platform. See results on assignment page!\n"
     ]
    }
   ],
   "source": [
    "from submit import submit_mountain_car\n",
    "submit_mountain_car(generate_session, 'philippe.weingertner@laposte.net', 'LyU6PC3y7OPUfQVk')"
   ]
  },
  {
   "cell_type": "code",
   "execution_count": null,
   "metadata": {
    "collapsed": true
   },
   "outputs": [],
   "source": []
  }
 ],
 "metadata": {
  "anaconda-cloud": {},
  "kernelspec": {
   "display_name": "Python [default]",
   "language": "python",
   "name": "python3"
  },
  "language_info": {
   "codemirror_mode": {
    "name": "ipython",
    "version": 3
   },
   "file_extension": ".py",
   "mimetype": "text/x-python",
   "name": "python",
   "nbconvert_exporter": "python",
   "pygments_lexer": "ipython3",
   "version": "3.5.2"
  }
 },
 "nbformat": 4,
 "nbformat_minor": 1
}
