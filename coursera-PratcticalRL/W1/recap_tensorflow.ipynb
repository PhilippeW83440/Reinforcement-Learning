{
 "cells": [
  {
   "cell_type": "markdown",
   "metadata": {},
   "source": [
    "# Going deeper with Tensorflow\n",
    "\n",
    "In this seminar, we're going to play with [Tensorflow](https://www.tensorflow.org/) and see how it helps us build deep learning models.\n",
    "\n",
    "If you're running this notebook outside the course environment, you'll need to install tensorflow:\n",
    "* `pip install tensorflow` should install cpu-only TF on Linux & Mac OS\n",
    "* If you want GPU support from offset, see [TF install page](https://www.tensorflow.org/install/)"
   ]
  },
  {
   "cell_type": "code",
   "execution_count": 1,
   "metadata": {
    "collapsed": false
   },
   "outputs": [
    {
     "name": "stderr",
     "output_type": "stream",
     "text": [
      "/home/philippew/anaconda3/envs/pythonx/lib/python3.5/site-packages/h5py/__init__.py:36: FutureWarning: Conversion of the second argument of issubdtype from `float` to `np.floating` is deprecated. In future, it will be treated as `np.float64 == np.dtype(float).type`.\n",
      "  from ._conv import register_converters as _register_converters\n"
     ]
    },
    {
     "name": "stdout",
     "output_type": "stream",
     "text": [
      "per_process_gpu_memory_fraction: 0.1\n",
      "allow_growth: true\n",
      "\n"
     ]
    }
   ],
   "source": [
    "import tensorflow as tf\n",
    "gpu_options = tf.GPUOptions(allow_growth=True, per_process_gpu_memory_fraction=0.1)\n",
    "print(gpu_options)\n",
    "s = tf.InteractiveSession(config=tf.ConfigProto(gpu_options=gpu_options))"
   ]
  },
  {
   "cell_type": "markdown",
   "metadata": {
    "slideshow": {
     "slide_type": "slide"
    }
   },
   "source": [
    "# Save and Restore example"
   ]
  },
  {
   "cell_type": "code",
   "execution_count": 2,
   "metadata": {
    "collapsed": false
   },
   "outputs": [
    {
     "name": "stdout",
     "output_type": "stream",
     "text": [
      "Tensor(\"my_input:0\", shape=(?, 3), dtype=float32)\n",
      "<tf.Variable 'W1:0' shape=(3, 5) dtype=float32_ref>\n",
      "<tf.Variable 'b1:0' shape=(5,) dtype=float32_ref>\n",
      "<tf.Variable 'W2:0' shape=(5, 2) dtype=float32_ref>\n",
      "Tensor(\"my_output:0\", shape=(?, 2), dtype=float32)\n"
     ]
    }
   ],
   "source": [
    "# define a Neural network\n",
    "\n",
    "import numpy as np\n",
    "\n",
    "n_inputs = 3 # states\n",
    "n_neurons = 5\n",
    "n_outputs = 2 # acrions\n",
    "\n",
    "W1 = tf.Variable(initial_value = np.sqrt(1 / n_inputs) * np.random.randn(n_inputs, n_neurons), dtype='float32', name='W1')\n",
    "b1 = tf.Variable(initial_value = np.zeros([n_neurons]), dtype='float32', name='b1')\n",
    "\n",
    "W2 = tf.Variable(initial_value = np.sqrt(1 / n_neurons) * np.random.randn(n_neurons, n_outputs), dtype='float32', name='W2')\n",
    "\n",
    "input_X = tf.placeholder('float32',shape=(None, n_inputs), name='my_input')\n",
    "\n",
    "print(input_X)\n",
    "\n",
    "print(W1)\n",
    "print(b1)\n",
    "print(W2)\n",
    "\n",
    "z1 = tf.matmul(input_X, W1) + b1\n",
    "z2 = tf.sigmoid(z1)\n",
    "\n",
    "z3 = tf.matmul(z2, W2, name=\"my_output\")\n",
    "print(z3)"
   ]
  },
  {
   "cell_type": "code",
   "execution_count": 3,
   "metadata": {
    "collapsed": false
   },
   "outputs": [
    {
     "name": "stdout",
     "output_type": "stream",
     "text": [
      "[array([[-1.5844781, -1.2009217]], dtype=float32)]\n",
      "[array([[-1.6447468, -1.0458664]], dtype=float32)]\n",
      "W1 : [[ 0.48132244 -0.68164647 -0.5747833  -0.06352745  0.3654987 ]\n",
      " [-0.13257131  0.34380814  0.6207427  -0.18583378  0.59003067]\n",
      " [ 0.84863347 -0.31852636 -1.0997666  -0.20270477 -0.01714431]]\n",
      "b1 : [0. 0. 0. 0. 0.]\n",
      "W2 : [[-0.5648686  -1.0002866 ]\n",
      " [-0.5688741   0.33127433]\n",
      " [ 0.03937491 -0.16862135]\n",
      " [-1.1269326   0.3109371 ]\n",
      " [-0.812789   -0.32706356]]\n"
     ]
    }
   ],
   "source": [
    "# do some inference with random weights and save\n",
    "\n",
    "init = tf.global_variables_initializer()\n",
    "\n",
    "# Start training\n",
    "with tf.Session() as sess:\n",
    "    # Run the initializer\n",
    "    sess.run(init)\n",
    "    preds = sess.run([z3], feed_dict={input_X: [[2.5, 3.2, 4.1]]})\n",
    "    print(preds)\n",
    "    preds = sess.run([z3], feed_dict={input_X: [[1, 2, 3]]})\n",
    "    print(preds)\n",
    "    print(\"W1 : %s\" % W1.eval())\n",
    "    print(\"b1 : %s\" % b1.eval())\n",
    "    print(\"W2 : %s\" % W2.eval())\n",
    "    saver = tf.train.Saver()\n",
    "    save_path = saver.save(sess, \"/tmp/model.ckpt\")\n"
   ]
  },
  {
   "cell_type": "code",
   "execution_count": 4,
   "metadata": {
    "collapsed": false
   },
   "outputs": [
    {
     "name": "stdout",
     "output_type": "stream",
     "text": [
      "total 44K\r\n",
      "drwx------ 2 philippew philippew 4.0K Jan  1  1970 orbit-philippew\r\n",
      "drwx------ 3 root      root      4.0K Jun  6 10:30 systemd-private-e60540b19ded4a40b05ca99ab3fe65b5-systemd-timesyncd.service-w605lY\r\n",
      "drwx------ 3 root      root      4.0K Jun  6 10:30 systemd-private-e60540b19ded4a40b05ca99ab3fe65b5-colord.service-zGhbxx\r\n",
      "drwx------ 3 root      root      4.0K Jun  6 10:30 systemd-private-e60540b19ded4a40b05ca99ab3fe65b5-rtkit-daemon.service-jVvPqN\r\n",
      "-rw------- 1 philippew philippew    0 Jun  6 11:03 config-err-iZBJ9t\r\n",
      "-rw-rw-r-- 1 philippew philippew    0 Jun  6 11:03 unity_support_test.0\r\n",
      "drwx------ 2 philippew philippew 4.0K Jun  6 11:04 gnome-software-NLPBKZ\r\n",
      "drwx------ 2 philippew philippew 4.0K Jun  6 12:39 firefox_philippew\r\n",
      "-rw-rw-r-- 1 philippew philippew  173 Jun  6 14:15 model.ckpt.index\r\n",
      "-rw-rw-r-- 1 philippew philippew  120 Jun  6 14:15 model.ckpt.data-00000-of-00001\r\n",
      "-rw-rw-r-- 1 philippew philippew   87 Jun  6 14:15 checkpoint\r\n",
      "-rw-rw-r-- 1 philippew philippew 4.8K Jun  6 14:15 model.ckpt.meta\r\n"
     ]
    }
   ],
   "source": [
    "!ls -ltrh /tmp/"
   ]
  },
  {
   "cell_type": "code",
   "execution_count": 5,
   "metadata": {
    "collapsed": false
   },
   "outputs": [
    {
     "name": "stdout",
     "output_type": "stream",
     "text": [
      "INFO:tensorflow:Restoring parameters from /tmp/model.ckpt\n",
      "[[-1.5844781 -1.2009217]]\n"
     ]
    }
   ],
   "source": [
    "# restore and check by inference we get same previous results\n",
    "\n",
    "import tensorflow as tf\n",
    " \n",
    "sess=tf.Session()    \n",
    "#First let's load meta graph and restore weights\n",
    "saver = tf.train.import_meta_graph('/tmp/model.ckpt.meta')\n",
    "saver.restore(sess,tf.train.latest_checkpoint('/tmp'))\n",
    " \n",
    "graph = tf.get_default_graph()\n",
    "\n",
    "inputs = graph.get_tensor_by_name('my_input:0')\n",
    "feed_dict ={inputs: [[2.5, 3.2, 4.1]]}\n",
    "op_to_restore = graph.get_tensor_by_name(\"my_output:0\")\n",
    " \n",
    "print(sess.run(op_to_restore, feed_dict))\n",
    " \n"
   ]
  },
  {
   "cell_type": "markdown",
   "metadata": {},
   "source": [
    "# Warming up\n",
    "For starters, let's implement a python function that computes the sum of squares of numbers from 0 to N-1.\n",
    "* Use numpy or python\n",
    "* An array of numbers 0 to N - numpy.arange(N)"
   ]
  },
  {
   "cell_type": "code",
   "execution_count": 6,
   "metadata": {
    "collapsed": true
   },
   "outputs": [],
   "source": [
    "import numpy as np\n",
    "def sum_squares(N):\n",
    "    return np.sum(np.arange(N)**2)"
   ]
  },
  {
   "cell_type": "code",
   "execution_count": 7,
   "metadata": {
    "collapsed": false
   },
   "outputs": [
    {
     "data": {
      "text/plain": [
       "array([ 0,  1,  4,  9, 16, 25, 36, 49, 64, 81])"
      ]
     },
     "execution_count": 7,
     "metadata": {},
     "output_type": "execute_result"
    }
   ],
   "source": [
    "np.arange(10)**2"
   ]
  },
  {
   "cell_type": "code",
   "execution_count": 8,
   "metadata": {
    "collapsed": false
   },
   "outputs": [
    {
     "name": "stdout",
     "output_type": "stream",
     "text": [
      "CPU times: user 220 ms, sys: 84 ms, total: 304 ms\n",
      "Wall time: 287 ms\n"
     ]
    },
    {
     "data": {
      "text/plain": [
       "662921401752298880"
      ]
     },
     "execution_count": 8,
     "metadata": {},
     "output_type": "execute_result"
    }
   ],
   "source": [
    "%%time\n",
    "sum_squares(10**8)"
   ]
  },
  {
   "cell_type": "markdown",
   "metadata": {},
   "source": [
    "# Tensoflow teaser\n",
    "\n",
    "Doing the very same thing"
   ]
  },
  {
   "cell_type": "code",
   "execution_count": 9,
   "metadata": {
    "collapsed": true
   },
   "outputs": [],
   "source": [
    "#I gonna be your function parameter\n",
    "N = tf.placeholder('int64', name=\"input_to_your_function\")\n",
    "\n",
    "#i am a recipe on how to produce sum of squares of arange of N given N\n",
    "result = tf.reduce_sum((tf.range(N)**2))"
   ]
  },
  {
   "cell_type": "code",
   "execution_count": 10,
   "metadata": {
    "collapsed": false
   },
   "outputs": [
    {
     "name": "stdout",
     "output_type": "stream",
     "text": [
      "662921401752298880\n",
      "CPU times: user 480 ms, sys: 184 ms, total: 664 ms\n",
      "Wall time: 438 ms\n"
     ]
    }
   ],
   "source": [
    "%%time\n",
    "#example of computing the same as sum_squares\n",
    "print(result.eval({N:10**8}))"
   ]
  },
  {
   "cell_type": "code",
   "execution_count": 11,
   "metadata": {
    "collapsed": false
   },
   "outputs": [
    {
     "name": "stdout",
     "output_type": "stream",
     "text": [
      "checkpoint\t\t\toutput.txt\r\n",
      "crossentropy_method.ipynb\tpreprocessed_mnist.py\r\n",
      "deep_crossentropy_method.ipynb\t__pycache__\r\n",
      "grading.py\t\t\trecap_ml.ipynb\r\n",
      "gym_interface.ipynb\t\trecap_tensorflow.ipynb\r\n",
      "lecure1_2018.pdf\t\tRL.py\r\n",
      "MNIST_data\t\t\tsubmit.py\r\n",
      "model.ckpt.data-00000-of-00001\ttboard\r\n",
      "model.ckpt.index\t\ttrain.csv\r\n",
      "model.ckpt.meta\r\n"
     ]
    }
   ],
   "source": [
    "!ls"
   ]
  },
  {
   "cell_type": "code",
   "execution_count": 12,
   "metadata": {
    "collapsed": false
   },
   "outputs": [
    {
     "name": "stdout",
     "output_type": "stream",
     "text": [
      "INFO:tensorflow:Restoring parameters from ./model.ckpt\n"
     ]
    },
    {
     "ename": "NotFoundError",
     "evalue": "Key W1 not found in checkpoint\n\t [[Node: save/RestoreV2 = RestoreV2[dtypes=[DT_FLOAT, DT_FLOAT, DT_FLOAT], _device=\"/job:localhost/replica:0/task:0/device:CPU:0\"](_arg_save/Const_0_0, save/RestoreV2/tensor_names, save/RestoreV2/shape_and_slices)]]\n\t [[Node: save/RestoreV2/_1 = _Recv[client_terminated=false, recv_device=\"/job:localhost/replica:0/task:0/device:GPU:0\", send_device=\"/job:localhost/replica:0/task:0/device:CPU:0\", send_device_incarnation=1, tensor_name=\"edge_6_save/RestoreV2\", tensor_type=DT_FLOAT, _device=\"/job:localhost/replica:0/task:0/device:GPU:0\"]()]]\n\nCaused by op 'save/RestoreV2', defined at:\n  File \"/home/philippew/anaconda3/envs/pythonx/lib/python3.5/runpy.py\", line 184, in _run_module_as_main\n    \"__main__\", mod_spec)\n  File \"/home/philippew/anaconda3/envs/pythonx/lib/python3.5/runpy.py\", line 85, in _run_code\n    exec(code, run_globals)\n  File \"/home/philippew/anaconda3/envs/pythonx/lib/python3.5/site-packages/ipykernel/__main__.py\", line 3, in <module>\n    app.launch_new_instance()\n  File \"/home/philippew/anaconda3/envs/pythonx/lib/python3.5/site-packages/traitlets/config/application.py\", line 653, in launch_instance\n    app.start()\n  File \"/home/philippew/anaconda3/envs/pythonx/lib/python3.5/site-packages/ipykernel/kernelapp.py\", line 474, in start\n    ioloop.IOLoop.instance().start()\n  File \"/home/philippew/anaconda3/envs/pythonx/lib/python3.5/site-packages/zmq/eventloop/ioloop.py\", line 162, in start\n    super(ZMQIOLoop, self).start()\n  File \"/home/philippew/anaconda3/envs/pythonx/lib/python3.5/site-packages/tornado/ioloop.py\", line 887, in start\n    handler_func(fd_obj, events)\n  File \"/home/philippew/anaconda3/envs/pythonx/lib/python3.5/site-packages/tornado/stack_context.py\", line 275, in null_wrapper\n    return fn(*args, **kwargs)\n  File \"/home/philippew/anaconda3/envs/pythonx/lib/python3.5/site-packages/zmq/eventloop/zmqstream.py\", line 440, in _handle_events\n    self._handle_recv()\n  File \"/home/philippew/anaconda3/envs/pythonx/lib/python3.5/site-packages/zmq/eventloop/zmqstream.py\", line 472, in _handle_recv\n    self._run_callback(callback, msg)\n  File \"/home/philippew/anaconda3/envs/pythonx/lib/python3.5/site-packages/zmq/eventloop/zmqstream.py\", line 414, in _run_callback\n    callback(*args, **kwargs)\n  File \"/home/philippew/anaconda3/envs/pythonx/lib/python3.5/site-packages/tornado/stack_context.py\", line 275, in null_wrapper\n    return fn(*args, **kwargs)\n  File \"/home/philippew/anaconda3/envs/pythonx/lib/python3.5/site-packages/ipykernel/kernelbase.py\", line 276, in dispatcher\n    return self.dispatch_shell(stream, msg)\n  File \"/home/philippew/anaconda3/envs/pythonx/lib/python3.5/site-packages/ipykernel/kernelbase.py\", line 228, in dispatch_shell\n    handler(stream, idents, msg)\n  File \"/home/philippew/anaconda3/envs/pythonx/lib/python3.5/site-packages/ipykernel/kernelbase.py\", line 390, in execute_request\n    user_expressions, allow_stdin)\n  File \"/home/philippew/anaconda3/envs/pythonx/lib/python3.5/site-packages/ipykernel/ipkernel.py\", line 196, in do_execute\n    res = shell.run_cell(code, store_history=store_history, silent=silent)\n  File \"/home/philippew/anaconda3/envs/pythonx/lib/python3.5/site-packages/ipykernel/zmqshell.py\", line 501, in run_cell\n    return super(ZMQInteractiveShell, self).run_cell(*args, **kwargs)\n  File \"/home/philippew/anaconda3/envs/pythonx/lib/python3.5/site-packages/IPython/core/interactiveshell.py\", line 2698, in run_cell\n    interactivity=interactivity, compiler=compiler, result=result)\n  File \"/home/philippew/anaconda3/envs/pythonx/lib/python3.5/site-packages/IPython/core/interactiveshell.py\", line 2802, in run_ast_nodes\n    if self.run_code(code, result):\n  File \"/home/philippew/anaconda3/envs/pythonx/lib/python3.5/site-packages/IPython/core/interactiveshell.py\", line 2862, in run_code\n    exec(code_obj, self.user_global_ns, self.user_ns)\n  File \"<ipython-input-3-9131fa61d49d>\", line 14, in <module>\n    saver = tf.train.Saver()\n  File \"/home/philippew/anaconda3/envs/pythonx/lib/python3.5/site-packages/tensorflow/python/training/saver.py\", line 1311, in __init__\n    self.build()\n  File \"/home/philippew/anaconda3/envs/pythonx/lib/python3.5/site-packages/tensorflow/python/training/saver.py\", line 1320, in build\n    self._build(self._filename, build_save=True, build_restore=True)\n  File \"/home/philippew/anaconda3/envs/pythonx/lib/python3.5/site-packages/tensorflow/python/training/saver.py\", line 1357, in _build\n    build_save=build_save, build_restore=build_restore)\n  File \"/home/philippew/anaconda3/envs/pythonx/lib/python3.5/site-packages/tensorflow/python/training/saver.py\", line 809, in _build_internal\n    restore_sequentially, reshape)\n  File \"/home/philippew/anaconda3/envs/pythonx/lib/python3.5/site-packages/tensorflow/python/training/saver.py\", line 448, in _AddRestoreOps\n    restore_sequentially)\n  File \"/home/philippew/anaconda3/envs/pythonx/lib/python3.5/site-packages/tensorflow/python/training/saver.py\", line 860, in bulk_restore\n    return io_ops.restore_v2(filename_tensor, names, slices, dtypes)\n  File \"/home/philippew/anaconda3/envs/pythonx/lib/python3.5/site-packages/tensorflow/python/ops/gen_io_ops.py\", line 1458, in restore_v2\n    shape_and_slices=shape_and_slices, dtypes=dtypes, name=name)\n  File \"/home/philippew/anaconda3/envs/pythonx/lib/python3.5/site-packages/tensorflow/python/framework/op_def_library.py\", line 787, in _apply_op_helper\n    op_def=op_def)\n  File \"/home/philippew/anaconda3/envs/pythonx/lib/python3.5/site-packages/tensorflow/python/framework/ops.py\", line 3290, in create_op\n    op_def=op_def)\n  File \"/home/philippew/anaconda3/envs/pythonx/lib/python3.5/site-packages/tensorflow/python/framework/ops.py\", line 1654, in __init__\n    self._traceback = self._graph._extract_stack()  # pylint: disable=protected-access\n\nNotFoundError (see above for traceback): Key W1 not found in checkpoint\n\t [[Node: save/RestoreV2 = RestoreV2[dtypes=[DT_FLOAT, DT_FLOAT, DT_FLOAT], _device=\"/job:localhost/replica:0/task:0/device:CPU:0\"](_arg_save/Const_0_0, save/RestoreV2/tensor_names, save/RestoreV2/shape_and_slices)]]\n\t [[Node: save/RestoreV2/_1 = _Recv[client_terminated=false, recv_device=\"/job:localhost/replica:0/task:0/device:GPU:0\", send_device=\"/job:localhost/replica:0/task:0/device:CPU:0\", send_device_incarnation=1, tensor_name=\"edge_6_save/RestoreV2\", tensor_type=DT_FLOAT, _device=\"/job:localhost/replica:0/task:0/device:GPU:0\"]()]]\n",
     "output_type": "error",
     "traceback": [
      "\u001b[0;31m---------------------------------------------------------------------------\u001b[0m",
      "\u001b[0;31mNotFoundError\u001b[0m                             Traceback (most recent call last)",
      "\u001b[0;32m~/anaconda3/envs/pythonx/lib/python3.5/site-packages/tensorflow/python/client/session.py\u001b[0m in \u001b[0;36m_do_call\u001b[0;34m(self, fn, *args)\u001b[0m\n\u001b[1;32m   1326\u001b[0m     \u001b[0;32mtry\u001b[0m\u001b[0;34m:\u001b[0m\u001b[0;34m\u001b[0m\u001b[0m\n\u001b[0;32m-> 1327\u001b[0;31m       \u001b[0;32mreturn\u001b[0m \u001b[0mfn\u001b[0m\u001b[0;34m(\u001b[0m\u001b[0;34m*\u001b[0m\u001b[0margs\u001b[0m\u001b[0;34m)\u001b[0m\u001b[0;34m\u001b[0m\u001b[0m\n\u001b[0m\u001b[1;32m   1328\u001b[0m     \u001b[0;32mexcept\u001b[0m \u001b[0merrors\u001b[0m\u001b[0;34m.\u001b[0m\u001b[0mOpError\u001b[0m \u001b[0;32mas\u001b[0m \u001b[0me\u001b[0m\u001b[0;34m:\u001b[0m\u001b[0;34m\u001b[0m\u001b[0m\n",
      "\u001b[0;32m~/anaconda3/envs/pythonx/lib/python3.5/site-packages/tensorflow/python/client/session.py\u001b[0m in \u001b[0;36m_run_fn\u001b[0;34m(feed_dict, fetch_list, target_list, options, run_metadata)\u001b[0m\n\u001b[1;32m   1311\u001b[0m       return self._call_tf_sessionrun(\n\u001b[0;32m-> 1312\u001b[0;31m           options, feed_dict, fetch_list, target_list, run_metadata)\n\u001b[0m\u001b[1;32m   1313\u001b[0m \u001b[0;34m\u001b[0m\u001b[0m\n",
      "\u001b[0;32m~/anaconda3/envs/pythonx/lib/python3.5/site-packages/tensorflow/python/client/session.py\u001b[0m in \u001b[0;36m_call_tf_sessionrun\u001b[0;34m(self, options, feed_dict, fetch_list, target_list, run_metadata)\u001b[0m\n\u001b[1;32m   1419\u001b[0m             \u001b[0mself\u001b[0m\u001b[0;34m.\u001b[0m\u001b[0m_session\u001b[0m\u001b[0;34m,\u001b[0m \u001b[0moptions\u001b[0m\u001b[0;34m,\u001b[0m \u001b[0mfeed_dict\u001b[0m\u001b[0;34m,\u001b[0m \u001b[0mfetch_list\u001b[0m\u001b[0;34m,\u001b[0m \u001b[0mtarget_list\u001b[0m\u001b[0;34m,\u001b[0m\u001b[0;34m\u001b[0m\u001b[0m\n\u001b[0;32m-> 1420\u001b[0;31m             status, run_metadata)\n\u001b[0m\u001b[1;32m   1421\u001b[0m \u001b[0;34m\u001b[0m\u001b[0m\n",
      "\u001b[0;32m~/anaconda3/envs/pythonx/lib/python3.5/site-packages/tensorflow/python/framework/errors_impl.py\u001b[0m in \u001b[0;36m__exit__\u001b[0;34m(self, type_arg, value_arg, traceback_arg)\u001b[0m\n\u001b[1;32m    515\u001b[0m             \u001b[0mcompat\u001b[0m\u001b[0;34m.\u001b[0m\u001b[0mas_text\u001b[0m\u001b[0;34m(\u001b[0m\u001b[0mc_api\u001b[0m\u001b[0;34m.\u001b[0m\u001b[0mTF_Message\u001b[0m\u001b[0;34m(\u001b[0m\u001b[0mself\u001b[0m\u001b[0;34m.\u001b[0m\u001b[0mstatus\u001b[0m\u001b[0;34m.\u001b[0m\u001b[0mstatus\u001b[0m\u001b[0;34m)\u001b[0m\u001b[0;34m)\u001b[0m\u001b[0;34m,\u001b[0m\u001b[0;34m\u001b[0m\u001b[0m\n\u001b[0;32m--> 516\u001b[0;31m             c_api.TF_GetCode(self.status.status))\n\u001b[0m\u001b[1;32m    517\u001b[0m     \u001b[0;31m# Delete the underlying status object from memory otherwise it stays alive\u001b[0m\u001b[0;34m\u001b[0m\u001b[0;34m\u001b[0m\u001b[0m\n",
      "\u001b[0;31mNotFoundError\u001b[0m: Key W1 not found in checkpoint\n\t [[Node: save/RestoreV2 = RestoreV2[dtypes=[DT_FLOAT, DT_FLOAT, DT_FLOAT], _device=\"/job:localhost/replica:0/task:0/device:CPU:0\"](_arg_save/Const_0_0, save/RestoreV2/tensor_names, save/RestoreV2/shape_and_slices)]]\n\t [[Node: save/RestoreV2/_1 = _Recv[client_terminated=false, recv_device=\"/job:localhost/replica:0/task:0/device:GPU:0\", send_device=\"/job:localhost/replica:0/task:0/device:CPU:0\", send_device_incarnation=1, tensor_name=\"edge_6_save/RestoreV2\", tensor_type=DT_FLOAT, _device=\"/job:localhost/replica:0/task:0/device:GPU:0\"]()]]",
      "\nDuring handling of the above exception, another exception occurred:\n",
      "\u001b[0;31mNotFoundError\u001b[0m                             Traceback (most recent call last)",
      "\u001b[0;32m<ipython-input-12-dec6229d9e16>\u001b[0m in \u001b[0;36m<module>\u001b[0;34m()\u001b[0m\n\u001b[1;32m      4\u001b[0m \u001b[0;32mwith\u001b[0m \u001b[0mtf\u001b[0m\u001b[0;34m.\u001b[0m\u001b[0mSession\u001b[0m\u001b[0;34m(\u001b[0m\u001b[0;34m)\u001b[0m \u001b[0;32mas\u001b[0m \u001b[0msess\u001b[0m\u001b[0;34m:\u001b[0m\u001b[0;34m\u001b[0m\u001b[0m\n\u001b[1;32m      5\u001b[0m     \u001b[0msaver\u001b[0m \u001b[0;34m=\u001b[0m \u001b[0mtf\u001b[0m\u001b[0;34m.\u001b[0m\u001b[0mtrain\u001b[0m\u001b[0;34m.\u001b[0m\u001b[0mimport_meta_graph\u001b[0m\u001b[0;34m(\u001b[0m\u001b[0;34m'model.ckpt.meta'\u001b[0m\u001b[0;34m)\u001b[0m\u001b[0;34m\u001b[0m\u001b[0m\n\u001b[0;32m----> 6\u001b[0;31m     \u001b[0msaver\u001b[0m\u001b[0;34m.\u001b[0m\u001b[0mrestore\u001b[0m\u001b[0;34m(\u001b[0m\u001b[0msess\u001b[0m\u001b[0;34m,\u001b[0m\u001b[0mtf\u001b[0m\u001b[0;34m.\u001b[0m\u001b[0mtrain\u001b[0m\u001b[0;34m.\u001b[0m\u001b[0mlatest_checkpoint\u001b[0m\u001b[0;34m(\u001b[0m\u001b[0;34m'./'\u001b[0m\u001b[0;34m)\u001b[0m\u001b[0;34m)\u001b[0m\u001b[0;34m\u001b[0m\u001b[0m\n\u001b[0m\u001b[1;32m      7\u001b[0m     \u001b[0mprint\u001b[0m\u001b[0;34m(\u001b[0m\u001b[0msess\u001b[0m\u001b[0;34m.\u001b[0m\u001b[0mrun\u001b[0m\u001b[0;34m(\u001b[0m\u001b[0;34m'w1:0'\u001b[0m\u001b[0;34m)\u001b[0m\u001b[0;34m)\u001b[0m\u001b[0;34m\u001b[0m\u001b[0m\n\u001b[1;32m      8\u001b[0m     \u001b[0mprint\u001b[0m\u001b[0;34m(\u001b[0m\u001b[0msess\u001b[0m\u001b[0;34m.\u001b[0m\u001b[0mrun\u001b[0m\u001b[0;34m(\u001b[0m\u001b[0;34m'w2:0'\u001b[0m\u001b[0;34m)\u001b[0m\u001b[0;34m)\u001b[0m\u001b[0;34m\u001b[0m\u001b[0m\n",
      "\u001b[0;32m~/anaconda3/envs/pythonx/lib/python3.5/site-packages/tensorflow/python/training/saver.py\u001b[0m in \u001b[0;36mrestore\u001b[0;34m(self, sess, save_path)\u001b[0m\n\u001b[1;32m   1773\u001b[0m     \u001b[0;32melse\u001b[0m\u001b[0;34m:\u001b[0m\u001b[0;34m\u001b[0m\u001b[0m\n\u001b[1;32m   1774\u001b[0m       sess.run(self.saver_def.restore_op_name,\n\u001b[0;32m-> 1775\u001b[0;31m                {self.saver_def.filename_tensor_name: save_path})\n\u001b[0m\u001b[1;32m   1776\u001b[0m \u001b[0;34m\u001b[0m\u001b[0m\n\u001b[1;32m   1777\u001b[0m   \u001b[0;34m@\u001b[0m\u001b[0mstaticmethod\u001b[0m\u001b[0;34m\u001b[0m\u001b[0m\n",
      "\u001b[0;32m~/anaconda3/envs/pythonx/lib/python3.5/site-packages/tensorflow/python/client/session.py\u001b[0m in \u001b[0;36mrun\u001b[0;34m(self, fetches, feed_dict, options, run_metadata)\u001b[0m\n\u001b[1;32m    903\u001b[0m     \u001b[0;32mtry\u001b[0m\u001b[0;34m:\u001b[0m\u001b[0;34m\u001b[0m\u001b[0m\n\u001b[1;32m    904\u001b[0m       result = self._run(None, fetches, feed_dict, options_ptr,\n\u001b[0;32m--> 905\u001b[0;31m                          run_metadata_ptr)\n\u001b[0m\u001b[1;32m    906\u001b[0m       \u001b[0;32mif\u001b[0m \u001b[0mrun_metadata\u001b[0m\u001b[0;34m:\u001b[0m\u001b[0;34m\u001b[0m\u001b[0m\n\u001b[1;32m    907\u001b[0m         \u001b[0mproto_data\u001b[0m \u001b[0;34m=\u001b[0m \u001b[0mtf_session\u001b[0m\u001b[0;34m.\u001b[0m\u001b[0mTF_GetBuffer\u001b[0m\u001b[0;34m(\u001b[0m\u001b[0mrun_metadata_ptr\u001b[0m\u001b[0;34m)\u001b[0m\u001b[0;34m\u001b[0m\u001b[0m\n",
      "\u001b[0;32m~/anaconda3/envs/pythonx/lib/python3.5/site-packages/tensorflow/python/client/session.py\u001b[0m in \u001b[0;36m_run\u001b[0;34m(self, handle, fetches, feed_dict, options, run_metadata)\u001b[0m\n\u001b[1;32m   1138\u001b[0m     \u001b[0;32mif\u001b[0m \u001b[0mfinal_fetches\u001b[0m \u001b[0;32mor\u001b[0m \u001b[0mfinal_targets\u001b[0m \u001b[0;32mor\u001b[0m \u001b[0;34m(\u001b[0m\u001b[0mhandle\u001b[0m \u001b[0;32mand\u001b[0m \u001b[0mfeed_dict_tensor\u001b[0m\u001b[0;34m)\u001b[0m\u001b[0;34m:\u001b[0m\u001b[0;34m\u001b[0m\u001b[0m\n\u001b[1;32m   1139\u001b[0m       results = self._do_run(handle, final_targets, final_fetches,\n\u001b[0;32m-> 1140\u001b[0;31m                              feed_dict_tensor, options, run_metadata)\n\u001b[0m\u001b[1;32m   1141\u001b[0m     \u001b[0;32melse\u001b[0m\u001b[0;34m:\u001b[0m\u001b[0;34m\u001b[0m\u001b[0m\n\u001b[1;32m   1142\u001b[0m       \u001b[0mresults\u001b[0m \u001b[0;34m=\u001b[0m \u001b[0;34m[\u001b[0m\u001b[0;34m]\u001b[0m\u001b[0;34m\u001b[0m\u001b[0m\n",
      "\u001b[0;32m~/anaconda3/envs/pythonx/lib/python3.5/site-packages/tensorflow/python/client/session.py\u001b[0m in \u001b[0;36m_do_run\u001b[0;34m(self, handle, target_list, fetch_list, feed_dict, options, run_metadata)\u001b[0m\n\u001b[1;32m   1319\u001b[0m     \u001b[0;32mif\u001b[0m \u001b[0mhandle\u001b[0m \u001b[0;32mis\u001b[0m \u001b[0;32mNone\u001b[0m\u001b[0;34m:\u001b[0m\u001b[0;34m\u001b[0m\u001b[0m\n\u001b[1;32m   1320\u001b[0m       return self._do_call(_run_fn, feeds, fetches, targets, options,\n\u001b[0;32m-> 1321\u001b[0;31m                            run_metadata)\n\u001b[0m\u001b[1;32m   1322\u001b[0m     \u001b[0;32melse\u001b[0m\u001b[0;34m:\u001b[0m\u001b[0;34m\u001b[0m\u001b[0m\n\u001b[1;32m   1323\u001b[0m       \u001b[0;32mreturn\u001b[0m \u001b[0mself\u001b[0m\u001b[0;34m.\u001b[0m\u001b[0m_do_call\u001b[0m\u001b[0;34m(\u001b[0m\u001b[0m_prun_fn\u001b[0m\u001b[0;34m,\u001b[0m \u001b[0mhandle\u001b[0m\u001b[0;34m,\u001b[0m \u001b[0mfeeds\u001b[0m\u001b[0;34m,\u001b[0m \u001b[0mfetches\u001b[0m\u001b[0;34m)\u001b[0m\u001b[0;34m\u001b[0m\u001b[0m\n",
      "\u001b[0;32m~/anaconda3/envs/pythonx/lib/python3.5/site-packages/tensorflow/python/client/session.py\u001b[0m in \u001b[0;36m_do_call\u001b[0;34m(self, fn, *args)\u001b[0m\n\u001b[1;32m   1338\u001b[0m         \u001b[0;32mexcept\u001b[0m \u001b[0mKeyError\u001b[0m\u001b[0;34m:\u001b[0m\u001b[0;34m\u001b[0m\u001b[0m\n\u001b[1;32m   1339\u001b[0m           \u001b[0;32mpass\u001b[0m\u001b[0;34m\u001b[0m\u001b[0m\n\u001b[0;32m-> 1340\u001b[0;31m       \u001b[0;32mraise\u001b[0m \u001b[0mtype\u001b[0m\u001b[0;34m(\u001b[0m\u001b[0me\u001b[0m\u001b[0;34m)\u001b[0m\u001b[0;34m(\u001b[0m\u001b[0mnode_def\u001b[0m\u001b[0;34m,\u001b[0m \u001b[0mop\u001b[0m\u001b[0;34m,\u001b[0m \u001b[0mmessage\u001b[0m\u001b[0;34m)\u001b[0m\u001b[0;34m\u001b[0m\u001b[0m\n\u001b[0m\u001b[1;32m   1341\u001b[0m \u001b[0;34m\u001b[0m\u001b[0m\n\u001b[1;32m   1342\u001b[0m   \u001b[0;32mdef\u001b[0m \u001b[0m_extend_graph\u001b[0m\u001b[0;34m(\u001b[0m\u001b[0mself\u001b[0m\u001b[0;34m)\u001b[0m\u001b[0;34m:\u001b[0m\u001b[0;34m\u001b[0m\u001b[0m\n",
      "\u001b[0;31mNotFoundError\u001b[0m: Key W1 not found in checkpoint\n\t [[Node: save/RestoreV2 = RestoreV2[dtypes=[DT_FLOAT, DT_FLOAT, DT_FLOAT], _device=\"/job:localhost/replica:0/task:0/device:CPU:0\"](_arg_save/Const_0_0, save/RestoreV2/tensor_names, save/RestoreV2/shape_and_slices)]]\n\t [[Node: save/RestoreV2/_1 = _Recv[client_terminated=false, recv_device=\"/job:localhost/replica:0/task:0/device:GPU:0\", send_device=\"/job:localhost/replica:0/task:0/device:CPU:0\", send_device_incarnation=1, tensor_name=\"edge_6_save/RestoreV2\", tensor_type=DT_FLOAT, _device=\"/job:localhost/replica:0/task:0/device:GPU:0\"]()]]\n\nCaused by op 'save/RestoreV2', defined at:\n  File \"/home/philippew/anaconda3/envs/pythonx/lib/python3.5/runpy.py\", line 184, in _run_module_as_main\n    \"__main__\", mod_spec)\n  File \"/home/philippew/anaconda3/envs/pythonx/lib/python3.5/runpy.py\", line 85, in _run_code\n    exec(code, run_globals)\n  File \"/home/philippew/anaconda3/envs/pythonx/lib/python3.5/site-packages/ipykernel/__main__.py\", line 3, in <module>\n    app.launch_new_instance()\n  File \"/home/philippew/anaconda3/envs/pythonx/lib/python3.5/site-packages/traitlets/config/application.py\", line 653, in launch_instance\n    app.start()\n  File \"/home/philippew/anaconda3/envs/pythonx/lib/python3.5/site-packages/ipykernel/kernelapp.py\", line 474, in start\n    ioloop.IOLoop.instance().start()\n  File \"/home/philippew/anaconda3/envs/pythonx/lib/python3.5/site-packages/zmq/eventloop/ioloop.py\", line 162, in start\n    super(ZMQIOLoop, self).start()\n  File \"/home/philippew/anaconda3/envs/pythonx/lib/python3.5/site-packages/tornado/ioloop.py\", line 887, in start\n    handler_func(fd_obj, events)\n  File \"/home/philippew/anaconda3/envs/pythonx/lib/python3.5/site-packages/tornado/stack_context.py\", line 275, in null_wrapper\n    return fn(*args, **kwargs)\n  File \"/home/philippew/anaconda3/envs/pythonx/lib/python3.5/site-packages/zmq/eventloop/zmqstream.py\", line 440, in _handle_events\n    self._handle_recv()\n  File \"/home/philippew/anaconda3/envs/pythonx/lib/python3.5/site-packages/zmq/eventloop/zmqstream.py\", line 472, in _handle_recv\n    self._run_callback(callback, msg)\n  File \"/home/philippew/anaconda3/envs/pythonx/lib/python3.5/site-packages/zmq/eventloop/zmqstream.py\", line 414, in _run_callback\n    callback(*args, **kwargs)\n  File \"/home/philippew/anaconda3/envs/pythonx/lib/python3.5/site-packages/tornado/stack_context.py\", line 275, in null_wrapper\n    return fn(*args, **kwargs)\n  File \"/home/philippew/anaconda3/envs/pythonx/lib/python3.5/site-packages/ipykernel/kernelbase.py\", line 276, in dispatcher\n    return self.dispatch_shell(stream, msg)\n  File \"/home/philippew/anaconda3/envs/pythonx/lib/python3.5/site-packages/ipykernel/kernelbase.py\", line 228, in dispatch_shell\n    handler(stream, idents, msg)\n  File \"/home/philippew/anaconda3/envs/pythonx/lib/python3.5/site-packages/ipykernel/kernelbase.py\", line 390, in execute_request\n    user_expressions, allow_stdin)\n  File \"/home/philippew/anaconda3/envs/pythonx/lib/python3.5/site-packages/ipykernel/ipkernel.py\", line 196, in do_execute\n    res = shell.run_cell(code, store_history=store_history, silent=silent)\n  File \"/home/philippew/anaconda3/envs/pythonx/lib/python3.5/site-packages/ipykernel/zmqshell.py\", line 501, in run_cell\n    return super(ZMQInteractiveShell, self).run_cell(*args, **kwargs)\n  File \"/home/philippew/anaconda3/envs/pythonx/lib/python3.5/site-packages/IPython/core/interactiveshell.py\", line 2698, in run_cell\n    interactivity=interactivity, compiler=compiler, result=result)\n  File \"/home/philippew/anaconda3/envs/pythonx/lib/python3.5/site-packages/IPython/core/interactiveshell.py\", line 2802, in run_ast_nodes\n    if self.run_code(code, result):\n  File \"/home/philippew/anaconda3/envs/pythonx/lib/python3.5/site-packages/IPython/core/interactiveshell.py\", line 2862, in run_code\n    exec(code_obj, self.user_global_ns, self.user_ns)\n  File \"<ipython-input-3-9131fa61d49d>\", line 14, in <module>\n    saver = tf.train.Saver()\n  File \"/home/philippew/anaconda3/envs/pythonx/lib/python3.5/site-packages/tensorflow/python/training/saver.py\", line 1311, in __init__\n    self.build()\n  File \"/home/philippew/anaconda3/envs/pythonx/lib/python3.5/site-packages/tensorflow/python/training/saver.py\", line 1320, in build\n    self._build(self._filename, build_save=True, build_restore=True)\n  File \"/home/philippew/anaconda3/envs/pythonx/lib/python3.5/site-packages/tensorflow/python/training/saver.py\", line 1357, in _build\n    build_save=build_save, build_restore=build_restore)\n  File \"/home/philippew/anaconda3/envs/pythonx/lib/python3.5/site-packages/tensorflow/python/training/saver.py\", line 809, in _build_internal\n    restore_sequentially, reshape)\n  File \"/home/philippew/anaconda3/envs/pythonx/lib/python3.5/site-packages/tensorflow/python/training/saver.py\", line 448, in _AddRestoreOps\n    restore_sequentially)\n  File \"/home/philippew/anaconda3/envs/pythonx/lib/python3.5/site-packages/tensorflow/python/training/saver.py\", line 860, in bulk_restore\n    return io_ops.restore_v2(filename_tensor, names, slices, dtypes)\n  File \"/home/philippew/anaconda3/envs/pythonx/lib/python3.5/site-packages/tensorflow/python/ops/gen_io_ops.py\", line 1458, in restore_v2\n    shape_and_slices=shape_and_slices, dtypes=dtypes, name=name)\n  File \"/home/philippew/anaconda3/envs/pythonx/lib/python3.5/site-packages/tensorflow/python/framework/op_def_library.py\", line 787, in _apply_op_helper\n    op_def=op_def)\n  File \"/home/philippew/anaconda3/envs/pythonx/lib/python3.5/site-packages/tensorflow/python/framework/ops.py\", line 3290, in create_op\n    op_def=op_def)\n  File \"/home/philippew/anaconda3/envs/pythonx/lib/python3.5/site-packages/tensorflow/python/framework/ops.py\", line 1654, in __init__\n    self._traceback = self._graph._extract_stack()  # pylint: disable=protected-access\n\nNotFoundError (see above for traceback): Key W1 not found in checkpoint\n\t [[Node: save/RestoreV2 = RestoreV2[dtypes=[DT_FLOAT, DT_FLOAT, DT_FLOAT], _device=\"/job:localhost/replica:0/task:0/device:CPU:0\"](_arg_save/Const_0_0, save/RestoreV2/tensor_names, save/RestoreV2/shape_and_slices)]]\n\t [[Node: save/RestoreV2/_1 = _Recv[client_terminated=false, recv_device=\"/job:localhost/replica:0/task:0/device:GPU:0\", send_device=\"/job:localhost/replica:0/task:0/device:CPU:0\", send_device_incarnation=1, tensor_name=\"edge_6_save/RestoreV2\", tensor_type=DT_FLOAT, _device=\"/job:localhost/replica:0/task:0/device:GPU:0\"]()]]\n"
     ]
    }
   ],
   "source": [
    "from tensorflow.python.tools import inspect_checkpoint as chkp\n",
    "\n",
    "\n",
    "with tf.Session() as sess:    \n",
    "    saver = tf.train.import_meta_graph('model.ckpt.meta')\n",
    "    saver.restore(sess,tf.train.latest_checkpoint('./'))\n",
    "    print(sess.run('w1:0'))\n",
    "    print(sess.run('w2:0'))\n",
    "\n",
    "##Model has been restored. Above statement will print the saved value of w1."
   ]
  },
  {
   "cell_type": "code",
   "execution_count": null,
   "metadata": {
    "collapsed": false
   },
   "outputs": [],
   "source": [
    "with tf.Session() as sess:\n",
    "    saver = tf.train.import_meta_graph('model.ckpt.meta')\n",
    "    saver.restore(sess, 'model.ckpt')\n",
    "    graph = tf.get_default_graph() \n",
    "    \n",
    "    \n",
    "    print(tf.get_default_graph().get_all_collection_keys())\n",
    "    for v in tf.get_default_graph().get_collection(\"variables\"):\n",
    "        print(v)\n",
    "    for v in tf.get_default_graph().get_collection(\"trainable_variables\"):\n",
    "        print(v)\n",
    "    \n",
    "    placeholders = [ op for op in graph.get_operations() if op.type == \"Placeholder\"]\n",
    "    print(placeholders)\n",
    "    \n",
    "    inputs = tf.get_collection('inputs')\n",
    "    output = tf.get_collection('output')\n",
    "    print(inputs)\n",
    "    print(output)\n",
    "    #outputTensors = sess.run(output, feed_dict={images: np.array(an_image)})"
   ]
  },
  {
   "cell_type": "markdown",
   "metadata": {},
   "source": [
    "# How does it work?\n",
    "1. define placeholders where you'll send inputs;\n",
    "2. make symbolic graph: a recipe for mathematical transformation of those placeholders;\n",
    "3. compute outputs of your graph with particular values for each placeholder\n",
    "  * output.eval({placeholder:value}) \n",
    "  * s.run(output, {placeholder:value})\n",
    "\n",
    "* So far there are two main entities: \"placeholder\" and \"transformation\"\n",
    "* Both can be numbers, vectors, matrices, tensors, etc.\n",
    "* Both can be int32/64, floats of booleans (uint8) of various size.\n",
    "\n",
    "* You can define new transformations as an arbitrary operation on placeholders and other transformations\n",
    " * tf.reduce_sum(tf.arange(N)\\**2) are 3 sequential transformations of placeholder N\n",
    " * There's a tensorflow symbolic version for every numpy function\n",
    "   * `a+b, a/b, a**b, ...` behave just like in numpy\n",
    "   * np.mean -> tf.reduce_mean\n",
    "   * np.arange -> tf.range\n",
    "   * np.cumsum -> tf.cumsum\n",
    "   * If if you can't find the op you need, see the [docs](https://www.tensorflow.org/api_docs/python).\n",
    " \n",
    " \n",
    "Still confused? We gonna fix that."
   ]
  },
  {
   "cell_type": "code",
   "execution_count": null,
   "metadata": {
    "collapsed": true
   },
   "outputs": [],
   "source": [
    "#Default placeholder that can be arbitrary float32 scalar, vertor, matrix, etc.\n",
    "arbitrary_input = tf.placeholder('float32')\n",
    "\n",
    "#Input vector of arbitrary length\n",
    "input_vector = tf.placeholder('float32',shape=(None,))\n",
    "\n",
    "#Input vector that _must_ have 10 elements and integer type\n",
    "fixed_vector = tf.placeholder('int32',shape=(10,))\n",
    "\n",
    "#Matrix of arbitrary n_rows and 15 columns (e.g. a minibatch your data table)\n",
    "input_matrix = tf.placeholder('float32',shape=(None,15))\n",
    "\n",
    "#You can generally use None whenever you don't need a specific shape\n",
    "input1 = tf.placeholder('float64',shape=(None,100,None))\n",
    "input2 = tf.placeholder('int32',shape=(None,None,3,224,224))"
   ]
  },
  {
   "cell_type": "code",
   "execution_count": null,
   "metadata": {
    "collapsed": true
   },
   "outputs": [],
   "source": [
    "#elementwise multiplication\n",
    "double_the_vector = input_vector*2\n",
    "\n",
    "#elementwise cosine\n",
    "elementwise_cosine = tf.cos(input_vector)\n",
    "\n",
    "#difference between squared vector and vector itself\n",
    "vector_squares = input_vector**2 - input_vector\n"
   ]
  },
  {
   "cell_type": "code",
   "execution_count": null,
   "metadata": {
    "collapsed": true
   },
   "outputs": [],
   "source": [
    "#Practice time: create two vectors of type float32\n",
    "#my_vector = <student.init_float32_vector()>\n",
    "#my_vector2 = <student.init_one_more_such_vector()>\n",
    "\n",
    "my_vector = tf.placeholder('float32',shape=(None,))\n",
    "my_vector2 = tf.placeholder('float32',shape=(None,))"
   ]
  },
  {
   "cell_type": "code",
   "execution_count": null,
   "metadata": {
    "collapsed": false
   },
   "outputs": [],
   "source": [
    "#Write a transformation(recipe):\n",
    "#(vec1)*(vec2) / (sin(vec1) +1)\n",
    "my_transformation = my_vector * my_vector2 / (tf.sin(my_vector) + 1)"
   ]
  },
  {
   "cell_type": "code",
   "execution_count": 13,
   "metadata": {
    "collapsed": false
   },
   "outputs": [
    {
     "ename": "NameError",
     "evalue": "name 'my_transformation' is not defined",
     "output_type": "error",
     "traceback": [
      "\u001b[0;31m---------------------------------------------------------------------------\u001b[0m",
      "\u001b[0;31mNameError\u001b[0m                                 Traceback (most recent call last)",
      "\u001b[0;32m<ipython-input-13-d1805ba95159>\u001b[0m in \u001b[0;36m<module>\u001b[0;34m()\u001b[0m\n\u001b[0;32m----> 1\u001b[0;31m \u001b[0mprint\u001b[0m\u001b[0;34m(\u001b[0m\u001b[0mmy_transformation\u001b[0m\u001b[0;34m)\u001b[0m\u001b[0;34m\u001b[0m\u001b[0m\n\u001b[0m\u001b[1;32m      2\u001b[0m \u001b[0;31m#it's okay, it's a symbolic graph\u001b[0m\u001b[0;34m\u001b[0m\u001b[0;34m\u001b[0m\u001b[0m\n",
      "\u001b[0;31mNameError\u001b[0m: name 'my_transformation' is not defined"
     ]
    }
   ],
   "source": [
    "print(my_transformation)\n",
    "#it's okay, it's a symbolic graph"
   ]
  },
  {
   "cell_type": "code",
   "execution_count": 14,
   "metadata": {
    "collapsed": false
   },
   "outputs": [
    {
     "ename": "NameError",
     "evalue": "name 'my_transformation' is not defined",
     "output_type": "error",
     "traceback": [
      "\u001b[0;31m---------------------------------------------------------------------------\u001b[0m",
      "\u001b[0;31mNameError\u001b[0m                                 Traceback (most recent call last)",
      "\u001b[0;32m<ipython-input-14-84ee878294bc>\u001b[0m in \u001b[0;36m<module>\u001b[0;34m()\u001b[0m\n\u001b[1;32m      2\u001b[0m \u001b[0mdummy\u001b[0m \u001b[0;34m=\u001b[0m \u001b[0mnp\u001b[0m\u001b[0;34m.\u001b[0m\u001b[0marange\u001b[0m\u001b[0;34m(\u001b[0m\u001b[0;36m5\u001b[0m\u001b[0;34m)\u001b[0m\u001b[0;34m.\u001b[0m\u001b[0mastype\u001b[0m\u001b[0;34m(\u001b[0m\u001b[0;34m'float32'\u001b[0m\u001b[0;34m)\u001b[0m\u001b[0;34m\u001b[0m\u001b[0m\n\u001b[1;32m      3\u001b[0m \u001b[0;34m\u001b[0m\u001b[0m\n\u001b[0;32m----> 4\u001b[0;31m \u001b[0mmy_transformation\u001b[0m\u001b[0;34m.\u001b[0m\u001b[0meval\u001b[0m\u001b[0;34m(\u001b[0m\u001b[0;34m{\u001b[0m\u001b[0mmy_vector\u001b[0m\u001b[0;34m:\u001b[0m\u001b[0mdummy\u001b[0m\u001b[0;34m,\u001b[0m\u001b[0mmy_vector2\u001b[0m\u001b[0;34m:\u001b[0m\u001b[0mdummy\u001b[0m\u001b[0;34m[\u001b[0m\u001b[0;34m:\u001b[0m\u001b[0;34m:\u001b[0m\u001b[0;34m-\u001b[0m\u001b[0;36m1\u001b[0m\u001b[0;34m]\u001b[0m\u001b[0;34m}\u001b[0m\u001b[0;34m)\u001b[0m\u001b[0;34m\u001b[0m\u001b[0m\n\u001b[0m",
      "\u001b[0;31mNameError\u001b[0m: name 'my_transformation' is not defined"
     ]
    }
   ],
   "source": [
    "#\n",
    "dummy = np.arange(5).astype('float32')\n",
    "\n",
    "my_transformation.eval({my_vector:dummy,my_vector2:dummy[::-1]})"
   ]
  },
  {
   "cell_type": "markdown",
   "metadata": {},
   "source": [
    "### Visualizing graphs\n",
    "\n",
    "It's often useful to visualize the computation graph when debugging or optimizing. \n",
    "Interactive visualization is where tensorflow really shines as compared to other frameworks. \n",
    "\n",
    "There's a special instrument for that, called Tensorboard. You can launch it from console:\n",
    "\n",
    "```tensorboard --logdir=/tmp/tboard --port=7007```\n",
    "\n",
    "If you're pathologically afraid of consoles, try this:\n",
    "\n",
    "```os.system(\"tensorboard --logdir=/tmp/tboard --port=7007 &\"```\n",
    "\n",
    "_(but don't tell anyone we taught you that)_"
   ]
  },
  {
   "cell_type": "code",
   "execution_count": 15,
   "metadata": {
    "collapsed": false
   },
   "outputs": [
    {
     "data": {
      "text/plain": [
       "0"
      ]
     },
     "execution_count": 15,
     "metadata": {},
     "output_type": "execute_result"
    }
   ],
   "source": [
    "import os\n",
    "\n",
    "os.system(\"tensorboard --logdir=/tmp/tboard --port=7007 &\")"
   ]
  },
  {
   "cell_type": "code",
   "execution_count": 16,
   "metadata": {
    "collapsed": false
   },
   "outputs": [
    {
     "name": "stdout",
     "output_type": "stream",
     "text": [
      "Port: 7000\n"
     ]
    }
   ],
   "source": [
    "# launch tensorflow the ugly way, uncomment if you need that\n",
    "import os\n",
    "port = 6000 + os.getuid()\n",
    "print(\"Port: %d\" % port)\n",
    "!killall tensorboard\n",
    "os.system(\"tensorboard --logdir=./tboard --port=%d &\" % port)\n",
    "\n",
    "# show graph to tensorboard\n",
    "writer = tf.summary.FileWriter(\"./tboard\", graph=tf.get_default_graph())\n",
    "writer.close()"
   ]
  },
  {
   "cell_type": "markdown",
   "metadata": {},
   "source": [
    "One basic functionality of tensorboard is drawing graphs. One you've run the cell above, go to `localhost:7007` in your browser and switch to _graphs_ tab in the topbar. \n",
    "\n",
    "Here's what you should see:\n",
    "\n",
    "<img src=\"https://s12.postimg.org/a374bmffx/tensorboard.png\" width=480>\n",
    "\n",
    "Tensorboard also allows you to draw graphs (e.g. learning curves), record images & audio ~~and play flash games~~. This is useful when monitoring learning progress and catching some training issues.\n",
    "\n",
    "One researcher said:\n",
    "```\n",
    "If you spent last four hours of your worktime watching as your algorithm prints numbers and draws figures, you're probably doing deep learning wrong.\n",
    "```"
   ]
  },
  {
   "cell_type": "markdown",
   "metadata": {},
   "source": [
    "You can read more on tensorboard usage [here](https://www.tensorflow.org/get_started/graph_viz)"
   ]
  },
  {
   "cell_type": "markdown",
   "metadata": {},
   "source": [
    "# Do It Yourself\n",
    "\n",
    "__[2 points max]__"
   ]
  },
  {
   "cell_type": "code",
   "execution_count": 17,
   "metadata": {
    "collapsed": false
   },
   "outputs": [
    {
     "name": "stdout",
     "output_type": "stream",
     "text": [
      "8.0000001940296\n",
      "8.0\n",
      "CPU times: user 4 ms, sys: 0 ns, total: 4 ms\n",
      "Wall time: 691 µs\n"
     ]
    }
   ],
   "source": [
    "%%time\n",
    "dummy = np.arange(5).astype('float32')\n",
    "vec1 = dummy\n",
    "vec2 = dummy[::-1]\n",
    "mse = np.linalg.norm(vec1 - vec2)**2 / len(vec1)\n",
    "print(mse)\n",
    "print(np.sum((vec1 - vec2)**2) / len(vec1))"
   ]
  },
  {
   "cell_type": "code",
   "execution_count": 18,
   "metadata": {
    "collapsed": false
   },
   "outputs": [
    {
     "name": "stdout",
     "output_type": "stream",
     "text": [
      "Tensor(\"truediv:0\", shape=(), dtype=float32)\n",
      "8.0\n",
      "CPU times: user 12 ms, sys: 4 ms, total: 16 ms\n",
      "Wall time: 23.9 ms\n"
     ]
    }
   ],
   "source": [
    "%%time\n",
    "\n",
    "# Quest #1 - implement a function that computes a mean squared error of two input vectors\n",
    "# Your function has to take 2 vectors and return a single number\n",
    "\n",
    "#<student.define_inputs_and_transformations()>\n",
    "#mse =<student.define_transformation()>\n",
    "#compute_mse = lambda vector1, vector2: <how to run you graph?>\n",
    "\n",
    "vec1 = tf.placeholder('float32',shape=(None,))\n",
    "vec2 = tf.placeholder('float32',shape=(None,))\n",
    "#mse = tf.norm(vec1 - vec2)\n",
    "mse = tf.reduce_sum((vec1-vec2)**2) / tf.to_float(tf.size(vec1))\n",
    "print(mse)\n",
    "\n",
    "dummy = np.arange(5).astype('float32')\n",
    "\n",
    "print(mse.eval({vec1:dummy, vec2:dummy[::-1]}))\n",
    "\n",
    "compute_mse = lambda vector1, vector2: mse.eval({vec1:vector1, vec2:vector2})"
   ]
  },
  {
   "cell_type": "code",
   "execution_count": 19,
   "metadata": {
    "collapsed": false
   },
   "outputs": [
    {
     "name": "stdout",
     "output_type": "stream",
     "text": [
      "0.812060342585451\n"
     ]
    }
   ],
   "source": [
    "print(np.sqrt(0.659442))"
   ]
  },
  {
   "cell_type": "code",
   "execution_count": 20,
   "metadata": {
    "collapsed": false
   },
   "outputs": [
    {
     "name": "stdout",
     "output_type": "stream",
     "text": [
      "All tests passed\n"
     ]
    }
   ],
   "source": [
    "# Tests\n",
    "from sklearn.metrics import mean_squared_error\n",
    "\n",
    "for n in [1,5,10,10**3]:\n",
    "    \n",
    "    elems = [np.arange(n),np.arange(n,0,-1), np.zeros(n),\n",
    "             np.ones(n),np.random.random(n),np.random.randint(100,size=n)]\n",
    "    \n",
    "    for el in elems:\n",
    "        for el_2 in elems:\n",
    "            true_mse = np.array(mean_squared_error(el,el_2))\n",
    "            my_mse = compute_mse(el,el_2)\n",
    "            if not np.allclose(true_mse,my_mse):\n",
    "                print('Wrong result:')\n",
    "                print('mse(%s,%s)' % (el,el_2))\n",
    "                print(\"should be: %f, but your function returned %f\" % (true_mse,my_mse))\n",
    "                raise(ValueError,\"oops\")\n",
    "\n",
    "print(\"All tests passed\")    "
   ]
  },
  {
   "cell_type": "markdown",
   "metadata": {},
   "source": [
    "# variables\n",
    "\n",
    "The inputs and transformations have no value outside function call. This isn't too comfortable if you want your model to have parameters (e.g. network weights) that are always present, but can change their value over time.\n",
    "\n",
    "Tensorflow solves this with `tf.Variable` objects.\n",
    "* You can assign variable a value at any time in your graph\n",
    "* Unlike placeholders, there's no need to explicitly pass values to variables when `s.run(...)`-ing\n",
    "* You can use variables the same way you use transformations \n",
    " "
   ]
  },
  {
   "cell_type": "code",
   "execution_count": 21,
   "metadata": {
    "collapsed": true
   },
   "outputs": [],
   "source": [
    "#creating shared variable\n",
    "shared_vector_1 = tf.Variable(initial_value=np.ones(5))"
   ]
  },
  {
   "cell_type": "code",
   "execution_count": 22,
   "metadata": {
    "collapsed": false
   },
   "outputs": [
    {
     "name": "stdout",
     "output_type": "stream",
     "text": [
      "<tf.Variable 'Variable:0' shape=(5,) dtype=float64_ref>\n",
      "[1. 1. 1. 1. 1.]\n"
     ]
    }
   ],
   "source": [
    "print(shared_vector_1)\n",
    "print(np.ones(5))"
   ]
  },
  {
   "cell_type": "code",
   "execution_count": 23,
   "metadata": {
    "collapsed": false
   },
   "outputs": [
    {
     "name": "stdout",
     "output_type": "stream",
     "text": [
      "initial value [1. 1. 1. 1. 1.]\n"
     ]
    }
   ],
   "source": [
    "#initialize variable(s) with initial values\n",
    "s.run(tf.global_variables_initializer())\n",
    "\n",
    "#evaluating shared variable (outside symbolicd graph)\n",
    "print(\"initial value\", s.run(shared_vector_1))\n",
    "\n",
    "# within symbolic graph you use them just as any other inout or transformation, not \"get value\" needed"
   ]
  },
  {
   "cell_type": "code",
   "execution_count": 24,
   "metadata": {
    "collapsed": false
   },
   "outputs": [
    {
     "name": "stdout",
     "output_type": "stream",
     "text": [
      "new value [0. 1. 2. 3. 4.]\n"
     ]
    }
   ],
   "source": [
    "#setting new value\n",
    "s.run(shared_vector_1.assign(np.arange(5)))\n",
    "\n",
    "#getting that new value\n",
    "print(\"new value\", s.run(shared_vector_1))\n"
   ]
  },
  {
   "cell_type": "markdown",
   "metadata": {},
   "source": [
    "# tf.gradients - why graphs matter\n",
    "* Tensorflow can compute derivatives and gradients automatically using the computation graph\n",
    "* Gradients are computed as a product of elementary derivatives via chain rule:\n",
    "\n",
    "$$ {\\partial f(g(x)) \\over \\partial x} = {\\partial f(g(x)) \\over \\partial g(x)}\\cdot {\\partial g(x) \\over \\partial x} $$\n",
    "\n",
    "It can get you the derivative of any graph as long as it knows how to differentiate elementary operations"
   ]
  },
  {
   "cell_type": "code",
   "execution_count": 25,
   "metadata": {
    "collapsed": false
   },
   "outputs": [],
   "source": [
    "my_scalar = tf.placeholder('float32')\n",
    "\n",
    "scalar_squared = my_scalar**2\n",
    "\n",
    "#a derivative of scalar_squared by my_scalar\n",
    "derivative = tf.gradients(scalar_squared, my_scalar)[0]"
   ]
  },
  {
   "cell_type": "code",
   "execution_count": 26,
   "metadata": {
    "collapsed": false
   },
   "outputs": [
    {
     "name": "stdout",
     "output_type": "stream",
     "text": [
      "Tensor(\"Placeholder_2:0\", dtype=float32)\n",
      "Tensor(\"pow_2:0\", dtype=float32)\n",
      "Tensor(\"gradients/pow_2_grad/Reshape:0\", dtype=float32)\n",
      "6.0\n",
      "8.0\n"
     ]
    }
   ],
   "source": [
    "print(my_scalar)\n",
    "print(scalar_squared)\n",
    "print(derivative)\n",
    "print(derivative.eval({my_scalar:3}))\n",
    "print(derivative.eval({my_scalar:4}))"
   ]
  },
  {
   "cell_type": "code",
   "execution_count": 27,
   "metadata": {
    "collapsed": false
   },
   "outputs": [
    {
     "name": "stdout",
     "output_type": "stream",
     "text": [
      "[-3.         -2.87755102 -2.75510204 -2.63265306 -2.51020408 -2.3877551\n",
      " -2.26530612 -2.14285714 -2.02040816 -1.89795918 -1.7755102  -1.65306122\n",
      " -1.53061224 -1.40816327 -1.28571429 -1.16326531 -1.04081633 -0.91836735\n",
      " -0.79591837 -0.67346939 -0.55102041 -0.42857143 -0.30612245 -0.18367347\n",
      " -0.06122449  0.06122449  0.18367347  0.30612245  0.42857143  0.55102041\n",
      "  0.67346939  0.79591837  0.91836735  1.04081633  1.16326531  1.28571429\n",
      "  1.40816327  1.53061224  1.65306122  1.7755102   1.89795918  2.02040816\n",
      "  2.14285714  2.26530612  2.3877551   2.51020408  2.63265306  2.75510204\n",
      "  2.87755102  3.        ]\n"
     ]
    }
   ],
   "source": [
    "x = np.linspace(-3, 3)\n",
    "print(x)"
   ]
  },
  {
   "cell_type": "code",
   "execution_count": 28,
   "metadata": {
    "collapsed": false
   },
   "outputs": [
    {
     "data": {
      "image/png": "[encoded data removed]",
      "text/plain": [
       "<matplotlib.figure.Figure at 0x7f2c541cc908>"
      ]
     },
     "metadata": {},
     "output_type": "display_data"
    }
   ],
   "source": [
    "import matplotlib.pyplot as plt\n",
    "%matplotlib inline\n",
    "\n",
    "x = np.linspace(-3,3)\n",
    "x_squared, x_squared_der = s.run([scalar_squared, derivative],\n",
    "                                 {my_scalar:x})\n",
    "\n",
    "plt.plot(x, x_squared,label=\"x^2\")\n",
    "plt.plot(x, x_squared_der, label=\"derivative\")\n",
    "plt.legend();"
   ]
  },
  {
   "cell_type": "markdown",
   "metadata": {},
   "source": [
    "# Why that rocks"
   ]
  },
  {
   "cell_type": "code",
   "execution_count": 29,
   "metadata": {
    "collapsed": true
   },
   "outputs": [],
   "source": [
    "my_vector = tf.placeholder('float32',[None])\n",
    "\n",
    "#Compute the gradient of the next weird function over my_scalar and my_vector\n",
    "#warning! Trying to understand the meaning of that function may result in permanent brain damage\n",
    "\n",
    "weird_psychotic_function = tf.reduce_mean((my_vector+my_scalar)**(1+tf.nn.moments(my_vector,[0])[1]) + 1./ tf.atan(my_scalar))/(my_scalar**2 + 1) + 0.01*tf.sin(2*my_scalar**1.5)*(tf.reduce_sum(my_vector)* my_scalar**2)*tf.exp((my_scalar-4)**2)/(1+tf.exp((my_scalar-4)**2))*(1.-(tf.exp(-(my_scalar-4)**2))/(1+tf.exp(-(my_scalar-4)**2)))**2\n",
    "\n",
    "#der_by_scalar = <student.compute_grad_over_scalar()>\n",
    "#der_by_vector = <student.compute_grad_over_vector()>"
   ]
  },
  {
   "cell_type": "code",
   "execution_count": 30,
   "metadata": {
    "collapsed": true
   },
   "outputs": [],
   "source": [
    "#a derivative of scalar_squared by my_scalar\n",
    "der_by_scalar = tf.gradients(weird_psychotic_function, my_scalar)[0]\n",
    "der_by_vector = tf.gradients(weird_psychotic_function, my_vector)[0]"
   ]
  },
  {
   "cell_type": "code",
   "execution_count": 31,
   "metadata": {
    "collapsed": false
   },
   "outputs": [
    {
     "data": {
      "image/png": "[encoded data removed]",
      "text/plain": [
       "<matplotlib.figure.Figure at 0x7f2c300a1f98>"
      ]
     },
     "metadata": {},
     "output_type": "display_data"
    }
   ],
   "source": [
    "#Plotting your derivative\n",
    "scalar_space = np.linspace(1, 7, 100)\n",
    "\n",
    "y = [s.run(weird_psychotic_function, {my_scalar:x, my_vector:[1, 2, 3]})\n",
    "     for x in scalar_space]\n",
    "\n",
    "plt.plot(scalar_space, y, label='function')\n",
    "\n",
    "y_der_by_scalar = [s.run(der_by_scalar, {my_scalar:x, my_vector:[1, 2, 3]})\n",
    "     for x in scalar_space]\n",
    "\n",
    "plt.plot(scalar_space, y_der_by_scalar, label='derivative')\n",
    "plt.grid()\n",
    "plt.legend();"
   ]
  },
  {
   "cell_type": "markdown",
   "metadata": {},
   "source": [
    "# Almost done - optimizers\n",
    "\n",
    "While you can perform gradient descent by hand with automatic grads from above, tensorflow also has some optimization methods implemented for you. Recall momentum & rmsprop?"
   ]
  },
  {
   "cell_type": "code",
   "execution_count": 32,
   "metadata": {
    "collapsed": false
   },
   "outputs": [
    {
     "name": "stdout",
     "output_type": "stream",
     "text": [
      "[0. 0.]\n",
      "[1 2]\n",
      "[-0.34002716  0.2366729 ]\n"
     ]
    }
   ],
   "source": [
    "print(np.zeros(2))\n",
    "print(np.arange(1,3))\n",
    "print(np.random.randn(2))"
   ]
  },
  {
   "cell_type": "code",
   "execution_count": 33,
   "metadata": {
    "collapsed": false
   },
   "outputs": [
    {
     "name": "stdout",
     "output_type": "stream",
     "text": [
      "name: \"Momentum\"\n",
      "op: \"NoOp\"\n",
      "input: \"^Momentum/update_Variable_1/ApplyMomentum\"\n",
      "\n"
     ]
    }
   ],
   "source": [
    "y_guess = tf.Variable(np.zeros(2,dtype='float32'))\n",
    "y_true = tf.range(1,3,dtype='float32')\n",
    "\n",
    "loss = tf.reduce_mean((y_guess - y_true + tf.random_normal([2]))**2) \n",
    "\n",
    "optimizer = tf.train.MomentumOptimizer(0.01, 0.9).minimize(loss, var_list=y_guess)\n",
    "\n",
    "#same, but more detailed:\n",
    "#updates = [[tf.gradients(loss, y_guess)[0], y_guess]]\n",
    "#optimizer = tf.train.MomentumOptimizer(0.01,0.9).apply_gradients(updates)\n",
    "\n",
    "print(optimizer)\n",
    "#tf.train.MomentumOptimizer()"
   ]
  },
  {
   "cell_type": "code",
   "execution_count": 34,
   "metadata": {
    "collapsed": false
   },
   "outputs": [
    {
     "data": {
      "image/png": "[encoded data removed]",
      "text/plain": [
       "<matplotlib.figure.Figure at 0x7f2c33ff04e0>"
      ]
     },
     "metadata": {},
     "output_type": "display_data"
    }
   ],
   "source": [
    "from IPython.display import clear_output\n",
    "\n",
    "s.run(tf.global_variables_initializer())\n",
    "\n",
    "guesses = [s.run(y_guess)]\n",
    "\n",
    "for _ in range(100):\n",
    "    s.run(optimizer)\n",
    "    guesses.append(s.run(y_guess))\n",
    "    \n",
    "    clear_output(True)\n",
    "    plt.plot(*zip(*guesses),marker='.')\n",
    "    plt.scatter(*s.run(y_true),c='red')\n",
    "    plt.show()"
   ]
  },
  {
   "cell_type": "markdown",
   "metadata": {},
   "source": [
    "# Logistic regression example\n",
    "Implement the regular logistic regression training algorithm\n",
    "\n",
    "Tips:\n",
    "* Use a shared variable for weights\n",
    "* X and y are potential inputs\n",
    "* Compile 2 functions:\n",
    " * `train_function(X, y)` - returns error and computes weights' new values __(through updates)__\n",
    " * `predict_fun(X)` - just computes probabilities (\"y\") given data\n",
    " \n",
    " \n",
    "We shall train on a two-class MNIST dataset\n",
    "* please note that target `y` are `{0,1}` and not `{-1,1}` as in some formulae"
   ]
  },
  {
   "cell_type": "code",
   "execution_count": 35,
   "metadata": {
    "collapsed": false
   },
   "outputs": [
    {
     "name": "stdout",
     "output_type": "stream",
     "text": [
      "y [shape - (360,)]: [0 1 0 1 0 1 0 0 1 1]\n",
      "X [shape - (360, 64)]:\n"
     ]
    }
   ],
   "source": [
    "from sklearn.datasets import load_digits\n",
    "mnist = load_digits(2)\n",
    "\n",
    "X,y = mnist.data, mnist.target\n",
    "\n",
    "print(\"y [shape - %s]:\" % (str(y.shape)), y[:10])\n",
    "print(\"X [shape - %s]:\" % (str(X.shape)))"
   ]
  },
  {
   "cell_type": "code",
   "execution_count": 36,
   "metadata": {
    "collapsed": false
   },
   "outputs": [
    {
     "name": "stdout",
     "output_type": "stream",
     "text": [
      "(360, 64)\n",
      "(360,)\n",
      "1\n",
      "182\n",
      "178\n"
     ]
    },
    {
     "data": {
      "image/png": "[encoded data removed]",
      "text/plain": [
       "<matplotlib.figure.Figure at 0x7f2c2e6eec88>"
      ]
     },
     "metadata": {},
     "output_type": "display_data"
    }
   ],
   "source": [
    "print(X.shape)\n",
    "print(y.shape)\n",
    "plt.imshow(X[50].reshape([8,8]), cmap='gray')\n",
    "print(y[3])\n",
    "print(np.sum(y == 1))\n",
    "print(np.sum(y == 0))"
   ]
  },
  {
   "cell_type": "code",
   "execution_count": 37,
   "metadata": {
    "collapsed": false
   },
   "outputs": [
    {
     "name": "stdout",
     "output_type": "stream",
     "text": [
      "X:\n",
      " [[ 0.  0.  5. 13.  9.  1.  0.  0.  0.  0.]\n",
      " [ 0.  0.  0. 12. 13.  5.  0.  0.  0.  0.]\n",
      " [ 0.  0.  1.  9. 15. 11.  0.  0.  0.  0.]]\n",
      "y:\n",
      " [0 1 0 1 0 1 0 0 1 1]\n"
     ]
    },
    {
     "data": {
      "text/plain": [
       "<matplotlib.image.AxesImage at 0x7f2c2eb6b4a8>"
      ]
     },
     "execution_count": 37,
     "metadata": {},
     "output_type": "execute_result"
    },
    {
     "data": {
      "image/png": "[encoded data removed]",
      "text/plain": [
       "<matplotlib.figure.Figure at 0x7f2c341238d0>"
      ]
     },
     "metadata": {},
     "output_type": "display_data"
    }
   ],
   "source": [
    "print('X:\\n',X[:3,:10])\n",
    "print('y:\\n',y[:10])\n",
    "plt.imshow(X[0].reshape([8,8]))"
   ]
  },
  {
   "cell_type": "code",
   "execution_count": 38,
   "metadata": {
    "collapsed": false
   },
   "outputs": [
    {
     "name": "stdout",
     "output_type": "stream",
     "text": [
      "[ 1.24102583  1.33229747 -0.02974304  0.54551893 -2.04860563  1.16697489\n",
      "  0.30249085 -1.10303971 -0.12600425  0.82140067 -0.58321858  0.57083155\n",
      " -0.83086428  0.31681855 -0.39573612  1.58989998 -0.13828303 -0.28526706\n",
      "  0.89622399  1.75751858 -0.48900217  0.27432546 -0.06222185  1.73264823\n",
      " -1.2411624   0.6886384   1.20913807  0.78536579  1.13350957  2.02973162\n",
      " -1.71168581 -0.42787553 -0.28746953  1.15804538  1.88273785  0.04701926\n",
      "  0.07265437  0.3611458  -0.31108932  0.68468586  1.27948779  1.60415894\n",
      " -0.87186554  1.22369815 -1.55215296 -0.40394942  0.06998123  1.739028\n",
      " -1.26085381 -0.23552705  0.87743689 -0.07144262  0.73642036  0.5606369\n",
      " -1.73051229  0.73255924  0.60699839 -2.27149968 -1.09472199 -0.8860759\n",
      " -0.04072338 -2.16614047  0.45242062 -1.78041085]\n"
     ]
    }
   ],
   "source": [
    "print(np.random.randn(64))"
   ]
  },
  {
   "cell_type": "code",
   "execution_count": 39,
   "metadata": {
    "collapsed": false
   },
   "outputs": [
    {
     "name": "stdout",
     "output_type": "stream",
     "text": [
      "Tensor(\"Placeholder_4:0\", shape=(?, 64), dtype=float32)\n",
      "Tensor(\"Placeholder_5:0\", shape=(?,), dtype=uint8)\n",
      "<tf.Variable 'Variable_2:0' shape=(64, 2) dtype=float32_ref>\n"
     ]
    }
   ],
   "source": [
    "# inputs and shareds\n",
    "#weights = <student.code_variable()>\n",
    "#input_X = <student.code_placeholder()>\n",
    "#input_y = <student.code_placeholder()>\n",
    "\n",
    "#input_X = tf.placeholder('int8',shape=(8, 8))\n",
    "#weights = tf.Variable(initial_value=np.random.randn(64, 2), dtype='float32')\n",
    "weights = tf.Variable(initial_value=np.zeros([64, 2]), dtype='float32')\n",
    "input_X = tf.placeholder('float32',shape=(None, 64))\n",
    "input_y = tf.placeholder('uint8', shape=(None,))\n",
    "\n",
    "print(input_X)\n",
    "print(input_y)\n",
    "print(weights)"
   ]
  },
  {
   "cell_type": "code",
   "execution_count": 40,
   "metadata": {
    "collapsed": false
   },
   "outputs": [
    {
     "name": "stdout",
     "output_type": "stream",
     "text": [
      "Tensor(\"Softmax:0\", shape=(?, 2), dtype=float32)\n",
      "Tensor(\"ArgMax:0\", shape=(?,), dtype=int64)\n",
      "Tensor(\"one_hot:0\", shape=(?, 2), dtype=float32)\n",
      "Tensor(\"Neg_2:0\", shape=(), dtype=float32)\n",
      "name: \"GradientDescent\"\n",
      "op: \"NoOp\"\n",
      "input: \"^GradientDescent/update_Variable_2/ApplyGradientDescent\"\n",
      "\n"
     ]
    }
   ],
   "source": [
    "\n",
    "#predicted_y = <predicted probabilities for input_X>\n",
    "#loss = <logistic loss (scalar, mean over sample)>\n",
    "#optimizer = <optimizer that minimizes loss>\n",
    "\n",
    "predicted_y = tf.nn.softmax(tf.matmul(input_X, weights))\n",
    "print(predicted_y)\n",
    "\n",
    "predictions = tf.argmax(predicted_y, axis=1)\n",
    "print(predictions)\n",
    "\n",
    "y_onehot = tf.one_hot(input_y, 2, dtype='float32')\n",
    "print(y_onehot)\n",
    "\n",
    "#loss = tf.reduce_mean((predicted_y - y_onehot)**2)\n",
    "#print(loss)\n",
    "\n",
    "loss = - tf.reduce_mean(y_onehot * tf.log(predicted_y + 1e-10))\n",
    "print(loss)\n",
    "\n",
    "#optimizer = tf.train.MomentumOptimizer(0.001, 0.9).minimize(loss)\n",
    "optimizer = tf.train.GradientDescentOptimizer(0.01).minimize(loss)\n",
    "print(optimizer)\n",
    "\n",
    "#s.run(tf.global_variables_initializer())\n",
    "\n",
    "#print(y.shape)\n",
    "#print(y[0:4])\n",
    "#print(y_onehot.eval({input_y: y}))\n",
    "\n",
    "#print(tf.one_hot(y, 2))\n",
    "#print(X.shape)\n",
    "#predicted_y.eval({input_X: X})"
   ]
  },
  {
   "cell_type": "code",
   "execution_count": 41,
   "metadata": {
    "collapsed": false
   },
   "outputs": [
    {
     "ename": "SyntaxError",
     "evalue": "invalid syntax (<ipython-input-41-5323dd4ca3bc>, line 1)",
     "output_type": "error",
     "traceback": [
      "\u001b[0;36m  File \u001b[0;32m\"<ipython-input-41-5323dd4ca3bc>\"\u001b[0;36m, line \u001b[0;32m1\u001b[0m\n\u001b[0;31m    train_function = <compile function that takes X and y, returns log loss and updates weights>\u001b[0m\n\u001b[0m                     ^\u001b[0m\n\u001b[0;31mSyntaxError\u001b[0m\u001b[0;31m:\u001b[0m invalid syntax\n"
     ]
    }
   ],
   "source": [
    "train_function = <compile function that takes X and y, returns log loss and updates weights>\n",
    "predict_function = <compile function that takes X and computes probabilities of y>"
   ]
  },
  {
   "cell_type": "code",
   "execution_count": 42,
   "metadata": {
    "collapsed": true
   },
   "outputs": [],
   "source": [
    "from sklearn.utils import shuffle\n",
    "\n",
    "def train_function(X, y):\n",
    "    num_samples = X.shape[0]\n",
    "    batch_size = 20\n",
    "    X, y = shuffle(X, y)\n",
    "    \n",
    "    losses = []\n",
    "    for i in range(0, num_samples, batch_size):\n",
    "        end = min(i + batch_size, num_samples)\n",
    "        #print(i, end)\n",
    "        batch_xs, batch_ys = X[i:end], y[i:end]\n",
    "        # Run optimization op (backprop) and cost op (to get loss value)\n",
    "        _, l = sess.run([optimizer, loss], feed_dict={input_X: batch_xs, input_y: batch_ys})\n",
    "        losses.append(l)\n",
    "        #print(l)\n",
    "        \n",
    "    return np.mean(losses)"
   ]
  },
  {
   "cell_type": "code",
   "execution_count": 43,
   "metadata": {
    "collapsed": true
   },
   "outputs": [],
   "source": [
    "def predict_function(X):\n",
    "    preds = sess.run([predictions], feed_dict={input_X: X})\n",
    "    #print(type(preds))\n",
    "    return(np.array(preds).reshape(-1,))\n"
   ]
  },
  {
   "cell_type": "code",
   "execution_count": 44,
   "metadata": {
    "collapsed": false
   },
   "outputs": [
    {
     "name": "stdout",
     "output_type": "stream",
     "text": [
      "0.11133679\n",
      "0.0049201148\n",
      "0.0039170757\n",
      "0.0031855511\n",
      "0.0028343203\n",
      "0.0024845442\n",
      "0.0022276375\n",
      "0.0020189178\n",
      "0.0019010337\n",
      "0.0017613947\n",
      "Optimization Finished!\n"
     ]
    }
   ],
   "source": [
    "# Initialize the variables (i.e. assign their default value)\n",
    "init = tf.global_variables_initializer()\n",
    "\n",
    "# Start training\n",
    "with tf.Session() as sess:\n",
    "    # Run the initializer\n",
    "    sess.run(init)\n",
    "\n",
    "    # Training cycle\n",
    "    for epoch in range(10):\n",
    "        # Loop over all batches\n",
    "        mean_loss = train_function(X, y)\n",
    "        print(mean_loss)\n",
    "\n",
    "print(\"Optimization Finished!\")\n"
   ]
  },
  {
   "cell_type": "code",
   "execution_count": 45,
   "metadata": {
    "collapsed": true
   },
   "outputs": [],
   "source": [
    "from sklearn.model_selection import train_test_split\n",
    "X_train, X_test, y_train, y_test = train_test_split(X, y)"
   ]
  },
  {
   "cell_type": "code",
   "execution_count": 46,
   "metadata": {
    "collapsed": false
   },
   "outputs": [
    {
     "name": "stdout",
     "output_type": "stream",
     "text": [
      "(270,)\n"
     ]
    }
   ],
   "source": [
    "print(y_train.shape)"
   ]
  },
  {
   "cell_type": "code",
   "execution_count": 47,
   "metadata": {
    "collapsed": false
   },
   "outputs": [
    {
     "name": "stdout",
     "output_type": "stream",
     "text": [
      "loss at iter 0:0.0599\n",
      "train auc: 1.0\n",
      "test auc: 1.0\n",
      "loss at iter 1:0.0094\n",
      "train auc: 1.0\n",
      "test auc: 1.0\n",
      "loss at iter 2:0.0066\n",
      "train auc: 1.0\n",
      "test auc: 1.0\n",
      "loss at iter 3:0.0049\n",
      "train auc: 1.0\n",
      "test auc: 1.0\n",
      "loss at iter 4:0.0041\n",
      "train auc: 1.0\n",
      "test auc: 1.0\n",
      "resulting weights:\n",
      "[[ 0.00000000e+00  0.00000000e+00]\n",
      " [ 2.53529230e-04 -2.53529026e-04]\n",
      " [ 2.68634548e-03 -2.68634711e-03]\n",
      " [ 1.82011388e-02 -1.82011444e-02]\n",
      " [ 5.77742793e-03 -5.77743025e-03]\n",
      " [-2.67137885e-02  2.67137904e-02]\n",
      " [-8.38384684e-03  8.38384684e-03]\n",
      " [ 0.00000000e+00  0.00000000e+00]\n",
      " [ 0.00000000e+00  0.00000000e+00]\n",
      " [ 3.50581319e-03 -3.50581249e-03]\n",
      " [ 2.25761458e-02 -2.25761533e-02]\n",
      " [ 4.27318877e-03 -4.27319016e-03]\n",
      " [-1.41926073e-02  1.41926054e-02]\n",
      " [ 1.24937471e-03 -1.24937762e-03]\n",
      " [-4.50545084e-03  4.50545130e-03]\n",
      " [ 0.00000000e+00  0.00000000e+00]\n",
      " [-6.04153145e-04  6.04153087e-04]\n",
      " [-2.13793502e-03  2.13793525e-03]\n",
      " [ 1.63040403e-02 -1.63040552e-02]\n",
      " [-3.98146026e-02  3.98145989e-02]\n",
      " [-5.50677180e-02  5.50677255e-02]\n",
      " [ 1.34321284e-02 -1.34321256e-02]\n",
      " [ 5.99655043e-03 -5.99655276e-03]\n",
      " [ 0.00000000e+00  0.00000000e+00]\n",
      " [-3.02076573e-04  3.02076543e-04]\n",
      " [ 6.15172321e-03 -6.15172461e-03]\n",
      " [ 1.28923142e-02 -1.28923198e-02]\n",
      " [-3.99627723e-02  3.99627760e-02]\n",
      " [-5.31294718e-02  5.31294644e-02]\n",
      " [ 1.06675699e-02 -1.06675755e-02]\n",
      " [ 1.88341253e-02 -1.88341253e-02]\n",
      " [ 0.00000000e+00  0.00000000e+00]\n",
      " [ 0.00000000e+00  0.00000000e+00]\n",
      " [ 1.68299116e-02 -1.68299191e-02]\n",
      " [ 2.46406291e-02 -2.46406235e-02]\n",
      " [-3.56157310e-02  3.56157236e-02]\n",
      " [-5.01986332e-02  5.01986369e-02]\n",
      " [ 1.24431113e-02 -1.24431187e-02]\n",
      " [ 2.23038867e-02 -2.23038886e-02]\n",
      " [ 0.00000000e+00  0.00000000e+00]\n",
      " [ 0.00000000e+00  0.00000000e+00]\n",
      " [ 1.09279444e-02 -1.09279407e-02]\n",
      " [ 3.54063064e-02 -3.54063027e-02]\n",
      " [-2.67684385e-02  2.67684329e-02]\n",
      " [-3.46991904e-02  3.46991941e-02]\n",
      " [ 1.68916285e-02 -1.68916322e-02]\n",
      " [ 1.80915799e-02 -1.80915929e-02]\n",
      " [ 0.00000000e+00  0.00000000e+00]\n",
      " [ 0.00000000e+00  0.00000000e+00]\n",
      " [ 2.03727512e-03 -2.03727465e-03]\n",
      " [ 3.09528671e-02 -3.09528839e-02]\n",
      " [ 4.92394529e-03 -4.92394669e-03]\n",
      " [-2.04224512e-03  2.04224209e-03]\n",
      " [ 1.40731465e-02 -1.40731530e-02]\n",
      " [-4.15313197e-03  4.15313197e-03]\n",
      " [-2.97232880e-03  2.97232834e-03]\n",
      " [ 0.00000000e+00  0.00000000e+00]\n",
      " [ 3.78746404e-06 -3.78752270e-06]\n",
      " [ 3.95307178e-03 -3.95307411e-03]\n",
      " [ 2.05495413e-02 -2.05495562e-02]\n",
      " [ 1.79190713e-03 -1.79191027e-03]\n",
      " [-2.20203511e-02  2.20203456e-02]\n",
      " [-1.75341889e-02  1.75341889e-02]\n",
      " [-7.52336672e-03  7.52336439e-03]]\n"
     ]
    },
    {
     "data": {
      "image/png": "[encoded data removed]",
      "text/plain": [
       "<matplotlib.figure.Figure at 0x7f2c2d6b2978>"
      ]
     },
     "metadata": {},
     "output_type": "display_data"
    }
   ],
   "source": [
    "from sklearn.metrics import roc_auc_score\n",
    "\n",
    "init = tf.global_variables_initializer()\n",
    "\n",
    "# Start training\n",
    "with tf.Session() as sess:\n",
    "    # Run the initializer\n",
    "    sess.run(init)\n",
    "\n",
    "    for i in range(5):\n",
    "        #<run optimizer operation>\n",
    "        #loss_i = <compute loss at iteration i>\n",
    "        loss_i = train_function(X_train, y_train)\n",
    "\n",
    "        print(\"loss at iter %i:%.4f\" % (i, loss_i))\n",
    "        \n",
    "        #print(y_train.shape)\n",
    "        #preds = predict_function(X_train)\n",
    "        #print(preds.shape)\n",
    "        #print(preds[0:100])\n",
    "        #print(y_train[0:100])\n",
    "        #print(y_test.shape)\n",
    "        \n",
    "        print(\"train auc:\",roc_auc_score(y_train, predict_function(X_train)))\n",
    "        print(\"test auc:\",roc_auc_score(y_test, predict_function(X_test)))\n",
    "\n",
    "    \n",
    "    print (\"resulting weights:\")\n",
    "    #weights.\n",
    "    print(sess.run(weights))\n",
    "    plt.imshow(sess.run(weights).reshape(8, -1))\n",
    "    plt.colorbar();"
   ]
  },
  {
   "cell_type": "markdown",
   "metadata": {},
   "source": [
    "# Bonus: my1stNN\n",
    "Your ultimate task for this week is to build your first neural network [almost] from scratch and pure tensorflow.\n",
    "\n",
    "This time you will same digit recognition problem, but at a larger scale\n",
    "* images are now 28x28\n",
    "* 10 different digits\n",
    "* 50k samples\n",
    "\n",
    "Note that you are not required to build 152-layer monsters here. A 2-layer (one hidden, one output) NN should already have ive you an edge over logistic regression.\n",
    "\n",
    "__[bonus score]__\n",
    "If you've already beaten logistic regression with a two-layer net, but enthusiasm still ain't gone, you can try improving the test accuracy even further! The milestones would be 95%/97.5%/98.5% accuraсy on test set.\n",
    "\n",
    "__SPOILER!__\n",
    "At the end of the notebook you will find a few tips and frequently made mistakes. If you feel enough might to shoot yourself in the foot without external assistance, we encourage you to do so, but if you encounter any unsurpassable issues, please do look there before mailing us."
   ]
  },
  {
   "cell_type": "code",
   "execution_count": 48,
   "metadata": {
    "collapsed": false
   },
   "outputs": [
    {
     "name": "stderr",
     "output_type": "stream",
     "text": [
      "Using TensorFlow backend.\n"
     ]
    },
    {
     "name": "stdout",
     "output_type": "stream",
     "text": [
      "(50000, 28, 28) (50000,)\n",
      "(10000, 28, 28) (10000,)\n"
     ]
    }
   ],
   "source": [
    "#from mnist import load_dataset\n",
    "from preprocessed_mnist import load_dataset\n",
    "\n",
    "#[down]loading the original MNIST dataset.\n",
    "#Please note that you should only train your NN on _train sample,\n",
    "# _val can be used to evaluate out-of-sample error, compare models or perform early-stopping\n",
    "# _test should be hidden under a rock untill final evaluation... But we both know it is near impossible to catch you evaluating on it.\n",
    "X_train,y_train,X_val,y_val,X_test,y_test = load_dataset()\n",
    "\n",
    "print (X_train.shape, y_train.shape)\n",
    "print (X_test.shape, y_test.shape)"
   ]
  },
  {
   "cell_type": "code",
   "execution_count": 49,
   "metadata": {
    "collapsed": false
   },
   "outputs": [
    {
     "name": "stdout",
     "output_type": "stream",
     "text": [
      "5\n"
     ]
    },
    {
     "data": {
      "image/png": "[encoded data removed]",
      "text/plain": [
       "<matplotlib.figure.Figure at 0x7f2c2d69fcf8>"
      ]
     },
     "metadata": {},
     "output_type": "display_data"
    }
   ],
   "source": [
    "plt.imshow(X_train[0])\n",
    "print(y_train[0])"
   ]
  },
  {
   "cell_type": "code",
   "execution_count": 50,
   "metadata": {
    "collapsed": false
   },
   "outputs": [
    {
     "name": "stdout",
     "output_type": "stream",
     "text": [
      "4932\n",
      "5678\n",
      "4968\n",
      "5101\n",
      "4859\n",
      "4506\n",
      "4951\n",
      "5175\n",
      "4842\n",
      "4988\n",
      "total:  50000\n",
      "784\n"
     ]
    }
   ],
   "source": [
    "sum = 0\n",
    "for i in range(10):\n",
    "    sum_i = np.sum(y_train == i)\n",
    "    sum += sum_i\n",
    "    print(sum_i)\n",
    "print(\"total: \", sum)\n",
    "print(28*28)"
   ]
  },
  {
   "cell_type": "code",
   "execution_count": 51,
   "metadata": {
    "collapsed": false
   },
   "outputs": [
    {
     "name": "stdout",
     "output_type": "stream",
     "text": [
      "(784,)\n",
      "50000\n",
      "784\n"
     ]
    }
   ],
   "source": [
    "print(X_train[0].reshape(-1,).shape)\n",
    "print(X_train.shape[0])\n",
    "print(X_train.shape[1] * X_train.shape[2])"
   ]
  },
  {
   "cell_type": "code",
   "execution_count": 52,
   "metadata": {
    "collapsed": false
   },
   "outputs": [
    {
     "name": "stdout",
     "output_type": "stream",
     "text": [
      "(50000, 784)\n",
      "(10000, 784)\n",
      "(10000, 784)\n"
     ]
    }
   ],
   "source": [
    "def flatten(X):\n",
    "    return X.reshape([X.shape[0], X.shape[1] * X.shape[2]])\n",
    "\n",
    "X_train = flatten(X_train)\n",
    "X_val = flatten(X_val)\n",
    "X_test = flatten(X_test)\n",
    "\n",
    "print(X_train.shape)\n",
    "print(X_val.shape)\n",
    "print(X_test.shape)"
   ]
  },
  {
   "cell_type": "code",
   "execution_count": 53,
   "metadata": {
    "collapsed": true
   },
   "outputs": [],
   "source": [
    "n_labels = 10\n",
    "n_pixels = 28 * 28 \n",
    "n_neurons = 200"
   ]
  },
  {
   "cell_type": "code",
   "execution_count": 54,
   "metadata": {
    "collapsed": false
   },
   "outputs": [
    {
     "name": "stdout",
     "output_type": "stream",
     "text": [
      "[[ 0.00162587 -0.01870118  0.01398498]\n",
      " [-0.01363686  0.00082639 -0.01141457]]\n"
     ]
    }
   ],
   "source": [
    "pipo = 0.01 * np.random.randn(2,3)\n",
    "print(pipo)"
   ]
  },
  {
   "cell_type": "code",
   "execution_count": 55,
   "metadata": {
    "collapsed": false
   },
   "outputs": [
    {
     "name": "stdout",
     "output_type": "stream",
     "text": [
      "Tensor(\"Placeholder_6:0\", shape=(?, 784), dtype=float32)\n",
      "Tensor(\"Placeholder_7:0\", shape=(?,), dtype=uint8)\n",
      "<tf.Variable 'Variable_9:0' shape=(784, 10) dtype=float32_ref>\n",
      "<tf.Variable 'Variable_3:0' shape=(784, 200) dtype=float32_ref>\n",
      "<tf.Variable 'Variable_4:0' shape=(200,) dtype=float32_ref>\n",
      "<tf.Variable 'Variable_5:0' shape=(200, 200) dtype=float32_ref>\n",
      "<tf.Variable 'Variable_6:0' shape=(200,) dtype=float32_ref>\n",
      "<tf.Variable 'Variable_7:0' shape=(200, 10) dtype=float32_ref>\n",
      "<tf.Variable 'Variable_8:0' shape=(10,) dtype=float32_ref>\n"
     ]
    }
   ],
   "source": [
    "# Neural Network setup\n",
    "#* np.sqrt(2.0/(784))\n",
    "sigma = 0.001\n",
    "sigma = 1e-6\n",
    "\n",
    "W1 = tf.Variable(initial_value = np.sqrt(1 / n_pixels) * np.random.randn(n_pixels, n_neurons), dtype='float32')\n",
    "b1 = tf.Variable(initial_value = np.zeros([n_neurons]), dtype='float32')\n",
    "\n",
    "W2 = tf.Variable(initial_value = np.sqrt(1 / n_neurons) * np.random.randn(n_neurons, n_neurons), dtype='float32')\n",
    "b2 = tf.Variable(initial_value = np.zeros([n_neurons]), dtype='float32')\n",
    "\n",
    "W = tf.Variable(initial_value = np.zeros([n_neurons, n_labels]), dtype='float32')\n",
    "b = tf.Variable(initial_value = np.zeros([n_labels]), dtype='float32')\n",
    "\n",
    "weights = tf.Variable(initial_value=np.zeros([n_pixels, n_labels]), dtype='float32')\n",
    "biases = tf.Variable(initial_value=np.zeros([n_labels]), dtype='float32')\n",
    "\n",
    "input_X = tf.placeholder('float32',shape=(None, n_pixels))\n",
    "input_y = tf.placeholder('uint8', shape=(None,))\n",
    "\n",
    "print(input_X)\n",
    "print(input_y)\n",
    "print(weights)\n",
    "\n",
    "print(W1)\n",
    "print(b1)\n",
    "print(W2)\n",
    "print(b2)\n",
    "print(W)\n",
    "print(b)"
   ]
  },
  {
   "cell_type": "code",
   "execution_count": 56,
   "metadata": {
    "collapsed": false
   },
   "outputs": [
    {
     "name": "stdout",
     "output_type": "stream",
     "text": [
      "Tensor(\"Softmax_1:0\", shape=(?, 10), dtype=float32)\n",
      "Tensor(\"ArgMax_1:0\", shape=(?,), dtype=int64)\n"
     ]
    }
   ],
   "source": [
    "#<here you could just as well create computation graph>\n",
    "\n",
    "predicted_y = tf.nn.softmax(tf.matmul(input_X, weights) + biases)\n",
    "print(predicted_y)\n",
    "predictions = tf.argmax(predicted_y, axis=1)\n",
    "print(predictions)"
   ]
  },
  {
   "cell_type": "code",
   "execution_count": 57,
   "metadata": {
    "collapsed": false
   },
   "outputs": [
    {
     "name": "stdout",
     "output_type": "stream",
     "text": [
      "Tensor(\"one_hot_1:0\", shape=(?, 10), dtype=float32)\n",
      "Tensor(\"Neg_3:0\", shape=(), dtype=float32)\n",
      "name: \"Adam\"\n",
      "op: \"NoOp\"\n",
      "input: \"^Adam/update_Variable_9/ApplyAdam\"\n",
      "input: \"^Adam/update_Variable_10/ApplyAdam\"\n",
      "input: \"^Adam/Assign\"\n",
      "input: \"^Adam/Assign_1\"\n",
      "\n"
     ]
    }
   ],
   "source": [
    "#<this may or may not be a good place to evaluating loss and optimizer>\n",
    "\n",
    "y_onehot = tf.one_hot(input_y, n_labels, dtype='float32')\n",
    "print(y_onehot)\n",
    "\n",
    "loss = - tf.reduce_mean(y_onehot * tf.log(predicted_y + 1e-10))\n",
    "print(loss)\n",
    "\n",
    "#optimizer = tf.train.MomentumOptimizer(0.001, 0.9).minimize(loss)\n",
    "#optimizer = tf.train.GradientDescentOptimizer(0.01).minimize(loss)\n",
    "optimizer = tf.train.AdamOptimizer(0.001).minimize(loss)\n",
    "print(optimizer)"
   ]
  },
  {
   "cell_type": "code",
   "execution_count": 58,
   "metadata": {
    "collapsed": false
   },
   "outputs": [
    {
     "name": "stdout",
     "output_type": "stream",
     "text": [
      "Tensor(\"Softmax_2:0\", shape=(?, 10), dtype=float32)\n",
      "Tensor(\"ArgMax_2:0\", shape=(?,), dtype=int64)\n",
      "Tensor(\"add_18:0\", shape=(), dtype=float32)\n",
      "name: \"Momentum_1\"\n",
      "op: \"NoOp\"\n",
      "input: \"^Momentum_1/update_Variable_3/ApplyMomentum\"\n",
      "input: \"^Momentum_1/update_Variable_4/ApplyMomentum\"\n",
      "input: \"^Momentum_1/update_Variable_5/ApplyMomentum\"\n",
      "input: \"^Momentum_1/update_Variable_6/ApplyMomentum\"\n",
      "input: \"^Momentum_1/update_Variable_7/ApplyMomentum\"\n",
      "input: \"^Momentum_1/update_Variable_8/ApplyMomentum\"\n",
      "\n"
     ]
    }
   ],
   "source": [
    "# Neural Network setup\n",
    "\n",
    "z1 = tf.matmul(input_X, W1) + b1\n",
    "z2 = tf.sigmoid(z1)\n",
    "\n",
    "z3 = tf.matmul(z2, W2) + b2\n",
    "z4 = tf.sigmoid(z3)\n",
    "\n",
    "nn_predicted_y = tf.nn.softmax(tf.matmul(z4, W) + b)\n",
    "print(nn_predicted_y)\n",
    "\n",
    "nn_predictions = tf.argmax(nn_predicted_y, axis=1)\n",
    "print(nn_predictions)\n",
    "\n",
    "nn_loss = - tf.reduce_mean(y_onehot * tf.log(nn_predicted_y + 1e-10))\n",
    "\n",
    "# L2 regularization added\n",
    "reg = tf.nn.l2_loss(W1) + tf.nn.l2_loss(W2)\n",
    "nn_loss = nn_loss + 1e-5 * reg\n",
    "\n",
    "print(nn_loss)\n",
    "\n",
    "nn_optimizer = tf.train.MomentumOptimizer(0.2, 0.95).minimize(nn_loss)\n",
    "#nn_optimizer = tf.train.GradientDescentOptimizer(0.01).minimize(nn_loss)\n",
    "#nn_optimizer = tf.train.AdamOptimizer(0.01).minimize(nn_loss)\n",
    "print(nn_optimizer)"
   ]
  },
  {
   "cell_type": "code",
   "execution_count": 59,
   "metadata": {
    "collapsed": true
   },
   "outputs": [],
   "source": [
    "#<this may be a perfect cell to write a training&evaluation loop in>"
   ]
  },
  {
   "cell_type": "code",
   "execution_count": 60,
   "metadata": {
    "collapsed": true
   },
   "outputs": [],
   "source": [
    "from sklearn.utils import shuffle\n",
    "\n",
    "def train_function(X, y):\n",
    "    num_samples = X.shape[0]\n",
    "    batch_size = 20\n",
    "    X, y = shuffle(X, y)\n",
    "    \n",
    "    losses = []\n",
    "    for i in range(0, num_samples, batch_size):\n",
    "        end = min(i + batch_size, num_samples)\n",
    "        #print(i, end)\n",
    "        batch_xs, batch_ys = X[i:end], y[i:end]\n",
    "        # Run optimization op (backprop) and cost op (to get loss value)\n",
    "        _, l = sess.run([optimizer, loss], feed_dict={input_X: batch_xs, input_y: batch_ys})\n",
    "        losses.append(l)\n",
    "        #print(l)\n",
    "        \n",
    "    return np.mean(losses)\n",
    "\n",
    "\n",
    "def predict_function(X):\n",
    "    preds = sess.run([predictions], feed_dict={input_X: X})\n",
    "    #print(type(preds))\n",
    "    return(np.array(preds).reshape(-1,))"
   ]
  },
  {
   "cell_type": "code",
   "execution_count": 61,
   "metadata": {
    "collapsed": true
   },
   "outputs": [],
   "source": [
    "def nn_train_function(X, y):\n",
    "    num_samples = X.shape[0]\n",
    "    batch_size = 256\n",
    "    X, y = shuffle(X, y)\n",
    "    \n",
    "    losses = []\n",
    "    for i in range(0, num_samples, batch_size):\n",
    "        end = min(i + batch_size, num_samples)\n",
    "        #print(i, end)\n",
    "        batch_xs, batch_ys = X[i:end], y[i:end]\n",
    "        # Run optimization op (backprop) and cost op (to get loss value)\n",
    "        _, l = sess.run([nn_optimizer, nn_loss], feed_dict={input_X: batch_xs, input_y: batch_ys})\n",
    "        losses.append(l)\n",
    "        #print(l)\n",
    "        \n",
    "    return np.mean(losses)\n",
    "\n",
    "\n",
    "def nn_predict_function(X):\n",
    "    preds = sess.run([nn_predictions], feed_dict={input_X: X})\n",
    "    #print(type(preds))\n",
    "    return(np.array(preds).reshape(-1,))"
   ]
  },
  {
   "cell_type": "code",
   "execution_count": 62,
   "metadata": {
    "collapsed": true
   },
   "outputs": [],
   "source": [
    "#<predict & evaluate on test here, right? No cheating pls.>"
   ]
  },
  {
   "cell_type": "code",
   "execution_count": 63,
   "metadata": {
    "collapsed": false
   },
   "outputs": [
    {
     "name": "stdout",
     "output_type": "stream",
     "text": [
      "\n",
      "loss at iter 0: 0.0453\n",
      "train accuracy:  0.9102\n",
      "val accuracy:  0.9161\n",
      "\n",
      "loss at iter 1: 0.0304\n",
      "train accuracy:  0.91936\n",
      "val accuracy:  0.921\n",
      "\n",
      "loss at iter 2: 0.0286\n",
      "train accuracy:  0.9248\n",
      "val accuracy:  0.927\n",
      "\n",
      "loss at iter 3: 0.0275\n",
      "train accuracy:  0.92684\n",
      "val accuracy:  0.9296\n",
      "\n",
      "loss at iter 4: 0.0269\n",
      "train accuracy:  0.92486\n",
      "val accuracy:  0.9289\n",
      "\n",
      "TEST ACCURACY:  0.9256\n"
     ]
    }
   ],
   "source": [
    "init = tf.global_variables_initializer()\n",
    "\n",
    "# Start training\n",
    "with tf.Session() as sess:\n",
    "    # Run the initializer\n",
    "    sess.run(init)\n",
    "\n",
    "    for i in range(5):\n",
    "        #<run optimizer operation>\n",
    "        #loss_i = <compute loss at iteration i>\n",
    "        loss_i = train_function(X_train, y_train)\n",
    "\n",
    "        print(\"\\nloss at iter %i: %.4f\" % (i, loss_i))\n",
    "        \n",
    "        preds = predict_function(X_train)\n",
    "        train_acc = np.sum(y_train == preds) / len(preds)\n",
    "        print(\"train accuracy: \", train_acc)\n",
    "        \n",
    "        preds = predict_function(X_val)\n",
    "        val_acc = np.sum(y_val == preds) / len(preds)\n",
    "        print(\"val accuracy: \", val_acc)\n",
    "            \n",
    "        #print(\"train auc:\",roc_auc_score(y_train, predict_function(X_train)))\n",
    "        #print(\"test auc:\",roc_auc_score(y_test, predict_function(X_test)))\n",
    "        \n",
    "    preds = predict_function(X_test)\n",
    "    test_acc = np.sum(y_test == preds) / len(preds)\n",
    "    print(\"\\nTEST ACCURACY: \", test_acc)"
   ]
  },
  {
   "cell_type": "code",
   "execution_count": 64,
   "metadata": {
    "collapsed": false
   },
   "outputs": [
    {
     "name": "stdout",
     "output_type": "stream",
     "text": [
      "\n",
      "loss at iter 0: 0.2190\n",
      "train accuracy:  0.59848\n",
      "val accuracy:  0.6193\n",
      "\n",
      "loss at iter 1: 0.0905\n",
      "train accuracy:  0.82846\n",
      "val accuracy:  0.8437\n",
      "\n",
      "loss at iter 2: 0.0504\n",
      "train accuracy:  0.88048\n",
      "val accuracy:  0.8876\n",
      "\n",
      "loss at iter 3: 0.0414\n",
      "train accuracy:  0.89678\n",
      "val accuracy:  0.9028\n",
      "\n",
      "loss at iter 4: 0.0377\n",
      "train accuracy:  0.90642\n",
      "val accuracy:  0.9128\n",
      "\n",
      "loss at iter 5: 0.0353\n",
      "train accuracy:  0.91174\n",
      "val accuracy:  0.919\n",
      "\n",
      "loss at iter 6: 0.0335\n",
      "train accuracy:  0.91612\n",
      "val accuracy:  0.9207\n",
      "\n",
      "loss at iter 7: 0.0315\n",
      "train accuracy:  0.92202\n",
      "val accuracy:  0.9258\n",
      "\n",
      "loss at iter 8: 0.0299\n",
      "train accuracy:  0.92644\n",
      "val accuracy:  0.9323\n",
      "\n",
      "loss at iter 9: 0.0287\n",
      "train accuracy:  0.9292\n",
      "val accuracy:  0.9339\n",
      "\n",
      "loss at iter 10: 0.0273\n",
      "train accuracy:  0.93186\n",
      "val accuracy:  0.9381\n",
      "\n",
      "loss at iter 11: 0.0260\n",
      "train accuracy:  0.935\n",
      "val accuracy:  0.94\n",
      "\n",
      "loss at iter 12: 0.0250\n",
      "train accuracy:  0.9397\n",
      "val accuracy:  0.9427\n",
      "\n",
      "loss at iter 13: 0.0237\n",
      "train accuracy:  0.94326\n",
      "val accuracy:  0.9473\n",
      "\n",
      "loss at iter 14: 0.0227\n",
      "train accuracy:  0.94714\n",
      "val accuracy:  0.9529\n",
      "\n",
      "loss at iter 15: 0.0220\n",
      "train accuracy:  0.94636\n",
      "val accuracy:  0.951\n",
      "\n",
      "loss at iter 16: 0.0210\n",
      "train accuracy:  0.95152\n",
      "val accuracy:  0.9549\n",
      "\n",
      "loss at iter 17: 0.0202\n",
      "train accuracy:  0.95348\n",
      "val accuracy:  0.9574\n",
      "\n",
      "loss at iter 18: 0.0195\n",
      "train accuracy:  0.95606\n",
      "val accuracy:  0.9583\n",
      "\n",
      "loss at iter 19: 0.0192\n",
      "train accuracy:  0.95508\n",
      "val accuracy:  0.9575\n",
      "\n",
      "loss at iter 20: 0.0186\n",
      "train accuracy:  0.95954\n",
      "val accuracy:  0.9609\n",
      "\n",
      "loss at iter 21: 0.0177\n",
      "train accuracy:  0.96126\n",
      "val accuracy:  0.9599\n",
      "\n",
      "loss at iter 22: 0.0174\n",
      "train accuracy:  0.96242\n",
      "val accuracy:  0.9632\n",
      "\n",
      "loss at iter 23: 0.0169\n",
      "train accuracy:  0.9647\n",
      "val accuracy:  0.9645\n",
      "\n",
      "loss at iter 24: 0.0162\n",
      "train accuracy:  0.96566\n",
      "val accuracy:  0.9644\n",
      "\n",
      "loss at iter 25: 0.0158\n",
      "train accuracy:  0.96658\n",
      "val accuracy:  0.9653\n",
      "\n",
      "loss at iter 26: 0.0156\n",
      "train accuracy:  0.96904\n",
      "val accuracy:  0.9654\n",
      "\n",
      "loss at iter 27: 0.0151\n",
      "train accuracy:  0.96812\n",
      "val accuracy:  0.9667\n",
      "\n",
      "loss at iter 28: 0.0147\n",
      "train accuracy:  0.9703\n",
      "val accuracy:  0.9674\n",
      "\n",
      "loss at iter 29: 0.0144\n",
      "train accuracy:  0.97198\n",
      "val accuracy:  0.9679\n",
      "\n",
      "loss at iter 30: 0.0140\n",
      "train accuracy:  0.97084\n",
      "val accuracy:  0.9669\n",
      "\n",
      "loss at iter 31: 0.0139\n",
      "train accuracy:  0.97422\n",
      "val accuracy:  0.9688\n",
      "\n",
      "loss at iter 32: 0.0134\n",
      "train accuracy:  0.9761\n",
      "val accuracy:  0.9697\n",
      "\n",
      "loss at iter 33: 0.0132\n",
      "train accuracy:  0.97432\n",
      "val accuracy:  0.9694\n",
      "\n",
      "loss at iter 34: 0.0130\n",
      "train accuracy:  0.97606\n",
      "val accuracy:  0.9688\n",
      "\n",
      "loss at iter 35: 0.0127\n",
      "train accuracy:  0.97834\n",
      "val accuracy:  0.9723\n",
      "\n",
      "loss at iter 36: 0.0126\n",
      "train accuracy:  0.97694\n",
      "val accuracy:  0.9703\n",
      "\n",
      "loss at iter 37: 0.0123\n",
      "train accuracy:  0.9778\n",
      "val accuracy:  0.9714\n",
      "\n",
      "loss at iter 38: 0.0122\n",
      "train accuracy:  0.97968\n",
      "val accuracy:  0.9723\n",
      "\n",
      "loss at iter 39: 0.0119\n",
      "train accuracy:  0.97848\n",
      "val accuracy:  0.9699\n",
      "\n",
      "loss at iter 40: 0.0117\n",
      "train accuracy:  0.98002\n",
      "val accuracy:  0.9714\n",
      "\n",
      "loss at iter 41: 0.0115\n",
      "train accuracy:  0.98186\n",
      "val accuracy:  0.9734\n",
      "\n",
      "loss at iter 42: 0.0112\n",
      "train accuracy:  0.98058\n",
      "val accuracy:  0.972\n",
      "\n",
      "loss at iter 43: 0.0112\n",
      "train accuracy:  0.98208\n",
      "val accuracy:  0.9733\n",
      "\n",
      "loss at iter 44: 0.0109\n",
      "train accuracy:  0.9831\n",
      "val accuracy:  0.9732\n",
      "\n",
      "loss at iter 45: 0.0108\n",
      "train accuracy:  0.98406\n",
      "val accuracy:  0.9736\n",
      "\n",
      "loss at iter 46: 0.0106\n",
      "train accuracy:  0.98476\n",
      "val accuracy:  0.9738\n",
      "\n",
      "loss at iter 47: 0.0105\n",
      "train accuracy:  0.98546\n",
      "val accuracy:  0.9751\n",
      "\n",
      "loss at iter 48: 0.0103\n",
      "train accuracy:  0.98386\n",
      "val accuracy:  0.9729\n",
      "\n",
      "loss at iter 49: 0.0102\n",
      "train accuracy:  0.98672\n",
      "val accuracy:  0.9746\n",
      "\n",
      "loss at iter 50: 0.0100\n",
      "train accuracy:  0.98668\n",
      "val accuracy:  0.9753\n",
      "\n",
      "loss at iter 51: 0.0100\n",
      "train accuracy:  0.98662\n",
      "val accuracy:  0.9746\n",
      "\n",
      "loss at iter 52: 0.0099\n",
      "train accuracy:  0.98706\n",
      "val accuracy:  0.9762\n",
      "\n",
      "loss at iter 53: 0.0096\n",
      "train accuracy:  0.9874\n",
      "val accuracy:  0.9754\n",
      "\n",
      "loss at iter 54: 0.0096\n",
      "train accuracy:  0.9872\n",
      "val accuracy:  0.974\n",
      "\n",
      "loss at iter 55: 0.0096\n",
      "train accuracy:  0.9892\n",
      "val accuracy:  0.9769\n",
      "\n",
      "loss at iter 56: 0.0094\n",
      "train accuracy:  0.98892\n",
      "val accuracy:  0.9766\n",
      "\n",
      "loss at iter 57: 0.0092\n",
      "train accuracy:  0.9887\n",
      "val accuracy:  0.975\n",
      "\n",
      "loss at iter 58: 0.0094\n",
      "train accuracy:  0.9886\n",
      "val accuracy:  0.9763\n",
      "\n",
      "loss at iter 59: 0.0092\n",
      "train accuracy:  0.98938\n",
      "val accuracy:  0.9752\n",
      "\n",
      "loss at iter 60: 0.0090\n",
      "train accuracy:  0.9891\n",
      "val accuracy:  0.977\n",
      "\n",
      "loss at iter 61: 0.0088\n",
      "train accuracy:  0.98822\n",
      "val accuracy:  0.9749\n",
      "\n",
      "loss at iter 62: 0.0088\n",
      "train accuracy:  0.99148\n",
      "val accuracy:  0.9776\n",
      "\n",
      "loss at iter 63: 0.0086\n",
      "train accuracy:  0.98916\n",
      "val accuracy:  0.9747\n",
      "\n",
      "loss at iter 64: 0.0086\n",
      "train accuracy:  0.99124\n",
      "val accuracy:  0.9774\n",
      "\n",
      "loss at iter 65: 0.0085\n",
      "train accuracy:  0.99148\n",
      "val accuracy:  0.9778\n",
      "\n",
      "loss at iter 66: 0.0084\n",
      "train accuracy:  0.99152\n",
      "val accuracy:  0.9765\n",
      "\n",
      "loss at iter 67: 0.0084\n",
      "train accuracy:  0.99236\n",
      "val accuracy:  0.9769\n",
      "\n",
      "loss at iter 68: 0.0083\n",
      "train accuracy:  0.9916\n",
      "val accuracy:  0.9769\n",
      "\n",
      "loss at iter 69: 0.0083\n",
      "train accuracy:  0.99268\n",
      "val accuracy:  0.978\n",
      "\n",
      "loss at iter 70: 0.0081\n",
      "train accuracy:  0.99326\n",
      "val accuracy:  0.978\n",
      "\n",
      "loss at iter 71: 0.0080\n",
      "train accuracy:  0.99194\n",
      "val accuracy:  0.9765\n",
      "\n",
      "loss at iter 72: 0.0080\n",
      "train accuracy:  0.9929\n",
      "val accuracy:  0.9772\n",
      "\n",
      "loss at iter 73: 0.0079\n",
      "train accuracy:  0.99418\n",
      "val accuracy:  0.978\n",
      "\n",
      "loss at iter 74: 0.0079\n",
      "train accuracy:  0.99058\n",
      "val accuracy:  0.9766\n",
      "\n",
      "loss at iter 75: 0.0078\n",
      "train accuracy:  0.99414\n",
      "val accuracy:  0.979\n",
      "\n",
      "loss at iter 76: 0.0077\n",
      "train accuracy:  0.99472\n",
      "val accuracy:  0.9769\n",
      "\n",
      "loss at iter 77: 0.0076\n",
      "train accuracy:  0.99454\n",
      "val accuracy:  0.9775\n",
      "\n",
      "loss at iter 78: 0.0076\n",
      "train accuracy:  0.99446\n",
      "val accuracy:  0.9762\n",
      "\n",
      "loss at iter 79: 0.0076\n",
      "train accuracy:  0.99418\n",
      "val accuracy:  0.9774\n",
      "\n",
      "loss at iter 80: 0.0074\n",
      "train accuracy:  0.9953\n",
      "val accuracy:  0.9775\n",
      "\n",
      "loss at iter 81: 0.0075\n",
      "train accuracy:  0.99516\n",
      "val accuracy:  0.9791\n",
      "\n",
      "loss at iter 82: 0.0074\n",
      "train accuracy:  0.99494\n",
      "val accuracy:  0.9787\n",
      "\n",
      "loss at iter 83: 0.0074\n",
      "train accuracy:  0.9953\n",
      "val accuracy:  0.9792\n",
      "\n",
      "loss at iter 84: 0.0073\n",
      "train accuracy:  0.9942\n",
      "val accuracy:  0.9776\n",
      "\n",
      "loss at iter 85: 0.0073\n",
      "train accuracy:  0.99544\n",
      "val accuracy:  0.979\n",
      "\n",
      "loss at iter 86: 0.0072\n",
      "train accuracy:  0.99606\n",
      "val accuracy:  0.9791\n",
      "\n",
      "loss at iter 87: 0.0072\n",
      "train accuracy:  0.99526\n",
      "val accuracy:  0.9781\n",
      "\n",
      "loss at iter 88: 0.0071\n",
      "train accuracy:  0.99574\n",
      "val accuracy:  0.9784\n",
      "\n",
      "loss at iter 89: 0.0072\n",
      "train accuracy:  0.99366\n",
      "val accuracy:  0.9762\n",
      "\n",
      "loss at iter 90: 0.0071\n",
      "train accuracy:  0.99608\n",
      "val accuracy:  0.9794\n",
      "\n",
      "loss at iter 91: 0.0070\n",
      "train accuracy:  0.99552\n",
      "val accuracy:  0.9786\n",
      "\n",
      "loss at iter 92: 0.0070\n",
      "train accuracy:  0.99634\n",
      "val accuracy:  0.9784\n",
      "\n",
      "loss at iter 93: 0.0069\n",
      "train accuracy:  0.9962\n",
      "val accuracy:  0.9789\n",
      "\n",
      "loss at iter 94: 0.0069\n",
      "train accuracy:  0.9969\n",
      "val accuracy:  0.9789\n",
      "\n",
      "loss at iter 95: 0.0068\n",
      "train accuracy:  0.99656\n",
      "val accuracy:  0.9789\n",
      "\n",
      "loss at iter 96: 0.0068\n",
      "train accuracy:  0.99644\n",
      "val accuracy:  0.9791\n",
      "\n",
      "loss at iter 97: 0.0068\n",
      "train accuracy:  0.99612\n",
      "val accuracy:  0.9783\n",
      "\n",
      "loss at iter 98: 0.0067\n",
      "train accuracy:  0.99722\n",
      "val accuracy:  0.9795\n",
      "\n",
      "loss at iter 99: 0.0067\n",
      "train accuracy:  0.99706\n",
      "val accuracy:  0.979\n",
      "\n",
      "loss at iter 100: 0.0067\n",
      "train accuracy:  0.99734\n",
      "val accuracy:  0.9796\n",
      "\n",
      "loss at iter 101: 0.0066\n",
      "train accuracy:  0.99752\n",
      "val accuracy:  0.9782\n",
      "\n",
      "loss at iter 102: 0.0066\n",
      "train accuracy:  0.99738\n",
      "val accuracy:  0.9796\n",
      "\n",
      "loss at iter 103: 0.0065\n",
      "train accuracy:  0.99758\n",
      "val accuracy:  0.9795\n",
      "\n",
      "loss at iter 104: 0.0065\n",
      "train accuracy:  0.99726\n",
      "val accuracy:  0.9798\n",
      "\n",
      "loss at iter 105: 0.0065\n",
      "train accuracy:  0.99746\n",
      "val accuracy:  0.9793\n",
      "\n",
      "loss at iter 106: 0.0065\n",
      "train accuracy:  0.9979\n",
      "val accuracy:  0.9799\n",
      "\n",
      "loss at iter 107: 0.0064\n",
      "train accuracy:  0.9977\n",
      "val accuracy:  0.9796\n",
      "\n",
      "loss at iter 108: 0.0064\n",
      "train accuracy:  0.9963\n",
      "val accuracy:  0.9784\n",
      "\n",
      "loss at iter 109: 0.0064\n",
      "train accuracy:  0.99712\n",
      "val accuracy:  0.978\n",
      "\n",
      "loss at iter 110: 0.0063\n",
      "train accuracy:  0.99738\n",
      "val accuracy:  0.9786\n",
      "\n",
      "loss at iter 111: 0.0063\n",
      "train accuracy:  0.9977\n",
      "val accuracy:  0.9793\n",
      "\n",
      "loss at iter 112: 0.0063\n",
      "train accuracy:  0.99772\n",
      "val accuracy:  0.9776\n",
      "\n",
      "loss at iter 113: 0.0062\n",
      "train accuracy:  0.99808\n",
      "val accuracy:  0.9789\n",
      "\n",
      "loss at iter 114: 0.0062\n",
      "train accuracy:  0.99804\n",
      "val accuracy:  0.9784\n",
      "\n",
      "loss at iter 115: 0.0062\n",
      "train accuracy:  0.99818\n",
      "val accuracy:  0.9804\n",
      "\n",
      "loss at iter 116: 0.0062\n",
      "train accuracy:  0.99846\n",
      "val accuracy:  0.9801\n",
      "\n",
      "loss at iter 117: 0.0061\n",
      "train accuracy:  0.99826\n",
      "val accuracy:  0.9791\n",
      "\n",
      "loss at iter 118: 0.0061\n",
      "train accuracy:  0.99832\n",
      "val accuracy:  0.9792\n",
      "\n",
      "loss at iter 119: 0.0061\n",
      "train accuracy:  0.9987\n",
      "val accuracy:  0.9798\n",
      "\n",
      "loss at iter 120: 0.0061\n",
      "train accuracy:  0.99838\n",
      "val accuracy:  0.9784\n",
      "\n",
      "loss at iter 121: 0.0060\n",
      "train accuracy:  0.99808\n",
      "val accuracy:  0.9796\n",
      "\n",
      "loss at iter 122: 0.0060\n",
      "train accuracy:  0.99822\n",
      "val accuracy:  0.9795\n",
      "\n",
      "loss at iter 123: 0.0060\n",
      "train accuracy:  0.99894\n",
      "val accuracy:  0.9805\n",
      "\n",
      "loss at iter 124: 0.0060\n",
      "train accuracy:  0.99854\n",
      "val accuracy:  0.979\n",
      "\n",
      "loss at iter 125: 0.0060\n",
      "train accuracy:  0.9981\n",
      "val accuracy:  0.9799\n",
      "\n",
      "loss at iter 126: 0.0059\n",
      "train accuracy:  0.99872\n",
      "val accuracy:  0.9801\n",
      "\n",
      "loss at iter 127: 0.0059\n",
      "train accuracy:  0.99828\n",
      "val accuracy:  0.9787\n",
      "\n",
      "loss at iter 128: 0.0059\n",
      "train accuracy:  0.9988\n",
      "val accuracy:  0.9801\n",
      "\n",
      "loss at iter 129: 0.0059\n",
      "train accuracy:  0.99894\n",
      "val accuracy:  0.9802\n",
      "\n",
      "loss at iter 130: 0.0058\n",
      "train accuracy:  0.99896\n",
      "val accuracy:  0.98\n",
      "\n",
      "loss at iter 131: 0.0058\n",
      "train accuracy:  0.9989\n",
      "val accuracy:  0.9798\n",
      "\n",
      "loss at iter 132: 0.0058\n",
      "train accuracy:  0.99888\n",
      "val accuracy:  0.9795\n",
      "\n",
      "loss at iter 133: 0.0058\n",
      "train accuracy:  0.99902\n",
      "val accuracy:  0.9801\n",
      "\n",
      "loss at iter 134: 0.0058\n",
      "train accuracy:  0.99864\n",
      "val accuracy:  0.9793\n",
      "\n",
      "loss at iter 135: 0.0058\n",
      "train accuracy:  0.99886\n",
      "val accuracy:  0.9801\n",
      "\n",
      "loss at iter 136: 0.0058\n",
      "train accuracy:  0.99902\n",
      "val accuracy:  0.98\n",
      "\n",
      "loss at iter 137: 0.0057\n",
      "train accuracy:  0.99876\n",
      "val accuracy:  0.9797\n",
      "\n",
      "loss at iter 138: 0.0057\n",
      "train accuracy:  0.99914\n",
      "val accuracy:  0.9795\n",
      "\n",
      "loss at iter 139: 0.0057\n",
      "train accuracy:  0.9991\n",
      "val accuracy:  0.98\n",
      "\n",
      "loss at iter 140: 0.0056\n",
      "train accuracy:  0.99844\n",
      "val accuracy:  0.9788\n",
      "\n",
      "loss at iter 141: 0.0056\n",
      "train accuracy:  0.9989\n",
      "val accuracy:  0.9806\n",
      "\n",
      "loss at iter 142: 0.0056\n",
      "train accuracy:  0.99878\n",
      "val accuracy:  0.9788\n",
      "\n",
      "loss at iter 143: 0.0057\n",
      "train accuracy:  0.99868\n",
      "val accuracy:  0.9789\n",
      "\n",
      "loss at iter 144: 0.0056\n",
      "train accuracy:  0.99902\n",
      "val accuracy:  0.9799\n",
      "\n",
      "loss at iter 145: 0.0056\n",
      "train accuracy:  0.99918\n",
      "val accuracy:  0.9802\n",
      "\n",
      "loss at iter 146: 0.0056\n",
      "train accuracy:  0.99908\n",
      "val accuracy:  0.9804\n",
      "\n",
      "loss at iter 147: 0.0055\n",
      "train accuracy:  0.99916\n",
      "val accuracy:  0.9802\n",
      "\n",
      "loss at iter 148: 0.0056\n",
      "train accuracy:  0.99906\n",
      "val accuracy:  0.9806\n",
      "\n",
      "loss at iter 149: 0.0055\n",
      "train accuracy:  0.99924\n",
      "val accuracy:  0.9798\n",
      "\n",
      "loss at iter 150: 0.0055\n",
      "train accuracy:  0.99934\n",
      "val accuracy:  0.9799\n",
      "\n",
      "loss at iter 151: 0.0055\n",
      "train accuracy:  0.99922\n",
      "val accuracy:  0.9801\n",
      "\n",
      "loss at iter 152: 0.0054\n",
      "train accuracy:  0.9993\n",
      "val accuracy:  0.9804\n",
      "\n",
      "loss at iter 153: 0.0055\n",
      "train accuracy:  0.99916\n",
      "val accuracy:  0.98\n",
      "\n",
      "loss at iter 154: 0.0054\n",
      "train accuracy:  0.99928\n",
      "val accuracy:  0.9803\n",
      "\n",
      "loss at iter 155: 0.0054\n",
      "train accuracy:  0.99938\n",
      "val accuracy:  0.9811\n",
      "\n",
      "loss at iter 156: 0.0054\n",
      "train accuracy:  0.9993\n",
      "val accuracy:  0.9795\n",
      "\n",
      "loss at iter 157: 0.0054\n",
      "train accuracy:  0.99932\n",
      "val accuracy:  0.9806\n",
      "\n",
      "loss at iter 158: 0.0054\n",
      "train accuracy:  0.99924\n",
      "val accuracy:  0.9801\n",
      "\n",
      "loss at iter 159: 0.0053\n",
      "train accuracy:  0.99952\n",
      "val accuracy:  0.9801\n",
      "\n",
      "loss at iter 160: 0.0054\n",
      "train accuracy:  0.99906\n",
      "val accuracy:  0.9806\n",
      "\n",
      "loss at iter 161: 0.0053\n",
      "train accuracy:  0.9994\n",
      "val accuracy:  0.9805\n",
      "\n",
      "loss at iter 162: 0.0053\n",
      "train accuracy:  0.99924\n",
      "val accuracy:  0.9804\n",
      "\n",
      "loss at iter 163: 0.0053\n",
      "train accuracy:  0.99948\n",
      "val accuracy:  0.9803\n",
      "\n",
      "loss at iter 164: 0.0053\n",
      "train accuracy:  0.99938\n",
      "val accuracy:  0.9795\n",
      "\n",
      "loss at iter 165: 0.0053\n",
      "train accuracy:  0.99924\n",
      "val accuracy:  0.9806\n",
      "\n",
      "loss at iter 166: 0.0053\n",
      "train accuracy:  0.99928\n",
      "val accuracy:  0.9807\n",
      "\n",
      "loss at iter 167: 0.0053\n",
      "train accuracy:  0.9993\n",
      "val accuracy:  0.9802\n",
      "\n",
      "loss at iter 168: 0.0052\n",
      "train accuracy:  0.99938\n",
      "val accuracy:  0.9807\n",
      "\n",
      "loss at iter 169: 0.0052\n",
      "train accuracy:  0.99948\n",
      "val accuracy:  0.98\n",
      "\n",
      "loss at iter 170: 0.0052\n",
      "train accuracy:  0.99956\n",
      "val accuracy:  0.9809\n",
      "\n",
      "loss at iter 171: 0.0052\n",
      "train accuracy:  0.99928\n",
      "val accuracy:  0.9803\n",
      "\n",
      "loss at iter 172: 0.0052\n",
      "train accuracy:  0.99944\n",
      "val accuracy:  0.9803\n",
      "\n",
      "loss at iter 173: 0.0052\n",
      "train accuracy:  0.99926\n",
      "val accuracy:  0.9784\n",
      "\n",
      "loss at iter 174: 0.0052\n",
      "train accuracy:  0.99958\n",
      "val accuracy:  0.9811\n",
      "\n",
      "loss at iter 175: 0.0052\n",
      "train accuracy:  0.99886\n",
      "val accuracy:  0.9798\n",
      "\n",
      "loss at iter 176: 0.0052\n",
      "train accuracy:  0.99944\n",
      "val accuracy:  0.9807\n",
      "\n",
      "loss at iter 177: 0.0051\n",
      "train accuracy:  0.9989\n",
      "val accuracy:  0.9782\n",
      "\n",
      "loss at iter 178: 0.0051\n",
      "train accuracy:  0.99952\n",
      "val accuracy:  0.9806\n",
      "\n",
      "loss at iter 179: 0.0051\n",
      "train accuracy:  0.99948\n",
      "val accuracy:  0.9806\n",
      "\n",
      "loss at iter 180: 0.0051\n",
      "train accuracy:  0.99942\n",
      "val accuracy:  0.9801\n",
      "\n",
      "loss at iter 181: 0.0051\n",
      "train accuracy:  0.99924\n",
      "val accuracy:  0.9785\n",
      "\n",
      "loss at iter 182: 0.0051\n",
      "train accuracy:  0.99958\n",
      "val accuracy:  0.9804\n",
      "\n",
      "loss at iter 183: 0.0051\n",
      "train accuracy:  0.9992\n",
      "val accuracy:  0.9803\n",
      "\n",
      "loss at iter 184: 0.0051\n",
      "train accuracy:  0.9995\n",
      "val accuracy:  0.9802\n",
      "\n",
      "loss at iter 185: 0.0051\n",
      "train accuracy:  0.9994\n",
      "val accuracy:  0.9807\n",
      "\n",
      "loss at iter 186: 0.0050\n",
      "train accuracy:  0.99952\n",
      "val accuracy:  0.9806\n",
      "\n",
      "loss at iter 187: 0.0050\n",
      "train accuracy:  0.99932\n",
      "val accuracy:  0.9805\n",
      "\n",
      "loss at iter 188: 0.0050\n",
      "train accuracy:  0.99932\n",
      "val accuracy:  0.9797\n",
      "\n",
      "loss at iter 189: 0.0050\n",
      "train accuracy:  0.99938\n",
      "val accuracy:  0.9799\n",
      "\n",
      "loss at iter 190: 0.0050\n",
      "train accuracy:  0.99946\n",
      "val accuracy:  0.9798\n",
      "\n",
      "loss at iter 191: 0.0050\n",
      "train accuracy:  0.9996\n",
      "val accuracy:  0.9796\n",
      "\n",
      "loss at iter 192: 0.0050\n",
      "train accuracy:  0.9996\n",
      "val accuracy:  0.981\n",
      "\n",
      "loss at iter 193: 0.0050\n",
      "train accuracy:  0.99958\n",
      "val accuracy:  0.9808\n",
      "\n",
      "loss at iter 194: 0.0050\n",
      "train accuracy:  0.99958\n",
      "val accuracy:  0.9799\n",
      "\n",
      "loss at iter 195: 0.0049\n",
      "train accuracy:  0.99956\n",
      "val accuracy:  0.9807\n",
      "\n",
      "loss at iter 196: 0.0050\n",
      "train accuracy:  0.99962\n",
      "val accuracy:  0.9807\n",
      "\n",
      "loss at iter 197: 0.0049\n",
      "train accuracy:  0.9997\n",
      "val accuracy:  0.98\n",
      "\n",
      "loss at iter 198: 0.0049\n",
      "train accuracy:  0.99948\n",
      "val accuracy:  0.9796\n",
      "\n",
      "loss at iter 199: 0.0049\n",
      "train accuracy:  0.99956\n",
      "val accuracy:  0.9808\n",
      "\n",
      "loss at iter 200: 0.0049\n",
      "train accuracy:  0.99956\n",
      "val accuracy:  0.9804\n",
      "\n",
      "loss at iter 201: 0.0049\n",
      "train accuracy:  0.9996\n",
      "val accuracy:  0.98\n",
      "\n",
      "loss at iter 202: 0.0049\n",
      "train accuracy:  0.99946\n",
      "val accuracy:  0.9794\n",
      "\n",
      "loss at iter 203: 0.0049\n",
      "train accuracy:  0.99968\n",
      "val accuracy:  0.981\n",
      "\n",
      "loss at iter 204: 0.0049\n",
      "train accuracy:  0.99964\n",
      "val accuracy:  0.9808\n",
      "\n",
      "loss at iter 205: 0.0048\n",
      "train accuracy:  0.9994\n",
      "val accuracy:  0.9805\n",
      "\n",
      "loss at iter 206: 0.0048\n",
      "train accuracy:  0.99962\n",
      "val accuracy:  0.9799\n",
      "\n",
      "loss at iter 207: 0.0049\n",
      "train accuracy:  0.9995\n",
      "val accuracy:  0.981\n",
      "\n",
      "loss at iter 208: 0.0048\n",
      "train accuracy:  0.99964\n",
      "val accuracy:  0.98\n",
      "\n",
      "loss at iter 209: 0.0048\n",
      "train accuracy:  0.99972\n",
      "val accuracy:  0.9811\n",
      "\n",
      "loss at iter 210: 0.0048\n",
      "train accuracy:  0.99962\n",
      "val accuracy:  0.9812\n",
      "\n",
      "loss at iter 211: 0.0048\n",
      "train accuracy:  0.99972\n",
      "val accuracy:  0.9811\n",
      "\n",
      "loss at iter 212: 0.0049\n",
      "train accuracy:  0.99948\n",
      "val accuracy:  0.9804\n",
      "\n",
      "loss at iter 213: 0.0048\n",
      "train accuracy:  0.99966\n",
      "val accuracy:  0.9804\n",
      "\n",
      "loss at iter 214: 0.0048\n",
      "train accuracy:  0.99958\n",
      "val accuracy:  0.9797\n",
      "\n",
      "loss at iter 215: 0.0048\n",
      "train accuracy:  0.9997\n",
      "val accuracy:  0.9812\n",
      "\n",
      "loss at iter 216: 0.0048\n",
      "train accuracy:  0.99966\n",
      "val accuracy:  0.9809\n",
      "\n",
      "loss at iter 217: 0.0047\n",
      "train accuracy:  0.99948\n",
      "val accuracy:  0.9806\n",
      "\n",
      "loss at iter 218: 0.0048\n",
      "train accuracy:  0.99966\n",
      "val accuracy:  0.9803\n",
      "\n",
      "loss at iter 219: 0.0047\n",
      "train accuracy:  0.99948\n",
      "val accuracy:  0.9812\n",
      "\n",
      "loss at iter 220: 0.0047\n",
      "train accuracy:  0.99968\n",
      "val accuracy:  0.9804\n",
      "\n",
      "loss at iter 221: 0.0047\n",
      "train accuracy:  0.99952\n",
      "val accuracy:  0.9808\n",
      "\n",
      "loss at iter 222: 0.0047\n",
      "train accuracy:  0.9996\n",
      "val accuracy:  0.9814\n",
      "\n",
      "loss at iter 223: 0.0047\n",
      "train accuracy:  0.99978\n",
      "val accuracy:  0.9807\n",
      "\n",
      "loss at iter 224: 0.0047\n",
      "train accuracy:  0.99952\n",
      "val accuracy:  0.9808\n",
      "\n",
      "loss at iter 225: 0.0047\n",
      "train accuracy:  0.99962\n",
      "val accuracy:  0.9802\n",
      "\n",
      "loss at iter 226: 0.0047\n",
      "train accuracy:  0.99962\n",
      "val accuracy:  0.9802\n",
      "\n",
      "loss at iter 227: 0.0047\n",
      "train accuracy:  0.99964\n",
      "val accuracy:  0.9805\n",
      "\n",
      "loss at iter 228: 0.0047\n",
      "train accuracy:  0.99966\n",
      "val accuracy:  0.9803\n",
      "\n",
      "loss at iter 229: 0.0047\n",
      "train accuracy:  0.9997\n",
      "val accuracy:  0.981\n",
      "\n",
      "loss at iter 230: 0.0047\n",
      "train accuracy:  0.99968\n",
      "val accuracy:  0.9809\n",
      "\n",
      "loss at iter 231: 0.0047\n",
      "train accuracy:  0.99954\n",
      "val accuracy:  0.9798\n",
      "\n",
      "loss at iter 232: 0.0047\n",
      "train accuracy:  0.99972\n",
      "val accuracy:  0.9801\n",
      "\n",
      "loss at iter 233: 0.0046\n",
      "train accuracy:  0.99968\n",
      "val accuracy:  0.9797\n",
      "\n",
      "loss at iter 234: 0.0046\n",
      "train accuracy:  0.9996\n",
      "val accuracy:  0.9803\n",
      "\n",
      "loss at iter 235: 0.0046\n",
      "train accuracy:  0.9996\n",
      "val accuracy:  0.9801\n",
      "\n",
      "loss at iter 236: 0.0046\n",
      "train accuracy:  0.99978\n",
      "val accuracy:  0.9802\n",
      "\n",
      "loss at iter 237: 0.0046\n",
      "train accuracy:  0.99964\n",
      "val accuracy:  0.9805\n",
      "\n",
      "loss at iter 238: 0.0046\n",
      "train accuracy:  0.99942\n",
      "val accuracy:  0.9793\n",
      "\n",
      "loss at iter 239: 0.0046\n",
      "train accuracy:  0.99968\n",
      "val accuracy:  0.9811\n",
      "\n",
      "loss at iter 240: 0.0046\n",
      "train accuracy:  0.9997\n",
      "val accuracy:  0.9804\n",
      "\n",
      "loss at iter 241: 0.0046\n",
      "train accuracy:  0.99958\n",
      "val accuracy:  0.9804\n",
      "\n",
      "loss at iter 242: 0.0046\n",
      "train accuracy:  0.9995\n",
      "val accuracy:  0.9803\n",
      "\n",
      "loss at iter 243: 0.0046\n",
      "train accuracy:  0.99962\n",
      "val accuracy:  0.98\n",
      "\n",
      "loss at iter 244: 0.0046\n",
      "train accuracy:  0.99978\n",
      "val accuracy:  0.9803\n",
      "\n",
      "loss at iter 245: 0.0046\n",
      "train accuracy:  0.9996\n",
      "val accuracy:  0.9795\n",
      "\n",
      "loss at iter 246: 0.0046\n",
      "train accuracy:  0.9997\n",
      "val accuracy:  0.9801\n",
      "\n",
      "loss at iter 247: 0.0046\n",
      "train accuracy:  0.9995\n",
      "val accuracy:  0.9806\n",
      "\n",
      "loss at iter 248: 0.0045\n",
      "train accuracy:  0.99964\n",
      "val accuracy:  0.9801\n",
      "\n",
      "loss at iter 249: 0.0045\n",
      "train accuracy:  0.9997\n",
      "val accuracy:  0.981\n",
      "\n",
      "loss at iter 250: 0.0045\n",
      "train accuracy:  0.99918\n",
      "val accuracy:  0.9796\n",
      "\n",
      "loss at iter 251: 0.0045\n",
      "train accuracy:  0.99964\n",
      "val accuracy:  0.98\n",
      "\n",
      "loss at iter 252: 0.0045\n",
      "train accuracy:  0.99974\n",
      "val accuracy:  0.9801\n",
      "\n",
      "loss at iter 253: 0.0045\n",
      "train accuracy:  0.99976\n",
      "val accuracy:  0.9808\n",
      "\n",
      "loss at iter 254: 0.0045\n",
      "train accuracy:  0.99968\n",
      "val accuracy:  0.981\n",
      "\n",
      "loss at iter 255: 0.0045\n",
      "train accuracy:  0.99974\n",
      "val accuracy:  0.9806\n",
      "\n",
      "loss at iter 256: 0.0045\n",
      "train accuracy:  0.99978\n",
      "val accuracy:  0.9809\n",
      "\n",
      "loss at iter 257: 0.0045\n",
      "train accuracy:  0.99958\n",
      "val accuracy:  0.9809\n",
      "\n",
      "loss at iter 258: 0.0045\n",
      "train accuracy:  0.99976\n",
      "val accuracy:  0.981\n",
      "\n",
      "loss at iter 259: 0.0045\n",
      "train accuracy:  0.99982\n",
      "val accuracy:  0.9807\n",
      "\n",
      "loss at iter 260: 0.0045\n",
      "train accuracy:  0.99964\n",
      "val accuracy:  0.9803\n",
      "\n",
      "loss at iter 261: 0.0045\n",
      "train accuracy:  0.99976\n",
      "val accuracy:  0.9802\n",
      "\n",
      "loss at iter 262: 0.0044\n",
      "train accuracy:  0.9998\n",
      "val accuracy:  0.9803\n",
      "\n",
      "loss at iter 263: 0.0044\n",
      "train accuracy:  0.99974\n",
      "val accuracy:  0.981\n",
      "\n",
      "loss at iter 264: 0.0044\n",
      "train accuracy:  0.9997\n",
      "val accuracy:  0.9815\n",
      "\n",
      "loss at iter 265: 0.0044\n",
      "train accuracy:  0.99982\n",
      "val accuracy:  0.98\n",
      "\n",
      "loss at iter 266: 0.0044\n",
      "train accuracy:  0.99976\n",
      "val accuracy:  0.9801\n",
      "\n",
      "loss at iter 267: 0.0044\n",
      "train accuracy:  0.99978\n",
      "val accuracy:  0.9805\n",
      "\n",
      "loss at iter 268: 0.0044\n",
      "train accuracy:  0.99968\n",
      "val accuracy:  0.9804\n",
      "\n",
      "loss at iter 269: 0.0044\n",
      "train accuracy:  0.99978\n",
      "val accuracy:  0.9812\n",
      "\n",
      "loss at iter 270: 0.0044\n",
      "train accuracy:  0.9996\n",
      "val accuracy:  0.9808\n",
      "\n",
      "loss at iter 271: 0.0044\n",
      "train accuracy:  0.99972\n",
      "val accuracy:  0.9802\n",
      "\n",
      "loss at iter 272: 0.0044\n",
      "train accuracy:  0.99968\n",
      "val accuracy:  0.9798\n",
      "\n",
      "loss at iter 273: 0.0044\n",
      "train accuracy:  0.99988\n",
      "val accuracy:  0.9803\n",
      "\n",
      "loss at iter 274: 0.0044\n",
      "train accuracy:  0.9996\n",
      "val accuracy:  0.9799\n",
      "\n",
      "loss at iter 275: 0.0044\n",
      "train accuracy:  0.99984\n",
      "val accuracy:  0.9808\n",
      "\n",
      "loss at iter 276: 0.0044\n",
      "train accuracy:  0.99978\n",
      "val accuracy:  0.9798\n",
      "\n",
      "loss at iter 277: 0.0044\n",
      "train accuracy:  0.99972\n",
      "val accuracy:  0.9802\n",
      "\n",
      "loss at iter 278: 0.0044\n",
      "train accuracy:  0.99976\n",
      "val accuracy:  0.981\n",
      "\n",
      "loss at iter 279: 0.0043\n",
      "train accuracy:  0.99982\n",
      "val accuracy:  0.9814\n",
      "\n",
      "loss at iter 280: 0.0043\n",
      "train accuracy:  0.99972\n",
      "val accuracy:  0.9808\n",
      "\n",
      "loss at iter 281: 0.0043\n",
      "train accuracy:  0.99978\n",
      "val accuracy:  0.9805\n",
      "\n",
      "loss at iter 282: 0.0043\n",
      "train accuracy:  0.99976\n",
      "val accuracy:  0.9807\n",
      "\n",
      "loss at iter 283: 0.0044\n",
      "train accuracy:  0.99976\n",
      "val accuracy:  0.9812\n",
      "\n",
      "loss at iter 284: 0.0043\n",
      "train accuracy:  0.99974\n",
      "val accuracy:  0.9808\n",
      "\n",
      "loss at iter 285: 0.0043\n",
      "train accuracy:  0.99978\n",
      "val accuracy:  0.9816\n",
      "\n",
      "loss at iter 286: 0.0043\n",
      "train accuracy:  0.99976\n",
      "val accuracy:  0.981\n",
      "\n",
      "loss at iter 287: 0.0043\n",
      "train accuracy:  0.99978\n",
      "val accuracy:  0.9802\n",
      "\n",
      "loss at iter 288: 0.0043\n",
      "train accuracy:  0.99986\n",
      "val accuracy:  0.9813\n",
      "\n",
      "loss at iter 289: 0.0043\n",
      "train accuracy:  0.99986\n",
      "val accuracy:  0.981\n",
      "\n",
      "loss at iter 290: 0.0043\n",
      "train accuracy:  0.99978\n",
      "val accuracy:  0.9809\n",
      "\n",
      "loss at iter 291: 0.0043\n",
      "train accuracy:  0.99984\n",
      "val accuracy:  0.9802\n",
      "\n",
      "loss at iter 292: 0.0043\n",
      "train accuracy:  0.99976\n",
      "val accuracy:  0.9813\n",
      "\n",
      "loss at iter 293: 0.0043\n",
      "train accuracy:  0.99986\n",
      "val accuracy:  0.9806\n",
      "\n",
      "loss at iter 294: 0.0043\n",
      "train accuracy:  0.99978\n",
      "val accuracy:  0.9807\n",
      "\n",
      "loss at iter 295: 0.0043\n",
      "train accuracy:  0.99986\n",
      "val accuracy:  0.9816\n",
      "\n",
      "loss at iter 296: 0.0042\n",
      "train accuracy:  0.99972\n",
      "val accuracy:  0.9808\n",
      "\n",
      "loss at iter 297: 0.0043\n",
      "train accuracy:  0.99988\n",
      "val accuracy:  0.9808\n",
      "\n",
      "loss at iter 298: 0.0043\n",
      "train accuracy:  0.99976\n",
      "val accuracy:  0.9798\n",
      "\n",
      "loss at iter 299: 0.0043\n",
      "train accuracy:  0.99968\n",
      "val accuracy:  0.98\n",
      "\n",
      "loss at iter 300: 0.0043\n",
      "train accuracy:  0.99984\n",
      "val accuracy:  0.9806\n",
      "\n",
      "loss at iter 301: 0.0043\n",
      "train accuracy:  0.99984\n",
      "val accuracy:  0.9806\n",
      "\n",
      "loss at iter 302: 0.0042\n",
      "train accuracy:  0.9998\n",
      "val accuracy:  0.9804\n",
      "\n",
      "loss at iter 303: 0.0042\n",
      "train accuracy:  0.99976\n",
      "val accuracy:  0.9808\n",
      "\n",
      "loss at iter 304: 0.0042\n",
      "train accuracy:  0.99984\n",
      "val accuracy:  0.9806\n",
      "\n",
      "loss at iter 305: 0.0042\n",
      "train accuracy:  0.99984\n",
      "val accuracy:  0.981\n",
      "\n",
      "loss at iter 306: 0.0042\n",
      "train accuracy:  0.9998\n",
      "val accuracy:  0.9804\n",
      "\n",
      "loss at iter 307: 0.0042\n",
      "train accuracy:  0.99982\n",
      "val accuracy:  0.9808\n",
      "\n",
      "loss at iter 308: 0.0042\n",
      "train accuracy:  0.9998\n",
      "val accuracy:  0.9796\n",
      "\n",
      "loss at iter 309: 0.0042\n",
      "train accuracy:  0.99978\n",
      "val accuracy:  0.9812\n",
      "\n",
      "loss at iter 310: 0.0042\n",
      "train accuracy:  0.99958\n",
      "val accuracy:  0.9803\n",
      "\n",
      "loss at iter 311: 0.0042\n",
      "train accuracy:  0.9996\n",
      "val accuracy:  0.9805\n",
      "\n",
      "loss at iter 312: 0.0042\n",
      "train accuracy:  0.9998\n",
      "val accuracy:  0.9798\n",
      "\n",
      "loss at iter 313: 0.0042\n",
      "train accuracy:  0.99984\n",
      "val accuracy:  0.9815\n",
      "\n",
      "loss at iter 314: 0.0042\n",
      "train accuracy:  0.99982\n",
      "val accuracy:  0.9802\n",
      "\n",
      "loss at iter 315: 0.0042\n",
      "train accuracy:  0.99972\n",
      "val accuracy:  0.98\n",
      "\n",
      "loss at iter 316: 0.0042\n",
      "train accuracy:  0.99986\n",
      "val accuracy:  0.9807\n",
      "\n",
      "loss at iter 317: 0.0042\n",
      "train accuracy:  0.99982\n",
      "val accuracy:  0.9805\n",
      "\n",
      "loss at iter 318: 0.0041\n",
      "train accuracy:  0.99988\n",
      "val accuracy:  0.9801\n",
      "\n",
      "loss at iter 319: 0.0042\n",
      "train accuracy:  0.99988\n",
      "val accuracy:  0.9799\n",
      "\n",
      "loss at iter 320: 0.0041\n",
      "train accuracy:  0.9998\n",
      "val accuracy:  0.9808\n",
      "\n",
      "loss at iter 321: 0.0042\n",
      "train accuracy:  0.9999\n",
      "val accuracy:  0.981\n",
      "\n",
      "loss at iter 322: 0.0042\n",
      "train accuracy:  0.99986\n",
      "val accuracy:  0.9806\n",
      "\n",
      "loss at iter 323: 0.0041\n",
      "train accuracy:  0.99984\n",
      "val accuracy:  0.981\n",
      "\n",
      "loss at iter 324: 0.0041\n",
      "train accuracy:  0.99984\n",
      "val accuracy:  0.9809\n",
      "\n",
      "loss at iter 325: 0.0041\n",
      "train accuracy:  0.99982\n",
      "val accuracy:  0.9799\n",
      "\n",
      "loss at iter 326: 0.0041\n",
      "train accuracy:  0.9999\n",
      "val accuracy:  0.9815\n",
      "\n",
      "loss at iter 327: 0.0041\n",
      "train accuracy:  0.9998\n",
      "val accuracy:  0.9803\n",
      "\n",
      "loss at iter 328: 0.0041\n",
      "train accuracy:  0.99982\n",
      "val accuracy:  0.9801\n",
      "\n",
      "loss at iter 329: 0.0041\n",
      "train accuracy:  0.99984\n",
      "val accuracy:  0.9807\n",
      "\n",
      "loss at iter 330: 0.0041\n",
      "train accuracy:  0.99984\n",
      "val accuracy:  0.9805\n",
      "\n",
      "loss at iter 331: 0.0041\n",
      "train accuracy:  0.99988\n",
      "val accuracy:  0.9804\n",
      "\n",
      "loss at iter 332: 0.0041\n",
      "train accuracy:  0.99964\n",
      "val accuracy:  0.9803\n",
      "\n",
      "loss at iter 333: 0.0041\n",
      "train accuracy:  0.99992\n",
      "val accuracy:  0.9814\n",
      "\n",
      "loss at iter 334: 0.0041\n",
      "train accuracy:  0.99972\n",
      "val accuracy:  0.9792\n",
      "\n",
      "loss at iter 335: 0.0041\n",
      "train accuracy:  0.99984\n",
      "val accuracy:  0.9814\n",
      "\n",
      "loss at iter 336: 0.0041\n",
      "train accuracy:  0.99992\n",
      "val accuracy:  0.9805\n",
      "\n",
      "loss at iter 337: 0.0041\n",
      "train accuracy:  0.99988\n",
      "val accuracy:  0.9804\n",
      "\n",
      "loss at iter 338: 0.0041\n",
      "train accuracy:  0.99992\n",
      "val accuracy:  0.9802\n",
      "\n",
      "loss at iter 339: 0.0041\n",
      "train accuracy:  0.99974\n",
      "val accuracy:  0.981\n",
      "\n",
      "loss at iter 340: 0.0041\n",
      "train accuracy:  0.99988\n",
      "val accuracy:  0.9813\n",
      "\n",
      "loss at iter 341: 0.0041\n",
      "train accuracy:  0.99978\n",
      "val accuracy:  0.9809\n",
      "\n",
      "loss at iter 342: 0.0041\n",
      "train accuracy:  0.99986\n",
      "val accuracy:  0.9809\n",
      "\n",
      "loss at iter 343: 0.0040\n",
      "train accuracy:  0.9999\n",
      "val accuracy:  0.9809\n",
      "\n",
      "loss at iter 344: 0.0040\n",
      "train accuracy:  0.99974\n",
      "val accuracy:  0.9798\n",
      "\n",
      "loss at iter 345: 0.0040\n",
      "train accuracy:  0.99986\n",
      "val accuracy:  0.9809\n",
      "\n",
      "loss at iter 346: 0.0041\n",
      "train accuracy:  0.99982\n",
      "val accuracy:  0.9808\n",
      "\n",
      "loss at iter 347: 0.0040\n",
      "train accuracy:  0.99988\n",
      "val accuracy:  0.9805\n",
      "\n",
      "loss at iter 348: 0.0041\n",
      "train accuracy:  0.99976\n",
      "val accuracy:  0.9809\n",
      "\n",
      "loss at iter 349: 0.0040\n",
      "train accuracy:  0.99986\n",
      "val accuracy:  0.9816\n",
      "\n",
      "loss at iter 350: 0.0040\n",
      "train accuracy:  0.99988\n",
      "val accuracy:  0.9809\n",
      "\n",
      "loss at iter 351: 0.0040\n",
      "train accuracy:  0.99982\n",
      "val accuracy:  0.9799\n",
      "\n",
      "loss at iter 352: 0.0040\n",
      "train accuracy:  0.99956\n",
      "val accuracy:  0.9803\n",
      "\n",
      "loss at iter 353: 0.0041\n",
      "train accuracy:  0.99982\n",
      "val accuracy:  0.9804\n",
      "\n",
      "loss at iter 354: 0.0040\n",
      "train accuracy:  0.99986\n",
      "val accuracy:  0.9804\n",
      "\n",
      "loss at iter 355: 0.0040\n",
      "train accuracy:  0.99984\n",
      "val accuracy:  0.9806\n",
      "\n",
      "loss at iter 356: 0.0040\n",
      "train accuracy:  0.9999\n",
      "val accuracy:  0.9802\n",
      "\n",
      "loss at iter 357: 0.0040\n",
      "train accuracy:  0.99984\n",
      "val accuracy:  0.9813\n",
      "\n",
      "loss at iter 358: 0.0040\n",
      "train accuracy:  0.99984\n",
      "val accuracy:  0.9804\n",
      "\n",
      "loss at iter 359: 0.0040\n",
      "train accuracy:  0.99982\n",
      "val accuracy:  0.9801\n",
      "\n",
      "loss at iter 360: 0.0040\n",
      "train accuracy:  0.99948\n",
      "val accuracy:  0.9807\n",
      "\n",
      "loss at iter 361: 0.0040\n",
      "train accuracy:  0.9999\n",
      "val accuracy:  0.9805\n",
      "\n",
      "loss at iter 362: 0.0040\n",
      "train accuracy:  0.99992\n",
      "val accuracy:  0.9808\n",
      "\n",
      "loss at iter 363: 0.0040\n",
      "train accuracy:  0.99984\n",
      "val accuracy:  0.9811\n",
      "\n",
      "loss at iter 364: 0.0040\n",
      "train accuracy:  0.9998\n",
      "val accuracy:  0.9804\n",
      "\n",
      "loss at iter 365: 0.0040\n",
      "train accuracy:  0.9999\n",
      "val accuracy:  0.9806\n",
      "\n",
      "loss at iter 366: 0.0040\n",
      "train accuracy:  0.99986\n",
      "val accuracy:  0.9795\n",
      "\n",
      "loss at iter 367: 0.0040\n",
      "train accuracy:  0.99986\n",
      "val accuracy:  0.9808\n",
      "\n",
      "loss at iter 368: 0.0040\n",
      "train accuracy:  0.9999\n",
      "val accuracy:  0.9807\n",
      "\n",
      "loss at iter 369: 0.0040\n",
      "train accuracy:  0.9999\n",
      "val accuracy:  0.98\n",
      "\n",
      "loss at iter 370: 0.0040\n",
      "train accuracy:  0.99992\n",
      "val accuracy:  0.9804\n",
      "\n",
      "loss at iter 371: 0.0040\n",
      "train accuracy:  0.99964\n",
      "val accuracy:  0.9806\n",
      "\n",
      "loss at iter 372: 0.0040\n",
      "train accuracy:  0.99988\n",
      "val accuracy:  0.9805\n",
      "\n",
      "loss at iter 373: 0.0040\n",
      "train accuracy:  0.99984\n",
      "val accuracy:  0.9806\n",
      "\n",
      "loss at iter 374: 0.0040\n",
      "train accuracy:  0.99988\n",
      "val accuracy:  0.9801\n",
      "\n",
      "loss at iter 375: 0.0040\n",
      "train accuracy:  0.9999\n",
      "val accuracy:  0.9797\n",
      "\n",
      "loss at iter 376: 0.0039\n",
      "train accuracy:  0.99988\n",
      "val accuracy:  0.9813\n",
      "\n",
      "loss at iter 377: 0.0040\n",
      "train accuracy:  0.99966\n",
      "val accuracy:  0.9807\n",
      "\n",
      "loss at iter 378: 0.0039\n",
      "train accuracy:  0.99982\n",
      "val accuracy:  0.9806\n",
      "\n",
      "loss at iter 379: 0.0039\n",
      "train accuracy:  0.99982\n",
      "val accuracy:  0.9803\n",
      "\n",
      "loss at iter 380: 0.0039\n",
      "train accuracy:  0.99988\n",
      "val accuracy:  0.9808\n",
      "\n",
      "loss at iter 381: 0.0039\n",
      "train accuracy:  0.99986\n",
      "val accuracy:  0.9801\n",
      "\n",
      "loss at iter 382: 0.0039\n",
      "train accuracy:  0.99996\n",
      "val accuracy:  0.9809\n",
      "\n",
      "loss at iter 383: 0.0039\n",
      "train accuracy:  0.99992\n",
      "val accuracy:  0.9802\n",
      "\n",
      "loss at iter 384: 0.0039\n",
      "train accuracy:  0.99984\n",
      "val accuracy:  0.9804\n",
      "\n",
      "loss at iter 385: 0.0039\n",
      "train accuracy:  0.99968\n",
      "val accuracy:  0.9798\n",
      "\n",
      "loss at iter 386: 0.0039\n",
      "train accuracy:  0.9998\n",
      "val accuracy:  0.9799\n",
      "\n",
      "loss at iter 387: 0.0039\n",
      "train accuracy:  0.99992\n",
      "val accuracy:  0.9801\n",
      "\n",
      "loss at iter 388: 0.0040\n",
      "train accuracy:  0.99984\n",
      "val accuracy:  0.9806\n",
      "\n",
      "loss at iter 389: 0.0039\n",
      "train accuracy:  0.9999\n",
      "val accuracy:  0.9806\n",
      "\n",
      "loss at iter 390: 0.0039\n",
      "train accuracy:  0.99982\n",
      "val accuracy:  0.9808\n",
      "\n",
      "loss at iter 391: 0.0039\n",
      "train accuracy:  0.9999\n",
      "val accuracy:  0.9809\n",
      "\n",
      "loss at iter 392: 0.0039\n",
      "train accuracy:  0.99984\n",
      "val accuracy:  0.9809\n",
      "\n",
      "loss at iter 393: 0.0039\n",
      "train accuracy:  0.99994\n",
      "val accuracy:  0.9799\n",
      "\n",
      "loss at iter 394: 0.0039\n",
      "train accuracy:  0.9998\n",
      "val accuracy:  0.9807\n",
      "\n",
      "loss at iter 395: 0.0039\n",
      "train accuracy:  0.99984\n",
      "val accuracy:  0.9808\n",
      "\n",
      "loss at iter 396: 0.0039\n",
      "train accuracy:  0.99986\n",
      "val accuracy:  0.9807\n",
      "\n",
      "loss at iter 397: 0.0039\n",
      "train accuracy:  0.9998\n",
      "val accuracy:  0.9808\n",
      "\n",
      "loss at iter 398: 0.0039\n",
      "train accuracy:  0.99994\n",
      "val accuracy:  0.9802\n",
      "\n",
      "loss at iter 399: 0.0039\n",
      "train accuracy:  0.99954\n",
      "val accuracy:  0.9801\n",
      "\n",
      "TEST ACCURACY:  0.9801\n"
     ]
    }
   ],
   "source": [
    "init = tf.global_variables_initializer()\n",
    "\n",
    "# Start training\n",
    "with tf.Session() as sess:\n",
    "    # Run the initializer\n",
    "    sess.run(init)\n",
    "\n",
    "    for i in range(400):\n",
    "        #<run optimizer operation>\n",
    "        #loss_i = <compute loss at iteration i>\n",
    "        loss_i = nn_train_function(X_train, y_train)\n",
    "\n",
    "        print(\"\\nloss at iter %i: %.4f\" % (i, loss_i))\n",
    "        \n",
    "        preds = nn_predict_function(X_train)\n",
    "        train_acc = np.sum(y_train == preds) / len(preds)\n",
    "        print(\"train accuracy: \", train_acc)\n",
    "        \n",
    "        preds = nn_predict_function(X_val)\n",
    "        val_acc = np.sum(y_val == preds) / len(preds)\n",
    "        print(\"val accuracy: \", val_acc)\n",
    "            \n",
    "        #print(\"train auc:\",roc_auc_score(y_train, predict_function(X_train)))\n",
    "        #print(\"test auc:\",roc_auc_score(y_test, predict_function(X_test)))\n",
    "        \n",
    "    preds = nn_predict_function(X_test)\n",
    "    test_acc = np.sum(y_test == preds) / len(preds)\n",
    "    print(\"\\nTEST ACCURACY: \", test_acc)"
   ]
  },
  {
   "cell_type": "markdown",
   "metadata": {},
   "source": [
    "```\n",
    "\n",
    "```\n",
    "\n",
    "```\n",
    "\n",
    "```\n",
    "\n",
    "```\n",
    "\n",
    "```\n",
    "\n",
    "```\n",
    "\n",
    "```\n",
    "\n",
    "```\n",
    "\n",
    "```\n",
    "\n",
    "```\n",
    "\n",
    "```\n",
    "\n",
    "```\n",
    "\n",
    "```\n",
    "\n",
    "```\n",
    "\n",
    "```\n",
    "\n",
    "\n",
    "# SPOILERS!\n",
    "\n",
    "Recommended pipeline\n",
    "\n",
    "* Adapt logistic regression from previous assignment to classify some number against others (e.g. zero vs nonzero)\n",
    "* Generalize it to multiclass logistic regression.\n",
    "  - Either try to remember lecture 0 or google it.\n",
    "  - Instead of weight vector you'll have to use matrix (feature_id x class_id)\n",
    "  - softmax (exp over sum of exps) can implemented manually or as T.nnet.softmax (stable)\n",
    "  - probably better to use STOCHASTIC gradient descent (minibatch)\n",
    "    - in which case sample should probably be shuffled (or use random subsamples on each iteration)\n",
    "* Add a hidden layer. Now your logistic regression uses hidden neurons instead of inputs.\n",
    "  - Hidden layer uses the same math as output layer (ex-logistic regression), but uses some nonlinearity (sigmoid) instead of softmax\n",
    "  - You need to train both layers, not just output layer :)\n",
    "  - Do not initialize layers with zeros (due to symmetry effects). A gaussian noize with small sigma will do.\n",
    "  - 50 hidden neurons and a sigmoid nonlinearity will do for a start. Many ways to improve. \n",
    "  - In ideal casae this totals to 2 .dot's, 1 softmax and 1 sigmoid\n",
    "  - __make sure this neural network works better than logistic regression__\n",
    "  \n",
    "* Now's the time to try improving the network. Consider layers (size, neuron count),  nonlinearities, optimization methods, initialization - whatever you want, but please avoid convolutions for now."
   ]
  },
  {
   "cell_type": "code",
   "execution_count": null,
   "metadata": {
    "collapsed": true
   },
   "outputs": [],
   "source": []
  }
 ],
 "metadata": {
  "anaconda-cloud": {},
  "celltoolbar": "Slideshow",
  "kernelspec": {
   "display_name": "Python [default]",
   "language": "python",
   "name": "python3"
  },
  "language_info": {
   "codemirror_mode": {
    "name": "ipython",
    "version": 3
   },
   "file_extension": ".py",
   "mimetype": "text/x-python",
   "name": "python",
   "nbconvert_exporter": "python",
   "pygments_lexer": "ipython3",
   "version": "3.5.2"
  }
 },
 "nbformat": 4,
 "nbformat_minor": 1
}
