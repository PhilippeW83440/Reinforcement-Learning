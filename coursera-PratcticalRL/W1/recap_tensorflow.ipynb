{
 "cells": [
  {
   "cell_type": "markdown",
   "metadata": {},
   "source": [
    "# Going deeper with Tensorflow\n",
    "\n",
    "In this seminar, we're going to play with [Tensorflow](https://www.tensorflow.org/) and see how it helps us build deep learning models.\n",
    "\n",
    "If you're running this notebook outside the course environment, you'll need to install tensorflow:\n",
    "* `pip install tensorflow` should install cpu-only TF on Linux & Mac OS\n",
    "* If you want GPU support from offset, see [TF install page](https://www.tensorflow.org/install/)"
   ]
  },
  {
   "cell_type": "code",
   "execution_count": 1,
   "metadata": {
    "collapsed": false
   },
   "outputs": [
    {
     "name": "stderr",
     "output_type": "stream",
     "text": [
      "/home/philippew/anaconda3/envs/pythonx/lib/python3.5/site-packages/h5py/__init__.py:36: FutureWarning: Conversion of the second argument of issubdtype from `float` to `np.floating` is deprecated. In future, it will be treated as `np.float64 == np.dtype(float).type`.\n",
      "  from ._conv import register_converters as _register_converters\n"
     ]
    },
    {
     "name": "stdout",
     "output_type": "stream",
     "text": [
      "per_process_gpu_memory_fraction: 0.1\n",
      "allow_growth: true\n",
      "\n"
     ]
    }
   ],
   "source": [
    "import tensorflow as tf\n",
    "gpu_options = tf.GPUOptions(allow_growth=True, per_process_gpu_memory_fraction=0.1)\n",
    "print(gpu_options)\n",
    "s = tf.InteractiveSession(config=tf.ConfigProto(gpu_options=gpu_options))"
   ]
  },
  {
   "cell_type": "markdown",
   "metadata": {},
   "source": [
    "# Warming up\n",
    "For starters, let's implement a python function that computes the sum of squares of numbers from 0 to N-1.\n",
    "* Use numpy or python\n",
    "* An array of numbers 0 to N - numpy.arange(N)"
   ]
  },
  {
   "cell_type": "code",
   "execution_count": 2,
   "metadata": {
    "collapsed": true
   },
   "outputs": [],
   "source": [
    "import numpy as np\n",
    "def sum_squares(N):\n",
    "    return np.sum(np.arange(N)**2)"
   ]
  },
  {
   "cell_type": "code",
   "execution_count": 3,
   "metadata": {
    "collapsed": false
   },
   "outputs": [
    {
     "data": {
      "text/plain": [
       "array([ 0,  1,  4,  9, 16, 25, 36, 49, 64, 81])"
      ]
     },
     "execution_count": 3,
     "metadata": {},
     "output_type": "execute_result"
    }
   ],
   "source": [
    "np.arange(10)**2"
   ]
  },
  {
   "cell_type": "code",
   "execution_count": 4,
   "metadata": {
    "collapsed": false
   },
   "outputs": [
    {
     "name": "stdout",
     "output_type": "stream",
     "text": [
      "CPU times: user 200 ms, sys: 96 ms, total: 296 ms\n",
      "Wall time: 286 ms\n"
     ]
    },
    {
     "data": {
      "text/plain": [
       "662921401752298880"
      ]
     },
     "execution_count": 4,
     "metadata": {},
     "output_type": "execute_result"
    }
   ],
   "source": [
    "%%time\n",
    "sum_squares(10**8)"
   ]
  },
  {
   "cell_type": "markdown",
   "metadata": {},
   "source": [
    "# Tensoflow teaser\n",
    "\n",
    "Doing the very same thing"
   ]
  },
  {
   "cell_type": "code",
   "execution_count": 5,
   "metadata": {
    "collapsed": true
   },
   "outputs": [],
   "source": [
    "#I gonna be your function parameter\n",
    "N = tf.placeholder('int64', name=\"input_to_your_function\")\n",
    "\n",
    "#i am a recipe on how to produce sum of squares of arange of N given N\n",
    "result = tf.reduce_sum((tf.range(N)**2))"
   ]
  },
  {
   "cell_type": "code",
   "execution_count": 6,
   "metadata": {
    "collapsed": false
   },
   "outputs": [
    {
     "name": "stdout",
     "output_type": "stream",
     "text": [
      "662921401752298880\n",
      "CPU times: user 416 ms, sys: 184 ms, total: 600 ms\n",
      "Wall time: 440 ms\n"
     ]
    }
   ],
   "source": [
    "%%time\n",
    "#example of computing the same as sum_squares\n",
    "print(result.eval({N:10**8}))"
   ]
  },
  {
   "cell_type": "markdown",
   "metadata": {},
   "source": [
    "# How does it work?\n",
    "1. define placeholders where you'll send inputs;\n",
    "2. make symbolic graph: a recipe for mathematical transformation of those placeholders;\n",
    "3. compute outputs of your graph with particular values for each placeholder\n",
    "  * output.eval({placeholder:value}) \n",
    "  * s.run(output, {placeholder:value})\n",
    "\n",
    "* So far there are two main entities: \"placeholder\" and \"transformation\"\n",
    "* Both can be numbers, vectors, matrices, tensors, etc.\n",
    "* Both can be int32/64, floats of booleans (uint8) of various size.\n",
    "\n",
    "* You can define new transformations as an arbitrary operation on placeholders and other transformations\n",
    " * tf.reduce_sum(tf.arange(N)\\**2) are 3 sequential transformations of placeholder N\n",
    " * There's a tensorflow symbolic version for every numpy function\n",
    "   * `a+b, a/b, a**b, ...` behave just like in numpy\n",
    "   * np.mean -> tf.reduce_mean\n",
    "   * np.arange -> tf.range\n",
    "   * np.cumsum -> tf.cumsum\n",
    "   * If if you can't find the op you need, see the [docs](https://www.tensorflow.org/api_docs/python).\n",
    " \n",
    " \n",
    "Still confused? We gonna fix that."
   ]
  },
  {
   "cell_type": "code",
   "execution_count": 7,
   "metadata": {
    "collapsed": true
   },
   "outputs": [],
   "source": [
    "#Default placeholder that can be arbitrary float32 scalar, vertor, matrix, etc.\n",
    "arbitrary_input = tf.placeholder('float32')\n",
    "\n",
    "#Input vector of arbitrary length\n",
    "input_vector = tf.placeholder('float32',shape=(None,))\n",
    "\n",
    "#Input vector that _must_ have 10 elements and integer type\n",
    "fixed_vector = tf.placeholder('int32',shape=(10,))\n",
    "\n",
    "#Matrix of arbitrary n_rows and 15 columns (e.g. a minibatch your data table)\n",
    "input_matrix = tf.placeholder('float32',shape=(None,15))\n",
    "\n",
    "#You can generally use None whenever you don't need a specific shape\n",
    "input1 = tf.placeholder('float64',shape=(None,100,None))\n",
    "input2 = tf.placeholder('int32',shape=(None,None,3,224,224))"
   ]
  },
  {
   "cell_type": "code",
   "execution_count": 8,
   "metadata": {
    "collapsed": true
   },
   "outputs": [],
   "source": [
    "#elementwise multiplication\n",
    "double_the_vector = input_vector*2\n",
    "\n",
    "#elementwise cosine\n",
    "elementwise_cosine = tf.cos(input_vector)\n",
    "\n",
    "#difference between squared vector and vector itself\n",
    "vector_squares = input_vector**2 - input_vector\n"
   ]
  },
  {
   "cell_type": "code",
   "execution_count": 9,
   "metadata": {
    "collapsed": true
   },
   "outputs": [],
   "source": [
    "#Practice time: create two vectors of type float32\n",
    "#my_vector = <student.init_float32_vector()>\n",
    "#my_vector2 = <student.init_one_more_such_vector()>\n",
    "\n",
    "my_vector = tf.placeholder('float32',shape=(None,))\n",
    "my_vector2 = tf.placeholder('float32',shape=(None,))"
   ]
  },
  {
   "cell_type": "code",
   "execution_count": 10,
   "metadata": {
    "collapsed": false
   },
   "outputs": [],
   "source": [
    "#Write a transformation(recipe):\n",
    "#(vec1)*(vec2) / (sin(vec1) +1)\n",
    "my_transformation = my_vector * my_vector2 / (tf.sin(my_vector) + 1)"
   ]
  },
  {
   "cell_type": "code",
   "execution_count": 11,
   "metadata": {
    "collapsed": false
   },
   "outputs": [
    {
     "name": "stdout",
     "output_type": "stream",
     "text": [
      "Tensor(\"truediv:0\", shape=(?,), dtype=float32)\n"
     ]
    }
   ],
   "source": [
    "print(my_transformation)\n",
    "#it's okay, it's a symbolic graph"
   ]
  },
  {
   "cell_type": "code",
   "execution_count": 12,
   "metadata": {
    "collapsed": false
   },
   "outputs": [
    {
     "data": {
      "text/plain": [
       "array([0.       , 1.6291324, 2.0950115, 2.6289961, 0.       ],\n",
       "      dtype=float32)"
      ]
     },
     "execution_count": 12,
     "metadata": {},
     "output_type": "execute_result"
    }
   ],
   "source": [
    "#\n",
    "dummy = np.arange(5).astype('float32')\n",
    "\n",
    "my_transformation.eval({my_vector:dummy,my_vector2:dummy[::-1]})"
   ]
  },
  {
   "cell_type": "markdown",
   "metadata": {},
   "source": [
    "### Visualizing graphs\n",
    "\n",
    "It's often useful to visualize the computation graph when debugging or optimizing. \n",
    "Interactive visualization is where tensorflow really shines as compared to other frameworks. \n",
    "\n",
    "There's a special instrument for that, called Tensorboard. You can launch it from console:\n",
    "\n",
    "```tensorboard --logdir=/tmp/tboard --port=7007```\n",
    "\n",
    "If you're pathologically afraid of consoles, try this:\n",
    "\n",
    "```os.system(\"tensorboard --logdir=/tmp/tboard --port=7007 &\"```\n",
    "\n",
    "_(but don't tell anyone we taught you that)_"
   ]
  },
  {
   "cell_type": "code",
   "execution_count": 13,
   "metadata": {
    "collapsed": false
   },
   "outputs": [
    {
     "data": {
      "text/plain": [
       "0"
      ]
     },
     "execution_count": 13,
     "metadata": {},
     "output_type": "execute_result"
    }
   ],
   "source": [
    "import os\n",
    "\n",
    "os.system(\"tensorboard --logdir=/tmp/tboard --port=7007 &\")"
   ]
  },
  {
   "cell_type": "code",
   "execution_count": 14,
   "metadata": {
    "collapsed": false
   },
   "outputs": [
    {
     "name": "stdout",
     "output_type": "stream",
     "text": [
      "Port: 7000\n"
     ]
    }
   ],
   "source": [
    "# launch tensorflow the ugly way, uncomment if you need that\n",
    "import os\n",
    "port = 6000 + os.getuid()\n",
    "print(\"Port: %d\" % port)\n",
    "!killall tensorboard\n",
    "os.system(\"tensorboard --logdir=./tboard --port=%d &\" % port)\n",
    "\n",
    "# show graph to tensorboard\n",
    "writer = tf.summary.FileWriter(\"./tboard\", graph=tf.get_default_graph())\n",
    "writer.close()"
   ]
  },
  {
   "cell_type": "markdown",
   "metadata": {},
   "source": [
    "One basic functionality of tensorboard is drawing graphs. One you've run the cell above, go to `localhost:7007` in your browser and switch to _graphs_ tab in the topbar. \n",
    "\n",
    "Here's what you should see:\n",
    "\n",
    "<img src=\"https://s12.postimg.org/a374bmffx/tensorboard.png\" width=480>\n",
    "\n",
    "Tensorboard also allows you to draw graphs (e.g. learning curves), record images & audio ~~and play flash games~~. This is useful when monitoring learning progress and catching some training issues.\n",
    "\n",
    "One researcher said:\n",
    "```\n",
    "If you spent last four hours of your worktime watching as your algorithm prints numbers and draws figures, you're probably doing deep learning wrong.\n",
    "```"
   ]
  },
  {
   "cell_type": "markdown",
   "metadata": {},
   "source": [
    "You can read more on tensorboard usage [here](https://www.tensorflow.org/get_started/graph_viz)"
   ]
  },
  {
   "cell_type": "markdown",
   "metadata": {},
   "source": [
    "# Do It Yourself\n",
    "\n",
    "__[2 points max]__"
   ]
  },
  {
   "cell_type": "code",
   "execution_count": 15,
   "metadata": {
    "collapsed": false
   },
   "outputs": [
    {
     "name": "stdout",
     "output_type": "stream",
     "text": [
      "8.0000001940296\n",
      "8.0\n",
      "CPU times: user 0 ns, sys: 0 ns, total: 0 ns\n",
      "Wall time: 495 µs\n"
     ]
    }
   ],
   "source": [
    "%%time\n",
    "dummy = np.arange(5).astype('float32')\n",
    "vec1 = dummy\n",
    "vec2 = dummy[::-1]\n",
    "mse = np.linalg.norm(vec1 - vec2)**2 / len(vec1)\n",
    "print(mse)\n",
    "print(np.sum((vec1 - vec2)**2) / len(vec1))"
   ]
  },
  {
   "cell_type": "code",
   "execution_count": 16,
   "metadata": {
    "collapsed": false
   },
   "outputs": [
    {
     "name": "stdout",
     "output_type": "stream",
     "text": [
      "Tensor(\"truediv_1:0\", shape=(), dtype=float32)\n",
      "8.0\n",
      "CPU times: user 8 ms, sys: 4 ms, total: 12 ms\n",
      "Wall time: 9.94 ms\n"
     ]
    }
   ],
   "source": [
    "%%time\n",
    "\n",
    "# Quest #1 - implement a function that computes a mean squared error of two input vectors\n",
    "# Your function has to take 2 vectors and return a single number\n",
    "\n",
    "#<student.define_inputs_and_transformations()>\n",
    "#mse =<student.define_transformation()>\n",
    "#compute_mse = lambda vector1, vector2: <how to run you graph?>\n",
    "\n",
    "vec1 = tf.placeholder('float32',shape=(None,))\n",
    "vec2 = tf.placeholder('float32',shape=(None,))\n",
    "#mse = tf.norm(vec1 - vec2)\n",
    "mse = tf.reduce_sum((vec1-vec2)**2) / tf.to_float(tf.size(vec1))\n",
    "print(mse)\n",
    "\n",
    "dummy = np.arange(5).astype('float32')\n",
    "\n",
    "print(mse.eval({vec1:dummy, vec2:dummy[::-1]}))\n",
    "\n",
    "compute_mse = lambda vector1, vector2: mse.eval({vec1:vector1, vec2:vector2})"
   ]
  },
  {
   "cell_type": "code",
   "execution_count": 17,
   "metadata": {
    "collapsed": false
   },
   "outputs": [
    {
     "name": "stdout",
     "output_type": "stream",
     "text": [
      "0.812060342585451\n"
     ]
    }
   ],
   "source": [
    "print(np.sqrt(0.659442))"
   ]
  },
  {
   "cell_type": "code",
   "execution_count": 18,
   "metadata": {
    "collapsed": false
   },
   "outputs": [
    {
     "name": "stdout",
     "output_type": "stream",
     "text": [
      "All tests passed\n"
     ]
    }
   ],
   "source": [
    "# Tests\n",
    "from sklearn.metrics import mean_squared_error\n",
    "\n",
    "for n in [1,5,10,10**3]:\n",
    "    \n",
    "    elems = [np.arange(n),np.arange(n,0,-1), np.zeros(n),\n",
    "             np.ones(n),np.random.random(n),np.random.randint(100,size=n)]\n",
    "    \n",
    "    for el in elems:\n",
    "        for el_2 in elems:\n",
    "            true_mse = np.array(mean_squared_error(el,el_2))\n",
    "            my_mse = compute_mse(el,el_2)\n",
    "            if not np.allclose(true_mse,my_mse):\n",
    "                print('Wrong result:')\n",
    "                print('mse(%s,%s)' % (el,el_2))\n",
    "                print(\"should be: %f, but your function returned %f\" % (true_mse,my_mse))\n",
    "                raise(ValueError,\"oops\")\n",
    "\n",
    "print(\"All tests passed\")    "
   ]
  },
  {
   "cell_type": "markdown",
   "metadata": {},
   "source": [
    "# variables\n",
    "\n",
    "The inputs and transformations have no value outside function call. This isn't too comfortable if you want your model to have parameters (e.g. network weights) that are always present, but can change their value over time.\n",
    "\n",
    "Tensorflow solves this with `tf.Variable` objects.\n",
    "* You can assign variable a value at any time in your graph\n",
    "* Unlike placeholders, there's no need to explicitly pass values to variables when `s.run(...)`-ing\n",
    "* You can use variables the same way you use transformations \n",
    " "
   ]
  },
  {
   "cell_type": "code",
   "execution_count": 19,
   "metadata": {
    "collapsed": true
   },
   "outputs": [],
   "source": [
    "#creating shared variable\n",
    "shared_vector_1 = tf.Variable(initial_value=np.ones(5))"
   ]
  },
  {
   "cell_type": "code",
   "execution_count": 20,
   "metadata": {
    "collapsed": false
   },
   "outputs": [
    {
     "name": "stdout",
     "output_type": "stream",
     "text": [
      "<tf.Variable 'Variable:0' shape=(5,) dtype=float64_ref>\n",
      "[1. 1. 1. 1. 1.]\n"
     ]
    }
   ],
   "source": [
    "print(shared_vector_1)\n",
    "print(np.ones(5))"
   ]
  },
  {
   "cell_type": "code",
   "execution_count": 21,
   "metadata": {
    "collapsed": false
   },
   "outputs": [
    {
     "name": "stdout",
     "output_type": "stream",
     "text": [
      "initial value [1. 1. 1. 1. 1.]\n"
     ]
    }
   ],
   "source": [
    "#initialize variable(s) with initial values\n",
    "s.run(tf.global_variables_initializer())\n",
    "\n",
    "#evaluating shared variable (outside symbolicd graph)\n",
    "print(\"initial value\", s.run(shared_vector_1))\n",
    "\n",
    "# within symbolic graph you use them just as any other inout or transformation, not \"get value\" needed"
   ]
  },
  {
   "cell_type": "code",
   "execution_count": 22,
   "metadata": {
    "collapsed": false
   },
   "outputs": [
    {
     "name": "stdout",
     "output_type": "stream",
     "text": [
      "new value [0. 1. 2. 3. 4.]\n"
     ]
    }
   ],
   "source": [
    "#setting new value\n",
    "s.run(shared_vector_1.assign(np.arange(5)))\n",
    "\n",
    "#getting that new value\n",
    "print(\"new value\", s.run(shared_vector_1))\n"
   ]
  },
  {
   "cell_type": "markdown",
   "metadata": {},
   "source": [
    "# tf.gradients - why graphs matter\n",
    "* Tensorflow can compute derivatives and gradients automatically using the computation graph\n",
    "* Gradients are computed as a product of elementary derivatives via chain rule:\n",
    "\n",
    "$$ {\\partial f(g(x)) \\over \\partial x} = {\\partial f(g(x)) \\over \\partial g(x)}\\cdot {\\partial g(x) \\over \\partial x} $$\n",
    "\n",
    "It can get you the derivative of any graph as long as it knows how to differentiate elementary operations"
   ]
  },
  {
   "cell_type": "code",
   "execution_count": 23,
   "metadata": {
    "collapsed": false
   },
   "outputs": [],
   "source": [
    "my_scalar = tf.placeholder('float32')\n",
    "\n",
    "scalar_squared = my_scalar**2\n",
    "\n",
    "#a derivative of scalar_squared by my_scalar\n",
    "derivative = tf.gradients(scalar_squared, my_scalar)[0]"
   ]
  },
  {
   "cell_type": "code",
   "execution_count": 24,
   "metadata": {
    "collapsed": false
   },
   "outputs": [
    {
     "name": "stdout",
     "output_type": "stream",
     "text": [
      "Tensor(\"Placeholder_10:0\", dtype=float32)\n",
      "Tensor(\"pow_3:0\", dtype=float32)\n",
      "Tensor(\"gradients/pow_3_grad/Reshape:0\", dtype=float32)\n",
      "6.0\n",
      "8.0\n"
     ]
    }
   ],
   "source": [
    "print(my_scalar)\n",
    "print(scalar_squared)\n",
    "print(derivative)\n",
    "print(derivative.eval({my_scalar:3}))\n",
    "print(derivative.eval({my_scalar:4}))"
   ]
  },
  {
   "cell_type": "code",
   "execution_count": 25,
   "metadata": {
    "collapsed": false
   },
   "outputs": [
    {
     "name": "stdout",
     "output_type": "stream",
     "text": [
      "[-3.         -2.87755102 -2.75510204 -2.63265306 -2.51020408 -2.3877551\n",
      " -2.26530612 -2.14285714 -2.02040816 -1.89795918 -1.7755102  -1.65306122\n",
      " -1.53061224 -1.40816327 -1.28571429 -1.16326531 -1.04081633 -0.91836735\n",
      " -0.79591837 -0.67346939 -0.55102041 -0.42857143 -0.30612245 -0.18367347\n",
      " -0.06122449  0.06122449  0.18367347  0.30612245  0.42857143  0.55102041\n",
      "  0.67346939  0.79591837  0.91836735  1.04081633  1.16326531  1.28571429\n",
      "  1.40816327  1.53061224  1.65306122  1.7755102   1.89795918  2.02040816\n",
      "  2.14285714  2.26530612  2.3877551   2.51020408  2.63265306  2.75510204\n",
      "  2.87755102  3.        ]\n"
     ]
    }
   ],
   "source": [
    "x = np.linspace(-3, 3)\n",
    "print(x)"
   ]
  },
  {
   "cell_type": "code",
   "execution_count": 26,
   "metadata": {
    "collapsed": false
   },
   "outputs": [
    {
     "data": {
      "image/png": "[encoded data removed]",
      "text/plain": [
       "<matplotlib.figure.Figure at 0x7f80fd5dfb38>"
      ]
     },
     "metadata": {},
     "output_type": "display_data"
    }
   ],
   "source": [
    "import matplotlib.pyplot as plt\n",
    "%matplotlib inline\n",
    "\n",
    "x = np.linspace(-3,3)\n",
    "x_squared, x_squared_der = s.run([scalar_squared, derivative],\n",
    "                                 {my_scalar:x})\n",
    "\n",
    "plt.plot(x, x_squared,label=\"x^2\")\n",
    "plt.plot(x, x_squared_der, label=\"derivative\")\n",
    "plt.legend();"
   ]
  },
  {
   "cell_type": "markdown",
   "metadata": {},
   "source": [
    "# Why that rocks"
   ]
  },
  {
   "cell_type": "code",
   "execution_count": 27,
   "metadata": {
    "collapsed": true
   },
   "outputs": [],
   "source": [
    "my_vector = tf.placeholder('float32',[None])\n",
    "\n",
    "#Compute the gradient of the next weird function over my_scalar and my_vector\n",
    "#warning! Trying to understand the meaning of that function may result in permanent brain damage\n",
    "\n",
    "weird_psychotic_function = tf.reduce_mean((my_vector+my_scalar)**(1+tf.nn.moments(my_vector,[0])[1]) + 1./ tf.atan(my_scalar))/(my_scalar**2 + 1) + 0.01*tf.sin(2*my_scalar**1.5)*(tf.reduce_sum(my_vector)* my_scalar**2)*tf.exp((my_scalar-4)**2)/(1+tf.exp((my_scalar-4)**2))*(1.-(tf.exp(-(my_scalar-4)**2))/(1+tf.exp(-(my_scalar-4)**2)))**2\n",
    "\n",
    "#der_by_scalar = <student.compute_grad_over_scalar()>\n",
    "#der_by_vector = <student.compute_grad_over_vector()>"
   ]
  },
  {
   "cell_type": "code",
   "execution_count": 28,
   "metadata": {
    "collapsed": true
   },
   "outputs": [],
   "source": [
    "#a derivative of scalar_squared by my_scalar\n",
    "der_by_scalar = tf.gradients(weird_psychotic_function, my_scalar)[0]\n",
    "der_by_vector = tf.gradients(weird_psychotic_function, my_vector)[0]"
   ]
  },
  {
   "cell_type": "code",
   "execution_count": 29,
   "metadata": {
    "collapsed": false
   },
   "outputs": [
    {
     "data": {
      "image/png": "[encoded data removed]",
      "text/plain": [
       "<matplotlib.figure.Figure at 0x7f80ebdca1d0>"
      ]
     },
     "metadata": {},
     "output_type": "display_data"
    }
   ],
   "source": [
    "#Plotting your derivative\n",
    "scalar_space = np.linspace(1, 7, 100)\n",
    "\n",
    "y = [s.run(weird_psychotic_function, {my_scalar:x, my_vector:[1, 2, 3]})\n",
    "     for x in scalar_space]\n",
    "\n",
    "plt.plot(scalar_space, y, label='function')\n",
    "\n",
    "y_der_by_scalar = [s.run(der_by_scalar, {my_scalar:x, my_vector:[1, 2, 3]})\n",
    "     for x in scalar_space]\n",
    "\n",
    "plt.plot(scalar_space, y_der_by_scalar, label='derivative')\n",
    "plt.grid()\n",
    "plt.legend();"
   ]
  },
  {
   "cell_type": "markdown",
   "metadata": {},
   "source": [
    "# Almost done - optimizers\n",
    "\n",
    "While you can perform gradient descent by hand with automatic grads from above, tensorflow also has some optimization methods implemented for you. Recall momentum & rmsprop?"
   ]
  },
  {
   "cell_type": "code",
   "execution_count": 30,
   "metadata": {
    "collapsed": false
   },
   "outputs": [
    {
     "name": "stdout",
     "output_type": "stream",
     "text": [
      "[0. 0.]\n",
      "[1 2]\n",
      "[ 0.11272458 -0.17190493]\n"
     ]
    }
   ],
   "source": [
    "print(np.zeros(2))\n",
    "print(np.arange(1,3))\n",
    "print(np.random.randn(2))"
   ]
  },
  {
   "cell_type": "code",
   "execution_count": 31,
   "metadata": {
    "collapsed": false
   },
   "outputs": [
    {
     "name": "stdout",
     "output_type": "stream",
     "text": [
      "name: \"Momentum\"\n",
      "op: \"NoOp\"\n",
      "input: \"^Momentum/update_Variable_1/ApplyMomentum\"\n",
      "\n"
     ]
    }
   ],
   "source": [
    "y_guess = tf.Variable(np.zeros(2,dtype='float32'))\n",
    "y_true = tf.range(1,3,dtype='float32')\n",
    "\n",
    "loss = tf.reduce_mean((y_guess - y_true + tf.random_normal([2]))**2) \n",
    "\n",
    "optimizer = tf.train.MomentumOptimizer(0.01, 0.9).minimize(loss, var_list=y_guess)\n",
    "\n",
    "#same, but more detailed:\n",
    "#updates = [[tf.gradients(loss, y_guess)[0], y_guess]]\n",
    "#optimizer = tf.train.MomentumOptimizer(0.01,0.9).apply_gradients(updates)\n",
    "\n",
    "print(optimizer)\n",
    "#tf.train.MomentumOptimizer()"
   ]
  },
  {
   "cell_type": "code",
   "execution_count": 32,
   "metadata": {
    "collapsed": false
   },
   "outputs": [
    {
     "data": {
      "image/png": "[encoded data removed]",
      "text/plain": [
       "<matplotlib.figure.Figure at 0x7f80ebb82710>"
      ]
     },
     "metadata": {},
     "output_type": "display_data"
    }
   ],
   "source": [
    "from IPython.display import clear_output\n",
    "\n",
    "s.run(tf.global_variables_initializer())\n",
    "\n",
    "guesses = [s.run(y_guess)]\n",
    "\n",
    "for _ in range(100):\n",
    "    s.run(optimizer)\n",
    "    guesses.append(s.run(y_guess))\n",
    "    \n",
    "    clear_output(True)\n",
    "    plt.plot(*zip(*guesses),marker='.')\n",
    "    plt.scatter(*s.run(y_true),c='red')\n",
    "    plt.show()"
   ]
  },
  {
   "cell_type": "markdown",
   "metadata": {},
   "source": [
    "# Logistic regression example\n",
    "Implement the regular logistic regression training algorithm\n",
    "\n",
    "Tips:\n",
    "* Use a shared variable for weights\n",
    "* X and y are potential inputs\n",
    "* Compile 2 functions:\n",
    " * `train_function(X, y)` - returns error and computes weights' new values __(through updates)__\n",
    " * `predict_fun(X)` - just computes probabilities (\"y\") given data\n",
    " \n",
    " \n",
    "We shall train on a two-class MNIST dataset\n",
    "* please note that target `y` are `{0,1}` and not `{-1,1}` as in some formulae"
   ]
  },
  {
   "cell_type": "code",
   "execution_count": 33,
   "metadata": {
    "collapsed": false
   },
   "outputs": [
    {
     "name": "stdout",
     "output_type": "stream",
     "text": [
      "y [shape - (360,)]: [0 1 0 1 0 1 0 0 1 1]\n",
      "X [shape - (360, 64)]:\n"
     ]
    }
   ],
   "source": [
    "from sklearn.datasets import load_digits\n",
    "mnist = load_digits(2)\n",
    "\n",
    "X,y = mnist.data, mnist.target\n",
    "\n",
    "print(\"y [shape - %s]:\" % (str(y.shape)), y[:10])\n",
    "print(\"X [shape - %s]:\" % (str(X.shape)))"
   ]
  },
  {
   "cell_type": "code",
   "execution_count": 34,
   "metadata": {
    "collapsed": false
   },
   "outputs": [
    {
     "name": "stdout",
     "output_type": "stream",
     "text": [
      "(360, 64)\n",
      "(360,)\n",
      "1\n",
      "182\n",
      "178\n"
     ]
    },
    {
     "data": {
      "image/png": "[encoded data removed]",
      "text/plain": [
       "<matplotlib.figure.Figure at 0x7f80ea0eb1d0>"
      ]
     },
     "metadata": {},
     "output_type": "display_data"
    }
   ],
   "source": [
    "print(X.shape)\n",
    "print(y.shape)\n",
    "plt.imshow(X[50].reshape([8,8]), cmap='gray')\n",
    "print(y[3])\n",
    "print(np.sum(y == 1))\n",
    "print(np.sum(y == 0))"
   ]
  },
  {
   "cell_type": "code",
   "execution_count": 35,
   "metadata": {
    "collapsed": false
   },
   "outputs": [
    {
     "name": "stdout",
     "output_type": "stream",
     "text": [
      "X:\n",
      " [[ 0.  0.  5. 13.  9.  1.  0.  0.  0.  0.]\n",
      " [ 0.  0.  0. 12. 13.  5.  0.  0.  0.  0.]\n",
      " [ 0.  0.  1.  9. 15. 11.  0.  0.  0.  0.]]\n",
      "y:\n",
      " [0 1 0 1 0 1 0 0 1 1]\n"
     ]
    },
    {
     "data": {
      "text/plain": [
       "<matplotlib.image.AxesImage at 0x7f80e9f62198>"
      ]
     },
     "execution_count": 35,
     "metadata": {},
     "output_type": "execute_result"
    },
    {
     "data": {
      "image/png": "[encoded data removed]",
      "text/plain": [
       "<matplotlib.figure.Figure at 0x7f8161671518>"
      ]
     },
     "metadata": {},
     "output_type": "display_data"
    }
   ],
   "source": [
    "print('X:\\n',X[:3,:10])\n",
    "print('y:\\n',y[:10])\n",
    "plt.imshow(X[0].reshape([8,8]))"
   ]
  },
  {
   "cell_type": "code",
   "execution_count": 36,
   "metadata": {
    "collapsed": false
   },
   "outputs": [
    {
     "name": "stdout",
     "output_type": "stream",
     "text": [
      "[-0.21699355  0.02947774 -0.37959421 -1.24545861 -0.69923752  1.30256541\n",
      "  0.46947273  0.79917017 -0.78686594 -1.26099356  0.63095744  0.56457485\n",
      "  0.51913776  2.15289841 -0.81020338  0.24728342  0.05852417 -0.14912985\n",
      "  0.4221218  -1.43603825 -1.18058873 -0.08651379  0.13189964 -1.10345974\n",
      "  0.36596834  1.45192881 -0.14259814 -0.05740042 -0.12608199  0.26153667\n",
      "  0.95007045 -0.7812035  -0.7504936  -0.71366232  1.57360592  0.20056646\n",
      "  0.33952723  0.30115696 -0.52955812 -1.33353534  1.3580407  -1.03169039\n",
      " -0.90986634  0.5758773  -0.07214184 -0.66342876 -0.79958616 -1.28934097\n",
      " -0.48012131 -1.55714232  1.04573772  0.37689355  1.627156    0.18403602\n",
      "  1.15162049  0.97446666 -0.06752699 -0.61370526  1.92955744 -0.86266501\n",
      "  0.18377196  0.89068522  3.25973131  0.74114341]\n"
     ]
    }
   ],
   "source": [
    "print(np.random.randn(64))"
   ]
  },
  {
   "cell_type": "code",
   "execution_count": 37,
   "metadata": {
    "collapsed": false
   },
   "outputs": [
    {
     "name": "stdout",
     "output_type": "stream",
     "text": [
      "Tensor(\"Placeholder_12:0\", shape=(?, 64), dtype=float32)\n",
      "Tensor(\"Placeholder_13:0\", shape=(?,), dtype=uint8)\n",
      "<tf.Variable 'Variable_2:0' shape=(64, 2) dtype=float32_ref>\n"
     ]
    }
   ],
   "source": [
    "# inputs and shareds\n",
    "#weights = <student.code_variable()>\n",
    "#input_X = <student.code_placeholder()>\n",
    "#input_y = <student.code_placeholder()>\n",
    "\n",
    "#input_X = tf.placeholder('int8',shape=(8, 8))\n",
    "#weights = tf.Variable(initial_value=np.random.randn(64, 2), dtype='float32')\n",
    "weights = tf.Variable(initial_value=np.zeros([64, 2]), dtype='float32')\n",
    "input_X = tf.placeholder('float32',shape=(None, 64))\n",
    "input_y = tf.placeholder('uint8', shape=(None,))\n",
    "\n",
    "print(input_X)\n",
    "print(input_y)\n",
    "print(weights)"
   ]
  },
  {
   "cell_type": "code",
   "execution_count": 38,
   "metadata": {
    "collapsed": false
   },
   "outputs": [
    {
     "name": "stdout",
     "output_type": "stream",
     "text": [
      "Tensor(\"Softmax:0\", shape=(?, 2), dtype=float32)\n",
      "Tensor(\"ArgMax:0\", shape=(?,), dtype=int64)\n",
      "Tensor(\"one_hot:0\", shape=(?, 2), dtype=float32)\n",
      "Tensor(\"Neg_2:0\", shape=(), dtype=float32)\n",
      "name: \"GradientDescent\"\n",
      "op: \"NoOp\"\n",
      "input: \"^GradientDescent/update_Variable_2/ApplyGradientDescent\"\n",
      "\n"
     ]
    }
   ],
   "source": [
    "\n",
    "#predicted_y = <predicted probabilities for input_X>\n",
    "#loss = <logistic loss (scalar, mean over sample)>\n",
    "#optimizer = <optimizer that minimizes loss>\n",
    "\n",
    "predicted_y = tf.nn.softmax(tf.matmul(input_X, weights))\n",
    "print(predicted_y)\n",
    "\n",
    "predictions = tf.argmax(predicted_y, axis=1)\n",
    "print(predictions)\n",
    "\n",
    "y_onehot = tf.one_hot(input_y, 2, dtype='float32')\n",
    "print(y_onehot)\n",
    "\n",
    "#loss = tf.reduce_mean((predicted_y - y_onehot)**2)\n",
    "#print(loss)\n",
    "\n",
    "loss = - tf.reduce_mean(y_onehot * tf.log(predicted_y + 1e-10))\n",
    "print(loss)\n",
    "\n",
    "#optimizer = tf.train.MomentumOptimizer(0.001, 0.9).minimize(loss)\n",
    "optimizer = tf.train.GradientDescentOptimizer(0.01).minimize(loss)\n",
    "print(optimizer)\n",
    "\n",
    "#s.run(tf.global_variables_initializer())\n",
    "\n",
    "#print(y.shape)\n",
    "#print(y[0:4])\n",
    "#print(y_onehot.eval({input_y: y}))\n",
    "\n",
    "#print(tf.one_hot(y, 2))\n",
    "#print(X.shape)\n",
    "#predicted_y.eval({input_X: X})"
   ]
  },
  {
   "cell_type": "code",
   "execution_count": 39,
   "metadata": {
    "collapsed": false
   },
   "outputs": [
    {
     "ename": "SyntaxError",
     "evalue": "invalid syntax (<ipython-input-39-5323dd4ca3bc>, line 1)",
     "output_type": "error",
     "traceback": [
      "\u001b[0;36m  File \u001b[0;32m\"<ipython-input-39-5323dd4ca3bc>\"\u001b[0;36m, line \u001b[0;32m1\u001b[0m\n\u001b[0;31m    train_function = <compile function that takes X and y, returns log loss and updates weights>\u001b[0m\n\u001b[0m                     ^\u001b[0m\n\u001b[0;31mSyntaxError\u001b[0m\u001b[0;31m:\u001b[0m invalid syntax\n"
     ]
    }
   ],
   "source": [
    "train_function = <compile function that takes X and y, returns log loss and updates weights>\n",
    "predict_function = <compile function that takes X and computes probabilities of y>"
   ]
  },
  {
   "cell_type": "code",
   "execution_count": 40,
   "metadata": {
    "collapsed": true
   },
   "outputs": [],
   "source": [
    "from sklearn.utils import shuffle\n",
    "\n",
    "def train_function(X, y):\n",
    "    num_samples = X.shape[0]\n",
    "    batch_size = 20\n",
    "    X, y = shuffle(X, y)\n",
    "    \n",
    "    losses = []\n",
    "    for i in range(0, num_samples, batch_size):\n",
    "        end = min(i + batch_size, num_samples)\n",
    "        #print(i, end)\n",
    "        batch_xs, batch_ys = X[i:end], y[i:end]\n",
    "        # Run optimization op (backprop) and cost op (to get loss value)\n",
    "        _, l = sess.run([optimizer, loss], feed_dict={input_X: batch_xs, input_y: batch_ys})\n",
    "        losses.append(l)\n",
    "        #print(l)\n",
    "        \n",
    "    return np.mean(losses)"
   ]
  },
  {
   "cell_type": "code",
   "execution_count": 41,
   "metadata": {
    "collapsed": true
   },
   "outputs": [],
   "source": [
    "def predict_function(X):\n",
    "    preds = sess.run([predictions], feed_dict={input_X: X})\n",
    "    #print(type(preds))\n",
    "    return(np.array(preds).reshape(-1,))\n"
   ]
  },
  {
   "cell_type": "code",
   "execution_count": 42,
   "metadata": {
    "collapsed": false
   },
   "outputs": [
    {
     "name": "stdout",
     "output_type": "stream",
     "text": [
      "0.05421463\n",
      "0.008202323\n",
      "0.005324107\n",
      "0.0043184245\n",
      "0.0035969631\n",
      "0.0030055232\n",
      "0.0026748488\n",
      "0.0023691612\n",
      "0.0021337052\n",
      "0.0019504556\n",
      "Optimization Finished!\n"
     ]
    }
   ],
   "source": [
    "# Initialize the variables (i.e. assign their default value)\n",
    "init = tf.global_variables_initializer()\n",
    "\n",
    "# Start training\n",
    "with tf.Session() as sess:\n",
    "    # Run the initializer\n",
    "    sess.run(init)\n",
    "\n",
    "    # Training cycle\n",
    "    for epoch in range(10):\n",
    "        # Loop over all batches\n",
    "        mean_loss = train_function(X, y)\n",
    "        print(mean_loss)\n",
    "\n",
    "print(\"Optimization Finished!\")\n"
   ]
  },
  {
   "cell_type": "code",
   "execution_count": 43,
   "metadata": {
    "collapsed": true
   },
   "outputs": [],
   "source": [
    "from sklearn.model_selection import train_test_split\n",
    "X_train, X_test, y_train, y_test = train_test_split(X, y)"
   ]
  },
  {
   "cell_type": "code",
   "execution_count": 44,
   "metadata": {
    "collapsed": false
   },
   "outputs": [
    {
     "name": "stdout",
     "output_type": "stream",
     "text": [
      "(270,)\n"
     ]
    }
   ],
   "source": [
    "print(y_train.shape)"
   ]
  },
  {
   "cell_type": "code",
   "execution_count": 45,
   "metadata": {
    "collapsed": false
   },
   "outputs": [
    {
     "name": "stdout",
     "output_type": "stream",
     "text": [
      "loss at iter 0:0.1327\n",
      "train auc: 1.0\n",
      "test auc: 0.9777777777777779\n",
      "loss at iter 1:0.0048\n",
      "train auc: 1.0\n",
      "test auc: 1.0\n",
      "loss at iter 2:0.0036\n",
      "train auc: 1.0\n",
      "test auc: 1.0\n",
      "loss at iter 3:0.0036\n",
      "train auc: 1.0\n",
      "test auc: 1.0\n",
      "loss at iter 4:0.0029\n",
      "train auc: 1.0\n",
      "test auc: 1.0\n",
      "resulting weights:\n",
      "[[ 0.00000000e+00  0.00000000e+00]\n",
      " [-2.55723164e-04  2.55723164e-04]\n",
      " [ 2.11856398e-03 -2.11856095e-03]\n",
      " [ 1.82725377e-02 -1.82725303e-02]\n",
      " [ 8.62704590e-04 -8.62695684e-04]\n",
      " [-2.12996546e-02  2.12996583e-02]\n",
      " [-4.36148979e-03  4.36148886e-03]\n",
      " [ 0.00000000e+00  0.00000000e+00]\n",
      " [ 0.00000000e+00  0.00000000e+00]\n",
      " [ 6.20960782e-04 -6.20959443e-04]\n",
      " [ 2.97290254e-02 -2.97290180e-02]\n",
      " [ 5.54298982e-03 -5.54297538e-03]\n",
      " [-1.31852347e-02  1.31852422e-02]\n",
      " [ 6.25338592e-03 -6.25337474e-03]\n",
      " [-2.39588274e-03  2.39588274e-03]\n",
      " [ 0.00000000e+00  0.00000000e+00]\n",
      " [-5.95046906e-04  5.95046906e-04]\n",
      " [ 4.67241649e-03 -4.67240997e-03]\n",
      " [ 2.57362016e-02 -2.57362053e-02]\n",
      " [-3.93030569e-02  3.93030681e-02]\n",
      " [-5.46001270e-02  5.46001308e-02]\n",
      " [ 2.09618509e-02 -2.09618304e-02]\n",
      " [ 9.46598034e-03 -9.46597848e-03]\n",
      " [ 0.00000000e+00  0.00000000e+00]\n",
      " [-2.97523453e-04  2.97523453e-04]\n",
      " [ 6.88508060e-03 -6.88506849e-03]\n",
      " [ 1.08280797e-02 -1.08280703e-02]\n",
      " [-5.15351556e-02  5.15351370e-02]\n",
      " [-5.92323802e-02  5.92323728e-02]\n",
      " [ 1.21317375e-02 -1.21317338e-02]\n",
      " [ 2.47487705e-02 -2.47487687e-02]\n",
      " [ 0.00000000e+00  0.00000000e+00]\n",
      " [ 0.00000000e+00  0.00000000e+00]\n",
      " [ 1.72871612e-02 -1.72871556e-02]\n",
      " [ 2.43943371e-02 -2.43943408e-02]\n",
      " [-4.14036363e-02  4.14036438e-02]\n",
      " [-6.00472838e-02  6.00472875e-02]\n",
      " [ 1.41421808e-02 -1.41421724e-02]\n",
      " [ 2.74317041e-02 -2.74316892e-02]\n",
      " [ 0.00000000e+00  0.00000000e+00]\n",
      " [ 0.00000000e+00  0.00000000e+00]\n",
      " [ 1.15401400e-02 -1.15401354e-02]\n",
      " [ 4.15252745e-02 -4.15252596e-02]\n",
      " [-2.86944099e-02  2.86944248e-02]\n",
      " [-4.70606424e-02  4.70606424e-02]\n",
      " [ 2.04973109e-02 -2.04972997e-02]\n",
      " [ 2.46323310e-02 -2.46323273e-02]\n",
      " [ 0.00000000e+00  0.00000000e+00]\n",
      " [ 0.00000000e+00  0.00000000e+00]\n",
      " [ 2.01121415e-03 -2.01121229e-03]\n",
      " [ 3.46566439e-02 -3.46566178e-02]\n",
      " [ 6.12310320e-03 -6.12308923e-03]\n",
      " [-1.00669349e-02  1.00669395e-02]\n",
      " [ 1.95597522e-02 -1.95597541e-02]\n",
      " [-9.43893741e-04  9.43895313e-04]\n",
      " [-4.72282246e-03  4.72282059e-03]\n",
      " [ 0.00000000e+00  0.00000000e+00]\n",
      " [-1.65560377e-05  1.65560250e-05]\n",
      " [ 2.19750428e-03 -2.19750009e-03]\n",
      " [ 2.14681812e-02 -2.14681588e-02]\n",
      " [-1.14424666e-03  1.14426005e-03]\n",
      " [-2.23100353e-02  2.23100428e-02]\n",
      " [-1.41192069e-02  1.41192107e-02]\n",
      " [-5.95064275e-03  5.95064042e-03]]\n"
     ]
    },
    {
     "data": {
      "image/png": "[encoded data removed]",
      "text/plain": [
       "<matplotlib.figure.Figure at 0x7f80e919d3c8>"
      ]
     },
     "metadata": {},
     "output_type": "display_data"
    }
   ],
   "source": [
    "from sklearn.metrics import roc_auc_score\n",
    "\n",
    "init = tf.global_variables_initializer()\n",
    "\n",
    "# Start training\n",
    "with tf.Session() as sess:\n",
    "    # Run the initializer\n",
    "    sess.run(init)\n",
    "\n",
    "    for i in range(5):\n",
    "        #<run optimizer operation>\n",
    "        #loss_i = <compute loss at iteration i>\n",
    "        loss_i = train_function(X_train, y_train)\n",
    "\n",
    "        print(\"loss at iter %i:%.4f\" % (i, loss_i))\n",
    "        \n",
    "        #print(y_train.shape)\n",
    "        #preds = predict_function(X_train)\n",
    "        #print(preds.shape)\n",
    "        #print(preds[0:100])\n",
    "        #print(y_train[0:100])\n",
    "        #print(y_test.shape)\n",
    "        \n",
    "        print(\"train auc:\",roc_auc_score(y_train, predict_function(X_train)))\n",
    "        print(\"test auc:\",roc_auc_score(y_test, predict_function(X_test)))\n",
    "\n",
    "    \n",
    "    print (\"resulting weights:\")\n",
    "    #weights.\n",
    "    print(sess.run(weights))\n",
    "    plt.imshow(sess.run(weights).reshape(8, -1))\n",
    "    plt.colorbar();"
   ]
  },
  {
   "cell_type": "markdown",
   "metadata": {},
   "source": [
    "# Bonus: my1stNN\n",
    "Your ultimate task for this week is to build your first neural network [almost] from scratch and pure tensorflow.\n",
    "\n",
    "This time you will same digit recognition problem, but at a larger scale\n",
    "* images are now 28x28\n",
    "* 10 different digits\n",
    "* 50k samples\n",
    "\n",
    "Note that you are not required to build 152-layer monsters here. A 2-layer (one hidden, one output) NN should already have ive you an edge over logistic regression.\n",
    "\n",
    "__[bonus score]__\n",
    "If you've already beaten logistic regression with a two-layer net, but enthusiasm still ain't gone, you can try improving the test accuracy even further! The milestones would be 95%/97.5%/98.5% accuraсy on test set.\n",
    "\n",
    "__SPOILER!__\n",
    "At the end of the notebook you will find a few tips and frequently made mistakes. If you feel enough might to shoot yourself in the foot without external assistance, we encourage you to do so, but if you encounter any unsurpassable issues, please do look there before mailing us."
   ]
  },
  {
   "cell_type": "code",
   "execution_count": 46,
   "metadata": {
    "collapsed": false
   },
   "outputs": [
    {
     "name": "stderr",
     "output_type": "stream",
     "text": [
      "Using TensorFlow backend.\n"
     ]
    },
    {
     "name": "stdout",
     "output_type": "stream",
     "text": [
      "(50000, 28, 28) (50000,)\n",
      "(10000, 28, 28) (10000,)\n"
     ]
    }
   ],
   "source": [
    "#from mnist import load_dataset\n",
    "from preprocessed_mnist import load_dataset\n",
    "\n",
    "#[down]loading the original MNIST dataset.\n",
    "#Please note that you should only train your NN on _train sample,\n",
    "# _val can be used to evaluate out-of-sample error, compare models or perform early-stopping\n",
    "# _test should be hidden under a rock untill final evaluation... But we both know it is near impossible to catch you evaluating on it.\n",
    "X_train,y_train,X_val,y_val,X_test,y_test = load_dataset()\n",
    "\n",
    "print (X_train.shape, y_train.shape)\n",
    "print (X_test.shape, y_test.shape)"
   ]
  },
  {
   "cell_type": "code",
   "execution_count": 47,
   "metadata": {
    "collapsed": false
   },
   "outputs": [
    {
     "name": "stdout",
     "output_type": "stream",
     "text": [
      "5\n"
     ]
    },
    {
     "data": {
      "image/png": "[encoded data removed]",
      "text/plain": [
       "<matplotlib.figure.Figure at 0x7f80e918c438>"
      ]
     },
     "metadata": {},
     "output_type": "display_data"
    }
   ],
   "source": [
    "plt.imshow(X_train[0])\n",
    "print(y_train[0])"
   ]
  },
  {
   "cell_type": "code",
   "execution_count": 48,
   "metadata": {
    "collapsed": false
   },
   "outputs": [
    {
     "name": "stdout",
     "output_type": "stream",
     "text": [
      "4932\n",
      "5678\n",
      "4968\n",
      "5101\n",
      "4859\n",
      "4506\n",
      "4951\n",
      "5175\n",
      "4842\n",
      "4988\n",
      "total:  50000\n",
      "784\n"
     ]
    }
   ],
   "source": [
    "sum = 0\n",
    "for i in range(10):\n",
    "    sum_i = np.sum(y_train == i)\n",
    "    sum += sum_i\n",
    "    print(sum_i)\n",
    "print(\"total: \", sum)\n",
    "print(28*28)"
   ]
  },
  {
   "cell_type": "code",
   "execution_count": 49,
   "metadata": {
    "collapsed": false
   },
   "outputs": [
    {
     "name": "stdout",
     "output_type": "stream",
     "text": [
      "(784,)\n",
      "50000\n",
      "784\n"
     ]
    }
   ],
   "source": [
    "print(X_train[0].reshape(-1,).shape)\n",
    "print(X_train.shape[0])\n",
    "print(X_train.shape[1] * X_train.shape[2])"
   ]
  },
  {
   "cell_type": "code",
   "execution_count": 50,
   "metadata": {
    "collapsed": false
   },
   "outputs": [
    {
     "name": "stdout",
     "output_type": "stream",
     "text": [
      "(50000, 784)\n",
      "(10000, 784)\n",
      "(10000, 784)\n"
     ]
    }
   ],
   "source": [
    "def flatten(X):\n",
    "    return X.reshape([X.shape[0], X.shape[1] * X.shape[2]])\n",
    "\n",
    "X_train = flatten(X_train)\n",
    "X_val = flatten(X_val)\n",
    "X_test = flatten(X_test)\n",
    "\n",
    "print(X_train.shape)\n",
    "print(X_val.shape)\n",
    "print(X_test.shape)"
   ]
  },
  {
   "cell_type": "code",
   "execution_count": 51,
   "metadata": {
    "collapsed": true
   },
   "outputs": [],
   "source": [
    "n_labels = 10\n",
    "n_pixels = 28 * 28 \n",
    "n_neurons = 200"
   ]
  },
  {
   "cell_type": "code",
   "execution_count": 52,
   "metadata": {
    "collapsed": false
   },
   "outputs": [
    {
     "name": "stdout",
     "output_type": "stream",
     "text": [
      "[[ 0.01196943  0.01166961  0.00042675]\n",
      " [-0.0188816   0.0137169   0.00666795]]\n"
     ]
    }
   ],
   "source": [
    "pipo = 0.01 * np.random.randn(2,3)\n",
    "print(pipo)"
   ]
  },
  {
   "cell_type": "code",
   "execution_count": 53,
   "metadata": {
    "collapsed": false
   },
   "outputs": [
    {
     "name": "stdout",
     "output_type": "stream",
     "text": [
      "Tensor(\"Placeholder_14:0\", shape=(?, 784), dtype=float32)\n",
      "Tensor(\"Placeholder_15:0\", shape=(?,), dtype=uint8)\n",
      "<tf.Variable 'Variable_9:0' shape=(784, 10) dtype=float32_ref>\n",
      "<tf.Variable 'Variable_3:0' shape=(784, 200) dtype=float32_ref>\n",
      "<tf.Variable 'Variable_4:0' shape=(200,) dtype=float32_ref>\n",
      "<tf.Variable 'Variable_5:0' shape=(200, 200) dtype=float32_ref>\n",
      "<tf.Variable 'Variable_6:0' shape=(200,) dtype=float32_ref>\n",
      "<tf.Variable 'Variable_7:0' shape=(200, 10) dtype=float32_ref>\n",
      "<tf.Variable 'Variable_8:0' shape=(10,) dtype=float32_ref>\n"
     ]
    }
   ],
   "source": [
    "# Neural Network setup\n",
    "#* np.sqrt(2.0/(784))\n",
    "sigma = 0.001\n",
    "sigma = 1e-6\n",
    "\n",
    "W1 = tf.Variable(initial_value = np.sqrt(1 / n_pixels) * np.random.randn(n_pixels, n_neurons), dtype='float32')\n",
    "b1 = tf.Variable(initial_value = np.zeros([n_neurons]), dtype='float32')\n",
    "\n",
    "W2 = tf.Variable(initial_value = np.sqrt(1 / n_neurons) * np.random.randn(n_neurons, n_neurons), dtype='float32')\n",
    "b2 = tf.Variable(initial_value = np.zeros([n_neurons]), dtype='float32')\n",
    "\n",
    "W = tf.Variable(initial_value = np.zeros([n_neurons, n_labels]), dtype='float32')\n",
    "b = tf.Variable(initial_value = np.zeros([n_labels]), dtype='float32')\n",
    "\n",
    "weights = tf.Variable(initial_value=np.zeros([n_pixels, n_labels]), dtype='float32')\n",
    "biases = tf.Variable(initial_value=np.zeros([n_labels]), dtype='float32')\n",
    "\n",
    "input_X = tf.placeholder('float32',shape=(None, n_pixels))\n",
    "input_y = tf.placeholder('uint8', shape=(None,))\n",
    "\n",
    "print(input_X)\n",
    "print(input_y)\n",
    "print(weights)\n",
    "\n",
    "print(W1)\n",
    "print(b1)\n",
    "print(W2)\n",
    "print(b2)\n",
    "print(W)\n",
    "print(b)"
   ]
  },
  {
   "cell_type": "code",
   "execution_count": 54,
   "metadata": {
    "collapsed": false
   },
   "outputs": [
    {
     "name": "stdout",
     "output_type": "stream",
     "text": [
      "Tensor(\"Softmax_1:0\", shape=(?, 10), dtype=float32)\n",
      "Tensor(\"ArgMax_1:0\", shape=(?,), dtype=int64)\n"
     ]
    }
   ],
   "source": [
    "#<here you could just as well create computation graph>\n",
    "\n",
    "predicted_y = tf.nn.softmax(tf.matmul(input_X, weights) + biases)\n",
    "print(predicted_y)\n",
    "predictions = tf.argmax(predicted_y, axis=1)\n",
    "print(predictions)"
   ]
  },
  {
   "cell_type": "code",
   "execution_count": 55,
   "metadata": {
    "collapsed": false
   },
   "outputs": [
    {
     "name": "stdout",
     "output_type": "stream",
     "text": [
      "Tensor(\"one_hot_1:0\", shape=(?, 10), dtype=float32)\n",
      "Tensor(\"Neg_3:0\", shape=(), dtype=float32)\n",
      "name: \"Adam\"\n",
      "op: \"NoOp\"\n",
      "input: \"^Adam/update_Variable_9/ApplyAdam\"\n",
      "input: \"^Adam/update_Variable_10/ApplyAdam\"\n",
      "input: \"^Adam/Assign\"\n",
      "input: \"^Adam/Assign_1\"\n",
      "\n"
     ]
    }
   ],
   "source": [
    "#<this may or may not be a good place to evaluating loss and optimizer>\n",
    "\n",
    "y_onehot = tf.one_hot(input_y, n_labels, dtype='float32')\n",
    "print(y_onehot)\n",
    "\n",
    "loss = - tf.reduce_mean(y_onehot * tf.log(predicted_y + 1e-10))\n",
    "print(loss)\n",
    "\n",
    "#optimizer = tf.train.MomentumOptimizer(0.001, 0.9).minimize(loss)\n",
    "#optimizer = tf.train.GradientDescentOptimizer(0.01).minimize(loss)\n",
    "optimizer = tf.train.AdamOptimizer(0.001).minimize(loss)\n",
    "print(optimizer)"
   ]
  },
  {
   "cell_type": "code",
   "execution_count": 74,
   "metadata": {
    "collapsed": false
   },
   "outputs": [
    {
     "name": "stdout",
     "output_type": "stream",
     "text": [
      "Tensor(\"Softmax_6:0\", shape=(?, 10), dtype=float32)\n",
      "Tensor(\"ArgMax_6:0\", shape=(?,), dtype=int64)\n",
      "Tensor(\"add_35:0\", shape=(), dtype=float32)\n",
      "name: \"Momentum_1\"\n",
      "op: \"NoOp\"\n",
      "input: \"^Momentum_1/update_Variable_3/ApplyMomentum\"\n",
      "input: \"^Momentum_1/update_Variable_4/ApplyMomentum\"\n",
      "input: \"^Momentum_1/update_Variable_5/ApplyMomentum\"\n",
      "input: \"^Momentum_1/update_Variable_6/ApplyMomentum\"\n",
      "input: \"^Momentum_1/update_Variable_7/ApplyMomentum\"\n",
      "input: \"^Momentum_1/update_Variable_8/ApplyMomentum\"\n",
      "\n"
     ]
    }
   ],
   "source": [
    "# Neural Network setup\n",
    "\n",
    "z1 = tf.matmul(input_X, W1) + b1\n",
    "z2 = tf.sigmoid(z1)\n",
    "\n",
    "z3 = tf.matmul(z2, W2) + b2\n",
    "z4 = tf.sigmoid(z3)\n",
    "\n",
    "nn_predicted_y = tf.nn.softmax(tf.matmul(z4, W) + b)\n",
    "print(nn_predicted_y)\n",
    "\n",
    "nn_predictions = tf.argmax(nn_predicted_y, axis=1)\n",
    "print(nn_predictions)\n",
    "\n",
    "nn_loss = - tf.reduce_mean(y_onehot * tf.log(nn_predicted_y + 1e-10))\n",
    "\n",
    "# L2 regularization added\n",
    "reg = tf.nn.l2_loss(W1) + tf.nn.l2_loss(W2)\n",
    "nn_loss = nn_loss + 1e-5 * reg\n",
    "\n",
    "print(nn_loss)\n",
    "\n",
    "nn_optimizer = tf.train.MomentumOptimizer(0.2, 0.95).minimize(nn_loss)\n",
    "#nn_optimizer = tf.train.GradientDescentOptimizer(0.01).minimize(nn_loss)\n",
    "#nn_optimizer = tf.train.AdamOptimizer(0.01).minimize(nn_loss)\n",
    "print(nn_optimizer)"
   ]
  },
  {
   "cell_type": "code",
   "execution_count": 65,
   "metadata": {
    "collapsed": true
   },
   "outputs": [],
   "source": [
    "#<this may be a perfect cell to write a training&evaluation loop in>"
   ]
  },
  {
   "cell_type": "code",
   "execution_count": 66,
   "metadata": {
    "collapsed": true
   },
   "outputs": [],
   "source": [
    "from sklearn.utils import shuffle\n",
    "\n",
    "def train_function(X, y):\n",
    "    num_samples = X.shape[0]\n",
    "    batch_size = 20\n",
    "    X, y = shuffle(X, y)\n",
    "    \n",
    "    losses = []\n",
    "    for i in range(0, num_samples, batch_size):\n",
    "        end = min(i + batch_size, num_samples)\n",
    "        #print(i, end)\n",
    "        batch_xs, batch_ys = X[i:end], y[i:end]\n",
    "        # Run optimization op (backprop) and cost op (to get loss value)\n",
    "        _, l = sess.run([optimizer, loss], feed_dict={input_X: batch_xs, input_y: batch_ys})\n",
    "        losses.append(l)\n",
    "        #print(l)\n",
    "        \n",
    "    return np.mean(losses)\n",
    "\n",
    "\n",
    "def predict_function(X):\n",
    "    preds = sess.run([predictions], feed_dict={input_X: X})\n",
    "    #print(type(preds))\n",
    "    return(np.array(preds).reshape(-1,))"
   ]
  },
  {
   "cell_type": "code",
   "execution_count": 75,
   "metadata": {
    "collapsed": true
   },
   "outputs": [],
   "source": [
    "def nn_train_function(X, y):\n",
    "    num_samples = X.shape[0]\n",
    "    batch_size = 256\n",
    "    X, y = shuffle(X, y)\n",
    "    \n",
    "    losses = []\n",
    "    for i in range(0, num_samples, batch_size):\n",
    "        end = min(i + batch_size, num_samples)\n",
    "        #print(i, end)\n",
    "        batch_xs, batch_ys = X[i:end], y[i:end]\n",
    "        # Run optimization op (backprop) and cost op (to get loss value)\n",
    "        _, l = sess.run([nn_optimizer, nn_loss], feed_dict={input_X: batch_xs, input_y: batch_ys})\n",
    "        losses.append(l)\n",
    "        #print(l)\n",
    "        \n",
    "    return np.mean(losses)\n",
    "\n",
    "\n",
    "def nn_predict_function(X):\n",
    "    preds = sess.run([nn_predictions], feed_dict={input_X: X})\n",
    "    #print(type(preds))\n",
    "    return(np.array(preds).reshape(-1,))"
   ]
  },
  {
   "cell_type": "code",
   "execution_count": null,
   "metadata": {
    "collapsed": true
   },
   "outputs": [],
   "source": [
    "#<predict & evaluate on test here, right? No cheating pls.>"
   ]
  },
  {
   "cell_type": "code",
   "execution_count": null,
   "metadata": {
    "collapsed": false
   },
   "outputs": [],
   "source": [
    "init = tf.global_variables_initializer()\n",
    "\n",
    "# Start training\n",
    "with tf.Session() as sess:\n",
    "    # Run the initializer\n",
    "    sess.run(init)\n",
    "\n",
    "    for i in range(5):\n",
    "        #<run optimizer operation>\n",
    "        #loss_i = <compute loss at iteration i>\n",
    "        loss_i = train_function(X_train, y_train)\n",
    "\n",
    "        print(\"\\nloss at iter %i: %.4f\" % (i, loss_i))\n",
    "        \n",
    "        preds = predict_function(X_train)\n",
    "        train_acc = np.sum(y_train == preds) / len(preds)\n",
    "        print(\"train accuracy: \", train_acc)\n",
    "        \n",
    "        preds = predict_function(X_val)\n",
    "        val_acc = np.sum(y_val == preds) / len(preds)\n",
    "        print(\"val accuracy: \", val_acc)\n",
    "            \n",
    "        #print(\"train auc:\",roc_auc_score(y_train, predict_function(X_train)))\n",
    "        #print(\"test auc:\",roc_auc_score(y_test, predict_function(X_test)))\n",
    "        \n",
    "    preds = predict_function(X_test)\n",
    "    test_acc = np.sum(y_test == preds) / len(preds)\n",
    "    print(\"\\nTEST ACCURACY: \", test_acc)"
   ]
  },
  {
   "cell_type": "code",
   "execution_count": 76,
   "metadata": {
    "collapsed": false
   },
   "outputs": [
    {
     "name": "stdout",
     "output_type": "stream",
     "text": [
      "\n",
      "loss at iter 0: 0.2199\n",
      "train accuracy:  0.43434\n",
      "val accuracy:  0.4422\n",
      "\n",
      "loss at iter 1: 0.0939\n",
      "train accuracy:  0.81844\n",
      "val accuracy:  0.8336\n",
      "\n",
      "loss at iter 2: 0.0507\n",
      "train accuracy:  0.8816\n",
      "val accuracy:  0.8907\n",
      "\n",
      "loss at iter 3: 0.0413\n",
      "train accuracy:  0.8927\n",
      "val accuracy:  0.901\n",
      "\n",
      "loss at iter 4: 0.0376\n",
      "train accuracy:  0.9029\n",
      "val accuracy:  0.9087\n",
      "\n",
      "loss at iter 5: 0.0352\n",
      "train accuracy:  0.91108\n",
      "val accuracy:  0.917\n",
      "\n",
      "loss at iter 6: 0.0333\n",
      "train accuracy:  0.91458\n",
      "val accuracy:  0.9191\n",
      "\n",
      "loss at iter 7: 0.0315\n",
      "train accuracy:  0.92122\n",
      "val accuracy:  0.9243\n",
      "\n",
      "loss at iter 8: 0.0301\n",
      "train accuracy:  0.92482\n",
      "val accuracy:  0.9293\n",
      "\n",
      "loss at iter 9: 0.0287\n",
      "train accuracy:  0.9283\n",
      "val accuracy:  0.9325\n",
      "\n",
      "loss at iter 10: 0.0273\n",
      "train accuracy:  0.9307\n",
      "val accuracy:  0.9363\n",
      "\n",
      "loss at iter 11: 0.0261\n",
      "train accuracy:  0.9369\n",
      "val accuracy:  0.9408\n",
      "\n",
      "loss at iter 12: 0.0248\n",
      "train accuracy:  0.94046\n",
      "val accuracy:  0.9449\n",
      "\n",
      "loss at iter 13: 0.0237\n",
      "train accuracy:  0.94354\n",
      "val accuracy:  0.9478\n",
      "\n",
      "loss at iter 14: 0.0228\n",
      "train accuracy:  0.94554\n",
      "val accuracy:  0.9477\n",
      "\n",
      "loss at iter 15: 0.0219\n",
      "train accuracy:  0.94856\n",
      "val accuracy:  0.952\n",
      "\n",
      "loss at iter 16: 0.0212\n",
      "train accuracy:  0.9508\n",
      "val accuracy:  0.9545\n",
      "\n",
      "loss at iter 17: 0.0203\n",
      "train accuracy:  0.95384\n",
      "val accuracy:  0.9568\n",
      "\n",
      "loss at iter 18: 0.0194\n",
      "train accuracy:  0.95518\n",
      "val accuracy:  0.9563\n",
      "\n",
      "loss at iter 19: 0.0188\n",
      "train accuracy:  0.95794\n",
      "val accuracy:  0.9584\n",
      "\n",
      "loss at iter 20: 0.0182\n",
      "train accuracy:  0.9585\n",
      "val accuracy:  0.9601\n",
      "\n",
      "loss at iter 21: 0.0177\n",
      "train accuracy:  0.96074\n",
      "val accuracy:  0.961\n",
      "\n",
      "loss at iter 22: 0.0172\n",
      "train accuracy:  0.963\n",
      "val accuracy:  0.9626\n",
      "\n",
      "loss at iter 23: 0.0166\n",
      "train accuracy:  0.96502\n",
      "val accuracy:  0.962\n",
      "\n",
      "loss at iter 24: 0.0161\n",
      "train accuracy:  0.96684\n",
      "val accuracy:  0.9647\n",
      "\n",
      "loss at iter 25: 0.0158\n",
      "train accuracy:  0.96854\n",
      "val accuracy:  0.966\n",
      "\n",
      "loss at iter 26: 0.0153\n",
      "train accuracy:  0.96966\n",
      "val accuracy:  0.9666\n",
      "\n",
      "loss at iter 27: 0.0150\n",
      "train accuracy:  0.97076\n",
      "val accuracy:  0.9679\n",
      "\n",
      "loss at iter 28: 0.0146\n",
      "train accuracy:  0.97148\n",
      "val accuracy:  0.9677\n",
      "\n",
      "loss at iter 29: 0.0142\n",
      "train accuracy:  0.97286\n",
      "val accuracy:  0.9677\n",
      "\n",
      "loss at iter 30: 0.0139\n",
      "train accuracy:  0.97432\n",
      "val accuracy:  0.9704\n",
      "\n",
      "loss at iter 31: 0.0136\n",
      "train accuracy:  0.97312\n",
      "val accuracy:  0.9677\n",
      "\n",
      "loss at iter 32: 0.0135\n",
      "train accuracy:  0.97466\n",
      "val accuracy:  0.9689\n",
      "\n",
      "loss at iter 33: 0.0132\n",
      "train accuracy:  0.97654\n",
      "val accuracy:  0.9707\n",
      "\n",
      "loss at iter 34: 0.0128\n",
      "train accuracy:  0.97624\n",
      "val accuracy:  0.9696\n",
      "\n",
      "loss at iter 35: 0.0127\n",
      "train accuracy:  0.97924\n",
      "val accuracy:  0.9721\n",
      "\n",
      "loss at iter 36: 0.0124\n",
      "train accuracy:  0.97748\n",
      "val accuracy:  0.9699\n",
      "\n",
      "loss at iter 37: 0.0122\n",
      "train accuracy:  0.97984\n",
      "val accuracy:  0.9723\n",
      "\n",
      "loss at iter 38: 0.0119\n",
      "train accuracy:  0.97888\n",
      "val accuracy:  0.9712\n",
      "\n",
      "loss at iter 39: 0.0119\n",
      "train accuracy:  0.98026\n",
      "val accuracy:  0.9712\n",
      "\n",
      "loss at iter 40: 0.0116\n",
      "train accuracy:  0.98096\n",
      "val accuracy:  0.9716\n",
      "\n",
      "loss at iter 41: 0.0114\n",
      "train accuracy:  0.98108\n",
      "val accuracy:  0.9704\n",
      "\n",
      "loss at iter 42: 0.0112\n",
      "train accuracy:  0.98244\n",
      "val accuracy:  0.9727\n",
      "\n",
      "loss at iter 43: 0.0110\n",
      "train accuracy:  0.9833\n",
      "val accuracy:  0.9741\n",
      "\n",
      "loss at iter 44: 0.0108\n",
      "train accuracy:  0.98334\n",
      "val accuracy:  0.9736\n",
      "\n",
      "loss at iter 45: 0.0107\n",
      "train accuracy:  0.98418\n",
      "val accuracy:  0.9733\n",
      "\n",
      "loss at iter 46: 0.0107\n",
      "train accuracy:  0.9844\n",
      "val accuracy:  0.9739\n",
      "\n",
      "loss at iter 47: 0.0104\n",
      "train accuracy:  0.98544\n",
      "val accuracy:  0.9749\n",
      "\n",
      "loss at iter 48: 0.0102\n",
      "train accuracy:  0.98542\n",
      "val accuracy:  0.9735\n",
      "\n",
      "loss at iter 49: 0.0103\n",
      "train accuracy:  0.98618\n",
      "val accuracy:  0.9733\n",
      "\n",
      "loss at iter 50: 0.0101\n",
      "train accuracy:  0.98656\n",
      "val accuracy:  0.9745\n",
      "\n",
      "loss at iter 51: 0.0098\n",
      "train accuracy:  0.9858\n",
      "val accuracy:  0.9751\n",
      "\n",
      "loss at iter 52: 0.0098\n",
      "train accuracy:  0.9873\n",
      "val accuracy:  0.9741\n",
      "\n",
      "loss at iter 53: 0.0097\n",
      "train accuracy:  0.98798\n",
      "val accuracy:  0.9748\n",
      "\n",
      "loss at iter 54: 0.0096\n",
      "train accuracy:  0.9881\n",
      "val accuracy:  0.9755\n",
      "\n",
      "loss at iter 55: 0.0094\n",
      "train accuracy:  0.9891\n",
      "val accuracy:  0.9756\n",
      "\n",
      "loss at iter 56: 0.0093\n",
      "train accuracy:  0.9892\n",
      "val accuracy:  0.9743\n",
      "\n",
      "loss at iter 57: 0.0092\n",
      "train accuracy:  0.98976\n",
      "val accuracy:  0.9754\n",
      "\n",
      "loss at iter 58: 0.0092\n",
      "train accuracy:  0.98898\n",
      "val accuracy:  0.9762\n",
      "\n",
      "loss at iter 59: 0.0090\n",
      "train accuracy:  0.98814\n",
      "val accuracy:  0.9728\n",
      "\n",
      "loss at iter 60: 0.0089\n",
      "train accuracy:  0.98958\n",
      "val accuracy:  0.9748\n",
      "\n",
      "loss at iter 61: 0.0089\n",
      "train accuracy:  0.99022\n",
      "val accuracy:  0.975\n",
      "\n",
      "loss at iter 62: 0.0088\n",
      "train accuracy:  0.98902\n",
      "val accuracy:  0.975\n",
      "\n",
      "loss at iter 63: 0.0087\n",
      "train accuracy:  0.9911\n",
      "val accuracy:  0.9755\n",
      "\n",
      "loss at iter 64: 0.0087\n",
      "train accuracy:  0.99158\n",
      "val accuracy:  0.9757\n",
      "\n",
      "loss at iter 65: 0.0085\n",
      "train accuracy:  0.99164\n",
      "val accuracy:  0.9754\n",
      "\n",
      "loss at iter 66: 0.0084\n",
      "train accuracy:  0.99164\n",
      "val accuracy:  0.9765\n",
      "\n",
      "loss at iter 67: 0.0084\n",
      "train accuracy:  0.99216\n",
      "val accuracy:  0.9766\n",
      "\n",
      "loss at iter 68: 0.0084\n",
      "train accuracy:  0.99274\n",
      "val accuracy:  0.976\n",
      "\n",
      "loss at iter 69: 0.0083\n",
      "train accuracy:  0.9921\n",
      "val accuracy:  0.9747\n",
      "\n",
      "loss at iter 70: 0.0081\n",
      "train accuracy:  0.99314\n",
      "val accuracy:  0.9767\n",
      "\n",
      "loss at iter 71: 0.0081\n",
      "train accuracy:  0.99174\n",
      "val accuracy:  0.9766\n",
      "\n",
      "loss at iter 72: 0.0081\n",
      "train accuracy:  0.99256\n",
      "val accuracy:  0.9764\n",
      "\n",
      "loss at iter 73: 0.0080\n",
      "train accuracy:  0.99336\n",
      "val accuracy:  0.9768\n",
      "\n",
      "loss at iter 74: 0.0079\n",
      "train accuracy:  0.99404\n",
      "val accuracy:  0.9757\n",
      "\n",
      "loss at iter 75: 0.0077\n",
      "train accuracy:  0.99464\n",
      "val accuracy:  0.9768\n",
      "\n",
      "loss at iter 76: 0.0077\n",
      "train accuracy:  0.99388\n",
      "val accuracy:  0.9772\n",
      "\n",
      "loss at iter 77: 0.0077\n",
      "train accuracy:  0.99482\n",
      "val accuracy:  0.9774\n",
      "\n",
      "loss at iter 78: 0.0077\n",
      "train accuracy:  0.9946\n",
      "val accuracy:  0.978\n",
      "\n",
      "loss at iter 79: 0.0076\n",
      "train accuracy:  0.99438\n",
      "val accuracy:  0.9782\n",
      "\n",
      "loss at iter 80: 0.0076\n",
      "train accuracy:  0.99532\n",
      "val accuracy:  0.9781\n",
      "\n",
      "loss at iter 81: 0.0074\n",
      "train accuracy:  0.99504\n",
      "val accuracy:  0.9771\n",
      "\n",
      "loss at iter 82: 0.0073\n",
      "train accuracy:  0.99602\n",
      "val accuracy:  0.9778\n",
      "\n",
      "loss at iter 83: 0.0074\n",
      "train accuracy:  0.9951\n",
      "val accuracy:  0.9766\n",
      "\n",
      "loss at iter 84: 0.0073\n",
      "train accuracy:  0.99522\n",
      "val accuracy:  0.978\n",
      "\n",
      "loss at iter 85: 0.0074\n",
      "train accuracy:  0.99628\n",
      "val accuracy:  0.9784\n",
      "\n",
      "loss at iter 86: 0.0072\n",
      "train accuracy:  0.99626\n",
      "val accuracy:  0.9776\n",
      "\n",
      "loss at iter 87: 0.0072\n",
      "train accuracy:  0.99566\n",
      "val accuracy:  0.9788\n",
      "\n",
      "loss at iter 88: 0.0071\n",
      "train accuracy:  0.99564\n",
      "val accuracy:  0.978\n",
      "\n",
      "loss at iter 89: 0.0071\n",
      "train accuracy:  0.99666\n",
      "val accuracy:  0.9792\n",
      "\n",
      "loss at iter 90: 0.0071\n",
      "train accuracy:  0.99594\n",
      "val accuracy:  0.9782\n",
      "\n",
      "loss at iter 91: 0.0070\n",
      "train accuracy:  0.99614\n",
      "val accuracy:  0.9787\n",
      "\n",
      "loss at iter 92: 0.0070\n",
      "train accuracy:  0.9955\n",
      "val accuracy:  0.9769\n",
      "\n",
      "loss at iter 93: 0.0070\n",
      "train accuracy:  0.99702\n",
      "val accuracy:  0.979\n",
      "\n",
      "loss at iter 94: 0.0068\n",
      "train accuracy:  0.99692\n",
      "val accuracy:  0.9782\n",
      "\n",
      "loss at iter 95: 0.0068\n",
      "train accuracy:  0.99686\n",
      "val accuracy:  0.978\n",
      "\n",
      "loss at iter 96: 0.0068\n",
      "train accuracy:  0.99656\n",
      "val accuracy:  0.9799\n",
      "\n",
      "loss at iter 97: 0.0068\n",
      "train accuracy:  0.99732\n",
      "val accuracy:  0.9784\n",
      "\n",
      "loss at iter 98: 0.0067\n",
      "train accuracy:  0.99656\n",
      "val accuracy:  0.9786\n",
      "\n",
      "loss at iter 99: 0.0067\n",
      "train accuracy:  0.99654\n",
      "val accuracy:  0.9791\n",
      "\n",
      "loss at iter 100: 0.0067\n",
      "train accuracy:  0.99732\n",
      "val accuracy:  0.9787\n",
      "\n",
      "loss at iter 101: 0.0066\n",
      "train accuracy:  0.99744\n",
      "val accuracy:  0.9787\n",
      "\n",
      "loss at iter 102: 0.0066\n",
      "train accuracy:  0.99706\n",
      "val accuracy:  0.9779\n",
      "\n",
      "loss at iter 103: 0.0066\n",
      "train accuracy:  0.99758\n",
      "val accuracy:  0.9785\n",
      "\n",
      "loss at iter 104: 0.0066\n",
      "train accuracy:  0.99794\n",
      "val accuracy:  0.9794\n",
      "\n",
      "loss at iter 105: 0.0065\n",
      "train accuracy:  0.99756\n",
      "val accuracy:  0.9782\n",
      "\n",
      "loss at iter 106: 0.0065\n",
      "train accuracy:  0.99784\n",
      "val accuracy:  0.9794\n",
      "\n",
      "loss at iter 107: 0.0065\n",
      "train accuracy:  0.99748\n",
      "val accuracy:  0.9788\n",
      "\n",
      "loss at iter 108: 0.0064\n",
      "train accuracy:  0.99772\n",
      "val accuracy:  0.9786\n",
      "\n",
      "loss at iter 109: 0.0064\n",
      "train accuracy:  0.99774\n",
      "val accuracy:  0.9789\n",
      "\n",
      "loss at iter 110: 0.0064\n",
      "train accuracy:  0.99768\n",
      "val accuracy:  0.9779\n",
      "\n",
      "loss at iter 111: 0.0064\n",
      "train accuracy:  0.99776\n",
      "val accuracy:  0.9791\n",
      "\n",
      "loss at iter 112: 0.0063\n",
      "train accuracy:  0.99762\n",
      "val accuracy:  0.9781\n",
      "\n",
      "loss at iter 113: 0.0063\n",
      "train accuracy:  0.99824\n",
      "val accuracy:  0.9793\n",
      "\n",
      "loss at iter 114: 0.0062\n",
      "train accuracy:  0.99834\n",
      "val accuracy:  0.9793\n",
      "\n",
      "loss at iter 115: 0.0062\n",
      "train accuracy:  0.9982\n",
      "val accuracy:  0.9793\n",
      "\n",
      "loss at iter 116: 0.0063\n",
      "train accuracy:  0.99828\n",
      "val accuracy:  0.9791\n",
      "\n",
      "loss at iter 117: 0.0062\n",
      "train accuracy:  0.99792\n",
      "val accuracy:  0.9786\n",
      "\n",
      "loss at iter 118: 0.0062\n",
      "train accuracy:  0.99798\n",
      "val accuracy:  0.9787\n",
      "\n",
      "loss at iter 119: 0.0061\n",
      "train accuracy:  0.99838\n",
      "val accuracy:  0.9791\n",
      "\n",
      "loss at iter 120: 0.0061\n",
      "train accuracy:  0.99826\n",
      "val accuracy:  0.9788\n",
      "\n",
      "loss at iter 121: 0.0061\n",
      "train accuracy:  0.9982\n",
      "val accuracy:  0.9777\n",
      "\n",
      "loss at iter 122: 0.0060\n",
      "train accuracy:  0.99828\n",
      "val accuracy:  0.9791\n",
      "\n",
      "loss at iter 123: 0.0060\n",
      "train accuracy:  0.99858\n",
      "val accuracy:  0.979\n",
      "\n",
      "loss at iter 124: 0.0060\n",
      "train accuracy:  0.99868\n",
      "val accuracy:  0.9798\n",
      "\n",
      "loss at iter 125: 0.0060\n",
      "train accuracy:  0.99852\n",
      "val accuracy:  0.9795\n",
      "\n",
      "loss at iter 126: 0.0060\n",
      "train accuracy:  0.99852\n",
      "val accuracy:  0.9782\n",
      "\n",
      "loss at iter 127: 0.0059\n",
      "train accuracy:  0.9988\n",
      "val accuracy:  0.9791\n",
      "\n",
      "loss at iter 128: 0.0060\n",
      "train accuracy:  0.99884\n",
      "val accuracy:  0.9792\n",
      "\n",
      "loss at iter 129: 0.0059\n",
      "train accuracy:  0.99896\n",
      "val accuracy:  0.9796\n",
      "\n",
      "loss at iter 130: 0.0059\n",
      "train accuracy:  0.99874\n",
      "val accuracy:  0.9799\n",
      "\n",
      "loss at iter 131: 0.0058\n",
      "train accuracy:  0.9988\n",
      "val accuracy:  0.9796\n",
      "\n",
      "loss at iter 132: 0.0059\n",
      "train accuracy:  0.99886\n",
      "val accuracy:  0.9794\n",
      "\n",
      "loss at iter 133: 0.0058\n",
      "train accuracy:  0.99878\n",
      "val accuracy:  0.9792\n",
      "\n",
      "loss at iter 134: 0.0058\n",
      "train accuracy:  0.99872\n",
      "val accuracy:  0.9785\n",
      "\n",
      "loss at iter 135: 0.0058\n",
      "train accuracy:  0.99846\n",
      "val accuracy:  0.979\n",
      "\n",
      "loss at iter 136: 0.0058\n",
      "train accuracy:  0.99894\n",
      "val accuracy:  0.9788\n",
      "\n",
      "loss at iter 137: 0.0057\n",
      "train accuracy:  0.99878\n",
      "val accuracy:  0.9791\n",
      "\n",
      "loss at iter 138: 0.0057\n",
      "train accuracy:  0.99898\n",
      "val accuracy:  0.979\n",
      "\n",
      "loss at iter 139: 0.0057\n",
      "train accuracy:  0.99916\n",
      "val accuracy:  0.9793\n",
      "\n",
      "loss at iter 140: 0.0057\n",
      "train accuracy:  0.99906\n",
      "val accuracy:  0.9797\n",
      "\n",
      "loss at iter 141: 0.0057\n",
      "train accuracy:  0.99906\n",
      "val accuracy:  0.9795\n",
      "\n",
      "loss at iter 142: 0.0057\n",
      "train accuracy:  0.99904\n",
      "val accuracy:  0.9796\n",
      "\n",
      "loss at iter 143: 0.0056\n",
      "train accuracy:  0.99898\n",
      "val accuracy:  0.979\n",
      "\n",
      "loss at iter 144: 0.0057\n",
      "train accuracy:  0.9992\n",
      "val accuracy:  0.9792\n",
      "\n",
      "loss at iter 145: 0.0056\n",
      "train accuracy:  0.99906\n",
      "val accuracy:  0.9799\n",
      "\n",
      "loss at iter 146: 0.0056\n",
      "train accuracy:  0.99894\n",
      "val accuracy:  0.9781\n",
      "\n",
      "loss at iter 147: 0.0056\n",
      "train accuracy:  0.99906\n",
      "val accuracy:  0.9796\n",
      "\n",
      "loss at iter 148: 0.0056\n",
      "train accuracy:  0.99912\n",
      "val accuracy:  0.9794\n",
      "\n",
      "loss at iter 149: 0.0055\n",
      "train accuracy:  0.99906\n",
      "val accuracy:  0.9797\n",
      "\n",
      "loss at iter 150: 0.0055\n",
      "train accuracy:  0.99908\n",
      "val accuracy:  0.9798\n",
      "\n",
      "loss at iter 151: 0.0055\n",
      "train accuracy:  0.9993\n",
      "val accuracy:  0.9794\n",
      "\n",
      "loss at iter 152: 0.0055\n",
      "train accuracy:  0.99918\n",
      "val accuracy:  0.9805\n",
      "\n",
      "loss at iter 153: 0.0055\n",
      "train accuracy:  0.9992\n",
      "val accuracy:  0.9788\n",
      "\n",
      "loss at iter 154: 0.0055\n",
      "train accuracy:  0.9991\n",
      "val accuracy:  0.9794\n",
      "\n",
      "loss at iter 155: 0.0055\n",
      "train accuracy:  0.99928\n",
      "val accuracy:  0.9797\n",
      "\n",
      "loss at iter 156: 0.0054\n",
      "train accuracy:  0.99928\n",
      "val accuracy:  0.9796\n",
      "\n",
      "loss at iter 157: 0.0054\n",
      "train accuracy:  0.99922\n",
      "val accuracy:  0.9796\n",
      "\n",
      "loss at iter 158: 0.0054\n",
      "train accuracy:  0.99906\n",
      "val accuracy:  0.9795\n",
      "\n",
      "loss at iter 159: 0.0054\n",
      "train accuracy:  0.99922\n",
      "val accuracy:  0.9805\n",
      "\n",
      "loss at iter 160: 0.0054\n",
      "train accuracy:  0.99934\n",
      "val accuracy:  0.98\n",
      "\n",
      "loss at iter 161: 0.0054\n",
      "train accuracy:  0.99922\n",
      "val accuracy:  0.9798\n",
      "\n",
      "loss at iter 162: 0.0054\n",
      "train accuracy:  0.99936\n",
      "val accuracy:  0.9796\n",
      "\n",
      "loss at iter 163: 0.0053\n",
      "train accuracy:  0.99918\n",
      "val accuracy:  0.9793\n",
      "\n",
      "loss at iter 164: 0.0053\n",
      "train accuracy:  0.99944\n",
      "val accuracy:  0.979\n",
      "\n",
      "loss at iter 165: 0.0053\n",
      "train accuracy:  0.9993\n",
      "val accuracy:  0.9795\n",
      "\n",
      "loss at iter 166: 0.0053\n",
      "train accuracy:  0.99902\n",
      "val accuracy:  0.9803\n",
      "\n",
      "loss at iter 167: 0.0053\n",
      "train accuracy:  0.99924\n",
      "val accuracy:  0.9805\n",
      "\n",
      "loss at iter 168: 0.0053\n",
      "train accuracy:  0.99924\n",
      "val accuracy:  0.9789\n",
      "\n",
      "loss at iter 169: 0.0053\n",
      "train accuracy:  0.99942\n",
      "val accuracy:  0.9804\n",
      "\n",
      "loss at iter 170: 0.0052\n",
      "train accuracy:  0.99948\n",
      "val accuracy:  0.9798\n",
      "\n",
      "loss at iter 171: 0.0052\n",
      "train accuracy:  0.99934\n",
      "val accuracy:  0.98\n",
      "\n",
      "loss at iter 172: 0.0053\n",
      "train accuracy:  0.99948\n",
      "val accuracy:  0.9801\n",
      "\n",
      "loss at iter 173: 0.0052\n",
      "train accuracy:  0.99932\n",
      "val accuracy:  0.9792\n",
      "\n",
      "loss at iter 174: 0.0052\n",
      "train accuracy:  0.99906\n",
      "val accuracy:  0.9803\n",
      "\n",
      "loss at iter 175: 0.0052\n",
      "train accuracy:  0.99938\n",
      "val accuracy:  0.9803\n",
      "\n",
      "loss at iter 176: 0.0052\n",
      "train accuracy:  0.99934\n",
      "val accuracy:  0.9805\n",
      "\n",
      "loss at iter 177: 0.0052\n",
      "train accuracy:  0.99948\n",
      "val accuracy:  0.9804\n",
      "\n",
      "loss at iter 178: 0.0052\n",
      "train accuracy:  0.9995\n",
      "val accuracy:  0.9804\n",
      "\n",
      "loss at iter 179: 0.0051\n",
      "train accuracy:  0.99952\n",
      "val accuracy:  0.9801\n",
      "\n",
      "loss at iter 180: 0.0051\n",
      "train accuracy:  0.9994\n",
      "val accuracy:  0.9801\n",
      "\n",
      "loss at iter 181: 0.0051\n",
      "train accuracy:  0.99942\n",
      "val accuracy:  0.9804\n",
      "\n",
      "loss at iter 182: 0.0051\n",
      "train accuracy:  0.99932\n",
      "val accuracy:  0.9793\n",
      "\n",
      "loss at iter 183: 0.0051\n",
      "train accuracy:  0.99954\n",
      "val accuracy:  0.9797\n",
      "\n",
      "loss at iter 184: 0.0051\n",
      "train accuracy:  0.99952\n",
      "val accuracy:  0.9802\n",
      "\n",
      "loss at iter 185: 0.0051\n",
      "train accuracy:  0.99906\n",
      "val accuracy:  0.979\n",
      "\n",
      "loss at iter 186: 0.0051\n",
      "train accuracy:  0.99946\n",
      "val accuracy:  0.98\n",
      "\n",
      "loss at iter 187: 0.0051\n",
      "train accuracy:  0.99938\n",
      "val accuracy:  0.98\n",
      "\n",
      "loss at iter 188: 0.0050\n",
      "train accuracy:  0.99938\n",
      "val accuracy:  0.9811\n",
      "\n",
      "loss at iter 189: 0.0050\n",
      "train accuracy:  0.99954\n",
      "val accuracy:  0.9797\n",
      "\n",
      "loss at iter 190: 0.0050\n",
      "train accuracy:  0.9995\n",
      "val accuracy:  0.9799\n",
      "\n",
      "loss at iter 191: 0.0050\n",
      "train accuracy:  0.99962\n",
      "val accuracy:  0.9804\n",
      "\n",
      "loss at iter 192: 0.0050\n",
      "train accuracy:  0.9994\n",
      "val accuracy:  0.9801\n",
      "\n",
      "loss at iter 193: 0.0050\n",
      "train accuracy:  0.99942\n",
      "val accuracy:  0.9796\n",
      "\n",
      "loss at iter 194: 0.0050\n",
      "train accuracy:  0.99962\n",
      "val accuracy:  0.9801\n",
      "\n",
      "loss at iter 195: 0.0050\n",
      "train accuracy:  0.99952\n",
      "val accuracy:  0.9799\n",
      "\n",
      "loss at iter 196: 0.0050\n",
      "train accuracy:  0.9997\n",
      "val accuracy:  0.9808\n",
      "\n",
      "loss at iter 197: 0.0049\n",
      "train accuracy:  0.99968\n",
      "val accuracy:  0.98\n",
      "\n",
      "loss at iter 198: 0.0049\n",
      "train accuracy:  0.99964\n",
      "val accuracy:  0.9796\n",
      "\n",
      "loss at iter 199: 0.0049\n",
      "train accuracy:  0.99964\n",
      "val accuracy:  0.9798\n",
      "\n",
      "loss at iter 200: 0.0049\n",
      "train accuracy:  0.9995\n",
      "val accuracy:  0.9805\n",
      "\n",
      "loss at iter 201: 0.0049\n",
      "train accuracy:  0.99954\n",
      "val accuracy:  0.9799\n",
      "\n",
      "loss at iter 202: 0.0049\n",
      "train accuracy:  0.99954\n",
      "val accuracy:  0.9808\n",
      "\n",
      "loss at iter 203: 0.0049\n",
      "train accuracy:  0.99966\n",
      "val accuracy:  0.9801\n",
      "\n",
      "loss at iter 204: 0.0049\n",
      "train accuracy:  0.9997\n",
      "val accuracy:  0.9811\n",
      "\n",
      "loss at iter 205: 0.0049\n",
      "train accuracy:  0.99966\n",
      "val accuracy:  0.9804\n",
      "\n",
      "loss at iter 206: 0.0049\n",
      "train accuracy:  0.99938\n",
      "val accuracy:  0.9802\n",
      "\n",
      "loss at iter 207: 0.0049\n",
      "train accuracy:  0.99956\n",
      "val accuracy:  0.9801\n",
      "\n",
      "loss at iter 208: 0.0048\n",
      "train accuracy:  0.9996\n",
      "val accuracy:  0.9809\n",
      "\n",
      "loss at iter 209: 0.0048\n",
      "train accuracy:  0.99968\n",
      "val accuracy:  0.9805\n",
      "\n",
      "loss at iter 210: 0.0049\n",
      "train accuracy:  0.9995\n",
      "val accuracy:  0.9808\n",
      "\n",
      "loss at iter 211: 0.0048\n",
      "train accuracy:  0.9996\n",
      "val accuracy:  0.9803\n",
      "\n",
      "loss at iter 212: 0.0048\n",
      "train accuracy:  0.99952\n",
      "val accuracy:  0.9804\n",
      "\n",
      "loss at iter 213: 0.0048\n",
      "train accuracy:  0.99966\n",
      "val accuracy:  0.9802\n",
      "\n",
      "loss at iter 214: 0.0048\n",
      "train accuracy:  0.99958\n",
      "val accuracy:  0.9801\n",
      "\n",
      "loss at iter 215: 0.0048\n",
      "train accuracy:  0.99962\n",
      "val accuracy:  0.9796\n",
      "\n",
      "loss at iter 216: 0.0048\n",
      "train accuracy:  0.99962\n",
      "val accuracy:  0.9798\n",
      "\n",
      "loss at iter 217: 0.0048\n",
      "train accuracy:  0.99964\n",
      "val accuracy:  0.9805\n",
      "\n",
      "loss at iter 218: 0.0048\n",
      "train accuracy:  0.9994\n",
      "val accuracy:  0.9794\n",
      "\n",
      "loss at iter 219: 0.0048\n",
      "train accuracy:  0.99986\n",
      "val accuracy:  0.9798\n",
      "\n",
      "loss at iter 220: 0.0048\n",
      "train accuracy:  0.99968\n",
      "val accuracy:  0.98\n",
      "\n",
      "loss at iter 221: 0.0048\n",
      "train accuracy:  0.99972\n",
      "val accuracy:  0.9807\n",
      "\n",
      "loss at iter 222: 0.0047\n",
      "train accuracy:  0.99974\n",
      "val accuracy:  0.9804\n",
      "\n",
      "loss at iter 223: 0.0047\n",
      "train accuracy:  0.99956\n",
      "val accuracy:  0.9796\n",
      "\n",
      "loss at iter 224: 0.0047\n",
      "train accuracy:  0.99966\n",
      "val accuracy:  0.9803\n",
      "\n",
      "loss at iter 225: 0.0047\n",
      "train accuracy:  0.99972\n",
      "val accuracy:  0.9807\n",
      "\n",
      "loss at iter 226: 0.0047\n",
      "train accuracy:  0.9997\n",
      "val accuracy:  0.98\n",
      "\n",
      "loss at iter 227: 0.0047\n",
      "train accuracy:  0.99962\n",
      "val accuracy:  0.9804\n",
      "\n",
      "loss at iter 228: 0.0047\n",
      "train accuracy:  0.99972\n",
      "val accuracy:  0.9804\n",
      "\n",
      "loss at iter 229: 0.0047\n",
      "train accuracy:  0.99958\n",
      "val accuracy:  0.9804\n",
      "\n",
      "loss at iter 230: 0.0047\n",
      "train accuracy:  0.99964\n",
      "val accuracy:  0.9798\n",
      "\n",
      "loss at iter 231: 0.0047\n",
      "train accuracy:  0.99974\n",
      "val accuracy:  0.9802\n",
      "\n",
      "loss at iter 232: 0.0046\n",
      "train accuracy:  0.99966\n",
      "val accuracy:  0.9805\n",
      "\n",
      "loss at iter 233: 0.0046\n",
      "train accuracy:  0.99972\n",
      "val accuracy:  0.9809\n",
      "\n",
      "loss at iter 234: 0.0047\n",
      "train accuracy:  0.9995\n",
      "val accuracy:  0.9795\n",
      "\n",
      "loss at iter 235: 0.0047\n",
      "train accuracy:  0.9997\n",
      "val accuracy:  0.9804\n",
      "\n",
      "loss at iter 236: 0.0046\n",
      "train accuracy:  0.99962\n",
      "val accuracy:  0.9795\n",
      "\n",
      "loss at iter 237: 0.0047\n",
      "train accuracy:  0.99966\n",
      "val accuracy:  0.981\n",
      "\n",
      "loss at iter 238: 0.0046\n",
      "train accuracy:  0.99954\n",
      "val accuracy:  0.9799\n",
      "\n",
      "loss at iter 239: 0.0046\n",
      "train accuracy:  0.99964\n",
      "val accuracy:  0.9808\n",
      "\n",
      "loss at iter 240: 0.0046\n",
      "train accuracy:  0.99982\n",
      "val accuracy:  0.9798\n",
      "\n",
      "loss at iter 241: 0.0046\n",
      "train accuracy:  0.9997\n",
      "val accuracy:  0.9808\n",
      "\n",
      "loss at iter 242: 0.0046\n",
      "train accuracy:  0.99972\n",
      "val accuracy:  0.9805\n",
      "\n",
      "loss at iter 243: 0.0046\n",
      "train accuracy:  0.99978\n",
      "val accuracy:  0.98\n",
      "\n",
      "loss at iter 244: 0.0046\n",
      "train accuracy:  0.99974\n",
      "val accuracy:  0.9806\n",
      "\n",
      "loss at iter 245: 0.0046\n",
      "train accuracy:  0.99956\n",
      "val accuracy:  0.9804\n",
      "\n",
      "loss at iter 246: 0.0046\n",
      "train accuracy:  0.99966\n",
      "val accuracy:  0.9799\n",
      "\n",
      "loss at iter 247: 0.0046\n",
      "train accuracy:  0.99928\n",
      "val accuracy:  0.9788\n",
      "\n",
      "loss at iter 248: 0.0046\n",
      "train accuracy:  0.99972\n",
      "val accuracy:  0.9808\n",
      "\n",
      "loss at iter 249: 0.0046\n",
      "train accuracy:  0.99974\n",
      "val accuracy:  0.9798\n",
      "\n",
      "loss at iter 250: 0.0045\n",
      "train accuracy:  0.99974\n",
      "val accuracy:  0.9802\n",
      "\n",
      "loss at iter 251: 0.0045\n",
      "train accuracy:  0.99972\n",
      "val accuracy:  0.9802\n",
      "\n",
      "loss at iter 252: 0.0045\n",
      "train accuracy:  0.9997\n",
      "val accuracy:  0.9813\n",
      "\n",
      "loss at iter 253: 0.0045\n",
      "train accuracy:  0.9998\n",
      "val accuracy:  0.9804\n",
      "\n",
      "loss at iter 254: 0.0045\n",
      "train accuracy:  0.9997\n",
      "val accuracy:  0.9806\n",
      "\n",
      "loss at iter 255: 0.0045\n",
      "train accuracy:  0.99972\n",
      "val accuracy:  0.9807\n",
      "\n",
      "loss at iter 256: 0.0045\n",
      "train accuracy:  0.99978\n",
      "val accuracy:  0.9801\n",
      "\n",
      "loss at iter 257: 0.0045\n",
      "train accuracy:  0.99962\n",
      "val accuracy:  0.9805\n",
      "\n",
      "loss at iter 258: 0.0045\n",
      "train accuracy:  0.99976\n",
      "val accuracy:  0.9803\n",
      "\n",
      "loss at iter 259: 0.0045\n",
      "train accuracy:  0.99982\n",
      "val accuracy:  0.9805\n",
      "\n",
      "loss at iter 260: 0.0045\n",
      "train accuracy:  0.99974\n",
      "val accuracy:  0.9811\n",
      "\n",
      "loss at iter 261: 0.0045\n",
      "train accuracy:  0.9997\n",
      "val accuracy:  0.981\n",
      "\n",
      "loss at iter 262: 0.0045\n",
      "train accuracy:  0.99958\n",
      "val accuracy:  0.9808\n",
      "\n",
      "loss at iter 263: 0.0045\n",
      "train accuracy:  0.99954\n",
      "val accuracy:  0.9808\n",
      "\n",
      "loss at iter 264: 0.0045\n",
      "train accuracy:  0.9998\n",
      "val accuracy:  0.9802\n",
      "\n",
      "loss at iter 265: 0.0044\n",
      "train accuracy:  0.99982\n",
      "val accuracy:  0.9801\n",
      "\n",
      "loss at iter 266: 0.0044\n",
      "train accuracy:  0.9998\n",
      "val accuracy:  0.9808\n",
      "\n",
      "loss at iter 267: 0.0044\n",
      "train accuracy:  0.99972\n",
      "val accuracy:  0.9806\n",
      "\n",
      "loss at iter 268: 0.0044\n",
      "train accuracy:  0.99984\n",
      "val accuracy:  0.9815\n",
      "\n",
      "loss at iter 269: 0.0044\n",
      "train accuracy:  0.9998\n",
      "val accuracy:  0.9805\n",
      "\n",
      "loss at iter 270: 0.0044\n",
      "train accuracy:  0.9994\n",
      "val accuracy:  0.9809\n",
      "\n",
      "loss at iter 271: 0.0045\n",
      "train accuracy:  0.99988\n",
      "val accuracy:  0.9807\n",
      "\n",
      "loss at iter 272: 0.0044\n",
      "train accuracy:  0.99978\n",
      "val accuracy:  0.9806\n",
      "\n",
      "loss at iter 273: 0.0044\n",
      "train accuracy:  0.99968\n",
      "val accuracy:  0.9797\n",
      "\n",
      "loss at iter 274: 0.0044\n",
      "train accuracy:  0.99976\n",
      "val accuracy:  0.9808\n",
      "\n",
      "loss at iter 275: 0.0044\n",
      "train accuracy:  0.99966\n",
      "val accuracy:  0.9809\n",
      "\n",
      "loss at iter 276: 0.0044\n",
      "train accuracy:  0.99984\n",
      "val accuracy:  0.9803\n",
      "\n",
      "loss at iter 277: 0.0044\n",
      "train accuracy:  0.99978\n",
      "val accuracy:  0.9807\n",
      "\n",
      "loss at iter 278: 0.0044\n",
      "train accuracy:  0.9998\n",
      "val accuracy:  0.9808\n",
      "\n",
      "loss at iter 279: 0.0043\n",
      "train accuracy:  0.99984\n",
      "val accuracy:  0.9811\n",
      "\n",
      "loss at iter 280: 0.0044\n",
      "train accuracy:  0.99956\n",
      "val accuracy:  0.9801\n",
      "\n",
      "loss at iter 281: 0.0044\n",
      "train accuracy:  0.99974\n",
      "val accuracy:  0.9798\n",
      "\n",
      "loss at iter 282: 0.0044\n",
      "train accuracy:  0.99984\n",
      "val accuracy:  0.9805\n",
      "\n",
      "loss at iter 283: 0.0043\n",
      "train accuracy:  0.9997\n",
      "val accuracy:  0.9804\n",
      "\n",
      "loss at iter 284: 0.0043\n",
      "train accuracy:  0.99984\n",
      "val accuracy:  0.9804\n",
      "\n",
      "loss at iter 285: 0.0043\n",
      "train accuracy:  0.9998\n",
      "val accuracy:  0.981\n",
      "\n",
      "loss at iter 286: 0.0043\n",
      "train accuracy:  0.9998\n",
      "val accuracy:  0.9808\n",
      "\n",
      "loss at iter 287: 0.0043\n",
      "train accuracy:  0.99962\n",
      "val accuracy:  0.9808\n",
      "\n",
      "loss at iter 288: 0.0043\n",
      "train accuracy:  0.99982\n",
      "val accuracy:  0.9809\n",
      "\n",
      "loss at iter 289: 0.0043\n",
      "train accuracy:  0.99968\n",
      "val accuracy:  0.98\n",
      "\n",
      "loss at iter 290: 0.0043\n",
      "train accuracy:  0.99954\n",
      "val accuracy:  0.9815\n",
      "\n",
      "loss at iter 291: 0.0043\n",
      "train accuracy:  0.99984\n",
      "val accuracy:  0.9814\n",
      "\n",
      "loss at iter 292: 0.0043\n",
      "train accuracy:  0.9998\n",
      "val accuracy:  0.9812\n",
      "\n",
      "loss at iter 293: 0.0043\n",
      "train accuracy:  0.99974\n",
      "val accuracy:  0.9802\n",
      "\n",
      "loss at iter 294: 0.0043\n",
      "train accuracy:  0.99978\n",
      "val accuracy:  0.9803\n",
      "\n",
      "loss at iter 295: 0.0043\n",
      "train accuracy:  0.99986\n",
      "val accuracy:  0.9808\n",
      "\n",
      "loss at iter 296: 0.0043\n",
      "train accuracy:  0.9998\n",
      "val accuracy:  0.9819\n",
      "\n",
      "loss at iter 297: 0.0043\n",
      "train accuracy:  0.99982\n",
      "val accuracy:  0.9801\n",
      "\n",
      "loss at iter 298: 0.0043\n",
      "train accuracy:  0.99988\n",
      "val accuracy:  0.9809\n",
      "\n",
      "loss at iter 299: 0.0043\n",
      "train accuracy:  0.9999\n",
      "val accuracy:  0.9808\n",
      "\n",
      "loss at iter 300: 0.0042\n",
      "train accuracy:  0.99988\n",
      "val accuracy:  0.9805\n",
      "\n",
      "loss at iter 301: 0.0043\n",
      "train accuracy:  0.99976\n",
      "val accuracy:  0.9808\n",
      "\n",
      "loss at iter 302: 0.0043\n",
      "train accuracy:  0.99962\n",
      "val accuracy:  0.9805\n",
      "\n",
      "loss at iter 303: 0.0043\n",
      "train accuracy:  0.99988\n",
      "val accuracy:  0.9811\n",
      "\n",
      "loss at iter 304: 0.0042\n",
      "train accuracy:  0.9998\n",
      "val accuracy:  0.9812\n",
      "\n",
      "loss at iter 305: 0.0042\n",
      "train accuracy:  0.99982\n",
      "val accuracy:  0.981\n",
      "\n",
      "loss at iter 306: 0.0042\n",
      "train accuracy:  0.99986\n",
      "val accuracy:  0.9811\n",
      "\n",
      "loss at iter 307: 0.0042\n",
      "train accuracy:  0.9999\n",
      "val accuracy:  0.9806\n",
      "\n",
      "loss at iter 308: 0.0042\n",
      "train accuracy:  0.99994\n",
      "val accuracy:  0.9809\n",
      "\n",
      "loss at iter 309: 0.0042\n",
      "train accuracy:  0.99982\n",
      "val accuracy:  0.9809\n",
      "\n",
      "loss at iter 310: 0.0042\n",
      "train accuracy:  0.99986\n",
      "val accuracy:  0.9816\n",
      "\n",
      "loss at iter 311: 0.0042\n",
      "train accuracy:  0.99988\n",
      "val accuracy:  0.9807\n",
      "\n",
      "loss at iter 312: 0.0042\n",
      "train accuracy:  0.99986\n",
      "val accuracy:  0.9808\n",
      "\n",
      "loss at iter 313: 0.0042\n",
      "train accuracy:  0.99986\n",
      "val accuracy:  0.9816\n",
      "\n",
      "loss at iter 314: 0.0042\n",
      "train accuracy:  0.99984\n",
      "val accuracy:  0.9808\n",
      "\n",
      "loss at iter 315: 0.0042\n",
      "train accuracy:  0.99982\n",
      "val accuracy:  0.9801\n",
      "\n",
      "loss at iter 316: 0.0042\n",
      "train accuracy:  0.99988\n",
      "val accuracy:  0.9813\n",
      "\n",
      "loss at iter 317: 0.0042\n",
      "train accuracy:  0.99984\n",
      "val accuracy:  0.9798\n",
      "\n",
      "loss at iter 318: 0.0042\n",
      "train accuracy:  0.99986\n",
      "val accuracy:  0.9804\n",
      "\n",
      "loss at iter 319: 0.0042\n",
      "train accuracy:  0.9998\n",
      "val accuracy:  0.9815\n",
      "\n",
      "loss at iter 320: 0.0042\n",
      "train accuracy:  0.9998\n",
      "val accuracy:  0.9803\n",
      "\n",
      "loss at iter 321: 0.0042\n",
      "train accuracy:  0.99984\n",
      "val accuracy:  0.9809\n",
      "\n",
      "loss at iter 322: 0.0042\n",
      "train accuracy:  0.99986\n",
      "val accuracy:  0.9805\n",
      "\n",
      "loss at iter 323: 0.0042\n",
      "train accuracy:  0.99988\n",
      "val accuracy:  0.9808\n",
      "\n",
      "loss at iter 324: 0.0041\n",
      "train accuracy:  0.99986\n",
      "val accuracy:  0.9806\n",
      "\n",
      "loss at iter 325: 0.0041\n",
      "train accuracy:  0.9998\n",
      "val accuracy:  0.9805\n",
      "\n",
      "loss at iter 326: 0.0041\n",
      "train accuracy:  0.99994\n",
      "val accuracy:  0.9812\n",
      "\n",
      "loss at iter 327: 0.0041\n",
      "train accuracy:  0.99982\n",
      "val accuracy:  0.9811\n",
      "\n",
      "loss at iter 328: 0.0041\n",
      "train accuracy:  0.9998\n",
      "val accuracy:  0.9804\n",
      "\n",
      "loss at iter 329: 0.0041\n",
      "train accuracy:  0.99986\n",
      "val accuracy:  0.9807\n",
      "\n",
      "loss at iter 330: 0.0041\n",
      "train accuracy:  0.99976\n",
      "val accuracy:  0.9805\n",
      "\n",
      "loss at iter 331: 0.0041\n",
      "train accuracy:  0.99986\n",
      "val accuracy:  0.9814\n",
      "\n",
      "loss at iter 332: 0.0041\n",
      "train accuracy:  0.99988\n",
      "val accuracy:  0.9811\n",
      "\n",
      "loss at iter 333: 0.0041\n",
      "train accuracy:  0.99988\n",
      "val accuracy:  0.9811\n",
      "\n",
      "loss at iter 334: 0.0041\n",
      "train accuracy:  0.99988\n",
      "val accuracy:  0.9809\n",
      "\n",
      "loss at iter 335: 0.0041\n",
      "train accuracy:  0.99986\n",
      "val accuracy:  0.9814\n",
      "\n",
      "loss at iter 336: 0.0041\n",
      "train accuracy:  0.99978\n",
      "val accuracy:  0.9804\n",
      "\n",
      "loss at iter 337: 0.0041\n",
      "train accuracy:  0.99986\n",
      "val accuracy:  0.9804\n",
      "\n",
      "loss at iter 338: 0.0041\n",
      "train accuracy:  0.99988\n",
      "val accuracy:  0.9809\n",
      "\n",
      "loss at iter 339: 0.0041\n",
      "train accuracy:  0.99994\n",
      "val accuracy:  0.9818\n",
      "\n",
      "loss at iter 340: 0.0041\n",
      "train accuracy:  0.99986\n",
      "val accuracy:  0.9806\n",
      "\n",
      "loss at iter 341: 0.0041\n",
      "train accuracy:  0.99986\n",
      "val accuracy:  0.981\n",
      "\n",
      "loss at iter 342: 0.0041\n",
      "train accuracy:  0.9999\n",
      "val accuracy:  0.981\n",
      "\n",
      "loss at iter 343: 0.0041\n",
      "train accuracy:  0.9999\n",
      "val accuracy:  0.9812\n",
      "\n",
      "loss at iter 344: 0.0041\n",
      "train accuracy:  0.9999\n",
      "val accuracy:  0.9807\n",
      "\n",
      "loss at iter 345: 0.0041\n",
      "train accuracy:  0.9998\n",
      "val accuracy:  0.981\n",
      "\n",
      "loss at iter 346: 0.0041\n",
      "train accuracy:  0.99988\n",
      "val accuracy:  0.9808\n",
      "\n",
      "loss at iter 347: 0.0041\n",
      "train accuracy:  0.99974\n",
      "val accuracy:  0.9796\n",
      "\n",
      "loss at iter 348: 0.0041\n",
      "train accuracy:  0.9999\n",
      "val accuracy:  0.9802\n",
      "\n",
      "loss at iter 349: 0.0041\n",
      "train accuracy:  0.99976\n",
      "val accuracy:  0.9804\n",
      "\n",
      "loss at iter 350: 0.0040\n",
      "train accuracy:  0.99978\n",
      "val accuracy:  0.98\n",
      "\n",
      "loss at iter 351: 0.0040\n",
      "train accuracy:  0.9999\n",
      "val accuracy:  0.9807\n",
      "\n",
      "loss at iter 352: 0.0041\n",
      "train accuracy:  0.99984\n",
      "val accuracy:  0.9815\n",
      "\n",
      "loss at iter 353: 0.0040\n",
      "train accuracy:  0.99986\n",
      "val accuracy:  0.9808\n",
      "\n",
      "loss at iter 354: 0.0040\n",
      "train accuracy:  0.99988\n",
      "val accuracy:  0.9804\n",
      "\n",
      "loss at iter 355: 0.0040\n",
      "train accuracy:  0.99986\n",
      "val accuracy:  0.9811\n",
      "\n",
      "loss at iter 356: 0.0040\n",
      "train accuracy:  0.9998\n",
      "val accuracy:  0.9815\n",
      "\n",
      "loss at iter 357: 0.0040\n",
      "train accuracy:  0.99992\n",
      "val accuracy:  0.9812\n",
      "\n",
      "loss at iter 358: 0.0040\n",
      "train accuracy:  0.99984\n",
      "val accuracy:  0.9818\n",
      "\n",
      "loss at iter 359: 0.0040\n",
      "train accuracy:  0.99976\n",
      "val accuracy:  0.9808\n",
      "\n",
      "loss at iter 360: 0.0040\n",
      "train accuracy:  0.99982\n",
      "val accuracy:  0.9816\n",
      "\n",
      "loss at iter 361: 0.0040\n",
      "train accuracy:  0.99974\n",
      "val accuracy:  0.9804\n",
      "\n",
      "loss at iter 362: 0.0040\n",
      "train accuracy:  0.99982\n",
      "val accuracy:  0.9802\n",
      "\n",
      "loss at iter 363: 0.0040\n",
      "train accuracy:  0.99988\n",
      "val accuracy:  0.9811\n",
      "\n",
      "loss at iter 364: 0.0040\n",
      "train accuracy:  0.99982\n",
      "val accuracy:  0.9806\n",
      "\n",
      "loss at iter 365: 0.0040\n",
      "train accuracy:  0.99988\n",
      "val accuracy:  0.9813\n",
      "\n",
      "loss at iter 366: 0.0040\n",
      "train accuracy:  0.99986\n",
      "val accuracy:  0.9812\n",
      "\n",
      "loss at iter 367: 0.0040\n",
      "train accuracy:  0.99976\n",
      "val accuracy:  0.9811\n",
      "\n",
      "loss at iter 368: 0.0040\n",
      "train accuracy:  0.99994\n",
      "val accuracy:  0.9811\n",
      "\n",
      "loss at iter 369: 0.0040\n",
      "train accuracy:  0.99994\n",
      "val accuracy:  0.981\n",
      "\n",
      "loss at iter 370: 0.0040\n",
      "train accuracy:  0.99988\n",
      "val accuracy:  0.9812\n",
      "\n",
      "loss at iter 371: 0.0040\n",
      "train accuracy:  0.9998\n",
      "val accuracy:  0.9805\n",
      "\n",
      "loss at iter 372: 0.0040\n",
      "train accuracy:  0.99972\n",
      "val accuracy:  0.9814\n",
      "\n",
      "loss at iter 373: 0.0040\n",
      "train accuracy:  0.99966\n",
      "val accuracy:  0.9797\n",
      "\n",
      "loss at iter 374: 0.0040\n",
      "train accuracy:  0.99988\n",
      "val accuracy:  0.9813\n",
      "\n",
      "loss at iter 375: 0.0040\n",
      "train accuracy:  0.9998\n",
      "val accuracy:  0.9808\n",
      "\n",
      "loss at iter 376: 0.0040\n",
      "train accuracy:  0.99986\n",
      "val accuracy:  0.9808\n",
      "\n",
      "loss at iter 377: 0.0039\n",
      "train accuracy:  0.99986\n",
      "val accuracy:  0.9816\n",
      "\n",
      "loss at iter 378: 0.0039\n",
      "train accuracy:  0.99988\n",
      "val accuracy:  0.982\n",
      "\n",
      "loss at iter 379: 0.0040\n",
      "train accuracy:  0.99978\n",
      "val accuracy:  0.9816\n",
      "\n",
      "loss at iter 380: 0.0040\n",
      "train accuracy:  0.99976\n",
      "val accuracy:  0.9801\n",
      "\n",
      "loss at iter 381: 0.0040\n",
      "train accuracy:  0.99988\n",
      "val accuracy:  0.9811\n",
      "\n",
      "loss at iter 382: 0.0040\n",
      "train accuracy:  0.99978\n",
      "val accuracy:  0.9804\n",
      "\n",
      "loss at iter 383: 0.0039\n",
      "train accuracy:  0.9999\n",
      "val accuracy:  0.9803\n",
      "\n",
      "loss at iter 384: 0.0039\n",
      "train accuracy:  0.9999\n",
      "val accuracy:  0.9813\n",
      "\n",
      "loss at iter 385: 0.0039\n",
      "train accuracy:  0.99986\n",
      "val accuracy:  0.9807\n",
      "\n",
      "loss at iter 386: 0.0039\n",
      "train accuracy:  0.99984\n",
      "val accuracy:  0.9808\n",
      "\n",
      "loss at iter 387: 0.0039\n",
      "train accuracy:  0.9999\n",
      "val accuracy:  0.9803\n",
      "\n",
      "loss at iter 388: 0.0039\n",
      "train accuracy:  0.99988\n",
      "val accuracy:  0.9809\n",
      "\n",
      "loss at iter 389: 0.0039\n",
      "train accuracy:  0.99982\n",
      "val accuracy:  0.9801\n",
      "\n",
      "loss at iter 390: 0.0039\n",
      "train accuracy:  0.99992\n",
      "val accuracy:  0.9804\n",
      "\n",
      "loss at iter 391: 0.0039\n",
      "train accuracy:  0.99988\n",
      "val accuracy:  0.9814\n",
      "\n",
      "loss at iter 392: 0.0039\n",
      "train accuracy:  0.99982\n",
      "val accuracy:  0.9809\n",
      "\n",
      "loss at iter 393: 0.0039\n",
      "train accuracy:  0.9997\n",
      "val accuracy:  0.9806\n",
      "\n",
      "loss at iter 394: 0.0039\n",
      "train accuracy:  0.99982\n",
      "val accuracy:  0.9804\n",
      "\n",
      "loss at iter 395: 0.0039\n",
      "train accuracy:  0.99984\n",
      "val accuracy:  0.9802\n",
      "\n",
      "loss at iter 396: 0.0039\n",
      "train accuracy:  0.9999\n",
      "val accuracy:  0.9799\n",
      "\n",
      "loss at iter 397: 0.0039\n",
      "train accuracy:  0.99992\n",
      "val accuracy:  0.9807\n",
      "\n",
      "loss at iter 398: 0.0039\n",
      "train accuracy:  0.9999\n",
      "val accuracy:  0.9811\n",
      "\n",
      "loss at iter 399: 0.0039\n",
      "train accuracy:  0.99988\n",
      "val accuracy:  0.981\n",
      "\n",
      "TEST ACCURACY:  0.9807\n"
     ]
    }
   ],
   "source": [
    "init = tf.global_variables_initializer()\n",
    "\n",
    "# Start training\n",
    "with tf.Session() as sess:\n",
    "    # Run the initializer\n",
    "    sess.run(init)\n",
    "\n",
    "    for i in range(400):\n",
    "        #<run optimizer operation>\n",
    "        #loss_i = <compute loss at iteration i>\n",
    "        loss_i = nn_train_function(X_train, y_train)\n",
    "\n",
    "        print(\"\\nloss at iter %i: %.4f\" % (i, loss_i))\n",
    "        \n",
    "        preds = nn_predict_function(X_train)\n",
    "        train_acc = np.sum(y_train == preds) / len(preds)\n",
    "        print(\"train accuracy: \", train_acc)\n",
    "        \n",
    "        preds = nn_predict_function(X_val)\n",
    "        val_acc = np.sum(y_val == preds) / len(preds)\n",
    "        print(\"val accuracy: \", val_acc)\n",
    "            \n",
    "        #print(\"train auc:\",roc_auc_score(y_train, predict_function(X_train)))\n",
    "        #print(\"test auc:\",roc_auc_score(y_test, predict_function(X_test)))\n",
    "        \n",
    "    preds = nn_predict_function(X_test)\n",
    "    test_acc = np.sum(y_test == preds) / len(preds)\n",
    "    print(\"\\nTEST ACCURACY: \", test_acc)"
   ]
  },
  {
   "cell_type": "markdown",
   "metadata": {},
   "source": [
    "```\n",
    "\n",
    "```\n",
    "\n",
    "```\n",
    "\n",
    "```\n",
    "\n",
    "```\n",
    "\n",
    "```\n",
    "\n",
    "```\n",
    "\n",
    "```\n",
    "\n",
    "```\n",
    "\n",
    "```\n",
    "\n",
    "```\n",
    "\n",
    "```\n",
    "\n",
    "```\n",
    "\n",
    "```\n",
    "\n",
    "```\n",
    "\n",
    "```\n",
    "\n",
    "\n",
    "# SPOILERS!\n",
    "\n",
    "Recommended pipeline\n",
    "\n",
    "* Adapt logistic regression from previous assignment to classify some number against others (e.g. zero vs nonzero)\n",
    "* Generalize it to multiclass logistic regression.\n",
    "  - Either try to remember lecture 0 or google it.\n",
    "  - Instead of weight vector you'll have to use matrix (feature_id x class_id)\n",
    "  - softmax (exp over sum of exps) can implemented manually or as T.nnet.softmax (stable)\n",
    "  - probably better to use STOCHASTIC gradient descent (minibatch)\n",
    "    - in which case sample should probably be shuffled (or use random subsamples on each iteration)\n",
    "* Add a hidden layer. Now your logistic regression uses hidden neurons instead of inputs.\n",
    "  - Hidden layer uses the same math as output layer (ex-logistic regression), but uses some nonlinearity (sigmoid) instead of softmax\n",
    "  - You need to train both layers, not just output layer :)\n",
    "  - Do not initialize layers with zeros (due to symmetry effects). A gaussian noize with small sigma will do.\n",
    "  - 50 hidden neurons and a sigmoid nonlinearity will do for a start. Many ways to improve. \n",
    "  - In ideal casae this totals to 2 .dot's, 1 softmax and 1 sigmoid\n",
    "  - __make sure this neural network works better than logistic regression__\n",
    "  \n",
    "* Now's the time to try improving the network. Consider layers (size, neuron count),  nonlinearities, optimization methods, initialization - whatever you want, but please avoid convolutions for now."
   ]
  },
  {
   "cell_type": "code",
   "execution_count": null,
   "metadata": {
    "collapsed": true
   },
   "outputs": [],
   "source": []
  }
 ],
 "metadata": {
  "anaconda-cloud": {},
  "celltoolbar": "Slideshow",
  "kernelspec": {
   "display_name": "Python [default]",
   "language": "python",
   "name": "python3"
  },
  "language_info": {
   "codemirror_mode": {
    "name": "ipython",
    "version": 3
   },
   "file_extension": ".py",
   "mimetype": "text/x-python",
   "name": "python",
   "nbconvert_exporter": "python",
   "pygments_lexer": "ipython3",
   "version": "3.5.2"
  }
 },
 "nbformat": 4,
 "nbformat_minor": 1
}
