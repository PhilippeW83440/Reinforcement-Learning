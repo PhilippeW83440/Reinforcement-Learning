{
 "cells": [
  {
   "cell_type": "markdown",
   "metadata": {},
   "source": [
    "# Going deeper with Tensorflow\n",
    "\n",
    "In this seminar, we're going to play with [Tensorflow](https://www.tensorflow.org/) and see how it helps us build deep learning models.\n",
    "\n",
    "If you're running this notebook outside the course environment, you'll need to install tensorflow:\n",
    "* `pip install tensorflow` should install cpu-only TF on Linux & Mac OS\n",
    "* If you want GPU support from offset, see [TF install page](https://www.tensorflow.org/install/)"
   ]
  },
  {
   "cell_type": "code",
   "execution_count": 1,
   "metadata": {
    "collapsed": false
   },
   "outputs": [
    {
     "name": "stderr",
     "output_type": "stream",
     "text": [
      "/home/philippew/anaconda3/envs/pythonx/lib/python3.5/site-packages/h5py/__init__.py:36: FutureWarning: Conversion of the second argument of issubdtype from `float` to `np.floating` is deprecated. In future, it will be treated as `np.float64 == np.dtype(float).type`.\n",
      "  from ._conv import register_converters as _register_converters\n"
     ]
    },
    {
     "name": "stdout",
     "output_type": "stream",
     "text": [
      "per_process_gpu_memory_fraction: 0.1\n",
      "allow_growth: true\n",
      "\n"
     ]
    }
   ],
   "source": [
    "import tensorflow as tf\n",
    "gpu_options = tf.GPUOptions(allow_growth=True, per_process_gpu_memory_fraction=0.1)\n",
    "print(gpu_options)\n",
    "s = tf.InteractiveSession(config=tf.ConfigProto(gpu_options=gpu_options))"
   ]
  },
  {
   "cell_type": "markdown",
   "metadata": {},
   "source": [
    "# Warming up\n",
    "For starters, let's implement a python function that computes the sum of squares of numbers from 0 to N-1.\n",
    "* Use numpy or python\n",
    "* An array of numbers 0 to N - numpy.arange(N)"
   ]
  },
  {
   "cell_type": "code",
   "execution_count": 2,
   "metadata": {
    "collapsed": true
   },
   "outputs": [],
   "source": [
    "import numpy as np\n",
    "def sum_squares(N):\n",
    "    return np.sum(np.arange(N)**2)"
   ]
  },
  {
   "cell_type": "code",
   "execution_count": 3,
   "metadata": {
    "collapsed": false
   },
   "outputs": [
    {
     "data": {
      "text/plain": [
       "array([ 0,  1,  4,  9, 16, 25, 36, 49, 64, 81])"
      ]
     },
     "execution_count": 3,
     "metadata": {},
     "output_type": "execute_result"
    }
   ],
   "source": [
    "np.arange(10)**2"
   ]
  },
  {
   "cell_type": "code",
   "execution_count": 4,
   "metadata": {
    "collapsed": false
   },
   "outputs": [
    {
     "name": "stdout",
     "output_type": "stream",
     "text": [
      "CPU times: user 200 ms, sys: 92 ms, total: 292 ms\n",
      "Wall time: 282 ms\n"
     ]
    },
    {
     "data": {
      "text/plain": [
       "662921401752298880"
      ]
     },
     "execution_count": 4,
     "metadata": {},
     "output_type": "execute_result"
    }
   ],
   "source": [
    "%%time\n",
    "sum_squares(10**8)"
   ]
  },
  {
   "cell_type": "markdown",
   "metadata": {},
   "source": [
    "# Tensoflow teaser\n",
    "\n",
    "Doing the very same thing"
   ]
  },
  {
   "cell_type": "code",
   "execution_count": 5,
   "metadata": {
    "collapsed": true
   },
   "outputs": [],
   "source": [
    "#I gonna be your function parameter\n",
    "N = tf.placeholder('int64', name=\"input_to_your_function\")\n",
    "\n",
    "#i am a recipe on how to produce sum of squares of arange of N given N\n",
    "result = tf.reduce_sum((tf.range(N)**2))"
   ]
  },
  {
   "cell_type": "code",
   "execution_count": 6,
   "metadata": {
    "collapsed": false
   },
   "outputs": [
    {
     "name": "stdout",
     "output_type": "stream",
     "text": [
      "662921401752298880\n",
      "CPU times: user 400 ms, sys: 176 ms, total: 576 ms\n",
      "Wall time: 437 ms\n"
     ]
    }
   ],
   "source": [
    "%%time\n",
    "#example of computing the same as sum_squares\n",
    "print(result.eval({N:10**8}))"
   ]
  },
  {
   "cell_type": "markdown",
   "metadata": {},
   "source": [
    "# How does it work?\n",
    "1. define placeholders where you'll send inputs;\n",
    "2. make symbolic graph: a recipe for mathematical transformation of those placeholders;\n",
    "3. compute outputs of your graph with particular values for each placeholder\n",
    "  * output.eval({placeholder:value}) \n",
    "  * s.run(output, {placeholder:value})\n",
    "\n",
    "* So far there are two main entities: \"placeholder\" and \"transformation\"\n",
    "* Both can be numbers, vectors, matrices, tensors, etc.\n",
    "* Both can be int32/64, floats of booleans (uint8) of various size.\n",
    "\n",
    "* You can define new transformations as an arbitrary operation on placeholders and other transformations\n",
    " * tf.reduce_sum(tf.arange(N)\\**2) are 3 sequential transformations of placeholder N\n",
    " * There's a tensorflow symbolic version for every numpy function\n",
    "   * `a+b, a/b, a**b, ...` behave just like in numpy\n",
    "   * np.mean -> tf.reduce_mean\n",
    "   * np.arange -> tf.range\n",
    "   * np.cumsum -> tf.cumsum\n",
    "   * If if you can't find the op you need, see the [docs](https://www.tensorflow.org/api_docs/python).\n",
    " \n",
    " \n",
    "Still confused? We gonna fix that."
   ]
  },
  {
   "cell_type": "code",
   "execution_count": 7,
   "metadata": {
    "collapsed": true
   },
   "outputs": [],
   "source": [
    "#Default placeholder that can be arbitrary float32 scalar, vertor, matrix, etc.\n",
    "arbitrary_input = tf.placeholder('float32')\n",
    "\n",
    "#Input vector of arbitrary length\n",
    "input_vector = tf.placeholder('float32',shape=(None,))\n",
    "\n",
    "#Input vector that _must_ have 10 elements and integer type\n",
    "fixed_vector = tf.placeholder('int32',shape=(10,))\n",
    "\n",
    "#Matrix of arbitrary n_rows and 15 columns (e.g. a minibatch your data table)\n",
    "input_matrix = tf.placeholder('float32',shape=(None,15))\n",
    "\n",
    "#You can generally use None whenever you don't need a specific shape\n",
    "input1 = tf.placeholder('float64',shape=(None,100,None))\n",
    "input2 = tf.placeholder('int32',shape=(None,None,3,224,224))"
   ]
  },
  {
   "cell_type": "code",
   "execution_count": 8,
   "metadata": {
    "collapsed": true
   },
   "outputs": [],
   "source": [
    "#elementwise multiplication\n",
    "double_the_vector = input_vector*2\n",
    "\n",
    "#elementwise cosine\n",
    "elementwise_cosine = tf.cos(input_vector)\n",
    "\n",
    "#difference between squared vector and vector itself\n",
    "vector_squares = input_vector**2 - input_vector\n"
   ]
  },
  {
   "cell_type": "code",
   "execution_count": 9,
   "metadata": {
    "collapsed": true
   },
   "outputs": [],
   "source": [
    "#Practice time: create two vectors of type float32\n",
    "#my_vector = <student.init_float32_vector()>\n",
    "#my_vector2 = <student.init_one_more_such_vector()>\n",
    "\n",
    "my_vector = tf.placeholder('float32',shape=(None,))\n",
    "my_vector2 = tf.placeholder('float32',shape=(None,))"
   ]
  },
  {
   "cell_type": "code",
   "execution_count": 10,
   "metadata": {
    "collapsed": false
   },
   "outputs": [],
   "source": [
    "#Write a transformation(recipe):\n",
    "#(vec1)*(vec2) / (sin(vec1) +1)\n",
    "my_transformation = my_vector * my_vector2 / (tf.sin(my_vector) + 1)"
   ]
  },
  {
   "cell_type": "code",
   "execution_count": 11,
   "metadata": {
    "collapsed": false
   },
   "outputs": [
    {
     "name": "stdout",
     "output_type": "stream",
     "text": [
      "Tensor(\"truediv:0\", shape=(?,), dtype=float32)\n"
     ]
    }
   ],
   "source": [
    "print(my_transformation)\n",
    "#it's okay, it's a symbolic graph"
   ]
  },
  {
   "cell_type": "code",
   "execution_count": 12,
   "metadata": {
    "collapsed": false
   },
   "outputs": [
    {
     "data": {
      "text/plain": [
       "array([0.       , 1.6291324, 2.0950115, 2.6289961, 0.       ],\n",
       "      dtype=float32)"
      ]
     },
     "execution_count": 12,
     "metadata": {},
     "output_type": "execute_result"
    }
   ],
   "source": [
    "#\n",
    "dummy = np.arange(5).astype('float32')\n",
    "\n",
    "my_transformation.eval({my_vector:dummy,my_vector2:dummy[::-1]})"
   ]
  },
  {
   "cell_type": "markdown",
   "metadata": {},
   "source": [
    "### Visualizing graphs\n",
    "\n",
    "It's often useful to visualize the computation graph when debugging or optimizing. \n",
    "Interactive visualization is where tensorflow really shines as compared to other frameworks. \n",
    "\n",
    "There's a special instrument for that, called Tensorboard. You can launch it from console:\n",
    "\n",
    "```tensorboard --logdir=/tmp/tboard --port=7007```\n",
    "\n",
    "If you're pathologically afraid of consoles, try this:\n",
    "\n",
    "```os.system(\"tensorboard --logdir=/tmp/tboard --port=7007 &\"```\n",
    "\n",
    "_(but don't tell anyone we taught you that)_"
   ]
  },
  {
   "cell_type": "code",
   "execution_count": 13,
   "metadata": {
    "collapsed": false
   },
   "outputs": [
    {
     "data": {
      "text/plain": [
       "0"
      ]
     },
     "execution_count": 13,
     "metadata": {},
     "output_type": "execute_result"
    }
   ],
   "source": [
    "import os\n",
    "\n",
    "os.system(\"tensorboard --logdir=/tmp/tboard --port=7007 &\")"
   ]
  },
  {
   "cell_type": "code",
   "execution_count": 14,
   "metadata": {
    "collapsed": false
   },
   "outputs": [
    {
     "name": "stdout",
     "output_type": "stream",
     "text": [
      "Port: 7000\n"
     ]
    }
   ],
   "source": [
    "# launch tensorflow the ugly way, uncomment if you need that\n",
    "import os\n",
    "port = 6000 + os.getuid()\n",
    "print(\"Port: %d\" % port)\n",
    "!killall tensorboard\n",
    "os.system(\"tensorboard --logdir=./tboard --port=%d &\" % port)\n",
    "\n",
    "# show graph to tensorboard\n",
    "writer = tf.summary.FileWriter(\"./tboard\", graph=tf.get_default_graph())\n",
    "writer.close()"
   ]
  },
  {
   "cell_type": "markdown",
   "metadata": {},
   "source": [
    "One basic functionality of tensorboard is drawing graphs. One you've run the cell above, go to `localhost:7007` in your browser and switch to _graphs_ tab in the topbar. \n",
    "\n",
    "Here's what you should see:\n",
    "\n",
    "<img src=\"https://s12.postimg.org/a374bmffx/tensorboard.png\" width=480>\n",
    "\n",
    "Tensorboard also allows you to draw graphs (e.g. learning curves), record images & audio ~~and play flash games~~. This is useful when monitoring learning progress and catching some training issues.\n",
    "\n",
    "One researcher said:\n",
    "```\n",
    "If you spent last four hours of your worktime watching as your algorithm prints numbers and draws figures, you're probably doing deep learning wrong.\n",
    "```"
   ]
  },
  {
   "cell_type": "markdown",
   "metadata": {},
   "source": [
    "You can read more on tensorboard usage [here](https://www.tensorflow.org/get_started/graph_viz)"
   ]
  },
  {
   "cell_type": "markdown",
   "metadata": {},
   "source": [
    "# Do It Yourself\n",
    "\n",
    "__[2 points max]__"
   ]
  },
  {
   "cell_type": "code",
   "execution_count": 15,
   "metadata": {
    "collapsed": false
   },
   "outputs": [
    {
     "name": "stdout",
     "output_type": "stream",
     "text": [
      "8.0000001940296\n",
      "8.0\n",
      "CPU times: user 0 ns, sys: 0 ns, total: 0 ns\n",
      "Wall time: 275 µs\n"
     ]
    }
   ],
   "source": [
    "%%time\n",
    "dummy = np.arange(5).astype('float32')\n",
    "vec1 = dummy\n",
    "vec2 = dummy[::-1]\n",
    "mse = np.linalg.norm(vec1 - vec2)**2 / len(vec1)\n",
    "print(mse)\n",
    "print(np.sum((vec1 - vec2)**2) / len(vec1))"
   ]
  },
  {
   "cell_type": "code",
   "execution_count": 16,
   "metadata": {
    "collapsed": false
   },
   "outputs": [
    {
     "name": "stdout",
     "output_type": "stream",
     "text": [
      "Tensor(\"truediv_1:0\", shape=(), dtype=float32)\n",
      "8.0\n",
      "CPU times: user 8 ms, sys: 0 ns, total: 8 ms\n",
      "Wall time: 9.33 ms\n"
     ]
    }
   ],
   "source": [
    "%%time\n",
    "\n",
    "# Quest #1 - implement a function that computes a mean squared error of two input vectors\n",
    "# Your function has to take 2 vectors and return a single number\n",
    "\n",
    "#<student.define_inputs_and_transformations()>\n",
    "#mse =<student.define_transformation()>\n",
    "#compute_mse = lambda vector1, vector2: <how to run you graph?>\n",
    "\n",
    "vec1 = tf.placeholder('float32',shape=(None,))\n",
    "vec2 = tf.placeholder('float32',shape=(None,))\n",
    "#mse = tf.norm(vec1 - vec2)\n",
    "mse = tf.reduce_sum((vec1-vec2)**2) / tf.to_float(tf.size(vec1))\n",
    "print(mse)\n",
    "\n",
    "dummy = np.arange(5).astype('float32')\n",
    "\n",
    "print(mse.eval({vec1:dummy, vec2:dummy[::-1]}))\n",
    "\n",
    "compute_mse = lambda vector1, vector2: mse.eval({vec1:vector1, vec2:vector2})"
   ]
  },
  {
   "cell_type": "code",
   "execution_count": 17,
   "metadata": {
    "collapsed": false
   },
   "outputs": [
    {
     "name": "stdout",
     "output_type": "stream",
     "text": [
      "0.812060342585451\n"
     ]
    }
   ],
   "source": [
    "print(np.sqrt(0.659442))"
   ]
  },
  {
   "cell_type": "code",
   "execution_count": 18,
   "metadata": {
    "collapsed": false
   },
   "outputs": [
    {
     "name": "stdout",
     "output_type": "stream",
     "text": [
      "All tests passed\n"
     ]
    }
   ],
   "source": [
    "# Tests\n",
    "from sklearn.metrics import mean_squared_error\n",
    "\n",
    "for n in [1,5,10,10**3]:\n",
    "    \n",
    "    elems = [np.arange(n),np.arange(n,0,-1), np.zeros(n),\n",
    "             np.ones(n),np.random.random(n),np.random.randint(100,size=n)]\n",
    "    \n",
    "    for el in elems:\n",
    "        for el_2 in elems:\n",
    "            true_mse = np.array(mean_squared_error(el,el_2))\n",
    "            my_mse = compute_mse(el,el_2)\n",
    "            if not np.allclose(true_mse,my_mse):\n",
    "                print('Wrong result:')\n",
    "                print('mse(%s,%s)' % (el,el_2))\n",
    "                print(\"should be: %f, but your function returned %f\" % (true_mse,my_mse))\n",
    "                raise(ValueError,\"oops\")\n",
    "\n",
    "print(\"All tests passed\")    "
   ]
  },
  {
   "cell_type": "markdown",
   "metadata": {},
   "source": [
    "# variables\n",
    "\n",
    "The inputs and transformations have no value outside function call. This isn't too comfortable if you want your model to have parameters (e.g. network weights) that are always present, but can change their value over time.\n",
    "\n",
    "Tensorflow solves this with `tf.Variable` objects.\n",
    "* You can assign variable a value at any time in your graph\n",
    "* Unlike placeholders, there's no need to explicitly pass values to variables when `s.run(...)`-ing\n",
    "* You can use variables the same way you use transformations \n",
    " "
   ]
  },
  {
   "cell_type": "code",
   "execution_count": 19,
   "metadata": {
    "collapsed": true
   },
   "outputs": [],
   "source": [
    "#creating shared variable\n",
    "shared_vector_1 = tf.Variable(initial_value=np.ones(5))"
   ]
  },
  {
   "cell_type": "code",
   "execution_count": 20,
   "metadata": {
    "collapsed": false
   },
   "outputs": [
    {
     "name": "stdout",
     "output_type": "stream",
     "text": [
      "<tf.Variable 'Variable:0' shape=(5,) dtype=float64_ref>\n",
      "[1. 1. 1. 1. 1.]\n"
     ]
    }
   ],
   "source": [
    "print(shared_vector_1)\n",
    "print(np.ones(5))"
   ]
  },
  {
   "cell_type": "code",
   "execution_count": 21,
   "metadata": {
    "collapsed": false
   },
   "outputs": [
    {
     "name": "stdout",
     "output_type": "stream",
     "text": [
      "initial value [1. 1. 1. 1. 1.]\n"
     ]
    }
   ],
   "source": [
    "#initialize variable(s) with initial values\n",
    "s.run(tf.global_variables_initializer())\n",
    "\n",
    "#evaluating shared variable (outside symbolicd graph)\n",
    "print(\"initial value\", s.run(shared_vector_1))\n",
    "\n",
    "# within symbolic graph you use them just as any other inout or transformation, not \"get value\" needed"
   ]
  },
  {
   "cell_type": "code",
   "execution_count": 22,
   "metadata": {
    "collapsed": false
   },
   "outputs": [
    {
     "name": "stdout",
     "output_type": "stream",
     "text": [
      "new value [0. 1. 2. 3. 4.]\n"
     ]
    }
   ],
   "source": [
    "#setting new value\n",
    "s.run(shared_vector_1.assign(np.arange(5)))\n",
    "\n",
    "#getting that new value\n",
    "print(\"new value\", s.run(shared_vector_1))\n"
   ]
  },
  {
   "cell_type": "markdown",
   "metadata": {},
   "source": [
    "# tf.gradients - why graphs matter\n",
    "* Tensorflow can compute derivatives and gradients automatically using the computation graph\n",
    "* Gradients are computed as a product of elementary derivatives via chain rule:\n",
    "\n",
    "$$ {\\partial f(g(x)) \\over \\partial x} = {\\partial f(g(x)) \\over \\partial g(x)}\\cdot {\\partial g(x) \\over \\partial x} $$\n",
    "\n",
    "It can get you the derivative of any graph as long as it knows how to differentiate elementary operations"
   ]
  },
  {
   "cell_type": "code",
   "execution_count": 23,
   "metadata": {
    "collapsed": false
   },
   "outputs": [],
   "source": [
    "my_scalar = tf.placeholder('float32')\n",
    "\n",
    "scalar_squared = my_scalar**2\n",
    "\n",
    "#a derivative of scalar_squared by my_scalar\n",
    "derivative = tf.gradients(scalar_squared, my_scalar)[0]"
   ]
  },
  {
   "cell_type": "code",
   "execution_count": 24,
   "metadata": {
    "collapsed": false
   },
   "outputs": [
    {
     "name": "stdout",
     "output_type": "stream",
     "text": [
      "Tensor(\"Placeholder_10:0\", dtype=float32)\n",
      "Tensor(\"pow_3:0\", dtype=float32)\n",
      "Tensor(\"gradients/pow_3_grad/Reshape:0\", dtype=float32)\n",
      "6.0\n",
      "8.0\n"
     ]
    }
   ],
   "source": [
    "print(my_scalar)\n",
    "print(scalar_squared)\n",
    "print(derivative)\n",
    "print(derivative.eval({my_scalar:3}))\n",
    "print(derivative.eval({my_scalar:4}))"
   ]
  },
  {
   "cell_type": "code",
   "execution_count": 25,
   "metadata": {
    "collapsed": false
   },
   "outputs": [
    {
     "name": "stdout",
     "output_type": "stream",
     "text": [
      "[-3.         -2.87755102 -2.75510204 -2.63265306 -2.51020408 -2.3877551\n",
      " -2.26530612 -2.14285714 -2.02040816 -1.89795918 -1.7755102  -1.65306122\n",
      " -1.53061224 -1.40816327 -1.28571429 -1.16326531 -1.04081633 -0.91836735\n",
      " -0.79591837 -0.67346939 -0.55102041 -0.42857143 -0.30612245 -0.18367347\n",
      " -0.06122449  0.06122449  0.18367347  0.30612245  0.42857143  0.55102041\n",
      "  0.67346939  0.79591837  0.91836735  1.04081633  1.16326531  1.28571429\n",
      "  1.40816327  1.53061224  1.65306122  1.7755102   1.89795918  2.02040816\n",
      "  2.14285714  2.26530612  2.3877551   2.51020408  2.63265306  2.75510204\n",
      "  2.87755102  3.        ]\n"
     ]
    }
   ],
   "source": [
    "x = np.linspace(-3, 3)\n",
    "print(x)"
   ]
  },
  {
   "cell_type": "code",
   "execution_count": 26,
   "metadata": {
    "collapsed": false
   },
   "outputs": [
    {
     "data": {
      "image/png": "[encoded data removed]",
      "text/plain": [
       "<matplotlib.figure.Figure at 0x7fcbbc071a58>"
      ]
     },
     "metadata": {},
     "output_type": "display_data"
    }
   ],
   "source": [
    "import matplotlib.pyplot as plt\n",
    "%matplotlib inline\n",
    "\n",
    "x = np.linspace(-3,3)\n",
    "x_squared, x_squared_der = s.run([scalar_squared, derivative],\n",
    "                                 {my_scalar:x})\n",
    "\n",
    "plt.plot(x, x_squared,label=\"x^2\")\n",
    "plt.plot(x, x_squared_der, label=\"derivative\")\n",
    "plt.legend();"
   ]
  },
  {
   "cell_type": "markdown",
   "metadata": {},
   "source": [
    "# Why that rocks"
   ]
  },
  {
   "cell_type": "code",
   "execution_count": 27,
   "metadata": {
    "collapsed": true
   },
   "outputs": [],
   "source": [
    "my_vector = tf.placeholder('float32',[None])\n",
    "\n",
    "#Compute the gradient of the next weird function over my_scalar and my_vector\n",
    "#warning! Trying to understand the meaning of that function may result in permanent brain damage\n",
    "\n",
    "weird_psychotic_function = tf.reduce_mean((my_vector+my_scalar)**(1+tf.nn.moments(my_vector,[0])[1]) + 1./ tf.atan(my_scalar))/(my_scalar**2 + 1) + 0.01*tf.sin(2*my_scalar**1.5)*(tf.reduce_sum(my_vector)* my_scalar**2)*tf.exp((my_scalar-4)**2)/(1+tf.exp((my_scalar-4)**2))*(1.-(tf.exp(-(my_scalar-4)**2))/(1+tf.exp(-(my_scalar-4)**2)))**2\n",
    "\n",
    "#der_by_scalar = <student.compute_grad_over_scalar()>\n",
    "#der_by_vector = <student.compute_grad_over_vector()>"
   ]
  },
  {
   "cell_type": "code",
   "execution_count": 28,
   "metadata": {
    "collapsed": true
   },
   "outputs": [],
   "source": [
    "#a derivative of scalar_squared by my_scalar\n",
    "der_by_scalar = tf.gradients(weird_psychotic_function, my_scalar)[0]\n",
    "der_by_vector = tf.gradients(weird_psychotic_function, my_vector)[0]"
   ]
  },
  {
   "cell_type": "code",
   "execution_count": 29,
   "metadata": {
    "collapsed": false
   },
   "outputs": [
    {
     "data": {
      "image/png": "[encoded data removed]",
      "text/plain": [
       "<matplotlib.figure.Figure at 0x7fcb9b5eefd0>"
      ]
     },
     "metadata": {},
     "output_type": "display_data"
    }
   ],
   "source": [
    "#Plotting your derivative\n",
    "scalar_space = np.linspace(1, 7, 100)\n",
    "\n",
    "y = [s.run(weird_psychotic_function, {my_scalar:x, my_vector:[1, 2, 3]})\n",
    "     for x in scalar_space]\n",
    "\n",
    "plt.plot(scalar_space, y, label='function')\n",
    "\n",
    "y_der_by_scalar = [s.run(der_by_scalar, {my_scalar:x, my_vector:[1, 2, 3]})\n",
    "     for x in scalar_space]\n",
    "\n",
    "plt.plot(scalar_space, y_der_by_scalar, label='derivative')\n",
    "plt.grid()\n",
    "plt.legend();"
   ]
  },
  {
   "cell_type": "markdown",
   "metadata": {},
   "source": [
    "# Almost done - optimizers\n",
    "\n",
    "While you can perform gradient descent by hand with automatic grads from above, tensorflow also has some optimization methods implemented for you. Recall momentum & rmsprop?"
   ]
  },
  {
   "cell_type": "code",
   "execution_count": 30,
   "metadata": {
    "collapsed": false
   },
   "outputs": [
    {
     "name": "stdout",
     "output_type": "stream",
     "text": [
      "[0. 0.]\n",
      "[1 2]\n",
      "[ 0.12898868 -0.84452217]\n"
     ]
    }
   ],
   "source": [
    "print(np.zeros(2))\n",
    "print(np.arange(1,3))\n",
    "print(np.random.randn(2))"
   ]
  },
  {
   "cell_type": "code",
   "execution_count": 31,
   "metadata": {
    "collapsed": false
   },
   "outputs": [
    {
     "name": "stdout",
     "output_type": "stream",
     "text": [
      "name: \"Momentum\"\n",
      "op: \"NoOp\"\n",
      "input: \"^Momentum/update_Variable_1/ApplyMomentum\"\n",
      "\n"
     ]
    }
   ],
   "source": [
    "y_guess = tf.Variable(np.zeros(2,dtype='float32'))\n",
    "y_true = tf.range(1,3,dtype='float32')\n",
    "\n",
    "loss = tf.reduce_mean((y_guess - y_true + tf.random_normal([2]))**2) \n",
    "\n",
    "optimizer = tf.train.MomentumOptimizer(0.01, 0.9).minimize(loss, var_list=y_guess)\n",
    "\n",
    "#same, but more detailed:\n",
    "#updates = [[tf.gradients(loss, y_guess)[0], y_guess]]\n",
    "#optimizer = tf.train.MomentumOptimizer(0.01,0.9).apply_gradients(updates)\n",
    "\n",
    "print(optimizer)\n",
    "#tf.train.MomentumOptimizer()"
   ]
  },
  {
   "cell_type": "code",
   "execution_count": 32,
   "metadata": {
    "collapsed": false
   },
   "outputs": [
    {
     "data": {
      "image/png": "[encoded data removed]",
      "text/plain": [
       "<matplotlib.figure.Figure at 0x7fcb936a7da0>"
      ]
     },
     "metadata": {},
     "output_type": "display_data"
    }
   ],
   "source": [
    "from IPython.display import clear_output\n",
    "\n",
    "s.run(tf.global_variables_initializer())\n",
    "\n",
    "guesses = [s.run(y_guess)]\n",
    "\n",
    "for _ in range(100):\n",
    "    s.run(optimizer)\n",
    "    guesses.append(s.run(y_guess))\n",
    "    \n",
    "    clear_output(True)\n",
    "    plt.plot(*zip(*guesses),marker='.')\n",
    "    plt.scatter(*s.run(y_true),c='red')\n",
    "    plt.show()"
   ]
  },
  {
   "cell_type": "markdown",
   "metadata": {},
   "source": [
    "# Logistic regression example\n",
    "Implement the regular logistic regression training algorithm\n",
    "\n",
    "Tips:\n",
    "* Use a shared variable for weights\n",
    "* X and y are potential inputs\n",
    "* Compile 2 functions:\n",
    " * `train_function(X, y)` - returns error and computes weights' new values __(through updates)__\n",
    " * `predict_fun(X)` - just computes probabilities (\"y\") given data\n",
    " \n",
    " \n",
    "We shall train on a two-class MNIST dataset\n",
    "* please note that target `y` are `{0,1}` and not `{-1,1}` as in some formulae"
   ]
  },
  {
   "cell_type": "code",
   "execution_count": 33,
   "metadata": {
    "collapsed": false
   },
   "outputs": [
    {
     "name": "stdout",
     "output_type": "stream",
     "text": [
      "y [shape - (360,)]: [0 1 0 1 0 1 0 0 1 1]\n",
      "X [shape - (360, 64)]:\n"
     ]
    }
   ],
   "source": [
    "from sklearn.datasets import load_digits\n",
    "mnist = load_digits(2)\n",
    "\n",
    "X,y = mnist.data, mnist.target\n",
    "\n",
    "print(\"y [shape - %s]:\" % (str(y.shape)), y[:10])\n",
    "print(\"X [shape - %s]:\" % (str(X.shape)))"
   ]
  },
  {
   "cell_type": "code",
   "execution_count": 34,
   "metadata": {
    "collapsed": false
   },
   "outputs": [
    {
     "name": "stdout",
     "output_type": "stream",
     "text": [
      "(360, 64)\n",
      "(360,)\n",
      "1\n",
      "182\n",
      "178\n"
     ]
    },
    {
     "data": {
      "image/png": "[encoded data removed]",
      "text/plain": [
       "<matplotlib.figure.Figure at 0x7fcb94a3a0b8>"
      ]
     },
     "metadata": {},
     "output_type": "display_data"
    }
   ],
   "source": [
    "print(X.shape)\n",
    "print(y.shape)\n",
    "plt.imshow(X[50].reshape([8,8]), cmap='gray')\n",
    "print(y[3])\n",
    "print(np.sum(y == 1))\n",
    "print(np.sum(y == 0))"
   ]
  },
  {
   "cell_type": "code",
   "execution_count": 35,
   "metadata": {
    "collapsed": false
   },
   "outputs": [
    {
     "name": "stdout",
     "output_type": "stream",
     "text": [
      "X:\n",
      " [[ 0.  0.  5. 13.  9.  1.  0.  0.  0.  0.]\n",
      " [ 0.  0.  0. 12. 13.  5.  0.  0.  0.  0.]\n",
      " [ 0.  0.  1.  9. 15. 11.  0.  0.  0.  0.]]\n",
      "y:\n",
      " [0 1 0 1 0 1 0 0 1 1]\n"
     ]
    },
    {
     "data": {
      "text/plain": [
       "<matplotlib.image.AxesImage at 0x7fcb92fcffd0>"
      ]
     },
     "execution_count": 35,
     "metadata": {},
     "output_type": "execute_result"
    },
    {
     "data": {
      "image/png": "[encoded data removed]",
      "text/plain": [
       "<matplotlib.figure.Figure at 0x7fcb94b06940>"
      ]
     },
     "metadata": {},
     "output_type": "display_data"
    }
   ],
   "source": [
    "print('X:\\n',X[:3,:10])\n",
    "print('y:\\n',y[:10])\n",
    "plt.imshow(X[0].reshape([8,8]))"
   ]
  },
  {
   "cell_type": "code",
   "execution_count": 36,
   "metadata": {
    "collapsed": false
   },
   "outputs": [
    {
     "name": "stdout",
     "output_type": "stream",
     "text": [
      "[-0.64397534 -1.3732729  -0.15198061 -0.73135889 -1.98306567  0.4205044\n",
      " -1.47924058 -0.61443777 -0.31740587 -0.41174194  0.98190491 -1.88781868\n",
      "  0.07069604  0.0536926   0.54955272 -0.59568596  0.0494166   0.48196591\n",
      " -0.81940337 -1.9254302  -1.94634183 -0.49597246 -0.3883735  -0.63547671\n",
      "  1.5401082  -0.97504383 -0.67621106  1.65535103 -0.09982914  0.18630025\n",
      "  0.1039978  -0.68272846 -1.1228249   0.41342132  0.59653962 -0.16339598\n",
      " -1.95583962  0.44357644 -2.47218207 -0.7546725   0.42306827 -0.19165117\n",
      "  0.56811757 -0.39596545 -1.60573298 -1.03466428 -2.19439737  0.31578221\n",
      "  0.69379097  0.47874985  0.07541746 -1.58305573  0.14110371 -1.53800583\n",
      " -0.89159686  1.34994496  0.64552793  1.18814985  1.25364006 -1.48037432\n",
      "  2.77031297  0.00291253  0.37701134  0.46497115]\n"
     ]
    }
   ],
   "source": [
    "print(np.random.randn(64))"
   ]
  },
  {
   "cell_type": "code",
   "execution_count": 37,
   "metadata": {
    "collapsed": false
   },
   "outputs": [
    {
     "name": "stdout",
     "output_type": "stream",
     "text": [
      "Tensor(\"Placeholder_12:0\", shape=(?, 64), dtype=float32)\n",
      "Tensor(\"Placeholder_13:0\", shape=(?,), dtype=uint8)\n",
      "<tf.Variable 'Variable_2:0' shape=(64, 2) dtype=float32_ref>\n"
     ]
    }
   ],
   "source": [
    "# inputs and shareds\n",
    "#weights = <student.code_variable()>\n",
    "#input_X = <student.code_placeholder()>\n",
    "#input_y = <student.code_placeholder()>\n",
    "\n",
    "#input_X = tf.placeholder('int8',shape=(8, 8))\n",
    "#weights = tf.Variable(initial_value=np.random.randn(64, 2), dtype='float32')\n",
    "weights = tf.Variable(initial_value=np.zeros([64, 2]), dtype='float32')\n",
    "input_X = tf.placeholder('float32',shape=(None, 64))\n",
    "input_y = tf.placeholder('uint8', shape=(None,))\n",
    "\n",
    "print(input_X)\n",
    "print(input_y)\n",
    "print(weights)"
   ]
  },
  {
   "cell_type": "code",
   "execution_count": 38,
   "metadata": {
    "collapsed": false
   },
   "outputs": [
    {
     "name": "stdout",
     "output_type": "stream",
     "text": [
      "Tensor(\"Softmax:0\", shape=(?, 2), dtype=float32)\n",
      "Tensor(\"ArgMax:0\", shape=(?,), dtype=int64)\n",
      "Tensor(\"one_hot:0\", shape=(?, 2), dtype=float32)\n",
      "Tensor(\"Neg_2:0\", shape=(), dtype=float32)\n",
      "name: \"GradientDescent\"\n",
      "op: \"NoOp\"\n",
      "input: \"^GradientDescent/update_Variable_2/ApplyGradientDescent\"\n",
      "\n"
     ]
    }
   ],
   "source": [
    "\n",
    "#predicted_y = <predicted probabilities for input_X>\n",
    "#loss = <logistic loss (scalar, mean over sample)>\n",
    "#optimizer = <optimizer that minimizes loss>\n",
    "\n",
    "predicted_y = tf.nn.softmax(tf.matmul(input_X, weights))\n",
    "print(predicted_y)\n",
    "\n",
    "predictions = tf.argmax(predicted_y, axis=1)\n",
    "print(predictions)\n",
    "\n",
    "y_onehot = tf.one_hot(input_y, 2, dtype='float32')\n",
    "print(y_onehot)\n",
    "\n",
    "#loss = tf.reduce_mean((predicted_y - y_onehot)**2)\n",
    "#print(loss)\n",
    "\n",
    "loss = - tf.reduce_mean(y_onehot * tf.log(predicted_y + 1e-10))\n",
    "print(loss)\n",
    "\n",
    "#optimizer = tf.train.MomentumOptimizer(0.001, 0.9).minimize(loss)\n",
    "optimizer = tf.train.GradientDescentOptimizer(0.01).minimize(loss)\n",
    "print(optimizer)\n",
    "\n",
    "#s.run(tf.global_variables_initializer())\n",
    "\n",
    "#print(y.shape)\n",
    "#print(y[0:4])\n",
    "#print(y_onehot.eval({input_y: y}))\n",
    "\n",
    "#print(tf.one_hot(y, 2))\n",
    "#print(X.shape)\n",
    "#predicted_y.eval({input_X: X})"
   ]
  },
  {
   "cell_type": "code",
   "execution_count": 39,
   "metadata": {
    "collapsed": false
   },
   "outputs": [
    {
     "ename": "SyntaxError",
     "evalue": "invalid syntax (<ipython-input-39-5323dd4ca3bc>, line 1)",
     "output_type": "error",
     "traceback": [
      "\u001b[0;36m  File \u001b[0;32m\"<ipython-input-39-5323dd4ca3bc>\"\u001b[0;36m, line \u001b[0;32m1\u001b[0m\n\u001b[0;31m    train_function = <compile function that takes X and y, returns log loss and updates weights>\u001b[0m\n\u001b[0m                     ^\u001b[0m\n\u001b[0;31mSyntaxError\u001b[0m\u001b[0;31m:\u001b[0m invalid syntax\n"
     ]
    }
   ],
   "source": [
    "train_function = <compile function that takes X and y, returns log loss and updates weights>\n",
    "predict_function = <compile function that takes X and computes probabilities of y>"
   ]
  },
  {
   "cell_type": "code",
   "execution_count": 40,
   "metadata": {
    "collapsed": true
   },
   "outputs": [],
   "source": [
    "from sklearn.utils import shuffle\n",
    "\n",
    "def train_function(X, y):\n",
    "    num_samples = X.shape[0]\n",
    "    batch_size = 20\n",
    "    X, y = shuffle(X, y)\n",
    "    \n",
    "    losses = []\n",
    "    for i in range(0, num_samples, batch_size):\n",
    "        end = min(i + batch_size, num_samples)\n",
    "        #print(i, end)\n",
    "        batch_xs, batch_ys = X[i:end], y[i:end]\n",
    "        # Run optimization op (backprop) and cost op (to get loss value)\n",
    "        _, l = sess.run([optimizer, loss], feed_dict={input_X: batch_xs, input_y: batch_ys})\n",
    "        losses.append(l)\n",
    "        #print(l)\n",
    "        \n",
    "    return np.mean(losses)"
   ]
  },
  {
   "cell_type": "code",
   "execution_count": 41,
   "metadata": {
    "collapsed": true
   },
   "outputs": [],
   "source": [
    "def predict_function(X):\n",
    "    preds = sess.run([predictions], feed_dict={input_X: X})\n",
    "    #print(type(preds))\n",
    "    return(np.array(preds).reshape(-1,))\n"
   ]
  },
  {
   "cell_type": "code",
   "execution_count": 42,
   "metadata": {
    "collapsed": false
   },
   "outputs": [
    {
     "name": "stdout",
     "output_type": "stream",
     "text": [
      "0.08157006\n",
      "0.0049591996\n",
      "0.0037139084\n",
      "0.0030082806\n",
      "0.0026348\n",
      "0.002329142\n",
      "0.0021643203\n",
      "0.0019428594\n",
      "0.0017797734\n",
      "0.0016296074\n",
      "Optimization Finished!\n"
     ]
    }
   ],
   "source": [
    "# Initialize the variables (i.e. assign their default value)\n",
    "init = tf.global_variables_initializer()\n",
    "\n",
    "# Start training\n",
    "with tf.Session() as sess:\n",
    "    # Run the initializer\n",
    "    sess.run(init)\n",
    "\n",
    "    # Training cycle\n",
    "    for epoch in range(10):\n",
    "        # Loop over all batches\n",
    "        mean_loss = train_function(X, y)\n",
    "        print(mean_loss)\n",
    "\n",
    "print(\"Optimization Finished!\")\n"
   ]
  },
  {
   "cell_type": "code",
   "execution_count": 43,
   "metadata": {
    "collapsed": true
   },
   "outputs": [],
   "source": [
    "from sklearn.model_selection import train_test_split\n",
    "X_train, X_test, y_train, y_test = train_test_split(X, y)"
   ]
  },
  {
   "cell_type": "code",
   "execution_count": 44,
   "metadata": {
    "collapsed": false
   },
   "outputs": [
    {
     "name": "stdout",
     "output_type": "stream",
     "text": [
      "(270,)\n"
     ]
    }
   ],
   "source": [
    "print(y_train.shape)"
   ]
  },
  {
   "cell_type": "code",
   "execution_count": 45,
   "metadata": {
    "collapsed": false
   },
   "outputs": [
    {
     "name": "stdout",
     "output_type": "stream",
     "text": [
      "loss at iter 0:0.0512\n",
      "train auc: 1.0\n",
      "test auc: 1.0\n",
      "loss at iter 1:0.0094\n",
      "train auc: 1.0\n",
      "test auc: 1.0\n",
      "loss at iter 2:0.0060\n",
      "train auc: 1.0\n",
      "test auc: 1.0\n",
      "loss at iter 3:0.0046\n",
      "train auc: 1.0\n",
      "test auc: 1.0\n",
      "loss at iter 4:0.0037\n",
      "train auc: 1.0\n",
      "test auc: 1.0\n",
      "resulting weights:\n",
      "[[ 0.0000000e+00  0.0000000e+00]\n",
      " [-7.1638613e-05  7.1638642e-05]\n",
      " [ 2.5734247e-03 -2.5734254e-03]\n",
      " [ 2.0547103e-02 -2.0547109e-02]\n",
      " [ 5.6092772e-03 -5.6092748e-03]\n",
      " [-2.6258063e-02  2.6258068e-02]\n",
      " [-8.6803287e-03  8.6803287e-03]\n",
      " [ 0.0000000e+00  0.0000000e+00]\n",
      " [ 0.0000000e+00  0.0000000e+00]\n",
      " [ 2.2255417e-03 -2.2255417e-03]\n",
      " [ 2.7289635e-02 -2.7289635e-02]\n",
      " [ 6.7176577e-03 -6.7176572e-03]\n",
      " [-9.1187758e-03  9.1187749e-03]\n",
      " [ 2.4895172e-03 -2.4895160e-03]\n",
      " [-4.0612370e-03  4.0612388e-03]\n",
      " [ 0.0000000e+00  0.0000000e+00]\n",
      " [ 0.0000000e+00  0.0000000e+00]\n",
      " [ 4.4027949e-03 -4.4027953e-03]\n",
      " [ 1.6114265e-02 -1.6114268e-02]\n",
      " [-3.4904957e-02  3.4904964e-02]\n",
      " [-4.7151078e-02  4.7151081e-02]\n",
      " [ 1.3521201e-02 -1.3521200e-02]\n",
      " [ 5.8320728e-03 -5.8320723e-03]\n",
      " [ 0.0000000e+00  0.0000000e+00]\n",
      " [ 0.0000000e+00  0.0000000e+00]\n",
      " [ 8.0311224e-03 -8.0311242e-03]\n",
      " [ 1.0178469e-02 -1.0178468e-02]\n",
      " [-4.0153105e-02  4.0153109e-02]\n",
      " [-5.1967051e-02  5.1967058e-02]\n",
      " [ 1.8187145e-03 -1.8187125e-03]\n",
      " [ 2.1129536e-02 -2.1129537e-02]\n",
      " [ 0.0000000e+00  0.0000000e+00]\n",
      " [ 0.0000000e+00  0.0000000e+00]\n",
      " [ 1.6750045e-02 -1.6750049e-02]\n",
      " [ 2.1746963e-02 -2.1746958e-02]\n",
      " [-3.4970570e-02  3.4970567e-02]\n",
      " [-5.0605148e-02  5.0605159e-02]\n",
      " [ 4.8548761e-03 -4.8548728e-03]\n",
      " [ 2.4026524e-02 -2.4026521e-02]\n",
      " [ 0.0000000e+00  0.0000000e+00]\n",
      " [ 0.0000000e+00  0.0000000e+00]\n",
      " [ 1.0701710e-02 -1.0701707e-02]\n",
      " [ 3.5533227e-02 -3.5533216e-02]\n",
      " [-2.1928500e-02  2.1928504e-02]\n",
      " [-4.0234584e-02  4.0234584e-02]\n",
      " [ 1.3482897e-02 -1.3482894e-02]\n",
      " [ 1.9068457e-02 -1.9068459e-02]\n",
      " [ 0.0000000e+00  0.0000000e+00]\n",
      " [ 0.0000000e+00  0.0000000e+00]\n",
      " [ 2.3388744e-03 -2.3388728e-03]\n",
      " [ 2.8199855e-02 -2.8199863e-02]\n",
      " [ 8.2093431e-03 -8.2093440e-03]\n",
      " [-6.9012130e-03  6.9012144e-03]\n",
      " [ 1.4064474e-02 -1.4064470e-02]\n",
      " [-3.5072609e-03  3.5072619e-03]\n",
      " [-3.0420520e-03  3.0420518e-03]\n",
      " [ 0.0000000e+00  0.0000000e+00]\n",
      " [-3.9770031e-05  3.9770024e-05]\n",
      " [ 4.1578584e-03 -4.1578580e-03]\n",
      " [ 2.1103363e-02 -2.1103365e-02]\n",
      " [ 4.1625937e-03 -4.1625896e-03]\n",
      " [-2.2511132e-02  2.2511141e-02]\n",
      " [-1.4998203e-02  1.4998205e-02]\n",
      " [-6.1878045e-03  6.1878040e-03]]\n"
     ]
    },
    {
     "data": {
      "image/png": "[encoded data removed]",
      "text/plain": [
       "<matplotlib.figure.Figure at 0x7fcb91fff710>"
      ]
     },
     "metadata": {},
     "output_type": "display_data"
    }
   ],
   "source": [
    "from sklearn.metrics import roc_auc_score\n",
    "\n",
    "init = tf.global_variables_initializer()\n",
    "\n",
    "# Start training\n",
    "with tf.Session() as sess:\n",
    "    # Run the initializer\n",
    "    sess.run(init)\n",
    "\n",
    "    for i in range(5):\n",
    "        #<run optimizer operation>\n",
    "        #loss_i = <compute loss at iteration i>\n",
    "        loss_i = train_function(X_train, y_train)\n",
    "\n",
    "        print(\"loss at iter %i:%.4f\" % (i, loss_i))\n",
    "        \n",
    "        #print(y_train.shape)\n",
    "        #preds = predict_function(X_train)\n",
    "        #print(preds.shape)\n",
    "        #print(preds[0:100])\n",
    "        #print(y_train[0:100])\n",
    "        #print(y_test.shape)\n",
    "        \n",
    "        print(\"train auc:\",roc_auc_score(y_train, predict_function(X_train)))\n",
    "        print(\"test auc:\",roc_auc_score(y_test, predict_function(X_test)))\n",
    "\n",
    "    \n",
    "    print (\"resulting weights:\")\n",
    "    #weights.\n",
    "    print(sess.run(weights))\n",
    "    plt.imshow(sess.run(weights).reshape(8, -1))\n",
    "    plt.colorbar();"
   ]
  },
  {
   "cell_type": "markdown",
   "metadata": {},
   "source": [
    "# Bonus: my1stNN\n",
    "Your ultimate task for this week is to build your first neural network [almost] from scratch and pure tensorflow.\n",
    "\n",
    "This time you will same digit recognition problem, but at a larger scale\n",
    "* images are now 28x28\n",
    "* 10 different digits\n",
    "* 50k samples\n",
    "\n",
    "Note that you are not required to build 152-layer monsters here. A 2-layer (one hidden, one output) NN should already have ive you an edge over logistic regression.\n",
    "\n",
    "__[bonus score]__\n",
    "If you've already beaten logistic regression with a two-layer net, but enthusiasm still ain't gone, you can try improving the test accuracy even further! The milestones would be 95%/97.5%/98.5% accuraсy on test set.\n",
    "\n",
    "__SPOILER!__\n",
    "At the end of the notebook you will find a few tips and frequently made mistakes. If you feel enough might to shoot yourself in the foot without external assistance, we encourage you to do so, but if you encounter any unsurpassable issues, please do look there before mailing us."
   ]
  },
  {
   "cell_type": "code",
   "execution_count": 196,
   "metadata": {
    "collapsed": false
   },
   "outputs": [
    {
     "name": "stdout",
     "output_type": "stream",
     "text": [
      "(50000, 28, 28) (50000,)\n",
      "(10000, 28, 28) (10000,)\n"
     ]
    }
   ],
   "source": [
    "#from mnist import load_dataset\n",
    "from preprocessed_mnist import load_dataset\n",
    "\n",
    "#[down]loading the original MNIST dataset.\n",
    "#Please note that you should only train your NN on _train sample,\n",
    "# _val can be used to evaluate out-of-sample error, compare models or perform early-stopping\n",
    "# _test should be hidden under a rock untill final evaluation... But we both know it is near impossible to catch you evaluating on it.\n",
    "X_train,y_train,X_val,y_val,X_test,y_test = load_dataset()\n",
    "\n",
    "print (X_train.shape, y_train.shape)\n",
    "print (X_test.shape, y_test.shape)"
   ]
  },
  {
   "cell_type": "code",
   "execution_count": 197,
   "metadata": {
    "collapsed": false
   },
   "outputs": [
    {
     "name": "stdout",
     "output_type": "stream",
     "text": [
      "5\n"
     ]
    },
    {
     "data": {
      "image/png": "[encoded data removed]",
      "text/plain": [
       "<matplotlib.figure.Figure at 0x7fcb7854be48>"
      ]
     },
     "metadata": {},
     "output_type": "display_data"
    }
   ],
   "source": [
    "plt.imshow(X_train[0])\n",
    "print(y_train[0])"
   ]
  },
  {
   "cell_type": "code",
   "execution_count": 198,
   "metadata": {
    "collapsed": false
   },
   "outputs": [
    {
     "name": "stdout",
     "output_type": "stream",
     "text": [
      "4932\n",
      "5678\n",
      "4968\n",
      "5101\n",
      "4859\n",
      "4506\n",
      "4951\n",
      "5175\n",
      "4842\n",
      "4988\n",
      "total:  50000\n",
      "784\n"
     ]
    }
   ],
   "source": [
    "sum = 0\n",
    "for i in range(10):\n",
    "    sum_i = np.sum(y_train == i)\n",
    "    sum += sum_i\n",
    "    print(sum_i)\n",
    "print(\"total: \", sum)\n",
    "print(28*28)"
   ]
  },
  {
   "cell_type": "code",
   "execution_count": 199,
   "metadata": {
    "collapsed": false
   },
   "outputs": [
    {
     "name": "stdout",
     "output_type": "stream",
     "text": [
      "(784,)\n",
      "50000\n",
      "784\n"
     ]
    }
   ],
   "source": [
    "print(X_train[0].reshape(-1,).shape)\n",
    "print(X_train.shape[0])\n",
    "print(X_train.shape[1] * X_train.shape[2])"
   ]
  },
  {
   "cell_type": "code",
   "execution_count": 200,
   "metadata": {
    "collapsed": false
   },
   "outputs": [
    {
     "name": "stdout",
     "output_type": "stream",
     "text": [
      "(50000, 784)\n",
      "(10000, 784)\n",
      "(10000, 784)\n"
     ]
    }
   ],
   "source": [
    "def flatten(X):\n",
    "    return X.reshape([X.shape[0], X.shape[1] * X.shape[2]])\n",
    "\n",
    "X_train = flatten(X_train)\n",
    "X_val = flatten(X_val)\n",
    "X_test = flatten(X_test)\n",
    "\n",
    "print(X_train.shape)\n",
    "print(X_val.shape)\n",
    "print(X_test.shape)"
   ]
  },
  {
   "cell_type": "code",
   "execution_count": 201,
   "metadata": {
    "collapsed": true
   },
   "outputs": [],
   "source": [
    "n_labels = 10\n",
    "n_pixels = 28 * 28 \n",
    "n_neurons = 200"
   ]
  },
  {
   "cell_type": "code",
   "execution_count": 202,
   "metadata": {
    "collapsed": false
   },
   "outputs": [
    {
     "name": "stdout",
     "output_type": "stream",
     "text": [
      "[[-0.01326228  0.0094639  -0.00411577]\n",
      " [-0.00828587  0.00812579 -0.00780314]]\n"
     ]
    }
   ],
   "source": [
    "pipo = 0.01 * np.random.randn(2,3)\n",
    "print(pipo)"
   ]
  },
  {
   "cell_type": "code",
   "execution_count": 203,
   "metadata": {
    "collapsed": false
   },
   "outputs": [
    {
     "name": "stdout",
     "output_type": "stream",
     "text": [
      "Tensor(\"Placeholder_36:0\", shape=(?, 784), dtype=float32)\n",
      "Tensor(\"Placeholder_37:0\", shape=(?,), dtype=uint8)\n",
      "<tf.Variable 'Variable_97:0' shape=(784, 10) dtype=float32_ref>\n",
      "<tf.Variable 'Variable_91:0' shape=(784, 200) dtype=float32_ref>\n",
      "<tf.Variable 'Variable_92:0' shape=(200,) dtype=float32_ref>\n",
      "<tf.Variable 'Variable_93:0' shape=(200, 200) dtype=float32_ref>\n",
      "<tf.Variable 'Variable_94:0' shape=(200,) dtype=float32_ref>\n",
      "<tf.Variable 'Variable_95:0' shape=(200, 10) dtype=float32_ref>\n",
      "<tf.Variable 'Variable_96:0' shape=(10,) dtype=float32_ref>\n"
     ]
    }
   ],
   "source": [
    "# Neural Network setup\n",
    "#* np.sqrt(2.0/(784))\n",
    "sigma = 0.001\n",
    "sigma = 1e-6\n",
    "\n",
    "W1 = tf.Variable(initial_value = np.sqrt(1 / n_pixels) * np.random.randn(n_pixels, n_neurons), dtype='float32')\n",
    "b1 = tf.Variable(initial_value = np.zeros([n_neurons]), dtype='float32')\n",
    "\n",
    "W2 = tf.Variable(initial_value = np.sqrt(1 / n_neurons) * np.random.randn(n_neurons, n_neurons), dtype='float32')\n",
    "b2 = tf.Variable(initial_value = np.zeros([n_neurons]), dtype='float32')\n",
    "\n",
    "W = tf.Variable(initial_value = np.zeros([n_neurons, n_labels]), dtype='float32')\n",
    "b = tf.Variable(initial_value = np.zeros([n_labels]), dtype='float32')\n",
    "\n",
    "weights = tf.Variable(initial_value=np.zeros([n_pixels, n_labels]), dtype='float32')\n",
    "biases = tf.Variable(initial_value=np.zeros([n_labels]), dtype='float32')\n",
    "\n",
    "input_X = tf.placeholder('float32',shape=(None, n_pixels))\n",
    "input_y = tf.placeholder('uint8', shape=(None,))\n",
    "\n",
    "print(input_X)\n",
    "print(input_y)\n",
    "print(weights)\n",
    "\n",
    "print(W1)\n",
    "print(b1)\n",
    "print(W2)\n",
    "print(b2)\n",
    "print(W)\n",
    "print(b)"
   ]
  },
  {
   "cell_type": "code",
   "execution_count": 204,
   "metadata": {
    "collapsed": false
   },
   "outputs": [
    {
     "name": "stdout",
     "output_type": "stream",
     "text": [
      "Tensor(\"Softmax_25:0\", shape=(?, 10), dtype=float32)\n",
      "Tensor(\"ArgMax_25:0\", shape=(?,), dtype=int64)\n"
     ]
    }
   ],
   "source": [
    "#<here you could just as well create computation graph>\n",
    "\n",
    "predicted_y = tf.nn.softmax(tf.matmul(input_X, weights) + biases)\n",
    "print(predicted_y)\n",
    "predictions = tf.argmax(predicted_y, axis=1)\n",
    "print(predictions)"
   ]
  },
  {
   "cell_type": "code",
   "execution_count": 205,
   "metadata": {
    "collapsed": false
   },
   "outputs": [
    {
     "name": "stdout",
     "output_type": "stream",
     "text": [
      "Tensor(\"one_hot_11:0\", shape=(?, 10), dtype=float32)\n",
      "Tensor(\"Neg_27:0\", shape=(), dtype=float32)\n",
      "name: \"Adam_24\"\n",
      "op: \"NoOp\"\n",
      "input: \"^Adam_24/update_Variable_97/ApplyAdam\"\n",
      "input: \"^Adam_24/update_Variable_98/ApplyAdam\"\n",
      "input: \"^Adam_24/Assign\"\n",
      "input: \"^Adam_24/Assign_1\"\n",
      "\n"
     ]
    }
   ],
   "source": [
    "#<this may or may not be a good place to evaluating loss and optimizer>\n",
    "\n",
    "y_onehot = tf.one_hot(input_y, n_labels, dtype='float32')\n",
    "print(y_onehot)\n",
    "\n",
    "loss = - tf.reduce_mean(y_onehot * tf.log(predicted_y + 1e-10))\n",
    "print(loss)\n",
    "\n",
    "#optimizer = tf.train.MomentumOptimizer(0.001, 0.9).minimize(loss)\n",
    "#optimizer = tf.train.GradientDescentOptimizer(0.01).minimize(loss)\n",
    "optimizer = tf.train.AdamOptimizer(0.03).minimize(loss)\n",
    "print(optimizer)"
   ]
  },
  {
   "cell_type": "code",
   "execution_count": 214,
   "metadata": {
    "collapsed": false
   },
   "outputs": [
    {
     "name": "stdout",
     "output_type": "stream",
     "text": [
      "Tensor(\"Softmax_27:0\", shape=(?, 10), dtype=float32)\n",
      "Tensor(\"ArgMax_27:0\", shape=(?,), dtype=int64)\n",
      "Tensor(\"Neg_29:0\", shape=(), dtype=float32)\n",
      "name: \"Momentum_1\"\n",
      "op: \"NoOp\"\n",
      "input: \"^Momentum_1/update_Variable_91/ApplyMomentum\"\n",
      "input: \"^Momentum_1/update_Variable_92/ApplyMomentum\"\n",
      "input: \"^Momentum_1/update_Variable_93/ApplyMomentum\"\n",
      "input: \"^Momentum_1/update_Variable_94/ApplyMomentum\"\n",
      "input: \"^Momentum_1/update_Variable_95/ApplyMomentum\"\n",
      "input: \"^Momentum_1/update_Variable_96/ApplyMomentum\"\n",
      "\n"
     ]
    }
   ],
   "source": [
    "# Neural Network setup\n",
    "\n",
    "z1 = tf.matmul(input_X, W1) + b1\n",
    "z2 = tf.sigmoid(z1)\n",
    "\n",
    "z3 = tf.matmul(z2, W2) + b2\n",
    "z4 = tf.sigmoid(z3)\n",
    "\n",
    "nn_predicted_y = tf.nn.softmax(tf.matmul(z4, W) + b)\n",
    "print(nn_predicted_y)\n",
    "\n",
    "nn_predictions = tf.argmax(nn_predicted_y, axis=1)\n",
    "print(nn_predictions)\n",
    "\n",
    "nn_loss = - tf.reduce_mean(y_onehot * tf.log(nn_predicted_y + 1e-10))\n",
    "print(nn_loss)\n",
    "\n",
    "nn_optimizer = tf.train.MomentumOptimizer(0.2, 0.9).minimize(nn_loss)\n",
    "#optimizer = tf.train.GradientDescentOptimizer(0.01).minimize(nn_loss)\n",
    "#nn_optimizer = tf.train.AdamOptimizer(0.03).minimize(nn_loss)\n",
    "print(nn_optimizer)"
   ]
  },
  {
   "cell_type": "code",
   "execution_count": 207,
   "metadata": {
    "collapsed": true
   },
   "outputs": [],
   "source": [
    "#<this may be a perfect cell to write a training&evaluation loop in>"
   ]
  },
  {
   "cell_type": "code",
   "execution_count": 208,
   "metadata": {
    "collapsed": true
   },
   "outputs": [],
   "source": [
    "from sklearn.utils import shuffle\n",
    "\n",
    "def train_function(X, y):\n",
    "    num_samples = X.shape[0]\n",
    "    batch_size = 20\n",
    "    X, y = shuffle(X, y)\n",
    "    \n",
    "    losses = []\n",
    "    for i in range(0, num_samples, batch_size):\n",
    "        end = min(i + batch_size, num_samples)\n",
    "        #print(i, end)\n",
    "        batch_xs, batch_ys = X[i:end], y[i:end]\n",
    "        # Run optimization op (backprop) and cost op (to get loss value)\n",
    "        _, l = sess.run([optimizer, loss], feed_dict={input_X: batch_xs, input_y: batch_ys})\n",
    "        losses.append(l)\n",
    "        #print(l)\n",
    "        \n",
    "    return np.mean(losses)\n",
    "\n",
    "\n",
    "def predict_function(X):\n",
    "    preds = sess.run([predictions], feed_dict={input_X: X})\n",
    "    #print(type(preds))\n",
    "    return(np.array(preds).reshape(-1,))"
   ]
  },
  {
   "cell_type": "code",
   "execution_count": 215,
   "metadata": {
    "collapsed": true
   },
   "outputs": [],
   "source": [
    "def nn_train_function(X, y):\n",
    "    num_samples = X.shape[0]\n",
    "    batch_size = 256\n",
    "    X, y = shuffle(X, y)\n",
    "    \n",
    "    losses = []\n",
    "    for i in range(0, num_samples, batch_size):\n",
    "        end = min(i + batch_size, num_samples)\n",
    "        #print(i, end)\n",
    "        batch_xs, batch_ys = X[i:end], y[i:end]\n",
    "        # Run optimization op (backprop) and cost op (to get loss value)\n",
    "        _, l = sess.run([nn_optimizer, nn_loss], feed_dict={input_X: batch_xs, input_y: batch_ys})\n",
    "        losses.append(l)\n",
    "        #print(l)\n",
    "        \n",
    "    return np.mean(losses)\n",
    "\n",
    "\n",
    "def nn_predict_function(X):\n",
    "    preds = sess.run([nn_predictions], feed_dict={input_X: X})\n",
    "    #print(type(preds))\n",
    "    return(np.array(preds).reshape(-1,))"
   ]
  },
  {
   "cell_type": "code",
   "execution_count": 131,
   "metadata": {
    "collapsed": true
   },
   "outputs": [],
   "source": [
    "#<predict & evaluate on test here, right? No cheating pls.>"
   ]
  },
  {
   "cell_type": "code",
   "execution_count": 90,
   "metadata": {
    "collapsed": false
   },
   "outputs": [
    {
     "name": "stdout",
     "output_type": "stream",
     "text": [
      "\n",
      "loss at iter 0: 0.0731\n",
      "train accuracy:  0.90232\n",
      "val accuracy:  0.9044\n",
      "\n",
      "loss at iter 1: 0.0774\n",
      "train accuracy:  0.8971\n",
      "val accuracy:  0.8992\n",
      "\n",
      "loss at iter 2: 0.0777\n",
      "train accuracy:  0.9059\n",
      "val accuracy:  0.9079\n",
      "\n",
      "loss at iter 3: 0.0795\n",
      "train accuracy:  0.87776\n",
      "val accuracy:  0.8781\n",
      "\n",
      "loss at iter 4: 0.0791\n",
      "train accuracy:  0.91164\n",
      "val accuracy:  0.908\n",
      "\n",
      "TEST ACCURACY:  0.9029\n"
     ]
    }
   ],
   "source": [
    "init = tf.global_variables_initializer()\n",
    "\n",
    "# Start training\n",
    "with tf.Session() as sess:\n",
    "    # Run the initializer\n",
    "    sess.run(init)\n",
    "\n",
    "    for i in range(5):\n",
    "        #<run optimizer operation>\n",
    "        #loss_i = <compute loss at iteration i>\n",
    "        loss_i = train_function(X_train, y_train)\n",
    "\n",
    "        print(\"\\nloss at iter %i: %.4f\" % (i, loss_i))\n",
    "        \n",
    "        preds = predict_function(X_train)\n",
    "        train_acc = np.sum(y_train == preds) / len(preds)\n",
    "        print(\"train accuracy: \", train_acc)\n",
    "        \n",
    "        preds = predict_function(X_val)\n",
    "        val_acc = np.sum(y_val == preds) / len(preds)\n",
    "        print(\"val accuracy: \", val_acc)\n",
    "            \n",
    "        #print(\"train auc:\",roc_auc_score(y_train, predict_function(X_train)))\n",
    "        #print(\"test auc:\",roc_auc_score(y_test, predict_function(X_test)))\n",
    "        \n",
    "    preds = predict_function(X_test)\n",
    "    test_acc = np.sum(y_test == preds) / len(preds)\n",
    "    print(\"\\nTEST ACCURACY: \", test_acc)"
   ]
  },
  {
   "cell_type": "code",
   "execution_count": 217,
   "metadata": {
    "collapsed": false
   },
   "outputs": [
    {
     "name": "stdout",
     "output_type": "stream",
     "text": [
      "\n",
      "loss at iter 0: 0.2280\n",
      "train accuracy:  0.36606\n",
      "val accuracy:  0.3688\n",
      "\n",
      "loss at iter 1: 0.1746\n",
      "train accuracy:  0.68852\n",
      "val accuracy:  0.7117\n",
      "\n",
      "loss at iter 2: 0.0864\n",
      "train accuracy:  0.8091\n",
      "val accuracy:  0.8325\n",
      "\n",
      "loss at iter 3: 0.0583\n",
      "train accuracy:  0.8536\n",
      "val accuracy:  0.8666\n",
      "\n",
      "loss at iter 4: 0.0474\n",
      "train accuracy:  0.87404\n",
      "val accuracy:  0.8834\n",
      "\n",
      "loss at iter 5: 0.0420\n",
      "train accuracy:  0.88746\n",
      "val accuracy:  0.8952\n",
      "\n",
      "loss at iter 6: 0.0388\n",
      "train accuracy:  0.89296\n",
      "val accuracy:  0.9004\n",
      "\n",
      "loss at iter 7: 0.0366\n",
      "train accuracy:  0.89802\n",
      "val accuracy:  0.9035\n",
      "\n",
      "loss at iter 8: 0.0351\n",
      "train accuracy:  0.90288\n",
      "val accuracy:  0.9074\n",
      "\n",
      "loss at iter 9: 0.0336\n",
      "train accuracy:  0.90584\n",
      "val accuracy:  0.9114\n",
      "\n",
      "loss at iter 10: 0.0325\n",
      "train accuracy:  0.90922\n",
      "val accuracy:  0.9148\n",
      "\n",
      "loss at iter 11: 0.0314\n",
      "train accuracy:  0.91282\n",
      "val accuracy:  0.9181\n",
      "\n",
      "loss at iter 12: 0.0304\n",
      "train accuracy:  0.91272\n",
      "val accuracy:  0.9177\n",
      "\n",
      "loss at iter 13: 0.0294\n",
      "train accuracy:  0.91788\n",
      "val accuracy:  0.9214\n",
      "\n",
      "loss at iter 14: 0.0284\n",
      "train accuracy:  0.92058\n",
      "val accuracy:  0.9265\n",
      "\n",
      "loss at iter 15: 0.0275\n",
      "train accuracy:  0.9229\n",
      "val accuracy:  0.9276\n",
      "\n",
      "loss at iter 16: 0.0266\n",
      "train accuracy:  0.9241\n",
      "val accuracy:  0.9284\n",
      "\n",
      "loss at iter 17: 0.0257\n",
      "train accuracy:  0.92612\n",
      "val accuracy:  0.9297\n",
      "\n",
      "loss at iter 18: 0.0249\n",
      "train accuracy:  0.92978\n",
      "val accuracy:  0.9329\n",
      "\n",
      "loss at iter 19: 0.0241\n",
      "train accuracy:  0.93218\n",
      "val accuracy:  0.9355\n",
      "\n",
      "loss at iter 20: 0.0233\n",
      "train accuracy:  0.93452\n",
      "val accuracy:  0.9391\n",
      "\n",
      "loss at iter 21: 0.0227\n",
      "train accuracy:  0.9355\n",
      "val accuracy:  0.9395\n",
      "\n",
      "loss at iter 22: 0.0219\n",
      "train accuracy:  0.93762\n",
      "val accuracy:  0.9407\n",
      "\n",
      "loss at iter 23: 0.0212\n",
      "train accuracy:  0.93966\n",
      "val accuracy:  0.9451\n",
      "\n",
      "loss at iter 24: 0.0206\n",
      "train accuracy:  0.94162\n",
      "val accuracy:  0.9456\n",
      "\n",
      "loss at iter 25: 0.0199\n",
      "train accuracy:  0.94322\n",
      "val accuracy:  0.9469\n",
      "\n",
      "loss at iter 26: 0.0194\n",
      "train accuracy:  0.94466\n",
      "val accuracy:  0.9491\n",
      "\n",
      "loss at iter 27: 0.0189\n",
      "train accuracy:  0.94638\n",
      "val accuracy:  0.9499\n",
      "\n",
      "loss at iter 28: 0.0183\n",
      "train accuracy:  0.9477\n",
      "val accuracy:  0.9509\n",
      "\n",
      "loss at iter 29: 0.0177\n",
      "train accuracy:  0.94876\n",
      "val accuracy:  0.954\n",
      "\n",
      "loss at iter 30: 0.0172\n",
      "train accuracy:  0.94994\n",
      "val accuracy:  0.9539\n",
      "\n",
      "loss at iter 31: 0.0168\n",
      "train accuracy:  0.95244\n",
      "val accuracy:  0.9561\n",
      "\n",
      "loss at iter 32: 0.0163\n",
      "train accuracy:  0.95366\n",
      "val accuracy:  0.956\n",
      "\n",
      "loss at iter 33: 0.0159\n",
      "train accuracy:  0.95568\n",
      "val accuracy:  0.9576\n",
      "\n",
      "loss at iter 34: 0.0155\n",
      "train accuracy:  0.95676\n",
      "val accuracy:  0.959\n",
      "\n",
      "loss at iter 35: 0.0152\n",
      "train accuracy:  0.95764\n",
      "val accuracy:  0.9583\n",
      "\n",
      "loss at iter 36: 0.0147\n",
      "train accuracy:  0.95896\n",
      "val accuracy:  0.96\n",
      "\n",
      "loss at iter 37: 0.0143\n",
      "train accuracy:  0.95984\n",
      "val accuracy:  0.9611\n",
      "\n",
      "loss at iter 38: 0.0140\n",
      "train accuracy:  0.96048\n",
      "val accuracy:  0.9602\n",
      "\n",
      "loss at iter 39: 0.0137\n",
      "train accuracy:  0.9617\n",
      "val accuracy:  0.9613\n",
      "\n",
      "loss at iter 40: 0.0133\n",
      "train accuracy:  0.96188\n",
      "val accuracy:  0.9621\n",
      "\n",
      "loss at iter 41: 0.0130\n",
      "train accuracy:  0.96354\n",
      "val accuracy:  0.9628\n",
      "\n",
      "loss at iter 42: 0.0126\n",
      "train accuracy:  0.96398\n",
      "val accuracy:  0.9625\n",
      "\n",
      "loss at iter 43: 0.0124\n",
      "train accuracy:  0.96412\n",
      "val accuracy:  0.963\n",
      "\n",
      "loss at iter 44: 0.0121\n",
      "train accuracy:  0.96556\n",
      "val accuracy:  0.9631\n",
      "\n",
      "loss at iter 45: 0.0119\n",
      "train accuracy:  0.96724\n",
      "val accuracy:  0.9664\n",
      "\n",
      "loss at iter 46: 0.0116\n",
      "train accuracy:  0.96664\n",
      "val accuracy:  0.965\n",
      "\n",
      "loss at iter 47: 0.0113\n",
      "train accuracy:  0.96832\n",
      "val accuracy:  0.9663\n",
      "\n",
      "loss at iter 48: 0.0111\n",
      "train accuracy:  0.969\n",
      "val accuracy:  0.9669\n",
      "\n",
      "loss at iter 49: 0.0108\n",
      "train accuracy:  0.96988\n",
      "val accuracy:  0.9675\n",
      "\n",
      "loss at iter 50: 0.0106\n",
      "train accuracy:  0.9706\n",
      "val accuracy:  0.9677\n",
      "\n",
      "loss at iter 51: 0.0104\n",
      "train accuracy:  0.97164\n",
      "val accuracy:  0.9676\n",
      "\n",
      "loss at iter 52: 0.0102\n",
      "train accuracy:  0.9717\n",
      "val accuracy:  0.9679\n",
      "\n",
      "loss at iter 53: 0.0100\n",
      "train accuracy:  0.9723\n",
      "val accuracy:  0.9686\n",
      "\n",
      "loss at iter 54: 0.0098\n",
      "train accuracy:  0.97278\n",
      "val accuracy:  0.9688\n",
      "\n",
      "loss at iter 55: 0.0096\n",
      "train accuracy:  0.97332\n",
      "val accuracy:  0.9682\n",
      "\n",
      "loss at iter 56: 0.0095\n",
      "train accuracy:  0.97408\n",
      "val accuracy:  0.9695\n",
      "\n",
      "loss at iter 57: 0.0092\n",
      "train accuracy:  0.97508\n",
      "val accuracy:  0.9694\n",
      "\n",
      "loss at iter 58: 0.0090\n",
      "train accuracy:  0.97602\n",
      "val accuracy:  0.971\n",
      "\n",
      "loss at iter 59: 0.0088\n",
      "train accuracy:  0.97584\n",
      "val accuracy:  0.9708\n",
      "\n",
      "loss at iter 60: 0.0087\n",
      "train accuracy:  0.97644\n",
      "val accuracy:  0.9699\n",
      "\n",
      "loss at iter 61: 0.0085\n",
      "train accuracy:  0.9766\n",
      "val accuracy:  0.9696\n",
      "\n",
      "loss at iter 62: 0.0084\n",
      "train accuracy:  0.97724\n",
      "val accuracy:  0.9703\n",
      "\n",
      "loss at iter 63: 0.0082\n",
      "train accuracy:  0.9775\n",
      "val accuracy:  0.9713\n",
      "\n",
      "loss at iter 64: 0.0080\n",
      "train accuracy:  0.9785\n",
      "val accuracy:  0.9717\n",
      "\n",
      "loss at iter 65: 0.0079\n",
      "train accuracy:  0.97842\n",
      "val accuracy:  0.9717\n",
      "\n",
      "loss at iter 66: 0.0078\n",
      "train accuracy:  0.97918\n",
      "val accuracy:  0.9725\n",
      "\n",
      "loss at iter 67: 0.0076\n",
      "train accuracy:  0.98042\n",
      "val accuracy:  0.9726\n",
      "\n",
      "loss at iter 68: 0.0075\n",
      "train accuracy:  0.98022\n",
      "val accuracy:  0.9728\n",
      "\n",
      "loss at iter 69: 0.0073\n",
      "train accuracy:  0.9799\n",
      "val accuracy:  0.9737\n",
      "\n",
      "loss at iter 70: 0.0072\n",
      "train accuracy:  0.9813\n",
      "val accuracy:  0.9728\n",
      "\n",
      "loss at iter 71: 0.0071\n",
      "train accuracy:  0.98124\n",
      "val accuracy:  0.9731\n",
      "\n",
      "loss at iter 72: 0.0069\n",
      "train accuracy:  0.98212\n",
      "val accuracy:  0.9727\n",
      "\n",
      "loss at iter 73: 0.0068\n",
      "train accuracy:  0.98134\n",
      "val accuracy:  0.9725\n",
      "\n",
      "loss at iter 74: 0.0067\n",
      "train accuracy:  0.98246\n",
      "val accuracy:  0.9727\n",
      "\n",
      "loss at iter 75: 0.0066\n",
      "train accuracy:  0.98288\n",
      "val accuracy:  0.9742\n",
      "\n",
      "loss at iter 76: 0.0064\n",
      "train accuracy:  0.98342\n",
      "val accuracy:  0.9746\n",
      "\n",
      "loss at iter 77: 0.0063\n",
      "train accuracy:  0.98392\n",
      "val accuracy:  0.9741\n",
      "\n",
      "loss at iter 78: 0.0062\n",
      "train accuracy:  0.98416\n",
      "val accuracy:  0.9743\n",
      "\n",
      "loss at iter 79: 0.0061\n",
      "train accuracy:  0.98456\n",
      "val accuracy:  0.975\n",
      "\n",
      "loss at iter 80: 0.0060\n",
      "train accuracy:  0.98434\n",
      "val accuracy:  0.9749\n",
      "\n",
      "loss at iter 81: 0.0059\n",
      "train accuracy:  0.98502\n",
      "val accuracy:  0.9741\n",
      "\n",
      "loss at iter 82: 0.0058\n",
      "train accuracy:  0.98454\n",
      "val accuracy:  0.9739\n",
      "\n",
      "loss at iter 83: 0.0057\n",
      "train accuracy:  0.98528\n",
      "val accuracy:  0.9756\n",
      "\n",
      "loss at iter 84: 0.0056\n",
      "train accuracy:  0.98584\n",
      "val accuracy:  0.9747\n",
      "\n",
      "loss at iter 85: 0.0054\n",
      "train accuracy:  0.98626\n",
      "val accuracy:  0.9755\n",
      "\n",
      "loss at iter 86: 0.0054\n",
      "train accuracy:  0.9856\n",
      "val accuracy:  0.9752\n",
      "\n",
      "loss at iter 87: 0.0053\n",
      "train accuracy:  0.98602\n",
      "val accuracy:  0.9756\n",
      "\n",
      "loss at iter 88: 0.0052\n",
      "train accuracy:  0.98706\n",
      "val accuracy:  0.9762\n",
      "\n",
      "loss at iter 89: 0.0051\n",
      "train accuracy:  0.9873\n",
      "val accuracy:  0.9766\n",
      "\n",
      "loss at iter 90: 0.0050\n",
      "train accuracy:  0.9874\n",
      "val accuracy:  0.9757\n",
      "\n",
      "loss at iter 91: 0.0049\n",
      "train accuracy:  0.98702\n",
      "val accuracy:  0.9755\n",
      "\n",
      "loss at iter 92: 0.0048\n",
      "train accuracy:  0.988\n",
      "val accuracy:  0.9761\n",
      "\n",
      "loss at iter 93: 0.0047\n",
      "train accuracy:  0.98746\n",
      "val accuracy:  0.9758\n",
      "\n",
      "loss at iter 94: 0.0046\n",
      "train accuracy:  0.98814\n",
      "val accuracy:  0.9764\n",
      "\n",
      "loss at iter 95: 0.0046\n",
      "train accuracy:  0.9884\n",
      "val accuracy:  0.9758\n",
      "\n",
      "loss at iter 96: 0.0045\n",
      "train accuracy:  0.98912\n",
      "val accuracy:  0.9761\n",
      "\n",
      "loss at iter 97: 0.0044\n",
      "train accuracy:  0.98914\n",
      "val accuracy:  0.9753\n",
      "\n",
      "loss at iter 98: 0.0043\n",
      "train accuracy:  0.98968\n",
      "val accuracy:  0.9764\n",
      "\n",
      "loss at iter 99: 0.0043\n",
      "train accuracy:  0.9896\n",
      "val accuracy:  0.9759\n",
      "\n",
      "loss at iter 100: 0.0042\n",
      "train accuracy:  0.98964\n",
      "val accuracy:  0.9763\n",
      "\n",
      "loss at iter 101: 0.0041\n",
      "train accuracy:  0.99008\n",
      "val accuracy:  0.9767\n",
      "\n",
      "loss at iter 102: 0.0041\n",
      "train accuracy:  0.9897\n",
      "val accuracy:  0.9762\n",
      "\n",
      "loss at iter 103: 0.0040\n",
      "train accuracy:  0.9898\n",
      "val accuracy:  0.977\n",
      "\n",
      "loss at iter 104: 0.0039\n",
      "train accuracy:  0.99132\n",
      "val accuracy:  0.9774\n",
      "\n",
      "loss at iter 105: 0.0039\n",
      "train accuracy:  0.9911\n",
      "val accuracy:  0.9775\n",
      "\n",
      "loss at iter 106: 0.0037\n",
      "train accuracy:  0.99154\n",
      "val accuracy:  0.9758\n",
      "\n",
      "loss at iter 107: 0.0037\n",
      "train accuracy:  0.99148\n",
      "val accuracy:  0.9775\n",
      "\n",
      "loss at iter 108: 0.0036\n",
      "train accuracy:  0.99204\n",
      "val accuracy:  0.9775\n",
      "\n",
      "loss at iter 109: 0.0036\n",
      "train accuracy:  0.99214\n",
      "val accuracy:  0.9777\n",
      "\n",
      "loss at iter 110: 0.0035\n",
      "train accuracy:  0.99204\n",
      "val accuracy:  0.9779\n",
      "\n",
      "loss at iter 111: 0.0034\n",
      "train accuracy:  0.99264\n",
      "val accuracy:  0.9776\n",
      "\n",
      "loss at iter 112: 0.0034\n",
      "train accuracy:  0.99198\n",
      "val accuracy:  0.9785\n",
      "\n",
      "loss at iter 113: 0.0033\n",
      "train accuracy:  0.99268\n",
      "val accuracy:  0.9771\n",
      "\n",
      "loss at iter 114: 0.0033\n",
      "train accuracy:  0.99314\n",
      "val accuracy:  0.9765\n",
      "\n",
      "loss at iter 115: 0.0032\n",
      "train accuracy:  0.99336\n",
      "val accuracy:  0.9776\n",
      "\n",
      "loss at iter 116: 0.0031\n",
      "train accuracy:  0.99296\n",
      "val accuracy:  0.9773\n",
      "\n",
      "loss at iter 117: 0.0031\n",
      "train accuracy:  0.99308\n",
      "val accuracy:  0.9766\n",
      "\n",
      "loss at iter 118: 0.0030\n",
      "train accuracy:  0.99362\n",
      "val accuracy:  0.9771\n",
      "\n",
      "loss at iter 119: 0.0030\n",
      "train accuracy:  0.9936\n",
      "val accuracy:  0.9761\n",
      "\n",
      "loss at iter 120: 0.0029\n",
      "train accuracy:  0.99424\n",
      "val accuracy:  0.9786\n",
      "\n",
      "loss at iter 121: 0.0029\n",
      "train accuracy:  0.99428\n",
      "val accuracy:  0.9788\n",
      "\n",
      "loss at iter 122: 0.0028\n",
      "train accuracy:  0.99414\n",
      "val accuracy:  0.9765\n",
      "\n",
      "loss at iter 123: 0.0028\n",
      "train accuracy:  0.99446\n",
      "val accuracy:  0.9782\n",
      "\n",
      "loss at iter 124: 0.0027\n",
      "train accuracy:  0.9945\n",
      "val accuracy:  0.9772\n",
      "\n",
      "loss at iter 125: 0.0027\n",
      "train accuracy:  0.99472\n",
      "val accuracy:  0.9782\n",
      "\n",
      "loss at iter 126: 0.0026\n",
      "train accuracy:  0.99518\n",
      "val accuracy:  0.9772\n",
      "\n",
      "loss at iter 127: 0.0026\n",
      "train accuracy:  0.99522\n",
      "val accuracy:  0.9784\n",
      "\n",
      "loss at iter 128: 0.0026\n",
      "train accuracy:  0.99528\n",
      "val accuracy:  0.9774\n",
      "\n",
      "loss at iter 129: 0.0025\n",
      "train accuracy:  0.99516\n",
      "val accuracy:  0.9777\n",
      "\n",
      "loss at iter 130: 0.0025\n",
      "train accuracy:  0.9956\n",
      "val accuracy:  0.9786\n",
      "\n",
      "loss at iter 131: 0.0024\n",
      "train accuracy:  0.99564\n",
      "val accuracy:  0.9785\n",
      "\n",
      "loss at iter 132: 0.0024\n",
      "train accuracy:  0.99584\n",
      "val accuracy:  0.9787\n",
      "\n",
      "loss at iter 133: 0.0024\n",
      "train accuracy:  0.99608\n",
      "val accuracy:  0.9785\n",
      "\n",
      "loss at iter 134: 0.0023\n",
      "train accuracy:  0.99606\n",
      "val accuracy:  0.9789\n",
      "\n",
      "loss at iter 135: 0.0023\n",
      "train accuracy:  0.99616\n",
      "val accuracy:  0.9792\n",
      "\n",
      "loss at iter 136: 0.0022\n",
      "train accuracy:  0.99638\n",
      "val accuracy:  0.9782\n",
      "\n",
      "loss at iter 137: 0.0022\n",
      "train accuracy:  0.9963\n",
      "val accuracy:  0.9781\n",
      "\n",
      "loss at iter 138: 0.0022\n",
      "train accuracy:  0.99636\n",
      "val accuracy:  0.9785\n",
      "\n",
      "loss at iter 139: 0.0021\n",
      "train accuracy:  0.9967\n",
      "val accuracy:  0.9787\n",
      "\n",
      "loss at iter 140: 0.0021\n",
      "train accuracy:  0.99656\n",
      "val accuracy:  0.9787\n",
      "\n",
      "loss at iter 141: 0.0021\n",
      "train accuracy:  0.99696\n",
      "val accuracy:  0.978\n",
      "\n",
      "loss at iter 142: 0.0020\n",
      "train accuracy:  0.99696\n",
      "val accuracy:  0.9789\n",
      "\n",
      "loss at iter 143: 0.0020\n",
      "train accuracy:  0.9968\n",
      "val accuracy:  0.9792\n",
      "\n",
      "loss at iter 144: 0.0020\n",
      "train accuracy:  0.99686\n",
      "val accuracy:  0.9785\n",
      "\n",
      "loss at iter 145: 0.0019\n",
      "train accuracy:  0.9972\n",
      "val accuracy:  0.9783\n",
      "\n",
      "loss at iter 146: 0.0019\n",
      "train accuracy:  0.99726\n",
      "val accuracy:  0.9791\n",
      "\n",
      "loss at iter 147: 0.0019\n",
      "train accuracy:  0.99728\n",
      "val accuracy:  0.9778\n",
      "\n",
      "loss at iter 148: 0.0019\n",
      "train accuracy:  0.99758\n",
      "val accuracy:  0.9787\n",
      "\n",
      "loss at iter 149: 0.0018\n",
      "train accuracy:  0.9976\n",
      "val accuracy:  0.979\n",
      "\n",
      "loss at iter 150: 0.0018\n",
      "train accuracy:  0.99764\n",
      "val accuracy:  0.979\n",
      "\n",
      "loss at iter 151: 0.0017\n",
      "train accuracy:  0.99742\n",
      "val accuracy:  0.9773\n",
      "\n",
      "loss at iter 152: 0.0017\n",
      "train accuracy:  0.99772\n",
      "val accuracy:  0.9782\n",
      "\n",
      "loss at iter 153: 0.0017\n",
      "train accuracy:  0.99784\n",
      "val accuracy:  0.9784\n",
      "\n",
      "loss at iter 154: 0.0017\n",
      "train accuracy:  0.99786\n",
      "val accuracy:  0.9781\n",
      "\n",
      "loss at iter 155: 0.0016\n",
      "train accuracy:  0.99796\n",
      "val accuracy:  0.9774\n",
      "\n",
      "loss at iter 156: 0.0016\n",
      "train accuracy:  0.99802\n",
      "val accuracy:  0.9792\n",
      "\n",
      "loss at iter 157: 0.0016\n",
      "train accuracy:  0.9981\n",
      "val accuracy:  0.9789\n",
      "\n",
      "loss at iter 158: 0.0016\n",
      "train accuracy:  0.99824\n",
      "val accuracy:  0.9785\n",
      "\n",
      "loss at iter 159: 0.0015\n",
      "train accuracy:  0.99818\n",
      "val accuracy:  0.9791\n",
      "\n",
      "loss at iter 160: 0.0015\n",
      "train accuracy:  0.99834\n",
      "val accuracy:  0.9795\n",
      "\n",
      "loss at iter 161: 0.0015\n",
      "train accuracy:  0.99838\n",
      "val accuracy:  0.9789\n",
      "\n",
      "loss at iter 162: 0.0015\n",
      "train accuracy:  0.99846\n",
      "val accuracy:  0.9787\n",
      "\n",
      "loss at iter 163: 0.0015\n",
      "train accuracy:  0.99838\n",
      "val accuracy:  0.9784\n",
      "\n",
      "loss at iter 164: 0.0014\n",
      "train accuracy:  0.99856\n",
      "val accuracy:  0.9794\n",
      "\n",
      "loss at iter 165: 0.0014\n",
      "train accuracy:  0.9985\n",
      "val accuracy:  0.9787\n",
      "\n",
      "loss at iter 166: 0.0014\n",
      "train accuracy:  0.99854\n",
      "val accuracy:  0.9785\n",
      "\n",
      "loss at iter 167: 0.0014\n",
      "train accuracy:  0.9986\n",
      "val accuracy:  0.9782\n",
      "\n",
      "loss at iter 168: 0.0013\n",
      "train accuracy:  0.99868\n",
      "val accuracy:  0.9785\n",
      "\n",
      "loss at iter 169: 0.0013\n",
      "train accuracy:  0.99872\n",
      "val accuracy:  0.9783\n",
      "\n",
      "loss at iter 170: 0.0013\n",
      "train accuracy:  0.99864\n",
      "val accuracy:  0.9791\n",
      "\n",
      "loss at iter 171: 0.0013\n",
      "train accuracy:  0.99862\n",
      "val accuracy:  0.9797\n",
      "\n",
      "loss at iter 172: 0.0013\n",
      "train accuracy:  0.99876\n",
      "val accuracy:  0.9791\n",
      "\n",
      "loss at iter 173: 0.0012\n",
      "train accuracy:  0.9989\n",
      "val accuracy:  0.979\n",
      "\n",
      "loss at iter 174: 0.0012\n",
      "train accuracy:  0.9988\n",
      "val accuracy:  0.9794\n",
      "\n",
      "loss at iter 175: 0.0012\n",
      "train accuracy:  0.99892\n",
      "val accuracy:  0.9792\n",
      "\n",
      "loss at iter 176: 0.0012\n",
      "train accuracy:  0.99886\n",
      "val accuracy:  0.9791\n",
      "\n",
      "loss at iter 177: 0.0012\n",
      "train accuracy:  0.99914\n",
      "val accuracy:  0.9794\n",
      "\n",
      "loss at iter 178: 0.0012\n",
      "train accuracy:  0.99894\n",
      "val accuracy:  0.9792\n",
      "\n",
      "loss at iter 179: 0.0011\n",
      "train accuracy:  0.99904\n",
      "val accuracy:  0.9786\n",
      "\n",
      "loss at iter 180: 0.0011\n",
      "train accuracy:  0.99898\n",
      "val accuracy:  0.9789\n",
      "\n",
      "loss at iter 181: 0.0011\n",
      "train accuracy:  0.99916\n",
      "val accuracy:  0.9791\n",
      "\n",
      "loss at iter 182: 0.0011\n",
      "train accuracy:  0.99906\n",
      "val accuracy:  0.979\n",
      "\n",
      "loss at iter 183: 0.0011\n",
      "train accuracy:  0.99924\n",
      "val accuracy:  0.9795\n",
      "\n",
      "loss at iter 184: 0.0011\n",
      "train accuracy:  0.99924\n",
      "val accuracy:  0.9793\n",
      "\n",
      "loss at iter 185: 0.0011\n",
      "train accuracy:  0.99924\n",
      "val accuracy:  0.9791\n",
      "\n",
      "loss at iter 186: 0.0010\n",
      "train accuracy:  0.9992\n",
      "val accuracy:  0.9794\n",
      "\n",
      "loss at iter 187: 0.0010\n",
      "train accuracy:  0.99918\n",
      "val accuracy:  0.9792\n",
      "\n",
      "loss at iter 188: 0.0010\n",
      "train accuracy:  0.99928\n",
      "val accuracy:  0.9792\n",
      "\n",
      "loss at iter 189: 0.0010\n",
      "train accuracy:  0.99926\n",
      "val accuracy:  0.9798\n",
      "\n",
      "loss at iter 190: 0.0010\n",
      "train accuracy:  0.99928\n",
      "val accuracy:  0.9789\n",
      "\n",
      "loss at iter 191: 0.0010\n",
      "train accuracy:  0.99938\n",
      "val accuracy:  0.9793\n",
      "\n",
      "loss at iter 192: 0.0010\n",
      "train accuracy:  0.99932\n",
      "val accuracy:  0.9796\n",
      "\n",
      "loss at iter 193: 0.0009\n",
      "train accuracy:  0.99938\n",
      "val accuracy:  0.9794\n",
      "\n",
      "loss at iter 194: 0.0009\n",
      "train accuracy:  0.99932\n",
      "val accuracy:  0.9792\n",
      "\n",
      "loss at iter 195: 0.0009\n",
      "train accuracy:  0.99924\n",
      "val accuracy:  0.9783\n",
      "\n",
      "loss at iter 196: 0.0009\n",
      "train accuracy:  0.99946\n",
      "val accuracy:  0.9794\n",
      "\n",
      "loss at iter 197: 0.0009\n",
      "train accuracy:  0.99948\n",
      "val accuracy:  0.9788\n",
      "\n",
      "loss at iter 198: 0.0009\n",
      "train accuracy:  0.99936\n",
      "val accuracy:  0.9793\n",
      "\n",
      "loss at iter 199: 0.0009\n",
      "train accuracy:  0.99938\n",
      "val accuracy:  0.9793\n",
      "\n",
      "TEST ACCURACY:  0.9774\n"
     ]
    }
   ],
   "source": [
    "init = tf.global_variables_initializer()\n",
    "\n",
    "# Start training\n",
    "with tf.Session() as sess:\n",
    "    # Run the initializer\n",
    "    sess.run(init)\n",
    "\n",
    "    for i in range(200):\n",
    "        #<run optimizer operation>\n",
    "        #loss_i = <compute loss at iteration i>\n",
    "        loss_i = nn_train_function(X_train, y_train)\n",
    "\n",
    "        print(\"\\nloss at iter %i: %.4f\" % (i, loss_i))\n",
    "        \n",
    "        preds = nn_predict_function(X_train)\n",
    "        train_acc = np.sum(y_train == preds) / len(preds)\n",
    "        print(\"train accuracy: \", train_acc)\n",
    "        \n",
    "        preds = nn_predict_function(X_val)\n",
    "        val_acc = np.sum(y_val == preds) / len(preds)\n",
    "        print(\"val accuracy: \", val_acc)\n",
    "            \n",
    "        #print(\"train auc:\",roc_auc_score(y_train, predict_function(X_train)))\n",
    "        #print(\"test auc:\",roc_auc_score(y_test, predict_function(X_test)))\n",
    "        \n",
    "    preds = nn_predict_function(X_test)\n",
    "    test_acc = np.sum(y_test == preds) / len(preds)\n",
    "    print(\"\\nTEST ACCURACY: \", test_acc)"
   ]
  },
  {
   "cell_type": "markdown",
   "metadata": {},
   "source": [
    "```\n",
    "\n",
    "```\n",
    "\n",
    "```\n",
    "\n",
    "```\n",
    "\n",
    "```\n",
    "\n",
    "```\n",
    "\n",
    "```\n",
    "\n",
    "```\n",
    "\n",
    "```\n",
    "\n",
    "```\n",
    "\n",
    "```\n",
    "\n",
    "```\n",
    "\n",
    "```\n",
    "\n",
    "```\n",
    "\n",
    "```\n",
    "\n",
    "```\n",
    "\n",
    "\n",
    "# SPOILERS!\n",
    "\n",
    "Recommended pipeline\n",
    "\n",
    "* Adapt logistic regression from previous assignment to classify some number against others (e.g. zero vs nonzero)\n",
    "* Generalize it to multiclass logistic regression.\n",
    "  - Either try to remember lecture 0 or google it.\n",
    "  - Instead of weight vector you'll have to use matrix (feature_id x class_id)\n",
    "  - softmax (exp over sum of exps) can implemented manually or as T.nnet.softmax (stable)\n",
    "  - probably better to use STOCHASTIC gradient descent (minibatch)\n",
    "    - in which case sample should probably be shuffled (or use random subsamples on each iteration)\n",
    "* Add a hidden layer. Now your logistic regression uses hidden neurons instead of inputs.\n",
    "  - Hidden layer uses the same math as output layer (ex-logistic regression), but uses some nonlinearity (sigmoid) instead of softmax\n",
    "  - You need to train both layers, not just output layer :)\n",
    "  - Do not initialize layers with zeros (due to symmetry effects). A gaussian noize with small sigma will do.\n",
    "  - 50 hidden neurons and a sigmoid nonlinearity will do for a start. Many ways to improve. \n",
    "  - In ideal casae this totals to 2 .dot's, 1 softmax and 1 sigmoid\n",
    "  - __make sure this neural network works better than logistic regression__\n",
    "  \n",
    "* Now's the time to try improving the network. Consider layers (size, neuron count),  nonlinearities, optimization methods, initialization - whatever you want, but please avoid convolutions for now."
   ]
  },
  {
   "cell_type": "code",
   "execution_count": null,
   "metadata": {
    "collapsed": true
   },
   "outputs": [],
   "source": []
  }
 ],
 "metadata": {
  "anaconda-cloud": {},
  "celltoolbar": "Slideshow",
  "kernelspec": {
   "display_name": "Python [default]",
   "language": "python",
   "name": "python3"
  },
  "language_info": {
   "codemirror_mode": {
    "name": "ipython",
    "version": 3
   },
   "file_extension": ".py",
   "mimetype": "text/x-python",
   "name": "python",
   "nbconvert_exporter": "python",
   "pygments_lexer": "ipython3",
   "version": "3.5.2"
  }
 },
 "nbformat": 4,
 "nbformat_minor": 1
}
